{
 "cells": [
  {
   "cell_type": "code",
   "execution_count": 178,
   "id": "92088fd5",
   "metadata": {},
   "outputs": [],
   "source": [
    "# !pip install requests pandas scikit-learn umap-learn plotly numpy pyspark kaggle"
   ]
  },
  {
   "cell_type": "markdown",
   "id": "82a19e36",
   "metadata": {},
   "source": [
    "# IMPORT"
   ]
  },
  {
   "cell_type": "code",
   "execution_count": 179,
   "id": "cdb2e160",
   "metadata": {},
   "outputs": [],
   "source": [
    "import requests\n",
    "from pyspark.sql import SparkSession\n",
    "from pyspark.sql.functions import expr, lit, col, when, count, coalesce, udf, to_date, date_format\n",
    "import pyspark.sql.functions as sf\n",
    "from pyspark.sql.types import *\n",
    "from pyspark.errors import PySparkValueError\n",
    "from requests import HTTPError\n",
    "from datetime import date, timedelta, datetime\n",
    "import requests\n",
    "import gzip\n",
    "from io import BytesIO\n",
    "import json\n",
    "from requests.adapters import HTTPAdapter\n",
    "from urllib3.util.retry import Retry\n",
    "import shutil\n",
    "import kaggle\n",
    "import time\n",
    "from collections import deque\n"
   ]
  },
  {
   "cell_type": "markdown",
   "id": "8b721ccb",
   "metadata": {},
   "source": [
    "# SCHEMA"
   ]
  },
  {
   "cell_type": "code",
   "execution_count": 180,
   "id": "b681a74f",
   "metadata": {},
   "outputs": [],
   "source": [
    "\n",
    "\n",
    "schema = StructType([\n",
    "    StructField(\"adult\", BooleanType(), True),\n",
    "    StructField(\"backdrop_path\", StringType(), True),\n",
    "    StructField(\"belongs_to_collection\", StringType(), True),\n",
    "    StructField(\"budget\", IntegerType(), True),\n",
    "    StructField(\"genres\", ArrayType(StructType([\n",
    "        StructField(\"name\", StringType(), True)\n",
    "    ]))),\n",
    "    StructField(\"homepage\", StringType(), True),\n",
    "    StructField(\"id\", IntegerType(), True),\n",
    "    StructField(\"imdb_id\", StringType(), True),\n",
    "    StructField(\"original_language\", StringType(), True),\n",
    "    StructField(\"original_title\", StringType(), True),\n",
    "    StructField(\"overview\", StringType(), True),\n",
    "    StructField(\"popularity\", DoubleType(), True),\n",
    "    StructField(\"poster_path\", StringType(), True),\n",
    "    StructField(\"production_companies\", ArrayType(StructType([\n",
    "        StructField(\"name\", StringType(), True)\n",
    "    ]))),\n",
    "    StructField(\"production_countries\", ArrayType(StructType([\n",
    "        StructField(\"name\", StringType(), True)\n",
    "    ]))),\n",
    "    StructField(\"release_date\", StringType(), True),\n",
    "    StructField(\"revenue\", IntegerType(), True),\n",
    "    StructField(\"runtime\", IntegerType(), True),\n",
    "    StructField(\"spoken_languages\", ArrayType(StructType([\n",
    "        StructField(\"english_name\", StringType(), True)\n",
    "    ]))),\n",
    "    StructField(\"status\", StringType(), True),\n",
    "    StructField(\"tagline\", StringType(), True),\n",
    "    StructField(\"title\", StringType(), True),\n",
    "    StructField(\"video\", BooleanType(), True),\n",
    "    StructField(\"vote_average\", DoubleType(), True),\n",
    "    StructField(\"vote_count\", IntegerType(), True),\n",
    "    StructField(\"credits\", StructType([\n",
    "        StructField(\"cast\", ArrayType(StructType([\n",
    "            StructField(\"adult\", BooleanType(), True),\n",
    "            StructField(\"gender\", IntegerType(), True),\n",
    "            StructField(\"id\", IntegerType(), True),\n",
    "            StructField(\"known_for_department\", StringType(), True),\n",
    "            StructField(\"name\", StringType(), True),\n",
    "            StructField(\"original_name\", StringType(), True),\n",
    "            StructField(\"popularity\", DoubleType(), True),\n",
    "            StructField(\"profile_path\", StringType(), True),\n",
    "            StructField(\"cast_id\", IntegerType(), True),\n",
    "            StructField(\"character\", StringType(), True),\n",
    "            StructField(\"credit_id\", StringType(), True),\n",
    "            StructField(\"order\", IntegerType(), True)\n",
    "        ])), True),\n",
    "        StructField(\"crew\", ArrayType(StructType([\n",
    "            StructField(\"adult\", BooleanType(), True),\n",
    "            StructField(\"gender\", IntegerType(), True),\n",
    "            StructField(\"id\", IntegerType(), True),\n",
    "            StructField(\"known_for_department\", StringType(), True),\n",
    "            StructField(\"name\", StringType(), True),\n",
    "            StructField(\"original_name\", StringType(), True),\n",
    "            StructField(\"popularity\", DoubleType(), True),\n",
    "            StructField(\"profile_path\", StringType(), True),\n",
    "            StructField(\"credit_id\", StringType(), True),\n",
    "            StructField(\"department\", StringType(), True),\n",
    "            StructField(\"job\", StringType(), True)\n",
    "        ])), True)\n",
    "    ]), True)\n",
    "])\n"
   ]
  },
  {
   "cell_type": "markdown",
   "id": "af0c76b7",
   "metadata": {},
   "source": [
    "# VAR ENV"
   ]
  },
  {
   "cell_type": "code",
   "execution_count": 181,
   "id": "67782668",
   "metadata": {},
   "outputs": [],
   "source": [
    "API_KEY = \"fb24501dcc147d8b2a12ae4312215c55\"\n",
    "BASE_URL = \"https://api.themoviedb.org/3\"\n",
    "CHANGE_URL = \"movie/changes\"\n",
    "GET_MOVIE_URL = \"movie/\"\n",
    "CSV_PATH_LOAD = \"./data/tmdb/load/TMDB_all_movies.csv\"\n",
    "CSV_PATH_SAVE = \"./data/tmdb/save/\"\n",
    "DEST_FILE = \"./data/tmdb/load\""
   ]
  },
  {
   "cell_type": "markdown",
   "id": "4755fbbb",
   "metadata": {},
   "source": [
    "# UTILS"
   ]
  },
  {
   "cell_type": "code",
   "execution_count": 182,
   "id": "b52f45dc",
   "metadata": {},
   "outputs": [],
   "source": [
    "retry_strategy = Retry(\n",
    "        total=1,\n",
    "        status_forcelist=[500, 502, 503, 504],\n",
    "        allowed_methods=[\"GET\"],\n",
    "        backoff_factor=1,\n",
    "        raise_on_status=False\n",
    "    )\n",
    "adapter = HTTPAdapter(pool_connections=10, pool_maxsize=100, max_retries=retry_strategy)\n",
    "\n",
    "session = requests.Session()\n",
    "session.mount(\"https://\", adapter)\n",
    "session.mount(\"http://\", adapter)\n",
    "\n",
    "def call_api(endpoint, params):\n",
    "    url = f\"{BASE_URL}/{endpoint}\"\n",
    "    params[\"api_key\"] = API_KEY\n",
    "    response = session.get(url, params=params)\n",
    "    response.raise_for_status()\n",
    "    return response.json()\n",
    "\n",
    "\n",
    "def map_cast(data):\n",
    "    cast = []\n",
    "    json_data = json.loads(data)\n",
    "    for people in json_data.get(\"cast\"):\n",
    "        cast.append(people.get(\"name\"))\n",
    "    return ','.join(cast)\n",
    "    \n",
    "\n",
    "def map_crew(data, job):\n",
    "    crew = []\n",
    "    json_data = json.loads(data)\n",
    "    for people in json_data.get(\"crew\"):\n",
    "         if people.get(\"job\") in job:\n",
    "            crew.append(people.get(\"name\"))\n",
    "    return ','.join(crew)\n",
    "\n",
    "map_castUDF = udf(lambda x: map_cast(x),StringType())\n",
    "map_crewUDF = udf(lambda x, y: map_crew(x, y),StringType())"
   ]
  },
  {
   "cell_type": "markdown",
   "id": "ce8e192b",
   "metadata": {},
   "source": [
    "# RETRIEVE CSV FROM KAGGLE"
   ]
  },
  {
   "cell_type": "code",
   "execution_count": 183,
   "id": "f9eb3d98",
   "metadata": {},
   "outputs": [
    {
     "name": "stdout",
     "output_type": "stream",
     "text": [
      "Dataset URL: https://www.kaggle.com/datasets/alanvourch/tmdb-movies-daily-updates\n"
     ]
    }
   ],
   "source": [
    "\n",
    "kaggle.api.authenticate()\n",
    "kaggle.api.dataset_download_files(\"alanvourch/tmdb-movies-daily-updates\", path=DEST_FILE, unzip=True)"
   ]
  },
  {
   "cell_type": "markdown",
   "id": "cd0c1c4b",
   "metadata": {},
   "source": [
    "## Open csv"
   ]
  },
  {
   "cell_type": "code",
   "execution_count": 184,
   "id": "75a9cd4a",
   "metadata": {},
   "outputs": [
    {
     "name": "stderr",
     "output_type": "stream",
     "text": [
      "                                                                                \r"
     ]
    }
   ],
   "source": [
    "spark1 = SparkSession.builder.appName(\"Updater\").getOrCreate()\n",
    "df = spark1.read.csv(CSV_PATH_LOAD, header=True, inferSchema=True, sep=\",\", quote='\"', escape='\"', multiLine=True)\n",
    "#cast double column\n",
    "df = df.withColumn(\"id\", df[\"id\"].try_cast('int'))\n",
    "df = df.withColumn(\"vote_average\", df[\"vote_average\"].try_cast('double'))\n",
    "df = df.withColumn(\"vote_count\", df[\"vote_count\"].try_cast('double'))\n",
    "df = df.withColumn(\"revenue\", df[\"revenue\"].try_cast('double'))\n",
    "df = df.withColumn(\"runtime\", df[\"runtime\"].try_cast('double'))\n",
    "df = df.withColumn(\"budget\", df[\"budget\"].try_cast('double'))\n",
    "schemaCSV = df.schema\n",
    "# retrieve movie ID\n",
    "id_list = df.select('id').rdd.flatMap(lambda x: x).collect()\n"
   ]
  },
  {
   "cell_type": "markdown",
   "id": "9a5203cf",
   "metadata": {},
   "source": [
    "# UPADTE MOVIES\n",
    "### RETRIEVE IDS OF MODIFY MOVIES DURING THE PAST 24 HOURS"
   ]
  },
  {
   "cell_type": "code",
   "execution_count": 209,
   "id": "21d36bad",
   "metadata": {},
   "outputs": [],
   "source": [
    "def get_last_movies_change():\n",
    "   id_movies = []\n",
    "   # page max 500 : api limitation to page 500\n",
    "   for page in range(1, 2):\n",
    "      data = call_api(CHANGE_URL, {\n",
    "        \"page\": page\n",
    "      })\n",
    "      if data[\"results\"] != []:\n",
    "         id_movies += [movie[\"id\"] for movie in data[\"results\"] if (not movie[\"adult\"]) and (movie[\"adult\"] is not None) ]\n",
    "      else:\n",
    "         break\n",
    "   return id_movies"
   ]
  },
  {
   "cell_type": "markdown",
   "id": "12f41f5b",
   "metadata": {},
   "source": [
    "### CREATE DATAFRAME OF MODIFICATION"
   ]
  },
  {
   "cell_type": "code",
   "execution_count": 230,
   "id": "30f54187",
   "metadata": {},
   "outputs": [
    {
     "name": "stdout",
     "output_type": "stream",
     "text": [
      "retrieve credits\n",
      "retrieve credits\n",
      "retrieve credits\n",
      "retrieve credits\n",
      "retrieve credits\n",
      "retrieve credits\n",
      "retrieve credits\n",
      "99 0.5630683898925781\n",
      "175.82233664171267\n",
      "+-------+-----+------------+----------+------+------------+-------+-------+-------+-------+-----------------+--------------------+----------------------------------+----------+--------------------+------+--------------------+--------------------+----------------+------------------------------+---------------+-----------------------+--------------+--------------------+--------------+-----------+----------+-----------+\n",
      "|     id|title|vote_average|vote_count|status|release_date|revenue|runtime| budget|imdb_id|original_language|      original_title|                          overview|popularity|             tagline|genres|production_companies|production_countries|spoken_languages|                          cast|       director|director_of_photography|       writers|           producers|music_composer|imdb_rating|imdb_votes|poster_path|\n",
      "+-------+-----+------------+----------+------+------------+-------+-------+-------+-------+-----------------+--------------------+----------------------------------+----------+--------------------+------+--------------------+--------------------+----------------+------------------------------+---------------+-----------------------+--------------+--------------------+--------------+-----------+----------+-----------+\n",
      "|1422108| NULL|        NULL|      NULL|  NULL|  2025-07-30|   NULL|   96.0|   NULL|   NULL|             NULL|BTS ARMY: FOREVER...|서울에서 로스앤젤레스, 텍사스에...|      NULL|                NULL|  NULL|      Dynamite Films|                NULL|            NULL|진,슈가,제이홉,RM,지민,뷔,정국|           NULL|                   NULL|          NULL|                NULL|          NULL|       NULL|      NULL|       NULL|\n",
      "|1511204| NULL|        NULL|      NULL|  NULL|  2017-05-16|   NULL|   NULL|21000.0|   NULL|             NULL|                NULL|                              NULL|      NULL|                NULL|      |   Double Farley Ltd|                  NZ|            NULL|          Jay Rerekura,Rang...|   Kevin Double|           Kevin Double|  Kevin Double|Melita Farley,Mel...|          NULL|       NULL|      NULL|       NULL|\n",
      "|1511206| NULL|        NULL|      NULL|  NULL|        NULL|    0.0|   74.0|    0.0|   NULL|             NULL|          Wòlô Bòskô|              Inscenizowany cyk...|      NULL|                NULL|  NULL|                NULL|                NULL|            [pl]|          Damian Wilma,Danu...|Jarosław Kilian|                   NULL|              |                    | Łukasz Godyla|       NULL|      NULL|       NULL|\n",
      "|1210159| NULL|        NULL|      NULL|  NULL|        NULL|   NULL|   NULL|   NULL|   NULL|             NULL|                NULL|                              NULL|      NULL|                NULL|  NULL|                NULL|                NULL|            NULL|          Peyton Manning,Ch...|           NULL|                   NULL|          NULL|                NULL|          NULL|       NULL|      NULL|       NULL|\n",
      "|1510710| NULL|        NULL|      NULL|  NULL|        NULL|   NULL|   NULL|   NULL|   NULL|             NULL|                NULL|                              NULL|      NULL|One woman's exist...|  NULL|                NULL|                NULL|            NULL|                          NULL|           NULL|                   NULL|          NULL|                NULL|          NULL|       NULL|      NULL|       NULL|\n",
      "| 873808| NULL|        NULL|      NULL|  NULL|        NULL|   NULL|   NULL|   NULL|   NULL|             NULL|                NULL|              Het is het sterre...|      NULL|                NULL|  NULL|                NULL|                NULL|            NULL|          Wes Bruff,Robert ...|    BC Fourteen|                   NULL|   BC Fourteen|                    |          NULL|       NULL|      NULL|       NULL|\n",
      "|1510745| NULL|        NULL|      NULL|  NULL|  2025-09-25|   NULL|   NULL|   NULL|   NULL|             NULL|                NULL|                              NULL|      NULL|                NULL|  NULL|                NULL|                NULL|            NULL|                          NULL|           NULL|                   NULL|          NULL|                NULL|          NULL|       NULL|      NULL|       NULL|\n",
      "| 355442| NULL|        NULL|      NULL|  NULL|  1997-02-03|   NULL|   NULL|   NULL|   NULL|             NULL|                NULL|                              NULL|      NULL|                NULL|      |                NULL|                NULL|            NULL|          Jayaram,Janardhan...|      Rajasenan|                   NULL|Mecartin,Raffi|          Devi Ajith|          NULL|       NULL|      NULL|       NULL|\n",
      "|1510787| NULL|        NULL|      NULL|  NULL|        NULL|   NULL|   NULL|   NULL|   NULL|             NULL|                NULL|              Het perfecte leve...|      NULL|                NULL|  NULL|                NULL|                NULL|            NULL|                          NULL|           NULL|                   NULL|          NULL|                NULL|          NULL|       NULL|      NULL|       NULL|\n",
      "|  41886| NULL|        NULL|      NULL|  NULL|        NULL|   NULL|   NULL|   NULL|   NULL|             NULL|                NULL|              Door de ervaringe...|      NULL|                NULL|  NULL|                NULL|                NULL|            NULL|                          NULL|           NULL|                   NULL|          NULL|                NULL|          NULL|       NULL|      NULL|       NULL|\n",
      "|1511111| NULL|        NULL|      NULL|  NULL|        NULL|   NULL|   NULL|   NULL|   NULL|             NULL|                NULL|                              NULL|      NULL|                NULL|  NULL|                NULL|                NULL|            NULL|                          NULL|  Joshua Minnix|                   NULL| Joshua Minnix|Joshua Minnix,Jos...|          NULL|       NULL|      NULL|       NULL|\n",
      "+-------+-----+------------+----------+------+------------+-------+-------+-------+-------+-----------------+--------------------+----------------------------------+----------+--------------------+------+--------------------+--------------------+----------------+------------------------------+---------------+-----------------------+--------------+--------------------+--------------+-----------+----------+-----------+\n",
      "\n"
     ]
    },
    {
     "name": "stderr",
     "output_type": "stream",
     "text": [
      "                                                                                \r"
     ]
    }
   ],
   "source": [
    "movie_ids = get_last_movies_change()\n",
    "dataframe_size = len(schemaCSV.fields)\n",
    "#print(dataframe_size)\n",
    "# retrieve unknow id to avoid useless call\n",
    "unknow_id = list(set(movie_ids) - set(id_list))\n",
    "\n",
    "update_ids_list_clean = list(set(movie_ids) - set(unknow_id))\n",
    "\n",
    "def retrieve_credit(credit_movie_id):\n",
    "    print(\"retrieve credits\")\n",
    "    url = f\"https://api.themoviedb.org/3/movie/{credit_movie_id}/credits?api_key={API_KEY}\"\n",
    "    response = requests.get(url)\n",
    "    if response.status_code == 200:\n",
    "        return response.json()\n",
    "    else:\n",
    "        print(\"Failed to download the file: HTTP %d\", response.status_code)\n",
    "        return \"\"\n",
    "    \n",
    "def update_credit(row, credit, columns):\n",
    "    pass\n",
    "\n",
    "def update_release_date(change):\n",
    "    if \"value\" in change:\n",
    "        return datetime.strptime(change.get(\"value\").get(\"release_date\", {}), '%Y-%m-%d').date()\n",
    "    else:\n",
    "        return datetime.strptime(change.get(\"original_value\").get(\"release_date\", {}) , '%Y-%m-%d').date()\n",
    "    \n",
    "def update_tagline(change):\n",
    "    for item in change:\n",
    "        if \"value\" in item:\n",
    "            return item.get(\"value\").get(\"tagline\")\n",
    "        else:\n",
    "            return item.get(\"original_value\").get(\"tagline\")   \n",
    "\n",
    "def update_production_company(change):\n",
    "    added = []\n",
    "    for item in change:\n",
    "        if item.get(\"action\") == \"added\":\n",
    "            added.append(item.get(\"value\").get(\"name\"))\n",
    "    return \",\".join(added)\n",
    "\n",
    "\n",
    "def update_cast(change, credits, row, columns):\n",
    "    added = []\n",
    "    cast = credits.get(\"cast\")\n",
    "    for actor in cast:\n",
    "        added.append(actor.get(\"original_name\"))\n",
    "    row[columns.index(change.get(\"key\"))] = \",\".join(added)\n",
    "    return row\n",
    "\n",
    "def update_crew(change, credits, row, columns):\n",
    "    added_producer = []\n",
    "    added_writer = []\n",
    "    crew = credits.get(\"crew\")\n",
    "    for member in crew:\n",
    "        job = member.get(\"job\")\n",
    "        match job:\n",
    "            case \"Director\":\n",
    "                row[columns.index(\"director\")] = member.get(\"name\")\n",
    "            case \"Original Music Composer\":\n",
    "                row[columns.index(\"music_composer\")] = member.get(\"name\")\n",
    "            case \"Director of Photography\":\n",
    "                row[columns.index(\"director_of_photography\")] = member.get(\"name\")\n",
    "            case \"Writer\":\n",
    "                added_writer.append(member.get(\"name\"))\n",
    "            case \"Executive Producer\":\n",
    "                added_producer.append(member.get(\"name\"))\n",
    "            case \"Producer\":\n",
    "                added_producer.append(member.get(\"name\"))\n",
    "            case _:\n",
    "                pass\n",
    "    row[columns.index(\"writers\")] = \",\".join(added_writer)\n",
    "    row[columns.index(\"producers\")] = \",\".join(added_producer)\n",
    "    return row\n",
    "\n",
    "def update_genre(change):\n",
    "    added = []\n",
    "    for item in change:\n",
    "        if item.get(\"acion\") == \"added\":\n",
    "            added.append(item.get(\"value\").get(\"name\"))\n",
    "    return \",\".join(added)\n",
    "\n",
    "\n",
    "def get_update(to_update_ids_list):\n",
    "    rows = []\n",
    "    columns = [\n",
    "        \"id\", \"title\", \"vote_average\", \"vote_count\", \"status\", \"release_dates\", \"revenue\", \"runtime\",\n",
    "        \"budget\", \"imdb_id\", \"original_language\", \"original_title\", \"overview\", \"popularity\",\n",
    "        \"tagline\", \"genres\", \"production_companies\", \"production_countries\", \"spoken_languages\",\n",
    "        \"cast\", \"director\", \"director_of_photography\", \"writers\", \"producers\", \"music_composer\",\n",
    "        \"imdb_rating\", \"imdb_votes\", \"poster_path\"\n",
    "    ]\n",
    "    start_time = time.time()\n",
    "    num_requests = 0\n",
    "    for movie_id in to_update_ids_list:\n",
    "        url = f\"https://api.themoviedb.org/3/movie/{movie_id}/changes?api_key={API_KEY}\"\n",
    "        response = session.get(url)\n",
    "        num_requests += 1\n",
    "        credits = []\n",
    "\n",
    "        if response.status_code == 200:\n",
    "            empty = True\n",
    "            changes = response.json().get(\"changes\", [])\n",
    "            row = [None] * (dataframe_size)\n",
    "            row[0] = movie_id\n",
    "            for change in changes:\n",
    "                if change.get(\"key\") != \"status\" :\n",
    "                    if (change.get(\"key\") in columns) or (change.get(\"key\") == \"crew\"):\n",
    "                        empty = False\n",
    "                        match change.get(\"key\"):\n",
    "                            case \"release_dates\":\n",
    "                                row[columns.index(change.get(\"key\"))] = update_release_date(change.get(\"items\")[0])\n",
    "                            case \"tagline\":\n",
    "                                row[columns.index(change.get(\"key\"))] = update_tagline(change.get(\"items\"))\n",
    "                            case \"cast\":\n",
    "                                if credits == []:\n",
    "                                    credits = retrieve_credit(movie_id)\n",
    "                                row = update_cast(change, credits, row, columns)\n",
    "                            case \"crew\":\n",
    "                                if credits == []:\n",
    "                                    credits = retrieve_credit(movie_id)\n",
    "                                row = update_crew(change, credits, row, columns)\n",
    "                                pass\n",
    "                            case \"production_companies\":\n",
    "                                row[columns.index(change.get(\"key\"))] = update_production_company(change.get(\"items\"))\n",
    "                            case \"genres\":\n",
    "                                row[columns.index(change.get(\"key\"))] = update_genre(change.get(\"items\"))\n",
    "                            case _:\n",
    "                                value = change.get(\"items\")[0].get(\"value\")\n",
    "                                if isinstance(value, int):\n",
    "                                    value = float(value)\n",
    "                                row[columns.index(change.get(\"key\"))] = value   \n",
    "            if empty == False :\n",
    "                rows.append(row)\n",
    "        else:\n",
    "            print(f\"Erreur pour le film {movie_id} : {response.status_code}\")\n",
    "    end_time = time.time()\n",
    "    duration = end_time - start_time\n",
    "    print(str(num_requests) + \" \" + str(duration))\n",
    "    print(num_requests / duration)\n",
    "    return spark1.createDataFrame(rows, schema=schemaCSV)\n",
    "\n",
    "df_modif = get_update(update_ids_list_clean)\n",
    "\n",
    "df_modif.show()\n"
   ]
  },
  {
   "cell_type": "code",
   "execution_count": null,
   "id": "c213127f",
   "metadata": {},
   "outputs": [
    {
     "name": "stdout",
     "output_type": "stream",
     "text": [
      "+-------+-----+------------+----------+------+------------+-------+-------+-------+-------+-----------------+--------------------+----------------------------------+----------+--------------------+--------------------+--------------------+--------------------+----------------+----+--------+-----------------------+-------+---------+--------------+-----------+----------+-----------+\n",
      "|     id|title|vote_average|vote_count|status|release_date|revenue|runtime| budget|imdb_id|original_language|      original_title|                          overview|popularity|             tagline|              genres|production_companies|production_countries|spoken_languages|cast|director|director_of_photography|writers|producers|music_composer|imdb_rating|imdb_votes|poster_path|\n",
      "+-------+-----+------------+----------+------+------------+-------+-------+-------+-------+-----------------+--------------------+----------------------------------+----------+--------------------+--------------------+--------------------+--------------------+----------------+----+--------+-----------------------+-------+---------+--------------+-----------+----------+-----------+\n",
      "|1422108| NULL|        NULL|      NULL|  NULL|  2025-07-30|   NULL|   96.0|   NULL|   NULL|             NULL|BTS ARMY: FOREVER...|서울에서 로스앤젤레스, 텍사스에...|      NULL|                NULL|                NULL|      Dynamite Films|                NULL|            NULL|NULL|    NULL|                   NULL|   NULL|     NULL|          NULL|       NULL|      NULL|       NULL|\n",
      "|1511204| NULL|        NULL|      NULL|  NULL|  2017-05-16|   NULL|   NULL|21000.0|   NULL|             NULL|                NULL|                              NULL|      NULL|                NULL|{name=Documentary...|   Double Farley Ltd|                  NZ|            NULL|NULL|    NULL|                   NULL|   NULL|     NULL|          NULL|       NULL|      NULL|       NULL|\n",
      "|1511206| NULL|        NULL|      NULL|  NULL|        NULL|    0.0|   74.0|    0.0|   NULL|             NULL|          Wòlô Bòskô|              Inscenizowany cyk...|      NULL|                NULL|                NULL|                NULL|                NULL|            [pl]|NULL|    NULL|                   NULL|   NULL|     NULL|          NULL|       NULL|      NULL|       NULL|\n",
      "|1210159| NULL|        NULL|      NULL|  NULL|        NULL|   NULL|   NULL|   NULL|   NULL|             NULL|                NULL|                              NULL|      NULL|                NULL|                NULL|                NULL|                NULL|            NULL|NULL|    NULL|                   NULL|   NULL|     NULL|          NULL|       NULL|      NULL|       NULL|\n",
      "|1510710| NULL|        NULL|      NULL|  NULL|        NULL|   NULL|   NULL|   NULL|   NULL|             NULL|                NULL|                              NULL|      NULL|One woman's exist...|                NULL|                NULL|                NULL|            NULL|NULL|    NULL|                   NULL|   NULL|     NULL|          NULL|       NULL|      NULL|       NULL|\n",
      "| 873808| NULL|        NULL|      NULL|  NULL|        NULL|   NULL|   NULL|   NULL|   NULL|             NULL|                NULL|              Het is het sterre...|      NULL|                NULL|                NULL|                NULL|                NULL|            NULL|NULL|    NULL|                   NULL|   NULL|     NULL|          NULL|       NULL|      NULL|       NULL|\n",
      "|1510745| NULL|        NULL|      NULL|  NULL|  2025-09-25|   NULL|   NULL|   NULL|   NULL|             NULL|                NULL|                              NULL|      NULL|                NULL|                NULL|                NULL|                NULL|            NULL|NULL|    NULL|                   NULL|   NULL|     NULL|          NULL|       NULL|      NULL|       NULL|\n",
      "| 355442| NULL|        NULL|      NULL|  NULL|  1997-02-03|   NULL|   NULL|   NULL|   NULL|             NULL|                NULL|                              NULL|      NULL|                NULL|                NULL|                NULL|                NULL|            NULL|NULL|    NULL|                   NULL|   NULL|     NULL|          NULL|       NULL|      NULL|       NULL|\n",
      "|1510787| NULL|        NULL|      NULL|  NULL|        NULL|   NULL|   NULL|   NULL|   NULL|             NULL|                NULL|              Het perfecte leve...|      NULL|                NULL|                NULL|                NULL|                NULL|            NULL|NULL|    NULL|                   NULL|   NULL|     NULL|          NULL|       NULL|      NULL|       NULL|\n",
      "|  41886| NULL|        NULL|      NULL|  NULL|        NULL|   NULL|   NULL|   NULL|   NULL|             NULL|                NULL|              Door de ervaringe...|      NULL|                NULL|                NULL|                NULL|                NULL|            NULL|NULL|    NULL|                   NULL|   NULL|     NULL|          NULL|       NULL|      NULL|       NULL|\n",
      "|1511111| NULL|        NULL|      NULL|  NULL|        NULL|   NULL|   NULL|   NULL|   NULL|             NULL|                NULL|                              NULL|      NULL|                NULL|                NULL|                NULL|                NULL|            NULL|NULL|    NULL|                   NULL|   NULL|     NULL|          NULL|       NULL|      NULL|       NULL|\n",
      "+-------+-----+------------+----------+------+------------+-------+-------+-------+-------+-----------------+--------------------+----------------------------------+----------+--------------------+--------------------+--------------------+--------------------+----------------+----+--------+-----------------------+-------+---------+--------------+-----------+----------+-----------+\n",
      "\n"
     ]
    },
    {
     "name": "stderr",
     "output_type": "stream",
     "text": [
      "                                                                                \r"
     ]
    }
   ],
   "source": []
  },
  {
   "cell_type": "markdown",
   "id": "f48a0639",
   "metadata": {},
   "source": [
    "### APPLY MODIFICATIONS"
   ]
  },
  {
   "cell_type": "code",
   "execution_count": 187,
   "id": "229812f6",
   "metadata": {},
   "outputs": [],
   "source": [
    "def apply_update(df_movie, update_df):\n",
    "    joined = df_movie.alias(\"a\").join(update_df.alias(\"b\"), on=\"id\", how=\"left\")\n",
    "\n",
    "    columns = [c for c in df.columns if c != \"id\"]\n",
    "    df_merged = joined.select(\n",
    "    col(\"id\"),\n",
    "    *[\n",
    "        coalesce(col(f\"b.{c}\"), col(f\"a.{c}\")).alias(c)\n",
    "        for c in columns\n",
    "    ]\n",
    ")\n",
    "    return df_merged\n",
    "\n",
    "df = apply_update(df, df_modif)"
   ]
  },
  {
   "cell_type": "markdown",
   "id": "9697b5b4",
   "metadata": {},
   "source": [
    "# GET NEW MOVIES\n",
    "### GET NEW MOVIES IDS"
   ]
  },
  {
   "cell_type": "code",
   "execution_count": 188,
   "id": "b82488ea",
   "metadata": {},
   "outputs": [],
   "source": [
    "today = date.today()\n",
    "yesterday = today - timedelta(days=1)\n",
    "today_str = today.strftime(\"%m_%d_%Y\")\n",
    "yesterday_str = yesterday.strftime(\"%m_%d_%Y\")\n",
    "\n",
    "\n",
    "def retrieve_tmdb_movie_id(date_str):\n",
    "    url = f\"http://files.tmdb.org/p/exports/movie_ids_{date_str}.json.gz\"\n",
    "    response = requests.get(url)\n",
    "\n",
    "    movie_ids = []\n",
    "\n",
    "    if response.status_code != 200:\n",
    "        print(\"Failed to download the file: HTTP %d\", response.status_code)\n",
    "\n",
    "    with gzip.open(BytesIO(response.content), 'rt', encoding='utf-8') as f:\n",
    "        for line in f:\n",
    "            movie = json.loads(line)\n",
    "            movie_ids.append(movie['id'])\n",
    "    return movie_ids\n",
    "\n",
    "new_movies_ids = list(set(retrieve_tmdb_movie_id(today_str)) - set(retrieve_tmdb_movie_id(yesterday_str)))"
   ]
  },
  {
   "cell_type": "markdown",
   "id": "7dd2be89",
   "metadata": {},
   "source": [
    "### REMOVE MOVIE IDS ALREADY IN THE CSV"
   ]
  },
  {
   "cell_type": "code",
   "execution_count": 189,
   "id": "24ba4d6e",
   "metadata": {},
   "outputs": [],
   "source": [
    "new_ids_list_clean = list(set(new_movies_ids) - set(id_list))"
   ]
  },
  {
   "cell_type": "markdown",
   "id": "8a8bc592",
   "metadata": {
    "vscode": {
     "languageId": "bat"
    }
   },
   "source": [
    "### FUNCTIONS TO RETRIEVE MOVIES"
   ]
  },
  {
   "cell_type": "code",
   "execution_count": null,
   "id": "808d4025",
   "metadata": {},
   "outputs": [],
   "source": [
    "def get_movie(id= 1):\n",
    "    data = call_api(GET_MOVIE_URL+str(id), {\n",
    "        \"language\": \"en-EN\",\n",
    "        \"append_to_response\": \"credits\",\n",
    "        \"id\": id\n",
    "    })\n",
    "    return data\n",
    "\n",
    "def get_movies(movies):\n",
    "    movie_data = []\n",
    "    for movie in movies:\n",
    "        try:\n",
    "            data = get_movie(movie)\n",
    "            movie_data.append(data)\n",
    "        except HTTPError as e:\n",
    "            print(e)\n",
    "    return movie_data\n",
    "\n"
   ]
  },
  {
   "cell_type": "markdown",
   "id": "dcbf9e53",
   "metadata": {},
   "source": [
    "### MOVIE MAPER"
   ]
  },
  {
   "cell_type": "code",
   "execution_count": 191,
   "id": "710a948d",
   "metadata": {},
   "outputs": [],
   "source": [
    "\n",
    "\n",
    "def map_movies(data):\n",
    "        movieDF = spark1.createDataFrame(data, schema=schema)\n",
    "        movieDF = movieDF.drop(\"adult\").drop(\"backdrop_path\").drop(\"belongs_to_collection\").drop(\"homepage\").drop(\"homepage\").drop(\"video\")\n",
    "        movieDF = movieDF.withColumn(\"id\", movieDF[\"id\"].try_cast('int'))\n",
    "        movieDF = movieDF.withColumn(\"genres\",expr(\"array_join(transform(genres, x -> x.name), ', ')\"))\n",
    "        movieDF = movieDF.withColumn(\"production_countries\",expr(\"array_join(transform(production_countries, x -> x.name), ', ')\"))\n",
    "        movieDF = movieDF.withColumn(\"production_companies\",expr(\"array_join(transform(production_companies, x -> x.name), ', ')\"))\n",
    "        movieDF = movieDF.withColumn(\"spoken_languages\",expr(\"array_join(transform(spoken_languages, x -> x.english_name), ', ')\"))\n",
    "\n",
    "        movieDF = movieDF.withColumn(\"director\", map_crewUDF(sf.to_json(movieDF.credits), lit([\"Director\"])))\n",
    "        movieDF = movieDF.withColumn(\"director_of_photography\", map_crewUDF(sf.to_json(movieDF.credits), lit([\"Director of Photography\"])))\n",
    "        movieDF = movieDF.withColumn(\"writers\", map_crewUDF(sf.to_json(movieDF.credits), lit([\"Writer\"])))\n",
    "        movieDF = movieDF.withColumn(\"producers\", map_crewUDF(sf.to_json(movieDF.credits), lit(['Producer', 'Executive Producer'])))\n",
    "        movieDF = movieDF.withColumn(\"music_composer\", map_crewUDF(sf.to_json(movieDF.credits), lit([\"Original Music Composer\"])))\n",
    "        movieDF = movieDF.withColumn(\"cast\", map_castUDF(sf.to_json(movieDF.credits)))\n",
    "        return movieDF\n",
    "\n"
   ]
  },
  {
   "cell_type": "markdown",
   "id": "04201f2f",
   "metadata": {},
   "source": [
    "### RETRIEVE THE MOVIES BY ID"
   ]
  },
  {
   "cell_type": "code",
   "execution_count": 192,
   "id": "616818bc",
   "metadata": {},
   "outputs": [],
   "source": [
    "df_new_movies = map_movies(get_movies(new_ids_list_clean))\n",
    "df_new_movies = df_new_movies.drop(\"credits\")"
   ]
  },
  {
   "cell_type": "markdown",
   "id": "80f316a8",
   "metadata": {},
   "source": [
    "# GET IMDB RATING"
   ]
  },
  {
   "cell_type": "code",
   "execution_count": 193,
   "id": "33fff664",
   "metadata": {},
   "outputs": [
    {
     "name": "stdout",
     "output_type": "stream",
     "text": [
      "Downloading title.ratings.tsv.gz...\n",
      "Extracting title.ratings.tsv.gz...\n",
      "Downloaded and extracted title.ratings.tsv.gz.\n"
     ]
    },
    {
     "name": "stderr",
     "output_type": "stream",
     "text": [
      "                                                                                \r"
     ]
    }
   ],
   "source": [
    "today = date.today()\n",
    "yesterday = today - timedelta(days=1)\n",
    "date_str = today.strftime(\"%m_%d_%Y\")\n",
    "url_imdb = \"https://datasets.imdbws.com/title.ratings.tsv.gz\"\n",
    "file_name = url_imdb.split('/')[-1]\n",
    "print(f\"Downloading {file_name}...\")\n",
    "response = requests.get(url_imdb, stream=True)\n",
    "if response.status_code == 200:\n",
    "    with open(file_name, 'wb') as f:\n",
    "        f.write(response.raw.read())\n",
    "    print(f\"Extracting {file_name}...\")\n",
    "    with gzip.open(file_name, 'rb') as f_in:\n",
    "        with open(file_name[:-3], 'wb') as f_out:\n",
    "            shutil.copyfileobj(f_in, f_out)\n",
    "    print(f\"Downloaded and extracted {file_name}.\")\n",
    "else:\n",
    "    print(f\"Failed to download {file_name}. Status code: {response.status_code}\")\n",
    "\n",
    "imdb_df = spark1.read.csv(\"./title.ratings.tsv\", header=True, inferSchema=True, sep='\\t')\n",
    "imdb_df = imdb_df.withColumnRenamed(\"tconst\", \"imdb_id\")\n",
    "imdb_df = imdb_df.withColumnRenamed(\"averageRating\", \"imdb_rating\")\n",
    "imdb_df = imdb_df.withColumnRenamed(\"numVotes\", \"imdb_votes\")\n",
    "\n",
    "df_new_movies_with_imdb_rating = df_new_movies.join(imdb_df, how='left', on=\"imdb_id\")\n",
    "df_new_movies_with_imdb_rating = df_new_movies_with_imdb_rating.withColumn(\"release_date\", df_new_movies_with_imdb_rating[\"release_date\"].try_cast('date'))\n"
   ]
  },
  {
   "cell_type": "markdown",
   "id": "0937a23f",
   "metadata": {},
   "source": [
    "## APPEND NEW MOVIES"
   ]
  },
  {
   "cell_type": "code",
   "execution_count": 194,
   "id": "bc35bb48",
   "metadata": {},
   "outputs": [],
   "source": [
    "df = df.unionByName(df_new_movies_with_imdb_rating)"
   ]
  },
  {
   "cell_type": "markdown",
   "id": "1025f736",
   "metadata": {},
   "source": [
    "# WRITE UPDATED CSV"
   ]
  },
  {
   "cell_type": "code",
   "execution_count": 195,
   "id": "64b1dca8",
   "metadata": {},
   "outputs": [
    {
     "name": "stderr",
     "output_type": "stream",
     "text": [
      "                                                                                \r"
     ]
    }
   ],
   "source": [
    "df.coalesce(1).write.mode('overwrite').option(\"header\", \"true\").csv(CSV_PATH_SAVE)"
   ]
  }
 ],
 "metadata": {
  "kernelspec": {
   "display_name": "movie-recommender",
   "language": "python",
   "name": "python3"
  },
  "language_info": {
   "codemirror_mode": {
    "name": "ipython",
    "version": 3
   },
   "file_extension": ".py",
   "mimetype": "text/x-python",
   "name": "python",
   "nbconvert_exporter": "python",
   "pygments_lexer": "ipython3",
   "version": "3.10.12"
  }
 },
 "nbformat": 4,
 "nbformat_minor": 5
}
