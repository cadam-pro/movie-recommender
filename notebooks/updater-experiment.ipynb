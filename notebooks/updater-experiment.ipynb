{
 "cells": [
  {
   "cell_type": "markdown",
   "id": "f5cd49a7",
   "metadata": {},
   "source": [
    "# IMPORT"
   ]
  },
  {
   "cell_type": "code",
   "execution_count": 2,
   "id": "72f98422",
   "metadata": {},
   "outputs": [],
   "source": [
    "import requests\n",
    "from pyspark.sql import SparkSession\n",
    "from pyspark.sql.functions import expr, lit, col, when, count, isnan\n",
    "from pyspark.errors import PySparkValueError\n",
    "from requests import HTTPError\n",
    "from datetime import date, timedelta\n",
    "import requests\n",
    "import gzip\n",
    "from io import BytesIO\n",
    "import json\n",
    "from pyspark.sql.types import *\n",
    "import matplotlib.pyplot as plt"
   ]
  },
  {
   "cell_type": "markdown",
   "id": "f67500b9",
   "metadata": {},
   "source": [
    "# CONST"
   ]
  },
  {
   "cell_type": "code",
   "execution_count": 145,
   "id": "3c913fa6",
   "metadata": {},
   "outputs": [],
   "source": [
    "API_KEY = \"fb24501dcc147d8b2a12ae4312215c55\"\n",
    "BASE_URL = \"https://api.themoviedb.org/3\"\n",
    "CHANGE_URL = \"movie/changes\"\n",
    "GET_MOVIE_URL = \"movie/\""
   ]
  },
  {
   "cell_type": "markdown",
   "id": "d02a10e0",
   "metadata": {},
   "source": [
    "# CREATE SPARK SESSION"
   ]
  },
  {
   "cell_type": "code",
   "execution_count": 14,
   "id": "860dd360",
   "metadata": {},
   "outputs": [
    {
     "name": "stderr",
     "output_type": "stream",
     "text": [
      "WARNING: Using incubator modules: jdk.incubator.vector\n",
      "Using Spark's default log4j profile: org/apache/spark/log4j2-defaults.properties\n",
      "Setting default log level to \"WARN\".\n",
      "To adjust logging level use sc.setLogLevel(newLevel). For SparkR, use setLogLevel(newLevel).\n",
      "25/07/10 07:41:59 WARN NativeCodeLoader: Unable to load native-hadoop library for your platform... using builtin-java classes where applicable\n"
     ]
    }
   ],
   "source": [
    "spark1 = SparkSession.builder.appName(\"Updater\").getOrCreate()"
   ]
  },
  {
   "cell_type": "markdown",
   "id": "65981596",
   "metadata": {},
   "source": [
    "# RETRIEVE ALL MOVIE ID AND COMPARE TO EXISTING"
   ]
  },
  {
   "cell_type": "code",
   "execution_count": 24,
   "id": "19c2422f",
   "metadata": {},
   "outputs": [],
   "source": [
    "today = date.today()\n",
    "yesterday = today - timedelta(days=1)\n",
    "today_str = today.strftime(\"%m_%d_%Y\")\n",
    "yesterday_str = yesterday.strftime(\"%m_%d_%Y\")\n",
    "\n",
    "\n",
    "def retrieve_tmdb_movie_id(date_str):\n",
    "    url = f\"http://files.tmdb.org/p/exports/movie_ids_{date_str}.json.gz\"\n",
    "    response = requests.get(url)\n",
    "\n",
    "    movie_ids = []\n",
    "\n",
    "    if response.status_code != 200:\n",
    "        print(\"Failed to download the file: HTTP %d\", response.status_code)\n",
    "\n",
    "    with gzip.open(BytesIO(response.content), 'rt', encoding='utf-8') as f:\n",
    "        for line in f:\n",
    "            movie = json.loads(line)\n",
    "            movie_ids.append(movie['id'])\n",
    "    return movie_ids\n",
    "\n",
    "new_movies_ids = list(set(retrieve_tmdb_movie_id(today_str)) - set(retrieve_tmdb_movie_id(yesterday_str)))\n"
   ]
  },
  {
   "cell_type": "markdown",
   "id": "7dedf362",
   "metadata": {},
   "source": [
    "# OPEN MOVIE CSV FILE"
   ]
  },
  {
   "cell_type": "code",
   "execution_count": 15,
   "id": "ba8a40bf",
   "metadata": {},
   "outputs": [
    {
     "name": "stderr",
     "output_type": "stream",
     "text": [
      "                                                                                \r"
     ]
    }
   ],
   "source": [
    "df = spark1.read.csv(\"./data/tmdb/load/TMDB_all_movies_today.csv\", header=True, inferSchema=True, sep=\",\", quote='\"', escape='\"', multiLine=True)\n",
    "df1 = spark1.read.csv(\"./data/tmdb/load/TMDB_all_movies_yesterday.csv\", header=True, inferSchema=True, sep=\",\", quote='\"', escape='\"', multiLine=True)\n",
    "df = df.sort(df.id.asc())\n",
    "df1 = df.sort(df.id.asc())\n"
   ]
  },
  {
   "cell_type": "code",
   "execution_count": null,
   "id": "a0ec2eca",
   "metadata": {},
   "outputs": [
    {
     "name": "stdout",
     "output_type": "stream",
     "text": [
      "436\n"
     ]
    }
   ],
   "source": [
    "\n",
    "#df1.filter(df.id == 1465528).show()\n",
    "id_list = df.select('id').rdd.flatMap(lambda x: x).collect()"
   ]
  },
  {
   "cell_type": "code",
   "execution_count": 26,
   "id": "81991e39",
   "metadata": {},
   "outputs": [],
   "source": [
    "new_ids_list_clean = list(set(new_movies_ids) - set(id_list))"
   ]
  },
  {
   "cell_type": "code",
   "execution_count": 27,
   "id": "6791aaa5",
   "metadata": {},
   "outputs": [
    {
     "name": "stdout",
     "output_type": "stream",
     "text": [
      "362\n"
     ]
    }
   ],
   "source": [
    "print(len(new_ids_list_clean))"
   ]
  },
  {
   "cell_type": "code",
   "execution_count": null,
   "id": "aa4eb67e",
   "metadata": {},
   "outputs": [],
   "source": []
  },
  {
   "cell_type": "code",
   "execution_count": null,
   "id": "f2669920",
   "metadata": {},
   "outputs": [
    {
     "name": "stderr",
     "output_type": "stream",
     "text": [
      "                                                                                \r"
     ]
    },
    {
     "data": {
      "text/plain": [
       "1120929"
      ]
     },
     "execution_count": 200,
     "metadata": {},
     "output_type": "execute_result"
    }
   ],
   "source": []
  },
  {
   "cell_type": "code",
   "execution_count": null,
   "id": "9063f19c",
   "metadata": {},
   "outputs": [
    {
     "name": "stdout",
     "output_type": "stream",
     "text": [
      "1079565\n"
     ]
    }
   ],
   "source": []
  },
  {
   "cell_type": "code",
   "execution_count": 203,
   "id": "97cba153",
   "metadata": {},
   "outputs": [
    {
     "name": "stdout",
     "output_type": "stream",
     "text": [
      "release_dates\n",
      "images\n",
      "+------+-----+------------+----------+------+------------+-------+-------+------+-------+-----------------+--------------+--------+----------+-------+------+--------------------+--------------------+----------------+----+--------+-----------------------+-------+---------+--------------+-----------+----------+-------------+\n",
      "|id    |title|vote_average|vote_count|status|release_date|revenue|runtime|budget|imdb_id|original_language|original_title|overview|popularity|tagline|genres|production_companies|production_countries|spoken_languages|cast|director|director_of_photography|writers|producers|music_composer|imdb_rating|imdb_votes|poster_path  |\n",
      "+------+-----+------------+----------+------+------------+-------+-------+------+-------+-----------------+--------------+--------+----------+-------+------+--------------------+--------------------+----------------+----+--------+-----------------------+-------+---------+--------------+-----------+----------+-------------+\n",
      "|273125|NULL |NULL        |NULL      |NULL  |NULL        |NULL   |NULL   |NULL  |NULL   |NULL             |NULL          |NULL    |NULL      |NULL   |NULL  |NULL                |NULL                |NULL            |NULL|NULL    |NULL                   |NULL   |NULL     |NULL          |NULL       |NULL      |release_dates|\n",
      "+------+-----+------------+----------+------+------------+-------+-------+------+-------+-----------------+--------------+--------+----------+-------+------+--------------------+--------------------+----------------+----+--------+-----------------------+-------+---------+--------------+-----------+----------+-------------+\n",
      "\n"
     ]
    },
    {
     "name": "stderr",
     "output_type": "stream",
     "text": [
      "                                                                                \r"
     ]
    }
   ],
   "source": [
    "from pyspark.sql import SparkSession\n",
    "from pyspark.sql.types import StructType, StructField, StringType, DoubleType, IntegerType\n",
    "import requests\n",
    "\n",
    "columns = [\n",
    "    \"id\", \"title\", \"vote_average\", \"vote_count\", \"status\", \"release_dates\", \"revenue\", \"runtime\",\n",
    "    \"budget\", \"imdb_id\", \"original_language\", \"original_title\", \"overview\", \"popularity\",\n",
    "    \"tagline\", \"genres\", \"production_companies\", \"production_countries\", \"spoken_languages\",\n",
    "    \"cast\", \"director\", \"director_of_photography\", \"writers\", \"producers\", \"music_composer\",\n",
    "    \"imdb_rating\", \"imdb_votes\", \"poster_path\", \"modification\"\n",
    "]\n",
    "\n",
    "# Clé API\n",
    "movie_ids = [273125, 1005299, 232672]  # exemple de IDs\n",
    "schema = df.schema\n",
    "# Préparation des données\n",
    "rows = []\n",
    "\n",
    "for movie_id in movie_ids:\n",
    "    url = f\"https://api.themoviedb.org/3/movie/{movie_id}/changes?api_key={API_KEY}\"\n",
    "    response = requests.get(url)\n",
    "\n",
    "    if response.status_code == 200:\n",
    "        changes = response.json().get(\"changes\", [])\n",
    "        for change in changes:\n",
    "            print(change.get(\"key\"))\n",
    "            if change.get(\"key\") in columns:\n",
    "                row = [None] * (len(schema.fields))  # créer une ligne vide\n",
    "                row[0] = movie_id                    # position 0 = id\n",
    "                row[-1] = change.get(\"key\")          # dernière position = modification\n",
    "                rows.append(row)\n",
    "    else:\n",
    "        print(f\"Erreur pour le film {movie_id} : {response.status_code}\")\n",
    "\n",
    "# Création du DataFrame PySpark\n",
    "df = spark1.createDataFrame(rows, schema=schema)\n",
    "df.show(truncate=False)\n"
   ]
  }
 ],
 "metadata": {
  "kernelspec": {
   "display_name": "movie-recommender",
   "language": "python",
   "name": "python3"
  },
  "language_info": {
   "codemirror_mode": {
    "name": "ipython",
    "version": 3
   },
   "file_extension": ".py",
   "mimetype": "text/x-python",
   "name": "python",
   "nbconvert_exporter": "python",
   "pygments_lexer": "ipython3",
   "version": "3.10.12"
  }
 },
 "nbformat": 4,
 "nbformat_minor": 5
}
