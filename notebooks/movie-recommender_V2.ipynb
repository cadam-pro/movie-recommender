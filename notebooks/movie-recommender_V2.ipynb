{
 "cells": [
  {
   "cell_type": "markdown",
   "id": "e421005c",
   "metadata": {},
   "source": [
    "## "
   ]
  },
  {
   "cell_type": "markdown",
   "id": "21eb2403",
   "metadata": {},
   "source": [
    "# 🎬 Movies Data Pipeline\n",
    "Ce notebook contient un pipeline de traitement des données du fichier `TMDB_all_movies.csv`, dans le cadre d'un projet de data engineering."
   ]
  },
  {
   "cell_type": "markdown",
   "id": "fba5d5f0",
   "metadata": {},
   "source": [
    "## 1. Ingestion"
   ]
  },
  {
   "cell_type": "code",
   "execution_count": 1,
   "id": "8745b5c2",
   "metadata": {},
   "outputs": [],
   "source": [
    "from pyspark.sql import SparkSession\n",
    "import pyspark\n",
    "from pyspark.sql.functions import count, col, when, array, split, size, sum as _sum, row_number, mean, year, udf\n",
    "from pyspark.sql.window import Window\n",
    "from pyspark.ml.feature import CountVectorizer, StandardScaler, VectorAssembler, Tokenizer, StopWordsRemover, HashingTF, IDF, PCA, Normalizer\n",
    "from pyspark.ml import Pipeline\n",
    "from pyspark.ml.linalg import Vectors, DenseVector, VectorUDT\n",
    "from pyspark.sql.types import DoubleType\n",
    "from pyspark.ml.functions import vector_to_array"
   ]
  },
  {
   "cell_type": "code",
   "execution_count": 2,
   "id": "967c1dc8",
   "metadata": {},
   "outputs": [
    {
     "name": "stderr",
     "output_type": "stream",
     "text": [
      "WARNING: Using incubator modules: jdk.incubator.vector\n",
      "Using Spark's default log4j profile: org/apache/spark/log4j2-defaults.properties\n",
      "Setting default log level to \"WARN\".\n",
      "To adjust logging level use sc.setLogLevel(newLevel). For SparkR, use setLogLevel(newLevel).\n",
      "25/07/14 13:03:01 WARN NativeCodeLoader: Unable to load native-hadoop library for your platform... using builtin-java classes where applicable\n",
      "                                                                                \r"
     ]
    }
   ],
   "source": [
    "spark = SparkSession.builder.appName(\"Movie recommender\").config(\"spark.driver.memory\", \"8g\").getOrCreate()\n",
    "\n",
    "df = spark.read.csv(\"../data/TMDB_all_movies.csv\", header=True, inferSchema=True, sep=\",\", quote='\"', escape='\"', multiLine=True)"
   ]
  },
  {
   "cell_type": "code",
   "execution_count": 3,
   "id": "84a63dd7",
   "metadata": {},
   "outputs": [],
   "source": [
    "# ne garder que les 100 000 premières lignes de df\n",
    "# df = df.limit(500000)"
   ]
  },
  {
   "cell_type": "code",
   "execution_count": 4,
   "id": "89430ac0",
   "metadata": {},
   "outputs": [
    {
     "name": "stdout",
     "output_type": "stream",
     "text": [
      "root\n",
      " |-- id: integer (nullable = true)\n",
      " |-- title: string (nullable = true)\n",
      " |-- vote_average: double (nullable = true)\n",
      " |-- vote_count: double (nullable = true)\n",
      " |-- status: string (nullable = true)\n",
      " |-- release_date: date (nullable = true)\n",
      " |-- revenue: double (nullable = true)\n",
      " |-- runtime: double (nullable = true)\n",
      " |-- budget: double (nullable = true)\n",
      " |-- imdb_id: string (nullable = true)\n",
      " |-- original_language: string (nullable = true)\n",
      " |-- original_title: string (nullable = true)\n",
      " |-- overview: string (nullable = true)\n",
      " |-- popularity: double (nullable = true)\n",
      " |-- tagline: string (nullable = true)\n",
      " |-- genres: string (nullable = true)\n",
      " |-- production_companies: string (nullable = true)\n",
      " |-- production_countries: string (nullable = true)\n",
      " |-- spoken_languages: string (nullable = true)\n",
      " |-- cast: string (nullable = true)\n",
      " |-- director: string (nullable = true)\n",
      " |-- director_of_photography: string (nullable = true)\n",
      " |-- writers: string (nullable = true)\n",
      " |-- producers: string (nullable = true)\n",
      " |-- music_composer: string (nullable = true)\n",
      " |-- imdb_rating: double (nullable = true)\n",
      " |-- imdb_votes: double (nullable = true)\n",
      " |-- poster_path: string (nullable = true)\n",
      "\n"
     ]
    }
   ],
   "source": [
    "df.printSchema()"
   ]
  },
  {
   "cell_type": "code",
   "execution_count": 5,
   "id": "7e81a522",
   "metadata": {},
   "outputs": [
    {
     "name": "stdout",
     "output_type": "stream",
     "text": [
      "root\n",
      " |-- id: integer (nullable = true)\n",
      " |-- title: string (nullable = true)\n",
      " |-- vote_average: float (nullable = true)\n",
      " |-- vote_count: integer (nullable = true)\n",
      " |-- status: string (nullable = true)\n",
      " |-- release_date: date (nullable = true)\n",
      " |-- revenue: double (nullable = true)\n",
      " |-- runtime: float (nullable = true)\n",
      " |-- budget: float (nullable = true)\n",
      " |-- imdb_id: string (nullable = true)\n",
      " |-- original_title: string (nullable = true)\n",
      " |-- overview: string (nullable = true)\n",
      " |-- popularity: float (nullable = true)\n",
      " |-- tagline: string (nullable = true)\n",
      " |-- director_of_photography: string (nullable = true)\n",
      " |-- producers: string (nullable = true)\n",
      " |-- music_composer: string (nullable = true)\n",
      " |-- imdb_rating: double (nullable = true)\n",
      " |-- imdb_votes: double (nullable = true)\n",
      " |-- poster_path: string (nullable = true)\n",
      " |-- completeness_score: integer (nullable = false)\n",
      " |-- genres_array: array (nullable = true)\n",
      " |    |-- element: string (containsNull = false)\n",
      " |-- production_countries_array: array (nullable = true)\n",
      " |    |-- element: string (containsNull = false)\n",
      " |-- production_companies_array: array (nullable = true)\n",
      " |    |-- element: string (containsNull = false)\n",
      " |-- spoken_languages_array: array (nullable = true)\n",
      " |    |-- element: string (containsNull = false)\n",
      " |-- cast_array: array (nullable = true)\n",
      " |    |-- element: string (containsNull = false)\n",
      " |-- director_array: array (nullable = true)\n",
      " |    |-- element: string (containsNull = false)\n",
      " |-- writers_array: array (nullable = true)\n",
      " |    |-- element: string (containsNull = false)\n",
      " |-- release_year: integer (nullable = true)\n",
      " |-- original_language_array: array (nullable = true)\n",
      " |    |-- element: string (containsNull = false)\n",
      "\n"
     ]
    }
   ],
   "source": [
    "# Type de chaque colonne :\n",
    "    # vote_average: float\n",
    "    # vote_count: int\n",
    "    # release_date: date\n",
    "    # revenue: float\n",
    "    # runtime: float\n",
    "    # budget: float\n",
    "    # popularity: float\n",
    "    # genres, production_countries, production_companies, spoken, cast, director, writers: string / one-hot encoded ?\n",
    "\n",
    "cols_to_check = [\"title\", \"original_title\", \"overview\", \"release_date\", \"genres\", \"production_countries\", \"production_companies\", \"spoken_languages\", \"cast\", \"director\", \"writers\"]\n",
    "df = df.withColumn(\n",
    "    \"completeness_score\",\n",
    "    sum([when(col(c).isNotNull(), 1).otherwise(0) for c in cols_to_check])\n",
    ")\n",
    "\n",
    "df = df.withColumn(\"vote_average\", df[\"vote_average\"].try_cast(\"double\").try_cast(\"float\")) \\\n",
    "    .withColumn(\"vote_count\", df[\"vote_count\"].try_cast(\"double\").try_cast(\"int\")) \\\n",
    "    .withColumn(\"release_date\", df[\"release_date\"].try_cast(\"date\")) \\\n",
    "    .withColumn(\"runtime\", df[\"runtime\"].try_cast(\"double\").try_cast(\"float\")) \\\n",
    "    .withColumn(\"budget\", df[\"budget\"].try_cast(\"double\").try_cast(\"float\")) \\\n",
    "    .withColumn(\"popularity\", df[\"popularity\"].try_cast(\"double\").try_cast(\"float\")) \\\n",
    "    .withColumn(\"genres_array\", when(col(\"genres\").isNotNull(), split(col(\"genres\"), \",\\\\s*\")).otherwise(array())) \\\n",
    "    .withColumn(\"production_countries_array\", when(col(\"production_countries\").isNotNull(), split(col(\"production_countries\"), \",\\\\s*\")).otherwise(array())) \\\n",
    "    .withColumn(\"production_companies_array\", when(col(\"production_companies\").isNotNull(), split(col(\"production_companies\"), \",\\\\s*\")).otherwise(array())) \\\n",
    "    .withColumn(\"spoken_languages_array\", when(col(\"spoken_languages\").isNotNull(), split(col(\"spoken_languages\"), \",\\\\s*\")).otherwise(array())) \\\n",
    "    .withColumn(\"cast_array\", when(col(\"cast\").isNotNull(), split(col(\"cast\"), \",\\\\s*\")).otherwise(array())) \\\n",
    "    .withColumn(\"director_array\", when(col(\"director\").isNotNull(), split(col(\"director\"), \",\\\\s*\")).otherwise(array())) \\\n",
    "    .withColumn(\"writers_array\", when(col(\"writers\").isNotNull(), split(col(\"writers\"), \",\\\\s*\")).otherwise(array())) \\\n",
    "    .withColumn(\"release_year\", year(\"release_date\").try_cast(\"double\").try_cast(\"int\")) \\\n",
    "    .withColumn(\"original_language_array\", when(col(\"original_language\").isNotNull(), split(col(\"original_language\"), \",\\\\s*\")).otherwise(array()))\n",
    "\n",
    "df = df.drop(\"genres\", \"production_countries\", \"production_companies\", \"spoken_languages\", \"cast\", \"director\", \"writers\", \"original_language\")\n",
    "\n",
    "df.printSchema()"
   ]
  },
  {
   "cell_type": "markdown",
   "id": "c3c3531c",
   "metadata": {},
   "source": [
    "## 2. Exploration"
   ]
  },
  {
   "cell_type": "code",
   "execution_count": 6,
   "id": "d48a5eb6",
   "metadata": {},
   "outputs": [],
   "source": [
    "# df.show(5, truncate=False)"
   ]
  },
  {
   "cell_type": "code",
   "execution_count": 7,
   "id": "1c6e739b",
   "metadata": {},
   "outputs": [],
   "source": [
    "# null values by columns\n",
    "# df.select([pyspark.sql.functions.count(pyspark.sql.functions.when(pyspark.sql.functions.col(c).isNull(), c)).alias(c) for c in df.columns]).show()"
   ]
  },
  {
   "cell_type": "code",
   "execution_count": 8,
   "id": "9de93fed",
   "metadata": {},
   "outputs": [],
   "source": [
    "# overview null but vote_count > 5\n",
    "\n",
    "# df.filter(\n",
    "#     (df[\"overview\"].isNull()) & (df[\"vote_count\"] > 5)\n",
    "# ).count()\n",
    "\n",
    "# df.filter(\n",
    "#     (df[\"overview\"].isNull()) & (df[\"vote_count\"] > 5)\n",
    "# ).show(100, truncate=False)"
   ]
  },
  {
   "cell_type": "code",
   "execution_count": 9,
   "id": "4c787a72",
   "metadata": {},
   "outputs": [],
   "source": [
    "# genres null but vote_count > 10\n",
    "# df.filter(\n",
    "#     (size(col(\"genres_array\")) == 0) & (df[\"vote_count\"] > 10)\n",
    "# ).count()\n",
    "\n",
    "# genres null\n",
    "# df.filter(\n",
    "#     size(col(\"genres_array\")) == 0\n",
    "# ).show(100, truncate=False)"
   ]
  },
  {
   "cell_type": "code",
   "execution_count": 10,
   "id": "9c32169a",
   "metadata": {},
   "outputs": [],
   "source": [
    "# get duplicate titles\n",
    "# duplicate_titles = (\n",
    "#     df.groupBy(\"title\") \\\n",
    "#       .agg(count(\"*\").alias(\"count\"))\\\n",
    "#       .filter(col(\"count\") > 1)\\\n",
    "# )\n",
    "\n",
    "# duplicate_titles.show(100)"
   ]
  },
  {
   "cell_type": "code",
   "execution_count": 11,
   "id": "8a91aa93",
   "metadata": {},
   "outputs": [],
   "source": [
    "# get duplicate titles with all columns\n",
    "# duplicate_titles_full = (\n",
    "#     df.join(duplicate_titles, \"title\") \\\n",
    "#       .select(df[\"title\"], df[\"release_year\"], df[\"completeness_score\"], df[\"original_language_array\"], df[\"original_title\"], df[\"overview\"], df[\"genres_array\"], df[\"production_countries_array\"], df[\"production_companies_array\"], df[\"spoken_languages_array\"], df[\"cast_array\"], df[\"writers_array\"], df[\"director_array\"], duplicate_titles[\"count\"])\n",
    "# )\n",
    "# duplicate_titles_full.show(100, truncate=False)"
   ]
  },
  {
   "cell_type": "code",
   "execution_count": 12,
   "id": "0932d4be",
   "metadata": {},
   "outputs": [],
   "source": [
    "# df.select(\"completeness_score\").describe().show()"
   ]
  },
  {
   "cell_type": "code",
   "execution_count": 13,
   "id": "65d2e671",
   "metadata": {},
   "outputs": [],
   "source": [
    "# rows with completeness_score < 4\n",
    "# df.filter(\n",
    "#     df[\"completeness_score\"] < 4\n",
    "# ).show(100, truncate=False)"
   ]
  },
  {
   "cell_type": "code",
   "execution_count": 14,
   "id": "205116a1",
   "metadata": {},
   "outputs": [],
   "source": [
    "# count rows who have duplicate titles and same release_date, with not null release_date\n",
    "# duplicate_titles_count = (\n",
    "#     df.groupBy(\"title\", \"release_date\") \\\n",
    "#         .agg(count(\"*\").alias(\"count\"))\\\n",
    "#         .filter((col(\"count\") > 1) & (col(\"release_date\").isNotNull()))\\\n",
    "# )\n",
    "# duplicate_titles_count.show(100, truncate=False)"
   ]
  },
  {
   "cell_type": "code",
   "execution_count": 15,
   "id": "2dd3460f",
   "metadata": {},
   "outputs": [],
   "source": [
    "# release_date null\n",
    "# df.filter(\n",
    "#     df[\"release_date\"].isNull()\n",
    "# ).show(100, truncate=False)"
   ]
  },
  {
   "cell_type": "code",
   "execution_count": 16,
   "id": "13efa0c4",
   "metadata": {},
   "outputs": [],
   "source": [
    "# count rows with release_date, production_companies, production_countries, spoken_languages, cast, director and writers null\n",
    "# df.filter(\n",
    "#     df.release_date.isNull() &\n",
    "#     df.overview.isNull() &\n",
    "#     (size(col(\"production_companies_array\")) == 0) &\n",
    "#     (size(col(\"production_countries_array\")) == 0) &\n",
    "#     (size(col(\"spoken_languages_array\")) == 0) &\n",
    "#     (size(col(\"cast_array\")) == 0) &\n",
    "#     (size(col(\"director_array\")) == 0) &\n",
    "#     (size(col(\"writers_array\")) == 0) &\n",
    "#     (size(col(\"genres_array\")) == 0)\n",
    "# ).count()"
   ]
  },
  {
   "cell_type": "code",
   "execution_count": 17,
   "id": "a374e144",
   "metadata": {},
   "outputs": [],
   "source": [
    "# df.select(\"popularity\", \"vote_count\", \"vote_average\", \"runtime\", \"budget\").describe().show()"
   ]
  },
  {
   "cell_type": "code",
   "execution_count": 18,
   "id": "48ca5f4d",
   "metadata": {},
   "outputs": [],
   "source": [
    "# count values = 0 in popularity, vote_count, vote_average, revenue, runtime, budget\n",
    "# df.select(\n",
    "#     _sum(when(col(\"popularity\") == 0, 1).otherwise(0)).alias(\"popularity_0\"),\n",
    "#     _sum(when(col(\"vote_count\") == 0, 1).otherwise(0)).alias(\"vote_count_0\"),\n",
    "#     _sum(when(col(\"vote_average\") == 0, 1).otherwise(0)).alias(\"vote_average_0\"),\n",
    "#     _sum(when(col(\"runtime\") == 0, 1).otherwise(0)).alias(\"runtime_0\"),\n",
    "#     _sum(when(col(\"budget\") == 0, 1).otherwise(0)).alias(\"budget_0\")\n",
    "# ).show()"
   ]
  },
  {
   "cell_type": "code",
   "execution_count": 19,
   "id": "c6d4d6a7",
   "metadata": {},
   "outputs": [],
   "source": [
    "# df.select(\"original_language_array\").distinct().count()"
   ]
  },
  {
   "cell_type": "markdown",
   "id": "d1ccef99",
   "metadata": {},
   "source": [
    "## 3. Nettoyage"
   ]
  },
  {
   "cell_type": "code",
   "execution_count": 20,
   "id": "f6008dc5",
   "metadata": {},
   "outputs": [],
   "source": [
    "# enlever toutes les lignes qui ne sont pas en released\n",
    "df = df.filter(df[\"status\"] == \"Released\")\n",
    "# df.select(\"status\").distinct().show()"
   ]
  },
  {
   "cell_type": "code",
   "execution_count": 21,
   "id": "24d6ce6c",
   "metadata": {},
   "outputs": [],
   "source": [
    "# drop columns that are not useful for the calculation\n",
    "df = df.drop(\"status\", \"imdb_id\", \"tagline\", \"director_of_photography\", \"producers\", \"imdb_rating\", \"imdb_votes\", \"music_composer\", \"revenue\")\n",
    "# df.show(5, truncate=False)"
   ]
  },
  {
   "cell_type": "code",
   "execution_count": 22,
   "id": "a44ce0f2",
   "metadata": {},
   "outputs": [],
   "source": [
    "# drop rows that have no title\n",
    "df = df.filter(df[\"title\"].isNotNull() & (df[\"title\"] != \"\"))"
   ]
  },
  {
   "cell_type": "code",
   "execution_count": 23,
   "id": "31b65cd9",
   "metadata": {},
   "outputs": [
    {
     "name": "stderr",
     "output_type": "stream",
     "text": [
      "                                                                                \r"
     ]
    }
   ],
   "source": [
    "# replace null values in overview with empty string and release_year with median year\n",
    "median_year = df.approxQuantile(\"release_year\", [0.5], 0.01)[0]\n",
    "df = df.fillna({\n",
    "    'overview': '',\n",
    "    'release_year': median_year\n",
    "})"
   ]
  },
  {
   "cell_type": "code",
   "execution_count": 24,
   "id": "a3160fb6",
   "metadata": {},
   "outputs": [],
   "source": [
    "# drop rows who have completeness_score < 4\n",
    "df = df.filter(df[\"completeness_score\"] >= 4)"
   ]
  },
  {
   "cell_type": "code",
   "execution_count": 25,
   "id": "70e19167",
   "metadata": {},
   "outputs": [],
   "source": [
    "# drop rows with release_date, production_companies, production_countries, spoken_languages, cast, director, writers, overview and genres null\n",
    "df = df.filter(\n",
    "    ~(\n",
    "        df.release_date.isNull() &\n",
    "        df.overview.isNull() &\n",
    "        (size(col(\"production_companies_array\")) == 0) &\n",
    "        (size(col(\"production_countries_array\")) == 0) &\n",
    "        (size(col(\"spoken_languages_array\")) == 0) &\n",
    "        (size(col(\"cast_array\")) == 0) &\n",
    "        (size(col(\"director_array\")) == 0) &\n",
    "        (size(col(\"writers_array\")) == 0) &\n",
    "        (size(col(\"genres_array\")) == 0)\n",
    "    )\n",
    ")"
   ]
  },
  {
   "cell_type": "code",
   "execution_count": 26,
   "id": "41054aa1",
   "metadata": {},
   "outputs": [],
   "source": [
    "# vérifier les doublons de titres avec release_date, et supprimer la ligne avec le completeness_score le plus bas\n",
    "window = Window.partitionBy(\"title\", \"release_date\").orderBy(col(\"completeness_score\").desc())\n",
    "\n",
    "# Garder la ligne la plus complète\n",
    "df = df.withColumn(\"row_num\", row_number().over(window)) \\\n",
    "       .filter(col(\"row_num\") == 1) \\\n",
    "       .drop(\"row_num\")"
   ]
  },
  {
   "cell_type": "code",
   "execution_count": 27,
   "id": "d913ccbb",
   "metadata": {},
   "outputs": [],
   "source": [
    "# vérifier les doublons de titres avec overview, et supprimer la ligne avec le completeness_score le plus bas\n",
    "window = Window.partitionBy(\"title\", \"overview\").orderBy(col(\"completeness_score\").desc())\n",
    "\n",
    "# Garder la ligne la plus complète\n",
    "df = df.withColumn(\"row_num\", row_number().over(window)) \\\n",
    "       .filter(col(\"row_num\") == 1) \\\n",
    "       .drop(\"row_num\", \"completeness_score\")"
   ]
  },
  {
   "cell_type": "code",
   "execution_count": 28,
   "id": "5fd21e3a",
   "metadata": {},
   "outputs": [
    {
     "name": "stderr",
     "output_type": "stream",
     "text": [
      "                                                                                \r"
     ]
    }
   ],
   "source": [
    "# set la moyenne de runtime si runtime = 0\n",
    "mean_runtime = df.select(mean(\"runtime\")).first()[0]\n",
    "df = df.withColumn(\"runtime\", when(col(\"runtime\") == 0, mean_runtime).otherwise(col(\"runtime\")))"
   ]
  },
  {
   "cell_type": "code",
   "execution_count": 29,
   "id": "1181b341",
   "metadata": {},
   "outputs": [],
   "source": [
    "# null values by columns 2\n",
    "# df.select([pyspark.sql.functions.count(pyspark.sql.functions.when(pyspark.sql.functions.col(c).isNull(), c)).alias(c) for c in df.columns]).show()"
   ]
  },
  {
   "cell_type": "code",
   "execution_count": 30,
   "id": "2104f276",
   "metadata": {},
   "outputs": [],
   "source": [
    "# # split df to put id, title, oiginal_title, poster_path in a separate df\n",
    "# df_id_title = df.select(\"id\", \"title\", \"original_title\", \"poster_path\", \"genres_array\", \"production_countries_array\", \"production_companies_array\", \"spoken_languages_array\", \"cast_array\", \"director_array\", \"writers_array\", \"vote_count\", \"vote_average\", \"budget\", \"release_date\", \"runtime\", \"original_language_array\", \"popularity\", \"overview\")\n",
    "# df = df.drop(\"title\", \"original_title\", \"poster_path\", \"vote_count\", \"vote_average\", \"budget\", \"revenue\", \"release_date\")"
   ]
  },
  {
   "cell_type": "code",
   "execution_count": 31,
   "id": "054a73f7",
   "metadata": {},
   "outputs": [],
   "source": [
    "# df.show(5, truncate=True)"
   ]
  },
  {
   "cell_type": "markdown",
   "id": "8a5c1138",
   "metadata": {},
   "source": [
    "## 4. Transformation"
   ]
  },
  {
   "cell_type": "code",
   "execution_count": 32,
   "id": "0b5afd07",
   "metadata": {},
   "outputs": [],
   "source": [
    "# use CountVectorizer to vectorize the genres, production_countries, production_companies, spoken_languages, cast, director and writers columns\n",
    "vectorizer_genres = CountVectorizer(inputCol=\"genres_array\", outputCol=\"genres_vector\")\n",
    "vectorizer_production_countries = CountVectorizer(inputCol=\"production_countries_array\", outputCol=\"production_countries_vector\")\n",
    "vectorizer_production_companies = CountVectorizer(inputCol=\"production_companies_array\", outputCol=\"production_companies_vector\")\n",
    "vectorizer_spoken_languages = CountVectorizer(inputCol=\"spoken_languages_array\", outputCol=\"spoken_languages_vector\")\n",
    "vectorizer_cast = CountVectorizer(inputCol=\"cast_array\", outputCol=\"cast_vector\")\n",
    "vectorizer_director = CountVectorizer(inputCol=\"director_array\", outputCol=\"director_vector\")\n",
    "vectorizer_writers = CountVectorizer(inputCol=\"writers_array\", outputCol=\"writers_vector\")\n",
    "vectorizer_original_language = CountVectorizer(inputCol=\"original_language_array\", outputCol=\"original_language_vector\")"
   ]
  },
  {
   "cell_type": "code",
   "execution_count": 33,
   "id": "3a4e89b8",
   "metadata": {},
   "outputs": [],
   "source": [
    "# 1. Tokenisation\n",
    "tokenizer = Tokenizer(inputCol=\"overview\", outputCol=\"overview_tokens\")\n",
    "\n",
    "# 2. Suppression des mots vides\n",
    "remover = StopWordsRemover(inputCol=\"overview_tokens\", outputCol=\"overview_filtered\")\n",
    "\n",
    "# 3. TF\n",
    "hashingTF = HashingTF(inputCol=\"overview_filtered\", outputCol=\"overview_tf\", numFeatures=10000)\n",
    "\n",
    "# 4. IDF\n",
    "idf = IDF(inputCol=\"overview_tf\", outputCol=\"overview_vector\")"
   ]
  },
  {
   "cell_type": "code",
   "execution_count": 34,
   "id": "0ac4cade",
   "metadata": {},
   "outputs": [],
   "source": [
    "runtime_assembler = VectorAssembler(inputCols=[\"runtime\"], outputCol=\"runtime_vec\")\n",
    "runtime_scaler = StandardScaler(inputCol=\"runtime_vec\", outputCol=\"runtime_scaled\")\n",
    "popularity_assembler = VectorAssembler(inputCols=[\"popularity\"], outputCol=\"popularity_vec\")\n",
    "popularity_scaler = StandardScaler(inputCol=\"popularity_vec\", outputCol=\"popularity_scaled\")\n",
    "release_year_assembler = VectorAssembler(inputCols=[\"release_year\"], outputCol=\"release_year_vec\", handleInvalid=\"keep\")\n",
    "release_year_scaler = StandardScaler(inputCol=\"release_year_vec\", outputCol=\"release_year_scaled\")"
   ]
  },
  {
   "cell_type": "code",
   "execution_count": 51,
   "id": "d4f06494",
   "metadata": {},
   "outputs": [
    {
     "name": "stderr",
     "output_type": "stream",
     "text": [
      "                                                                                \r"
     ]
    }
   ],
   "source": [
    "pipeline = Pipeline(stages=[\n",
    "    tokenizer,\n",
    "    remover,\n",
    "    hashingTF,\n",
    "    idf,\n",
    "    vectorizer_genres,\n",
    "    vectorizer_production_countries,\n",
    "    vectorizer_production_companies,\n",
    "    vectorizer_spoken_languages,\n",
    "    vectorizer_cast,\n",
    "    vectorizer_director,\n",
    "    vectorizer_writers,\n",
    "    vectorizer_original_language,\n",
    "    runtime_assembler,\n",
    "    runtime_scaler,\n",
    "    popularity_assembler,\n",
    "    popularity_scaler,\n",
    "    release_year_assembler,\n",
    "    release_year_scaler\n",
    "])\n",
    "pipeline_model = pipeline.fit(df)\n",
    "df_vec = pipeline_model.transform(df)"
   ]
  },
  {
   "cell_type": "code",
   "execution_count": null,
   "id": "0dd82d20",
   "metadata": {},
   "outputs": [],
   "source": [
    "# df_vec = df_vec.drop(\n",
    "#     \"genres_array\",\n",
    "#     \"production_countries_array\",\n",
    "#     \"production_companies_array\",\n",
    "#     \"spoken_languages_array\",\n",
    "#     \"cast_array\",\n",
    "#     \"director_array\",\n",
    "#     \"writers_array\",\n",
    "#     \"original_language_array\",\n",
    "#     \"runtime\",\n",
    "#     \"popularity\",\n",
    "#     \"release_year\",\n",
    "#     \"runtime_vec\",\n",
    "#     \"popularity_vec\",\n",
    "#     \"release_year_vec\",\n",
    "#     \"overview_tokens\",\n",
    "#     \"overview_filtered\",\n",
    "#     \"overview_tf\",\n",
    "#     \"overview\"\n",
    "# )"
   ]
  },
  {
   "cell_type": "code",
   "execution_count": 37,
   "id": "bba15b99",
   "metadata": {},
   "outputs": [],
   "source": [
    "# list 1000 release_year_scaled\n",
    "# df_vec.select(\"release_year_scaled\").show(10, truncate=True)\n",
    "\n",
    " \n",
    "# df_vec.show(5, truncate=True)"
   ]
  },
  {
   "cell_type": "code",
   "execution_count": 52,
   "id": "fae1ff6e",
   "metadata": {},
   "outputs": [],
   "source": [
    "final_assembler = VectorAssembler(\n",
    "    inputCols=[\n",
    "        \"genres_vector\",\n",
    "        \"production_countries_vector\",\n",
    "        \"production_companies_vector\",\n",
    "        \"spoken_languages_vector\",\n",
    "        \"cast_vector\",\n",
    "        \"director_vector\",\n",
    "        \"writers_vector\",\n",
    "        \"original_language_vector\",\n",
    "        # \"runtime_scaled\",\n",
    "        # \"popularity_scaled\",\n",
    "        \"release_year_scaled\",\n",
    "        \"overview_vector\"\n",
    "    ],\n",
    "    outputCol=\"content_features\"\n",
    ")\n",
    "\n",
    "df_vec_assembler = final_assembler.transform(df_vec)"
   ]
  },
  {
   "cell_type": "code",
   "execution_count": 53,
   "id": "86d4986e",
   "metadata": {},
   "outputs": [],
   "source": [
    "# Étape 2 : normaliser les vecteurs pour le produit scalaire = similarité cosinus\n",
    "normalizer = Normalizer(inputCol=\"content_features\", outputCol=\"norm_features\", p=2.0)\n",
    "df_norm = normalizer.transform(df_vec_assembler)"
   ]
  },
  {
   "cell_type": "code",
   "execution_count": 54,
   "id": "bba88b3f",
   "metadata": {},
   "outputs": [
    {
     "name": "stderr",
     "output_type": "stream",
     "text": [
      "                                                                                \r"
     ]
    }
   ],
   "source": [
    "# Étape 3 : extraire le vecteur cible\n",
    "# 4248 Scary movie 2\n",
    "# 424 La liste de Schindler\n",
    "# 238 Le Parrain\n",
    "# 62 2001 l'odyssée de l'espace\n",
    "target_id = 238\n",
    "target_vector_row = df_norm.filter(col(\"id\") == target_id).select(\"norm_features\").first()\n",
    "\n",
    "if target_vector_row is None:\n",
    "    raise ValueError(f\"Aucun film avec id={target_id}\")\n",
    "\n",
    "target_vector = target_vector_row[\"norm_features\"]"
   ]
  },
  {
   "cell_type": "code",
   "execution_count": 55,
   "id": "7191da68",
   "metadata": {},
   "outputs": [],
   "source": [
    "# UDF pour calculer la similarité cosinus avec le vecteur cible (produit scalaire car normalisé)\n",
    "@udf(returnType=DoubleType())\n",
    "def cosine_similarity_udf(vec):\n",
    "    return float(vec.dot(target_vector))\n",
    "\n",
    "df_with_similarity = df_norm.withColumn(\"cosine_similarity\", cosine_similarity_udf(col(\"content_features\")))"
   ]
  },
  {
   "cell_type": "code",
   "execution_count": 56,
   "id": "77062edf",
   "metadata": {},
   "outputs": [
    {
     "name": "stderr",
     "output_type": "stream",
     "text": [
      "25/07/14 13:21:26 WARN DAGScheduler: Broadcasting large task binary with size 62.7 MiB\n",
      "[Stage 285:==================================================>      (8 + 1) / 9]\r"
     ]
    },
    {
     "name": "stdout",
     "output_type": "stream",
     "text": [
      "+-------+---------------------------------------------------------------+-----------------+----------+----------+------------+-------------------------+\n",
      "|id     |title                                                          |cosine_similarity|popularity|vote_count|release_date|genres_array             |\n",
      "+-------+---------------------------------------------------------------+-----------------+----------+----------+------------+-------------------------+\n",
      "|312430 |Ringo Starr 70th Birthday Bash Radio City NYC 7-07-10          |80.53628161188904|0.661     |0         |2010-07-07  |[Music]                  |\n",
      "|65187  |Pachinko Queen Explosion                                       |73.65197826438158|1.586     |0         |2007-01-10  |[Drama]                  |\n",
      "|1322784|Mario Puzo's The Godfather, Coda: The Death of Michael Corleone|72.28483307657797|1.96      |0         |2020-12-04  |[Crime, Drama]           |\n",
      "|587855 |Celebrating 50 Years of the Monaro                             |71.83021773016819|0.6       |0         |2018-04-07  |[Documentary]            |\n",
      "|1030339|Pachinko Horrifying Urban Legend                               |71.64944693363117|0.006     |0         |2013-01-01  |[Horror, Comedy, Mystery]|\n",
      "|1501974|Sex and The Pachinko                                           |71.6157358860031 |0.0071    |0         |2012-06-13  |[Comedy]                 |\n",
      "|240    |The Godfather Part II                                          |71.45368688906734|13.5352   |13037     |1974-12-20  |[Drama, Crime]           |\n",
      "|1097622|Shipwright                                                     |71.379325275864  |0.6       |0         |2023-03-18  |[Documentary]            |\n",
      "|683042 |My Partner 2.0                                                 |70.8963270948595 |1.597     |1         |2020-03-12  |[Comedy, Adventure]      |\n",
      "|1300790|The Supernatural Sweet Shop: The Movie                         |70.80015759784196|0.9137    |2         |2024-12-13  |[Fantasy, Mystery]       |\n",
      "|1433254|Crime Prevention - Hyenas                                      |70.79612002646512|0.854     |0         |1992-01-01  |[Documentary, Thriller]  |\n",
      "|633356 |Angrily Ever After                                             |70.79079027796283|1.094     |2         |2019-09-21  |[Comedy]                 |\n",
      "|44525  |Korn Live: The Encounter                                       |70.77613522580103|1.299     |1         |2010-07-11  |[Music, Documentary]     |\n",
      "|283930 |Mack Blaster - The World in the Crosshairs                     |70.74809652507304|0.654     |2         |2014-07-19  |[]                       |\n",
      "|1499186|Immortal Thieves: The Bloody Heist                             |70.70181887665794|0.0286    |0         |2024-09-17  |[Horror, Thriller]       |\n",
      "|105025 |Dil Ka Rishta                                                  |70.69774361231434|2.924     |41        |2003-01-17  |[Drama, Romance]         |\n",
      "|693339 |The Diamond Jubilee                                            |70.68364117088872|0.893     |0         |2012-06-02  |[]                       |\n",
      "|706283 |Symbols of an Alien Sky                                        |70.60397240372606|0.878     |0         |2009-01-01  |[Documentary]            |\n",
      "|459804 |Ringo Starr: Off the Record                                    |70.570261356098  |0.3204    |0         |2008-05-02  |[Documentary]            |\n",
      "|463926 |Ringo Starr & His All-Starr Band Live 2006                     |70.54583023930464|0.84      |0         |2008-07-08  |[Music]                  |\n",
      "+-------+---------------------------------------------------------------+-----------------+----------+----------+------------+-------------------------+\n",
      "\n"
     ]
    },
    {
     "name": "stderr",
     "output_type": "stream",
     "text": [
      "                                                                                \r"
     ]
    }
   ],
   "source": [
    "# Étape 4 : trier et récupérer les 10 films les plus similaires (en excluant le film lui-même)\n",
    "top_20 = df_with_similarity.filter(col(\"id\") != target_id) \\\n",
    "    .orderBy(col(\"cosine_similarity\").desc()) \\\n",
    "    .select(\"id\", \"title\", \"cosine_similarity\", \"popularity\", \"vote_count\", \"release_date\", \"genres_array\") \\\n",
    "    .limit(20)\n",
    "\n",
    "top_20.show(truncate=False)"
   ]
  },
  {
   "cell_type": "code",
   "execution_count": 70,
   "id": "8a5b507e",
   "metadata": {},
   "outputs": [
    {
     "name": "stderr",
     "output_type": "stream",
     "text": [
      "[Stage 344:==================================================>      (8 + 1) / 9]\r"
     ]
    }
   ],
   "source": [
    "popular = top_20.orderBy(col(\"popularity\").desc()).limit(1).toJSON()\n",
    "underground = top_20.orderBy(col(\"popularity\").asc()).limit(1).toJSON()\n",
    "newest = top_20.orderBy(col(\"release_date\").desc()).limit(1).toJSON()"
   ]
  },
  {
   "cell_type": "code",
   "execution_count": null,
   "id": "61bf4791",
   "metadata": {},
   "outputs": [
    {
     "ename": "NameError",
     "evalue": "name 'popular' is not defined",
     "output_type": "error",
     "traceback": [
      "\u001b[0;31m---------------------------------------------------------------------------\u001b[0m",
      "\u001b[0;31mNameError\u001b[0m                                 Traceback (most recent call last)",
      "Cell \u001b[0;32mIn[1], line 1\u001b[0m\n\u001b[0;32m----> 1\u001b[0m \u001b[43mpopular\u001b[49m\n",
      "\u001b[0;31mNameError\u001b[0m: name 'popular' is not defined"
     ]
    }
   ],
   "source": [
    "popular.collect()"
   ]
  },
  {
   "cell_type": "code",
   "execution_count": 72,
   "id": "7b4844e7",
   "metadata": {},
   "outputs": [
    {
     "name": "stderr",
     "output_type": "stream",
     "text": [
      "25/07/14 13:50:27 WARN DAGScheduler: Broadcasting large task binary with size 62.7 MiB\n",
      "25/07/14 13:52:52 WARN DAGScheduler: Broadcasting large task binary with size 62.6 MiB\n",
      "                                                                                \r"
     ]
    },
    {
     "data": {
      "text/plain": [
       "['{\"id\":1030339,\"title\":\"Pachinko Horrifying Urban Legend\",\"cosine_similarity\":71.64944693363117,\"popularity\":0.006,\"vote_count\":0,\"release_date\":\"2013-01-01\",\"genres_array\":[\"Horror\",\"Comedy\",\"Mystery\"]}']"
      ]
     },
     "execution_count": 72,
     "metadata": {},
     "output_type": "execute_result"
    }
   ],
   "source": [
    "underground.collect()"
   ]
  },
  {
   "cell_type": "code",
   "execution_count": 73,
   "id": "35ea1630",
   "metadata": {},
   "outputs": [
    {
     "name": "stderr",
     "output_type": "stream",
     "text": [
      "25/07/14 13:53:02 WARN DAGScheduler: Broadcasting large task binary with size 62.7 MiB\n",
      "25/07/14 13:55:18 WARN DAGScheduler: Broadcasting large task binary with size 62.6 MiB\n",
      "                                                                                \r"
     ]
    },
    {
     "data": {
      "text/plain": [
       "['{\"id\":1300790,\"title\":\"The Supernatural Sweet Shop: The Movie\",\"cosine_similarity\":70.80015759784196,\"popularity\":0.9137,\"vote_count\":2,\"release_date\":\"2024-12-13\",\"genres_array\":[\"Fantasy\",\"Mystery\"]}']"
      ]
     },
     "execution_count": 73,
     "metadata": {},
     "output_type": "execute_result"
    }
   ],
   "source": [
    "newest.collect()"
   ]
  },
  {
   "cell_type": "code",
   "execution_count": null,
   "id": "eb49bd63",
   "metadata": {},
   "outputs": [],
   "source": [
    "# spark.stop()"
   ]
  },
  {
   "cell_type": "markdown",
   "id": "072f2d1f",
   "metadata": {},
   "source": [
    "## 5. Chargement en base"
   ]
  },
  {
   "cell_type": "code",
   "execution_count": null,
   "id": "23832391",
   "metadata": {},
   "outputs": [],
   "source": []
  }
 ],
 "metadata": {
  "kernelspec": {
   "display_name": "test-project",
   "language": "python",
   "name": "python3"
  },
  "language_info": {
   "codemirror_mode": {
    "name": "ipython",
    "version": 3
   },
   "file_extension": ".py",
   "mimetype": "text/x-python",
   "name": "python",
   "nbconvert_exporter": "python",
   "pygments_lexer": "ipython3",
   "version": "3.10.12"
  }
 },
 "nbformat": 4,
 "nbformat_minor": 5
}
