{
 "cells": [
  {
   "cell_type": "code",
   "execution_count": 92,
   "id": "da4da72a",
   "metadata": {},
   "outputs": [],
   "source": [
    "# !pip install requests pandas scikit-learn umap-learn plotly numpy"
   ]
  },
  {
   "cell_type": "code",
   "execution_count": 93,
   "id": "2be88156",
   "metadata": {},
   "outputs": [],
   "source": [
    "import requests\n",
    "import pandas as pd\n",
    "from sklearn.feature_extraction.text import TfidfVectorizer\n",
    "from sklearn.cluster import KMeans\n",
    "import umap.umap_ as umap\n",
    "import plotly.express as px"
   ]
  },
  {
   "cell_type": "code",
   "execution_count": null,
   "id": "82a59560",
   "metadata": {},
   "outputs": [],
   "source": [
    "# Ta clé API TMDb ici\n",
    "API_KEY = \"Clé_api\"\n",
    "BASE_URL = \"https://api.themoviedb.org/3\""
   ]
  },
  {
   "cell_type": "code",
   "execution_count": 95,
   "id": "7e0f91e2",
   "metadata": {},
   "outputs": [],
   "source": [
    "\n",
    "def fetch_movies(endpoint, params):\n",
    "    url = f\"{BASE_URL}/{endpoint}\"\n",
    "    params[\"api_key\"] = API_KEY\n",
    "    response = requests.get(url, params=params)\n",
    "    response.raise_for_status()\n",
    "    return response.json()\n",
    "\n",
    "def get_popular_movies(pages=20, min_vote_count=1000):\n",
    "    all_movies = []\n",
    "    for page in range(1, pages + 1):\n",
    "        data = fetch_movies(\"discover/movie\", {\n",
    "            \"language\": \"fr-FR\",\n",
    "            \"sort_by\": \"vote_average.desc\",\n",
    "            \"vote_count.gte\": min_vote_count,\n",
    "            \"page\": page\n",
    "        })\n",
    "        all_movies.extend(data[\"results\"])\n",
    "    return all_movies\n",
    "\n",
    "def get_recent_movies(pages=20):\n",
    "    from datetime import datetime\n",
    "    year = datetime.now().year\n",
    "    all_movies = []\n",
    "    for page in range(1, pages+1):\n",
    "        data = fetch_movies(\"movie/popular\", {\n",
    "            \"language\": \"fr-FR\",\n",
    "            \"sort_by\": \"release_date.desc\",\n",
    "            \"primary_release_year\": year,\n",
    "            \"page\": page\n",
    "        })\n",
    "        all_movies.extend(data[\"results\"])\n",
    "    return all_movies\n",
    "\n",
    "def extract_movie_features(movies):\n",
    "    # Récupère les colonnes utiles\n",
    "    df = pd.DataFrame(movies)\n",
    "    # df = df[[\"id\",\"title\",\"overview\",\"release_date\",\"vote_average\"]]\n",
    "    df[\"overview\"] = df[\"overview\"].fillna(\"\")\n",
    "    df[\"release_date\"] = pd.to_datetime(df[\"release_date\"], errors=\"coerce\")\n",
    "    return df"
   ]
  },
  {
   "cell_type": "code",
   "execution_count": 96,
   "id": "41c7bc88",
   "metadata": {},
   "outputs": [],
   "source": [
    "# Récupération des données\n",
    "popular_movies = get_popular_movies()\n",
    "recent_movies = get_recent_movies()\n",
    "\n",
    "df_popular = extract_movie_features(popular_movies)\n",
    "df_recent = extract_movie_features(recent_movies)\n",
    "\n",
    "# Ajout d'une colonne pour la source\n",
    "df_popular[\"category\"] = \"popular\"\n",
    "df_recent[\"category\"] = \"recent\""
   ]
  },
  {
   "cell_type": "code",
   "execution_count": 97,
   "id": "0a24d564",
   "metadata": {},
   "outputs": [
    {
     "data": {
      "text/html": [
       "<div>\n",
       "<style scoped>\n",
       "    .dataframe tbody tr th:only-of-type {\n",
       "        vertical-align: middle;\n",
       "    }\n",
       "\n",
       "    .dataframe tbody tr th {\n",
       "        vertical-align: top;\n",
       "    }\n",
       "\n",
       "    .dataframe thead th {\n",
       "        text-align: right;\n",
       "    }\n",
       "</style>\n",
       "<table border=\"1\" class=\"dataframe\">\n",
       "  <thead>\n",
       "    <tr style=\"text-align: right;\">\n",
       "      <th></th>\n",
       "      <th>adult</th>\n",
       "      <th>backdrop_path</th>\n",
       "      <th>genre_ids</th>\n",
       "      <th>id</th>\n",
       "      <th>original_language</th>\n",
       "      <th>original_title</th>\n",
       "      <th>overview</th>\n",
       "      <th>popularity</th>\n",
       "      <th>poster_path</th>\n",
       "      <th>release_date</th>\n",
       "      <th>title</th>\n",
       "      <th>video</th>\n",
       "      <th>vote_average</th>\n",
       "      <th>vote_count</th>\n",
       "      <th>category</th>\n",
       "    </tr>\n",
       "  </thead>\n",
       "  <tbody>\n",
       "    <tr>\n",
       "      <th>0</th>\n",
       "      <td>False</td>\n",
       "      <td>/zfbjgQE1uSd9wiPTX4VzsLi0rGG.jpg</td>\n",
       "      <td>[18, 80]</td>\n",
       "      <td>278</td>\n",
       "      <td>en</td>\n",
       "      <td>The Shawshank Redemption</td>\n",
       "      <td>En 1947, Andy Dufresne, un jeune banquier, est...</td>\n",
       "      <td>26.6187</td>\n",
       "      <td>/t30GjttOdb5At1sYy8b3TOwFgWV.jpg</td>\n",
       "      <td>1994-09-23</td>\n",
       "      <td>Les Évadés</td>\n",
       "      <td>False</td>\n",
       "      <td>8.712</td>\n",
       "      <td>28502</td>\n",
       "      <td>popular</td>\n",
       "    </tr>\n",
       "    <tr>\n",
       "      <th>1</th>\n",
       "      <td>False</td>\n",
       "      <td>/tmU7GeKVybMWFButWEGl2M4GeiP.jpg</td>\n",
       "      <td>[18, 80]</td>\n",
       "      <td>238</td>\n",
       "      <td>en</td>\n",
       "      <td>The Godfather</td>\n",
       "      <td>La Seconde Guerre mondiale vient de s'achever....</td>\n",
       "      <td>26.4481</td>\n",
       "      <td>/k3uIbYtiuK8pwbCcbma29nTqmgG.jpg</td>\n",
       "      <td>1972-03-14</td>\n",
       "      <td>Le Parrain</td>\n",
       "      <td>False</td>\n",
       "      <td>8.688</td>\n",
       "      <td>21584</td>\n",
       "      <td>popular</td>\n",
       "    </tr>\n",
       "    <tr>\n",
       "      <th>2</th>\n",
       "      <td>False</td>\n",
       "      <td>/kGzFbGhp99zva6oZODW5atUtnqi.jpg</td>\n",
       "      <td>[18, 80]</td>\n",
       "      <td>240</td>\n",
       "      <td>en</td>\n",
       "      <td>The Godfather Part II</td>\n",
       "      <td>Depuis la mort de Don Vito Corleone, son fils ...</td>\n",
       "      <td>14.7361</td>\n",
       "      <td>/jUjglfsuWdTfs7XURF3Jqf8oTJ7.jpg</td>\n",
       "      <td>1974-12-20</td>\n",
       "      <td>Le Parrain, 2e partie</td>\n",
       "      <td>False</td>\n",
       "      <td>8.571</td>\n",
       "      <td>13040</td>\n",
       "      <td>popular</td>\n",
       "    </tr>\n",
       "    <tr>\n",
       "      <th>3</th>\n",
       "      <td>False</td>\n",
       "      <td>/zb6fM1CX41D9rF9hdgclu0peUmy.jpg</td>\n",
       "      <td>[18, 36, 10752]</td>\n",
       "      <td>424</td>\n",
       "      <td>en</td>\n",
       "      <td>Schindler's List</td>\n",
       "      <td>Évocation des années de guerre d’Oskar Schindl...</td>\n",
       "      <td>12.8044</td>\n",
       "      <td>/fLRbv1fGQD0OCPWkFy7PI2sESLj.jpg</td>\n",
       "      <td>1993-12-15</td>\n",
       "      <td>La Liste de Schindler</td>\n",
       "      <td>False</td>\n",
       "      <td>8.565</td>\n",
       "      <td>16516</td>\n",
       "      <td>popular</td>\n",
       "    </tr>\n",
       "    <tr>\n",
       "      <th>4</th>\n",
       "      <td>False</td>\n",
       "      <td>/bxgTSUenZDHNFerQ1whRKplrMKF.jpg</td>\n",
       "      <td>[18]</td>\n",
       "      <td>389</td>\n",
       "      <td>en</td>\n",
       "      <td>12 Angry Men</td>\n",
       "      <td>Un jeune homme d'origine modeste est accusé du...</td>\n",
       "      <td>15.7631</td>\n",
       "      <td>/fFXrCl7nBFFaQU3IgTlinvk6vTi.jpg</td>\n",
       "      <td>1957-04-10</td>\n",
       "      <td>Douze Hommes en colère</td>\n",
       "      <td>False</td>\n",
       "      <td>8.500</td>\n",
       "      <td>9225</td>\n",
       "      <td>popular</td>\n",
       "    </tr>\n",
       "    <tr>\n",
       "      <th>...</th>\n",
       "      <td>...</td>\n",
       "      <td>...</td>\n",
       "      <td>...</td>\n",
       "      <td>...</td>\n",
       "      <td>...</td>\n",
       "      <td>...</td>\n",
       "      <td>...</td>\n",
       "      <td>...</td>\n",
       "      <td>...</td>\n",
       "      <td>...</td>\n",
       "      <td>...</td>\n",
       "      <td>...</td>\n",
       "      <td>...</td>\n",
       "      <td>...</td>\n",
       "      <td>...</td>\n",
       "    </tr>\n",
       "    <tr>\n",
       "      <th>395</th>\n",
       "      <td>False</td>\n",
       "      <td>/tcZi0LQc5iu2u6i5aOWyj9NBBvl.jpg</td>\n",
       "      <td>[18, 10749]</td>\n",
       "      <td>80</td>\n",
       "      <td>en</td>\n",
       "      <td>Before Sunset</td>\n",
       "      <td>Neuf ans auparavant, Jesse et Céline se sont r...</td>\n",
       "      <td>3.5591</td>\n",
       "      <td>/gqPkhjDOSaYcpRwedOtrc5JmZbp.jpg</td>\n",
       "      <td>2004-06-16</td>\n",
       "      <td>Before Sunset</td>\n",
       "      <td>False</td>\n",
       "      <td>7.800</td>\n",
       "      <td>3513</td>\n",
       "      <td>popular</td>\n",
       "    </tr>\n",
       "    <tr>\n",
       "      <th>396</th>\n",
       "      <td>False</td>\n",
       "      <td>/9AbessEz2YKjmPtYKATDeYRW3Px.jpg</td>\n",
       "      <td>[16, 35, 10751]</td>\n",
       "      <td>531</td>\n",
       "      <td>en</td>\n",
       "      <td>The Wrong Trousers</td>\n",
       "      <td>Pour payer ses factures, Wallace, l'inventeur,...</td>\n",
       "      <td>1.6923</td>\n",
       "      <td>/il1nrKu1ujuUhTK0GtCZXi5gCcF.jpg</td>\n",
       "      <td>1993-12-17</td>\n",
       "      <td>Wallace &amp; Gromit : Un mauvais pantalon</td>\n",
       "      <td>False</td>\n",
       "      <td>7.805</td>\n",
       "      <td>1071</td>\n",
       "      <td>popular</td>\n",
       "    </tr>\n",
       "    <tr>\n",
       "      <th>397</th>\n",
       "      <td>False</td>\n",
       "      <td>/620hnMVLu6RSZW6a5rwO8gqpt0t.jpg</td>\n",
       "      <td>[16, 35, 14, 12, 10751]</td>\n",
       "      <td>508943</td>\n",
       "      <td>en</td>\n",
       "      <td>Luca</td>\n",
       "      <td>Un jeune garçon, Luca, vit un été inoubliable,...</td>\n",
       "      <td>10.9993</td>\n",
       "      <td>/bADnZZZdzQtajVwJ8MVWYlQ6Iq2.jpg</td>\n",
       "      <td>2021-06-17</td>\n",
       "      <td>Luca</td>\n",
       "      <td>False</td>\n",
       "      <td>7.803</td>\n",
       "      <td>8571</td>\n",
       "      <td>popular</td>\n",
       "    </tr>\n",
       "    <tr>\n",
       "      <th>398</th>\n",
       "      <td>False</td>\n",
       "      <td>/h1vBJ0uN4QCbBb5WVKxmtfTrHoY.jpg</td>\n",
       "      <td>[37]</td>\n",
       "      <td>11697</td>\n",
       "      <td>en</td>\n",
       "      <td>The Man Who Shot Liberty Valance</td>\n",
       "      <td>Stoddard, un jeune avocat, vient de s'installe...</td>\n",
       "      <td>8.6184</td>\n",
       "      <td>/6jTZ83zj8Uu2qVflOLmqbwWlu7v.jpg</td>\n",
       "      <td>1962-04-13</td>\n",
       "      <td>L'Homme qui tua Liberty Valance</td>\n",
       "      <td>False</td>\n",
       "      <td>7.804</td>\n",
       "      <td>1203</td>\n",
       "      <td>popular</td>\n",
       "    </tr>\n",
       "    <tr>\n",
       "      <th>399</th>\n",
       "      <td>False</td>\n",
       "      <td>/1KgXxv6tHXOnakqYvMPvFwYKWiw.jpg</td>\n",
       "      <td>[12, 35, 14]</td>\n",
       "      <td>762</td>\n",
       "      <td>en</td>\n",
       "      <td>Monty Python and the Holy Grail</td>\n",
       "      <td>Le roi Arthur et les Chevaliers de la Table Ro...</td>\n",
       "      <td>5.5867</td>\n",
       "      <td>/5y6rOuxx9TnhL0HSx6v6BdloCm6.jpg</td>\n",
       "      <td>1975-04-03</td>\n",
       "      <td>Monty Python : Sacré Graal !</td>\n",
       "      <td>False</td>\n",
       "      <td>7.804</td>\n",
       "      <td>6013</td>\n",
       "      <td>popular</td>\n",
       "    </tr>\n",
       "  </tbody>\n",
       "</table>\n",
       "<p>400 rows × 15 columns</p>\n",
       "</div>"
      ],
      "text/plain": [
       "     adult                     backdrop_path                genre_ids      id  \\\n",
       "0    False  /zfbjgQE1uSd9wiPTX4VzsLi0rGG.jpg                 [18, 80]     278   \n",
       "1    False  /tmU7GeKVybMWFButWEGl2M4GeiP.jpg                 [18, 80]     238   \n",
       "2    False  /kGzFbGhp99zva6oZODW5atUtnqi.jpg                 [18, 80]     240   \n",
       "3    False  /zb6fM1CX41D9rF9hdgclu0peUmy.jpg          [18, 36, 10752]     424   \n",
       "4    False  /bxgTSUenZDHNFerQ1whRKplrMKF.jpg                     [18]     389   \n",
       "..     ...                               ...                      ...     ...   \n",
       "395  False  /tcZi0LQc5iu2u6i5aOWyj9NBBvl.jpg              [18, 10749]      80   \n",
       "396  False  /9AbessEz2YKjmPtYKATDeYRW3Px.jpg          [16, 35, 10751]     531   \n",
       "397  False  /620hnMVLu6RSZW6a5rwO8gqpt0t.jpg  [16, 35, 14, 12, 10751]  508943   \n",
       "398  False  /h1vBJ0uN4QCbBb5WVKxmtfTrHoY.jpg                     [37]   11697   \n",
       "399  False  /1KgXxv6tHXOnakqYvMPvFwYKWiw.jpg             [12, 35, 14]     762   \n",
       "\n",
       "    original_language                    original_title  \\\n",
       "0                  en          The Shawshank Redemption   \n",
       "1                  en                     The Godfather   \n",
       "2                  en             The Godfather Part II   \n",
       "3                  en                  Schindler's List   \n",
       "4                  en                      12 Angry Men   \n",
       "..                ...                               ...   \n",
       "395                en                     Before Sunset   \n",
       "396                en                The Wrong Trousers   \n",
       "397                en                              Luca   \n",
       "398                en  The Man Who Shot Liberty Valance   \n",
       "399                en   Monty Python and the Holy Grail   \n",
       "\n",
       "                                              overview  popularity  \\\n",
       "0    En 1947, Andy Dufresne, un jeune banquier, est...     26.6187   \n",
       "1    La Seconde Guerre mondiale vient de s'achever....     26.4481   \n",
       "2    Depuis la mort de Don Vito Corleone, son fils ...     14.7361   \n",
       "3    Évocation des années de guerre d’Oskar Schindl...     12.8044   \n",
       "4    Un jeune homme d'origine modeste est accusé du...     15.7631   \n",
       "..                                                 ...         ...   \n",
       "395  Neuf ans auparavant, Jesse et Céline se sont r...      3.5591   \n",
       "396  Pour payer ses factures, Wallace, l'inventeur,...      1.6923   \n",
       "397  Un jeune garçon, Luca, vit un été inoubliable,...     10.9993   \n",
       "398  Stoddard, un jeune avocat, vient de s'installe...      8.6184   \n",
       "399  Le roi Arthur et les Chevaliers de la Table Ro...      5.5867   \n",
       "\n",
       "                          poster_path release_date  \\\n",
       "0    /t30GjttOdb5At1sYy8b3TOwFgWV.jpg   1994-09-23   \n",
       "1    /k3uIbYtiuK8pwbCcbma29nTqmgG.jpg   1972-03-14   \n",
       "2    /jUjglfsuWdTfs7XURF3Jqf8oTJ7.jpg   1974-12-20   \n",
       "3    /fLRbv1fGQD0OCPWkFy7PI2sESLj.jpg   1993-12-15   \n",
       "4    /fFXrCl7nBFFaQU3IgTlinvk6vTi.jpg   1957-04-10   \n",
       "..                                ...          ...   \n",
       "395  /gqPkhjDOSaYcpRwedOtrc5JmZbp.jpg   2004-06-16   \n",
       "396  /il1nrKu1ujuUhTK0GtCZXi5gCcF.jpg   1993-12-17   \n",
       "397  /bADnZZZdzQtajVwJ8MVWYlQ6Iq2.jpg   2021-06-17   \n",
       "398  /6jTZ83zj8Uu2qVflOLmqbwWlu7v.jpg   1962-04-13   \n",
       "399  /5y6rOuxx9TnhL0HSx6v6BdloCm6.jpg   1975-04-03   \n",
       "\n",
       "                                      title  video  vote_average  vote_count  \\\n",
       "0                                Les Évadés  False         8.712       28502   \n",
       "1                                Le Parrain  False         8.688       21584   \n",
       "2                     Le Parrain, 2e partie  False         8.571       13040   \n",
       "3                     La Liste de Schindler  False         8.565       16516   \n",
       "4                    Douze Hommes en colère  False         8.500        9225   \n",
       "..                                      ...    ...           ...         ...   \n",
       "395                           Before Sunset  False         7.800        3513   \n",
       "396  Wallace & Gromit : Un mauvais pantalon  False         7.805        1071   \n",
       "397                                    Luca  False         7.803        8571   \n",
       "398         L'Homme qui tua Liberty Valance  False         7.804        1203   \n",
       "399            Monty Python : Sacré Graal !  False         7.804        6013   \n",
       "\n",
       "    category  \n",
       "0    popular  \n",
       "1    popular  \n",
       "2    popular  \n",
       "3    popular  \n",
       "4    popular  \n",
       "..       ...  \n",
       "395  popular  \n",
       "396  popular  \n",
       "397  popular  \n",
       "398  popular  \n",
       "399  popular  \n",
       "\n",
       "[400 rows x 15 columns]"
      ]
     },
     "execution_count": 97,
     "metadata": {},
     "output_type": "execute_result"
    }
   ],
   "source": [
    "df_popular"
   ]
  },
  {
   "cell_type": "code",
   "execution_count": 98,
   "id": "b3304d95",
   "metadata": {},
   "outputs": [
    {
     "data": {
      "text/html": [
       "<div>\n",
       "<style scoped>\n",
       "    .dataframe tbody tr th:only-of-type {\n",
       "        vertical-align: middle;\n",
       "    }\n",
       "\n",
       "    .dataframe tbody tr th {\n",
       "        vertical-align: top;\n",
       "    }\n",
       "\n",
       "    .dataframe thead th {\n",
       "        text-align: right;\n",
       "    }\n",
       "</style>\n",
       "<table border=\"1\" class=\"dataframe\">\n",
       "  <thead>\n",
       "    <tr style=\"text-align: right;\">\n",
       "      <th></th>\n",
       "      <th>adult</th>\n",
       "      <th>backdrop_path</th>\n",
       "      <th>genre_ids</th>\n",
       "      <th>id</th>\n",
       "      <th>original_language</th>\n",
       "      <th>original_title</th>\n",
       "      <th>overview</th>\n",
       "      <th>popularity</th>\n",
       "      <th>poster_path</th>\n",
       "      <th>release_date</th>\n",
       "      <th>title</th>\n",
       "      <th>video</th>\n",
       "      <th>vote_average</th>\n",
       "      <th>vote_count</th>\n",
       "      <th>category</th>\n",
       "    </tr>\n",
       "  </thead>\n",
       "  <tbody>\n",
       "    <tr>\n",
       "      <th>0</th>\n",
       "      <td>False</td>\n",
       "      <td>/sItIskd5xpiE64bBWYwZintkGf3.jpg</td>\n",
       "      <td>[28, 53, 80]</td>\n",
       "      <td>541671</td>\n",
       "      <td>en</td>\n",
       "      <td>Ballerina</td>\n",
       "      <td>Enfant, Eve Macarro a assisté impuissante au m...</td>\n",
       "      <td>658.8665</td>\n",
       "      <td>/e7zUVzux574daVsOlbcvmqEieyn.jpg</td>\n",
       "      <td>2025-06-04</td>\n",
       "      <td>Ballerina</td>\n",
       "      <td>False</td>\n",
       "      <td>7.158</td>\n",
       "      <td>519</td>\n",
       "      <td>recent</td>\n",
       "    </tr>\n",
       "    <tr>\n",
       "      <th>1</th>\n",
       "      <td>False</td>\n",
       "      <td>/rthMuZfFv4fqEU4JVbgSW9wQ8rs.jpg</td>\n",
       "      <td>[28, 878, 12]</td>\n",
       "      <td>986056</td>\n",
       "      <td>en</td>\n",
       "      <td>Thunderbolts*</td>\n",
       "      <td>Yelena Belova, Bucky Barnes, Red Guardian, Le ...</td>\n",
       "      <td>625.6935</td>\n",
       "      <td>/3OhI4smjsUNHPzEHN0IUNn1hfSP.jpg</td>\n",
       "      <td>2025-04-30</td>\n",
       "      <td>Thunderbolts*</td>\n",
       "      <td>False</td>\n",
       "      <td>7.470</td>\n",
       "      <td>1404</td>\n",
       "      <td>recent</td>\n",
       "    </tr>\n",
       "    <tr>\n",
       "      <th>2</th>\n",
       "      <td>False</td>\n",
       "      <td>/uIpJPDNFoeX0TVml9smPrs9KUVx.jpg</td>\n",
       "      <td>[27, 9648]</td>\n",
       "      <td>574475</td>\n",
       "      <td>en</td>\n",
       "      <td>Final Destination Bloodlines</td>\n",
       "      <td>Stefani, 18 ans, fait d’affreux cauchemars. Da...</td>\n",
       "      <td>402.5293</td>\n",
       "      <td>/4uI8C2zcfLWRhZDBgd0oTlZjV9j.jpg</td>\n",
       "      <td>2025-05-14</td>\n",
       "      <td>Destination finale : Bloodlines</td>\n",
       "      <td>False</td>\n",
       "      <td>7.206</td>\n",
       "      <td>1462</td>\n",
       "      <td>recent</td>\n",
       "    </tr>\n",
       "    <tr>\n",
       "      <th>3</th>\n",
       "      <td>False</td>\n",
       "      <td>/x58Gk2ZGU5AEBp25MQe2nhZhd5z.jpg</td>\n",
       "      <td>[28, 14]</td>\n",
       "      <td>846422</td>\n",
       "      <td>en</td>\n",
       "      <td>The Old Guard 2</td>\n",
       "      <td>Andy et son équipe de guerriers immortels retr...</td>\n",
       "      <td>558.4141</td>\n",
       "      <td>/8iJmsUdYvyNNc4C9ukNM3D6plep.jpg</td>\n",
       "      <td>2025-07-01</td>\n",
       "      <td>The Old Guard 2</td>\n",
       "      <td>False</td>\n",
       "      <td>6.000</td>\n",
       "      <td>87</td>\n",
       "      <td>recent</td>\n",
       "    </tr>\n",
       "    <tr>\n",
       "      <th>4</th>\n",
       "      <td>False</td>\n",
       "      <td>/7Zx3wDG5bBtcfk8lcnCWDOLM4Y4.jpg</td>\n",
       "      <td>[10751, 878, 35, 12]</td>\n",
       "      <td>552524</td>\n",
       "      <td>en</td>\n",
       "      <td>Lilo &amp; Stitch</td>\n",
       "      <td>Sur la planète Turo, le professeur Jumba compa...</td>\n",
       "      <td>302.6558</td>\n",
       "      <td>/71IjwRa88OJMYJBntId7nn0eFHy.jpg</td>\n",
       "      <td>2025-05-17</td>\n",
       "      <td>Lilo &amp; Stitch</td>\n",
       "      <td>False</td>\n",
       "      <td>7.114</td>\n",
       "      <td>774</td>\n",
       "      <td>recent</td>\n",
       "    </tr>\n",
       "    <tr>\n",
       "      <th>...</th>\n",
       "      <td>...</td>\n",
       "      <td>...</td>\n",
       "      <td>...</td>\n",
       "      <td>...</td>\n",
       "      <td>...</td>\n",
       "      <td>...</td>\n",
       "      <td>...</td>\n",
       "      <td>...</td>\n",
       "      <td>...</td>\n",
       "      <td>...</td>\n",
       "      <td>...</td>\n",
       "      <td>...</td>\n",
       "      <td>...</td>\n",
       "      <td>...</td>\n",
       "      <td>...</td>\n",
       "    </tr>\n",
       "    <tr>\n",
       "      <th>395</th>\n",
       "      <td>False</td>\n",
       "      <td>/g4j7H4yDoCR90X1VV2IEvAZ1LAP.jpg</td>\n",
       "      <td>[18, 10749]</td>\n",
       "      <td>707610</td>\n",
       "      <td>ko</td>\n",
       "      <td>가슴 큰 울 엄마</td>\n",
       "      <td></td>\n",
       "      <td>14.3792</td>\n",
       "      <td>/zarhMAQRWKjjsNBR1rviIXZ5xtt.jpg</td>\n",
       "      <td>2020-05-06</td>\n",
       "      <td>가슴 큰 울 엄마</td>\n",
       "      <td>False</td>\n",
       "      <td>6.250</td>\n",
       "      <td>12</td>\n",
       "      <td>recent</td>\n",
       "    </tr>\n",
       "    <tr>\n",
       "      <th>396</th>\n",
       "      <td>False</td>\n",
       "      <td>/uzIGtyS6bbnJzGsPL93WCF1FWm8.jpg</td>\n",
       "      <td>[12, 28, 14]</td>\n",
       "      <td>1865</td>\n",
       "      <td>en</td>\n",
       "      <td>Pirates of the Caribbean: On Stranger Tides</td>\n",
       "      <td>Dans cette histoire pleine d’action, où vérité...</td>\n",
       "      <td>14.0061</td>\n",
       "      <td>/5JjjjGg24IGRXIQtaZkPU59acjV.jpg</td>\n",
       "      <td>2011-05-15</td>\n",
       "      <td>Pirates des Caraïbes : La Fontaine de jouvence</td>\n",
       "      <td>False</td>\n",
       "      <td>6.560</td>\n",
       "      <td>14360</td>\n",
       "      <td>recent</td>\n",
       "    </tr>\n",
       "    <tr>\n",
       "      <th>397</th>\n",
       "      <td>False</td>\n",
       "      <td>/f6nBStUsAEbn8i1vjMwqeaENxv9.jpg</td>\n",
       "      <td>[10749]</td>\n",
       "      <td>1442532</td>\n",
       "      <td>tl</td>\n",
       "      <td>Malagkit</td>\n",
       "      <td></td>\n",
       "      <td>12.7047</td>\n",
       "      <td>/cEJe5DfzXb0hqOsMzJxHzRjYLWq.jpg</td>\n",
       "      <td>2025-03-11</td>\n",
       "      <td>Malagkit</td>\n",
       "      <td>False</td>\n",
       "      <td>8.000</td>\n",
       "      <td>6</td>\n",
       "      <td>recent</td>\n",
       "    </tr>\n",
       "    <tr>\n",
       "      <th>398</th>\n",
       "      <td>False</td>\n",
       "      <td>/4PAtIaArgPMpKe6fkXw051SYR88.jpg</td>\n",
       "      <td>[18]</td>\n",
       "      <td>50270</td>\n",
       "      <td>it</td>\n",
       "      <td>Paprika</td>\n",
       "      <td>En 1958, Mimma, une jeune femme plantureuse jo...</td>\n",
       "      <td>12.7160</td>\n",
       "      <td>/odTCrXktfjTKhsgukKzepvIfdGC.jpg</td>\n",
       "      <td>1991-02-13</td>\n",
       "      <td>Paprika</td>\n",
       "      <td>False</td>\n",
       "      <td>7.100</td>\n",
       "      <td>537</td>\n",
       "      <td>recent</td>\n",
       "    </tr>\n",
       "    <tr>\n",
       "      <th>399</th>\n",
       "      <td>False</td>\n",
       "      <td>/4rsomWxlqnHt3muGYK06auhOib6.jpg</td>\n",
       "      <td>[10749, 18, 35]</td>\n",
       "      <td>818647</td>\n",
       "      <td>es</td>\n",
       "      <td>A través de mi ventana</td>\n",
       "      <td>Amoureuse depuis longtemps, Raquel découvre en...</td>\n",
       "      <td>13.8749</td>\n",
       "      <td>/QBi6w77cDQhsXS7ijCx9ncH20w.jpg</td>\n",
       "      <td>2022-02-04</td>\n",
       "      <td>À travers ma fenêtre</td>\n",
       "      <td>False</td>\n",
       "      <td>7.364</td>\n",
       "      <td>3247</td>\n",
       "      <td>recent</td>\n",
       "    </tr>\n",
       "  </tbody>\n",
       "</table>\n",
       "<p>400 rows × 15 columns</p>\n",
       "</div>"
      ],
      "text/plain": [
       "     adult                     backdrop_path             genre_ids       id  \\\n",
       "0    False  /sItIskd5xpiE64bBWYwZintkGf3.jpg          [28, 53, 80]   541671   \n",
       "1    False  /rthMuZfFv4fqEU4JVbgSW9wQ8rs.jpg         [28, 878, 12]   986056   \n",
       "2    False  /uIpJPDNFoeX0TVml9smPrs9KUVx.jpg            [27, 9648]   574475   \n",
       "3    False  /x58Gk2ZGU5AEBp25MQe2nhZhd5z.jpg              [28, 14]   846422   \n",
       "4    False  /7Zx3wDG5bBtcfk8lcnCWDOLM4Y4.jpg  [10751, 878, 35, 12]   552524   \n",
       "..     ...                               ...                   ...      ...   \n",
       "395  False  /g4j7H4yDoCR90X1VV2IEvAZ1LAP.jpg           [18, 10749]   707610   \n",
       "396  False  /uzIGtyS6bbnJzGsPL93WCF1FWm8.jpg          [12, 28, 14]     1865   \n",
       "397  False  /f6nBStUsAEbn8i1vjMwqeaENxv9.jpg               [10749]  1442532   \n",
       "398  False  /4PAtIaArgPMpKe6fkXw051SYR88.jpg                  [18]    50270   \n",
       "399  False  /4rsomWxlqnHt3muGYK06auhOib6.jpg       [10749, 18, 35]   818647   \n",
       "\n",
       "    original_language                               original_title  \\\n",
       "0                  en                                    Ballerina   \n",
       "1                  en                                Thunderbolts*   \n",
       "2                  en                 Final Destination Bloodlines   \n",
       "3                  en                              The Old Guard 2   \n",
       "4                  en                                Lilo & Stitch   \n",
       "..                ...                                          ...   \n",
       "395                ko                                    가슴 큰 울 엄마   \n",
       "396                en  Pirates of the Caribbean: On Stranger Tides   \n",
       "397                tl                                     Malagkit   \n",
       "398                it                                      Paprika   \n",
       "399                es                       A través de mi ventana   \n",
       "\n",
       "                                              overview  popularity  \\\n",
       "0    Enfant, Eve Macarro a assisté impuissante au m...    658.8665   \n",
       "1    Yelena Belova, Bucky Barnes, Red Guardian, Le ...    625.6935   \n",
       "2    Stefani, 18 ans, fait d’affreux cauchemars. Da...    402.5293   \n",
       "3    Andy et son équipe de guerriers immortels retr...    558.4141   \n",
       "4    Sur la planète Turo, le professeur Jumba compa...    302.6558   \n",
       "..                                                 ...         ...   \n",
       "395                                                        14.3792   \n",
       "396  Dans cette histoire pleine d’action, où vérité...     14.0061   \n",
       "397                                                        12.7047   \n",
       "398  En 1958, Mimma, une jeune femme plantureuse jo...     12.7160   \n",
       "399  Amoureuse depuis longtemps, Raquel découvre en...     13.8749   \n",
       "\n",
       "                          poster_path release_date  \\\n",
       "0    /e7zUVzux574daVsOlbcvmqEieyn.jpg   2025-06-04   \n",
       "1    /3OhI4smjsUNHPzEHN0IUNn1hfSP.jpg   2025-04-30   \n",
       "2    /4uI8C2zcfLWRhZDBgd0oTlZjV9j.jpg   2025-05-14   \n",
       "3    /8iJmsUdYvyNNc4C9ukNM3D6plep.jpg   2025-07-01   \n",
       "4    /71IjwRa88OJMYJBntId7nn0eFHy.jpg   2025-05-17   \n",
       "..                                ...          ...   \n",
       "395  /zarhMAQRWKjjsNBR1rviIXZ5xtt.jpg   2020-05-06   \n",
       "396  /5JjjjGg24IGRXIQtaZkPU59acjV.jpg   2011-05-15   \n",
       "397  /cEJe5DfzXb0hqOsMzJxHzRjYLWq.jpg   2025-03-11   \n",
       "398  /odTCrXktfjTKhsgukKzepvIfdGC.jpg   1991-02-13   \n",
       "399   /QBi6w77cDQhsXS7ijCx9ncH20w.jpg   2022-02-04   \n",
       "\n",
       "                                              title  video  vote_average  \\\n",
       "0                                         Ballerina  False         7.158   \n",
       "1                                     Thunderbolts*  False         7.470   \n",
       "2                   Destination finale : Bloodlines  False         7.206   \n",
       "3                                   The Old Guard 2  False         6.000   \n",
       "4                                     Lilo & Stitch  False         7.114   \n",
       "..                                              ...    ...           ...   \n",
       "395                                       가슴 큰 울 엄마  False         6.250   \n",
       "396  Pirates des Caraïbes : La Fontaine de jouvence  False         6.560   \n",
       "397                                        Malagkit  False         8.000   \n",
       "398                                         Paprika  False         7.100   \n",
       "399                            À travers ma fenêtre  False         7.364   \n",
       "\n",
       "     vote_count category  \n",
       "0           519   recent  \n",
       "1          1404   recent  \n",
       "2          1462   recent  \n",
       "3            87   recent  \n",
       "4           774   recent  \n",
       "..          ...      ...  \n",
       "395          12   recent  \n",
       "396       14360   recent  \n",
       "397           6   recent  \n",
       "398         537   recent  \n",
       "399        3247   recent  \n",
       "\n",
       "[400 rows x 15 columns]"
      ]
     },
     "execution_count": 98,
     "metadata": {},
     "output_type": "execute_result"
    }
   ],
   "source": [
    "df_recent"
   ]
  },
  {
   "cell_type": "code",
   "execution_count": 99,
   "id": "43926e34",
   "metadata": {},
   "outputs": [],
   "source": [
    "df_all = pd.concat([df_popular, df_recent]).drop_duplicates(subset=\"id\").reset_index(drop=True)"
   ]
  },
  {
   "cell_type": "code",
   "execution_count": 100,
   "id": "2b0ea08e",
   "metadata": {},
   "outputs": [],
   "source": [
    "# Vectorisation TF-IDF sur les résumés\n",
    "vectorizer = TfidfVectorizer(max_features=500, stop_words=\"english\")\n",
    "X_tfidf = vectorizer.fit_transform(df_all[\"overview\"])"
   ]
  },
  {
   "cell_type": "code",
   "execution_count": 101,
   "id": "28dd7380",
   "metadata": {},
   "outputs": [
    {
     "name": "stderr",
     "output_type": "stream",
     "text": [
      "/home/cor.adam/.pyenv/versions/3.10.12/envs/test-project/lib/python3.10/site-packages/umap/umap_.py:1952: UserWarning:\n",
      "\n",
      "n_jobs value 1 overridden to 1 by setting random_state. Use no seed for parallelism.\n",
      "\n"
     ]
    }
   ],
   "source": [
    "# Réduction dimensionnelle avec UMAP\n",
    "reducer = umap.UMAP(n_neighbors=15, min_dist=0.1, n_components=2, random_state=42)\n",
    "embedding = reducer.fit_transform(X_tfidf.toarray())\n",
    "\n",
    "df_all[\"x\"] = embedding[:,0]\n",
    "df_all[\"y\"] = embedding[:,1]"
   ]
  },
  {
   "cell_type": "code",
   "execution_count": 102,
   "id": "98110582",
   "metadata": {},
   "outputs": [],
   "source": [
    "# Clustering KMeans (nombre de clusters à ajuster)\n",
    "n_clusters = 10\n",
    "kmeans = KMeans(n_clusters=n_clusters, random_state=42)\n",
    "df_all[\"cluster\"] = kmeans.fit_predict(embedding)"
   ]
  },
  {
   "cell_type": "code",
   "execution_count": 103,
   "id": "211b9087",
   "metadata": {},
   "outputs": [],
   "source": [
    "fig = px.scatter(df_all, x=\"x\", y=\"y\",\n",
    "                 color=\"cluster\",\n",
    "                 symbol=\"category\",\n",
    "                 hover_data=[\"title\",\"release_date\",\"vote_average\",\"category\"],\n",
    "                 title=\"Clustering films populaires et récents TMDb\")"
   ]
  },
  {
   "cell_type": "code",
   "execution_count": 104,
   "id": "d9b9eda2",
   "metadata": {},
   "outputs": [
    {
     "data": {
      "application/vnd.plotly.v1+json": {
       "config": {
        "plotlyServerURL": "https://plot.ly"
       },
       "data": [
        {
         "customdata": [
          [
           "Les Évadés",
           "1994-09-23T00:00:00",
           8.712,
           "popular"
          ],
          [
           "Le Parrain",
           "1972-03-14T00:00:00",
           8.688,
           "popular"
          ],
          [
           "Le Parrain, 2e partie",
           "1974-12-20T00:00:00",
           8.571,
           "popular"
          ],
          [
           "La Liste de Schindler",
           "1993-12-15T00:00:00",
           8.565,
           "popular"
          ],
          [
           "Douze Hommes en colère",
           "1957-04-10T00:00:00",
           8.5,
           "popular"
          ],
          [
           "Le Voyage de Chihiro",
           "2001-07-20T00:00:00",
           8.5,
           "popular"
          ],
          [
           "The Dark Knight : Le Chevalier noir",
           "2008-07-16T00:00:00",
           8.521,
           "popular"
          ],
          [
           "Dilwale Dulhania Le Jayenge",
           "1995-10-20T00:00:00",
           8.518,
           "popular"
          ],
          [
           "La Ligne verte",
           "1999-12-10T00:00:00",
           8.505,
           "popular"
          ],
          [
           "Parasite",
           "2019-05-30T00:00:00",
           8.499,
           "popular"
          ],
          [
           "Pulp Fiction",
           "1994-09-10T00:00:00",
           8.5,
           "popular"
          ],
          [
           "Le Seigneur des anneaux : Le Retour du roi",
           "2003-12-17T00:00:00",
           8.487,
           "popular"
          ],
          [
           "Your Name.",
           "2016-08-26T00:00:00",
           8.483,
           "popular"
          ],
          [
           "Forrest Gump",
           "1994-06-23T00:00:00",
           8.468,
           "popular"
          ],
          [
           "Le Bon, la Brute et le Truand",
           "1966-12-22T00:00:00",
           8.464,
           "popular"
          ],
          [
           "Interstellar",
           "2014-11-05T00:00:00",
           8.456,
           "popular"
          ],
          [
           "Les Affranchis",
           "1990-09-12T00:00:00",
           8.456,
           "popular"
          ],
          [
           "Les Sept Samouraïs",
           "1954-04-26T00:00:00",
           8.455,
           "popular"
          ],
          [
           "Le Tombeau des lucioles",
           "1988-04-16T00:00:00",
           8.449,
           "popular"
          ],
          [
           "La vie est belle",
           "1997-12-20T00:00:00",
           8.445,
           "popular"
          ],
          [
           "Fight Club",
           "1999-10-15T00:00:00",
           8.438,
           "popular"
          ],
          [
           "Cinema Paradiso",
           "1988-11-17T00:00:00",
           8.437,
           "popular"
          ],
          [
           "Will A Dog",
           "2000-09-15T00:00:00",
           8.4,
           "popular"
          ],
          [
           "La Cité de Dieu",
           "2002-08-30T00:00:00",
           8.43,
           "popular"
          ],
          [
           "Harakiri",
           "1962-09-15T00:00:00",
           8.424,
           "popular"
          ],
          [
           "Le Seigneur des anneaux : La Communauté de l'anneau",
           "2001-12-18T00:00:00",
           8.423,
           "popular"
          ],
          [
           "Psychose",
           "1960-06-22T00:00:00",
           8.4,
           "popular"
          ],
          [
           "Vol au-dessus d'un nid de coucou",
           "1975-11-19T00:00:00",
           8.414,
           "popular"
          ],
          [
           "Il était une fois en Amérique",
           "1984-05-23T00:00:00",
           8.411,
           "popular"
          ],
          [
           "Gabriel's Inferno",
           "2020-05-29T00:00:00",
           8.408,
           "popular"
          ],
          [
           "Le Seigneur des anneaux : Les Deux Tours",
           "2002-12-18T00:00:00",
           8.407,
           "popular"
          ],
          [
           "Spider-Man : New Generation",
           "2018-12-06T00:00:00",
           8.399,
           "popular"
          ],
          [
           "Le Château ambulant",
           "2004-09-09T00:00:00",
           8.4,
           "popular"
          ],
          [
           "L'Empire contre-attaque",
           "1980-05-20T00:00:00",
           8.396,
           "popular"
          ],
          [
           "Silent Voice",
           "2016-09-17T00:00:00",
           8.386,
           "popular"
          ],
          [
           "Le Pianiste",
           "2002-09-17T00:00:00",
           8.379,
           "popular"
          ],
          [
           "Whiplash",
           "2014-10-10T00:00:00",
           8.378,
           "popular"
          ],
          [
           "Gabriel's Inferno: Part II",
           "2020-07-31T00:00:00",
           8.376,
           "popular"
          ],
          [
           "Seven",
           "1995-09-22T00:00:00",
           8.376,
           "popular"
          ],
          [
           "Gabriel's Inferno: Part III",
           "2020-11-19T00:00:00",
           8.371,
           "popular"
          ],
          [
           "Inception",
           "2010-07-15T00:00:00",
           8.369,
           "popular"
          ],
          [
           "Fenêtre sur cour",
           "1954-08-01T00:00:00",
           8.353,
           "popular"
          ],
          [
           "Spider-Man : Across the Spider-Verse",
           "2023-05-31T00:00:00",
           8.3,
           "popular"
          ],
          [
           "Le Silence des agneaux",
           "1991-02-14T00:00:00",
           8.347,
           "popular"
          ],
          [
           "American History X",
           "1998-07-01T00:00:00",
           8.337,
           "popular"
          ],
          [
           "Princesse Mononoké",
           "1997-07-12T00:00:00",
           8.326,
           "popular"
          ],
          [
           "Retour vers le futur",
           "1985-07-03T00:00:00",
           8.322,
           "popular"
          ],
          [
           "Le Robot sauvage",
           "2024-09-12T00:00:00",
           8.312,
           "popular"
          ],
          [
           "Vivre",
           "1952-10-09T00:00:00",
           8.309,
           "popular"
          ],
          [
           "Perfect Blue",
           "1998-02-28T00:00:00",
           8.301,
           "popular"
          ],
          [
           "Le Cercle des poètes disparus",
           "1989-06-02T00:00:00",
           8.3,
           "popular"
          ],
          [
           "Léon",
           "1994-09-14T00:00:00",
           8.301,
           "popular"
          ],
          [
           "Le Dictateur",
           "1940-10-15T00:00:00",
           8.296,
           "popular"
          ],
          [
           "Boulevard du crépuscule",
           "1950-08-10T00:00:00",
           8.294,
           "popular"
          ],
          [
           "Il était une fois dans l'Ouest",
           "1968-12-21T00:00:00",
           8.285,
           "popular"
          ],
          [
           "Vers la forêt des lucioles",
           "2011-09-17T00:00:00",
           8.3,
           "popular"
          ],
          [
           "The End of Evangelion",
           "1997-07-19T00:00:00",
           8.3,
           "popular"
          ],
          [
           "Les Temps Modernes",
           "1936-02-05T00:00:00",
           8.28,
           "popular"
          ],
          [
           "La vie est belle",
           "1946-12-20T00:00:00",
           8.279,
           "popular"
          ],
          [
           "Intouchables",
           "2011-11-02T00:00:00",
           8.272,
           "popular"
          ],
          [
           "Apocalypse Now",
           "1979-05-19T00:00:00",
           8.272,
           "popular"
          ],
          [
           "Les Lumières de la ville",
           "1931-02-06T00:00:00",
           8.264,
           "popular"
          ],
          [
           "Les Sentiers de la gloire",
           "1957-10-25T00:00:00",
           8.259,
           "popular"
          ],
          [
           "7. Koğuştaki Mucize",
           "2019-10-10T00:00:00",
           8.258,
           "popular"
          ],
          [
           "Le Roi lion",
           "1994-06-15T00:00:00",
           8.257,
           "popular"
          ],
          [
           "La Légende du pianiste sur l'océan",
           "1998-10-28T00:00:00",
           8.254,
           "popular"
          ],
          [
           "Old Boy",
           "2003-11-21T00:00:00",
           8.251,
           "popular"
          ],
          [
           "One Direction : Le Film",
           "2013-08-28T00:00:00",
           8.25,
           "popular"
          ],
          [
           "Clouds",
           "2020-10-09T00:00:00",
           8.245,
           "popular"
          ],
          [
           "Je veux manger ton pancréas",
           "2018-09-01T00:00:00",
           8.24,
           "popular"
          ],
          [
           "Avengers : Endgame",
           "2019-04-24T00:00:00",
           8.24,
           "popular"
          ],
          [
           "Life in a Year",
           "2020-11-27T00:00:00",
           8.2,
           "popular"
          ],
          [
           "Klaus",
           "2019-11-08T00:00:00",
           8.237,
           "popular"
          ],
          [
           "À deux mètres de toi",
           "2019-03-14T00:00:00",
           8.235,
           "popular"
          ],
          [
           "Avengers : Infinity War",
           "2018-04-25T00:00:00",
           8.236,
           "popular"
          ],
          [
           "Requiem pour un massacre",
           "1985-10-17T00:00:00",
           8.232,
           "popular"
          ],
          [
           "Mommy",
           "2014-09-19T00:00:00",
           8.228,
           "popular"
          ],
          [
           "Green Book : Sur les routes du Sud",
           "2018-11-16T00:00:00",
           8.23,
           "popular"
          ],
          [
           "Matrix",
           "1999-03-31T00:00:00",
           8.228,
           "popular"
          ],
          [
           "Justice League Dark: Apokolips War",
           "2020-05-05T00:00:00",
           8.221,
           "popular"
          ],
          [
           "Témoin à charge",
           "1957-12-17T00:00:00",
           8.2,
           "popular"
          ],
          [
           "Gladiator",
           "2000-05-04T00:00:00",
           8.22,
           "popular"
          ],
          [
           "Les Enfants loups, Ame & Yuki",
           "2012-07-21T00:00:00",
           8.22,
           "popular"
          ],
          [
           "Il faut sauver le soldat Ryan",
           "1998-07-24T00:00:00",
           8.218,
           "popular"
          ],
          [
           "Le Chat Potté 2 : la dernière quête",
           "2022-12-07T00:00:00",
           8.215,
           "popular"
          ],
          [
           "Inglourious Basterds",
           "2009-08-02T00:00:00",
           8.213,
           "popular"
          ],
          [
           "Le Peuple loup",
           "2020-10-26T00:00:00",
           8.212,
           "popular"
          ],
          [
           "Shining",
           "1980-05-23T00:00:00",
           8.211,
           "popular"
          ],
          [
           "Demon Slayer : Kimetsu no Yaiba - Le film : Le train de l'Infini",
           "2020-10-16T00:00:00",
           8.2,
           "popular"
          ],
          [
           "Dans les yeux d'Enzo",
           "2019-08-08T00:00:00",
           8.208,
           "popular"
          ],
          [
           "La Couleur des sentiments",
           "2011-08-09T00:00:00",
           8.206,
           "popular"
          ],
          [
           "La Guerre des étoiles",
           "1977-05-25T00:00:00",
           8.205,
           "popular"
          ],
          [
           "Coco",
           "2017-10-27T00:00:00",
           8.204,
           "popular"
          ],
          [
           "Le Prestige",
           "2006-10-17T00:00:00",
           8.204,
           "popular"
          ],
          [
           "Mademoiselle",
           "2016-06-01T00:00:00",
           8.203,
           "popular"
          ],
          [
           "Shutter Island",
           "2010-02-14T00:00:00",
           8.201,
           "popular"
          ],
          [
           "La Garçonnière",
           "1960-06-21T00:00:00",
           8.197,
           "popular"
          ],
          [
           "Tu ne tueras point",
           "2016-10-07T00:00:00",
           8.193,
           "popular"
          ],
          [
           "Le Septième Sceau",
           "1957-02-16T00:00:00",
           8.186,
           "popular"
          ],
          [
           "Orange mécanique",
           "1971-12-19T00:00:00",
           8.186,
           "popular"
          ],
          [
           "Django Unchained",
           "2012-12-25T00:00:00",
           8.183,
           "popular"
          ],
          [
           "Memento",
           "2000-10-11T00:00:00",
           8.178,
           "popular"
          ],
          [
           "Top Gun : Maverick",
           "2022-05-21T00:00:00",
           8.176,
           "popular"
          ],
          [
           "Le Voleur de bicyclette",
           "1948-07-21T00:00:00",
           8.175,
           "popular"
          ],
          [
           "Flow, le chat qui n'avait plus peur de l'eau",
           "2024-08-29T00:00:00",
           8.2,
           "popular"
          ],
          [
           "Voyage à Tokyo",
           "1953-11-03T00:00:00",
           8.174,
           "popular"
          ],
          [
           "Usual Suspects",
           "1995-07-19T00:00:00",
           8.173,
           "popular"
          ],
          [
           "Alien, le huitième passager",
           "1979-05-25T00:00:00",
           8.165,
           "popular"
          ],
          [
           "Scarface",
           "1983-12-09T00:00:00",
           8.162,
           "popular"
          ],
          [
           "Sueurs froides",
           "1958-05-28T00:00:00",
           8.161,
           "popular"
          ],
          [
           "Les Infiltrés",
           "2006-10-04T00:00:00",
           8.159,
           "popular"
          ],
          [
           "Will Hunting",
           "1997-12-05T00:00:00",
           8.159,
           "popular"
          ],
          [
           "Casablanca",
           "1943-01-15T00:00:00",
           8.157,
           "popular"
          ],
          [
           "Le Kid",
           "1921-01-21T00:00:00",
           8.154,
           "popular"
          ],
          [
           "Persona",
           "1966-10-18T00:00:00",
           8.152,
           "popular"
          ],
          [
           "Piper",
           "2016-06-16T00:00:00",
           8.151,
           "popular"
          ],
          [
           "Chantons sous la pluie",
           "1952-04-10T00:00:00",
           8.149,
           "popular"
          ],
          [
           "My Hero Academia : Heroes Rising",
           "2019-12-20T00:00:00",
           8.147,
           "popular"
          ],
          [
           "The Truman Show",
           "1998-06-04T00:00:00",
           8.147,
           "popular"
          ],
          [
           "Hamilton",
           "2020-07-03T00:00:00",
           8.1,
           "popular"
          ],
          [
           "Capharnaüm",
           "2018-09-20T00:00:00",
           8.147,
           "popular"
          ],
          [
           "Dune : Deuxième partie",
           "2024-02-27T00:00:00",
           8.143,
           "popular"
          ],
          [
           "Togo",
           "2019-12-20T00:00:00",
           8.141,
           "popular"
          ],
          [
           "Palmer",
           "2021-01-28T00:00:00",
           8.137,
           "popular"
          ],
          [
           "Joker",
           "2019-10-01T00:00:00",
           8.135,
           "popular"
          ],
          [
           "Taxi Driver",
           "1976-02-09T00:00:00",
           8.135,
           "popular"
          ],
          [
           "Les Princes de la ville",
           "1993-02-05T00:00:00",
           8.13,
           "popular"
          ],
          [
           "Huit et demi",
           "1963-02-14T00:00:00",
           8.132,
           "popular"
          ],
          [
           "Il reste encore demain",
           "2023-10-26T00:00:00",
           8.1,
           "popular"
          ],
          [
           "Terminator 2 : Le Jugement dernier",
           "1991-07-03T00:00:00",
           8.128,
           "popular"
          ],
          [
           "Jujutsu Kaisen 0",
           "2021-12-24T00:00:00",
           8.124,
           "popular"
          ],
          [
           "Docteur Folamour",
           "1964-01-29T00:00:00",
           8.122,
           "popular"
          ],
          [
           "Full Metal Jacket",
           "1987-06-26T00:00:00",
           8.122,
           "popular"
          ],
          [
           "Reservoir Dogs",
           "1992-09-02T00:00:00",
           8.12,
           "popular"
          ],
          [
           "Wonder",
           "2017-11-13T00:00:00",
           8.118,
           "popular"
          ],
          [
           "Zack Snyder's Justice League",
           "2021-03-18T00:00:00",
           8.117,
           "popular"
          ],
          [
           "Senna",
           "2010-10-07T00:00:00",
           8.117,
           "popular"
          ],
          [
           "Call Me by Your Name",
           "2017-07-28T00:00:00",
           8.115,
           "popular"
          ],
          [
           "Portrait de la jeune fille en feu",
           "2019-09-18T00:00:00",
           8.114,
           "popular"
          ],
          [
           "Assurance sur la mort",
           "1944-07-06T00:00:00",
           8.113,
           "popular"
          ],
          [
           "The Father",
           "2020-12-23T00:00:00",
           8.113,
           "popular"
          ],
          [
           "Stalker",
           "1979-05-25T00:00:00",
           8.114,
           "popular"
          ],
          [
           "Arnaques, crimes et botanique",
           "1998-08-28T00:00:00",
           8.113,
           "popular"
          ],
          [
           "Les Fraises sauvages",
           "1957-08-28T00:00:00",
           8.109,
           "popular"
          ],
          [
           "Soul",
           "2020-12-25T00:00:00",
           8.107,
           "popular"
          ],
          [
           "Metropolis",
           "1927-02-06T00:00:00",
           8.105,
           "popular"
          ],
          [
           "In the Mood for Love",
           "2000-09-29T00:00:00",
           8.102,
           "popular"
          ],
          [
           "WALL·E",
           "2008-06-22T00:00:00",
           8.101,
           "popular"
          ],
          [
           "Paris, Texas",
           "1984-07-16T00:00:00",
           8.099,
           "popular"
          ],
          [
           "Mortal Kombat Legends: Scorpion's Revenge",
           "2020-04-12T00:00:00",
           8.098,
           "popular"
          ],
          [
           "Prisoners",
           "2013-09-19T00:00:00",
           8.098,
           "popular"
          ],
          [
           "Le Garde du corps",
           "1961-04-25T00:00:00",
           8.097,
           "popular"
          ],
          [
           "L'Accusé",
           "2017-01-06T00:00:00",
           8.097,
           "popular"
          ],
          [
           "Certains l'aiment chaud",
           "1959-03-19T00:00:00",
           8.095,
           "popular"
          ],
          [
           "The Hate U Give : La Haine qu'on donne",
           "2018-10-19T00:00:00",
           8.094,
           "popular"
          ],
          [
           "La Chasse",
           "2012-06-13T00:00:00",
           8.093,
           "popular"
          ],
          [
           "Incendies",
           "2010-09-17T00:00:00",
           8.094,
           "popular"
          ],
          [
           "Miraculous World : New York, les héros unis",
           "2020-09-25T00:00:00",
           8.1,
           "popular"
          ],
          [
           "Eternal Sunshine of the Spotless Mind",
           "2004-03-19T00:00:00",
           8.092,
           "popular"
          ],
          [
           "La Haine",
           "1995-05-31T00:00:00",
           8.087,
           "popular"
          ],
          [
           "Harry Potter et les Reliques de la mort - 2ème partie",
           "2011-07-12T00:00:00",
           8.086,
           "popular"
          ],
          [
           "Le Bateau",
           "1981-09-17T00:00:00",
           8.085,
           "popular"
          ],
          [
           "Le Conte de la princesse Kaguya",
           "2013-11-23T00:00:00",
           8.084,
           "popular"
          ],
          [
           "Nos cœurs meurtris",
           "2022-07-29T00:00:00",
           8.082,
           "popular"
          ],
          [
           "Ève",
           "1950-11-09T00:00:00",
           8.082,
           "popular"
          ],
          [
           "Along with the Gods: The Two Worlds",
           "2017-12-20T00:00:00",
           8.1,
           "popular"
          ],
          [
           "Transformers : Le Commencement",
           "2024-09-11T00:00:00",
           8.075,
           "popular"
          ],
          [
           "M le maudit",
           "1931-05-11T00:00:00",
           8.074,
           "popular"
          ],
          [
           "There Will Be Blood",
           "2007-12-26T00:00:00",
           8.072,
           "popular"
          ],
          [
           "Mon voisin Totoro",
           "1988-04-16T00:00:00",
           8.07,
           "popular"
          ],
          [
           "The Thing",
           "1982-06-25T00:00:00",
           8.069,
           "popular"
          ],
          [
           "A Taxi Driver",
           "2017-08-02T00:00:00",
           8.065,
           "popular"
          ],
          [
           "3 Billboards : Les Panneaux de la vengeance",
           "2017-12-01T00:00:00",
           8.066,
           "popular"
          ],
          [
           "La dolce vita",
           "1960-02-05T00:00:00",
           8.1,
           "popular"
          ],
          [
           "2001 : L'Odyssée de l'espace",
           "1968-04-02T00:00:00",
           8.066,
           "popular"
          ],
          [
           "Orgueil et Préjugés",
           "2005-09-16T00:00:00",
           8.065,
           "popular"
          ],
          [
           "Rashômon",
           "1950-08-26T00:00:00",
           8.06,
           "popular"
          ],
          [
           "Mes Autres Vies de Chien",
           "2019-05-03T00:00:00",
           8.06,
           "popular"
          ],
          [
           "Memories of Murder",
           "2003-04-25T00:00:00",
           8.06,
           "popular"
          ],
          [
           "Oppenheimer",
           "2023-07-19T00:00:00",
           8.058,
           "popular"
          ],
          [
           "Pinocchio par Guillermo del Toro",
           "2022-11-09T00:00:00",
           8.057,
           "popular"
          ],
          [
           "Troupe d'Élite",
           "2007-10-12T00:00:00",
           8.057,
           "popular"
          ],
          [
           "Sherlock Junior",
           "1924-04-17T00:00:00",
           8.057,
           "popular"
          ],
          [
           "Les Figures de l'ombre",
           "2016-12-10T00:00:00",
           8.054,
           "popular"
          ],
          [
           "Ran",
           "1985-06-01T00:00:00",
           8.053,
           "popular"
          ],
          [
           "Elephant Man",
           "1980-10-09T00:00:00",
           8.05,
           "popular"
          ],
          [
           "Lion",
           "2016-11-24T00:00:00",
           8.045,
           "popular"
          ],
          [
           "The Grand Budapest Hotel",
           "2014-02-26T00:00:00",
           8.037,
           "popular"
          ],
          [
           "La Vie des autres",
           "2006-03-23T00:00:00",
           8.035,
           "popular"
          ],
          [
           "Sur ma peau",
           "2018-09-12T00:00:00",
           8.032,
           "popular"
          ],
          [
           "My Name Is Khan",
           "2010-02-10T00:00:00",
           8.032,
           "popular"
          ],
          [
           "Dragons : Retrouvailles",
           "2019-12-03T00:00:00",
           8,
           "popular"
          ],
          [
           "Le Loup de Wall Street",
           "2013-12-25T00:00:00",
           8.028,
           "popular"
          ],
          [
           "Un Cœur à l'envers",
           "2010-08-06T00:00:00",
           8,
           "popular"
          ],
          [
           "L'Arnaque",
           "1973-12-25T00:00:00",
           8.027,
           "popular"
          ],
          [
           "Les Quatre Cents Coups",
           "1959-06-03T00:00:00",
           8.026,
           "popular"
          ],
          [
           "Amadeus",
           "1984-09-19T00:00:00",
           8.024,
           "popular"
          ],
          [
           "…Et pour quelques dollars de plus",
           "1965-12-18T00:00:00",
           8.018,
           "popular"
          ],
          [
           "Le crime était presque parfait",
           "1954-05-29T00:00:00",
           8.018,
           "popular"
          ],
          [
           "Le Chant de la mer",
           "2014-06-23T00:00:00",
           8.014,
           "popular"
          ],
          [
           "Requiem for a Dream",
           "2000-10-06T00:00:00",
           8.015,
           "popular"
          ],
          [
           "Hatchi",
           "2009-06-08T00:00:00",
           8.012,
           "popular"
          ],
          [
           "Harry Potter et le Prisonnier d'Azkaban",
           "2004-05-31T00:00:00",
           8.012,
           "popular"
          ],
          [
           "Mary",
           "2017-04-07T00:00:00",
           8.007,
           "popular"
          ],
          [
           "American Beauty",
           "1999-09-15T00:00:00",
           8.007,
           "popular"
          ],
          [
           "Barry Lyndon",
           "1975-12-18T00:00:00",
           8.005,
           "popular"
          ],
          [
           "Jojo Rabbit",
           "2019-10-18T00:00:00",
           8.004,
           "popular"
          ],
          [
           "Le Mans 66",
           "2019-11-13T00:00:00",
           8.004,
           "popular"
          ],
          [
           "Room",
           "2015-10-16T00:00:00",
           8.004,
           "popular"
          ],
          [
           "Kill Bill : The Whole Bloody Affair",
           "2011-03-27T00:00:00",
           8,
           "popular"
          ],
          [
           "3 Idiots",
           "2009-12-23T00:00:00",
           7.997,
           "popular"
          ],
          [
           "Les Enfants du temps",
           "2019-06-19T00:00:00",
           8,
           "popular"
          ],
          [
           "Casino",
           "1995-11-22T00:00:00",
           7.999,
           "popular"
          ],
          [
           "Citizen Kane",
           "1941-04-17T00:00:00",
           7.999,
           "popular"
          ],
          [
           "Le Cercle des neiges",
           "2023-12-15T00:00:00",
           7.996,
           "popular"
          ],
          [
           "Love, Simon",
           "2018-02-16T00:00:00",
           7.995,
           "popular"
          ],
          [
           "Imitation Game",
           "2014-11-14T00:00:00",
           7.994,
           "popular"
          ],
          [
           "Lawrence d'Arabie",
           "1962-12-11T00:00:00",
           7.996,
           "popular"
          ],
          [
           "Le Comte de Monte-Cristo",
           "2024-06-28T00:00:00",
           7.992,
           "popular"
          ],
          [
           "La Passion Van Gogh",
           "2017-06-22T00:00:00",
           7.992,
           "popular"
          ],
          [
           "Cruella",
           "2021-05-26T00:00:00",
           7.991,
           "popular"
          ],
          [
           "En un battement de cœur",
           "2017-06-01T00:00:00",
           7.991,
           "popular"
          ],
          [
           "Paperman",
           "2012-11-02T00:00:00",
           7.991,
           "popular"
          ],
          [
           "Voyage au bout de l’enfer",
           "1978-12-08T00:00:00",
           7.991,
           "popular"
          ],
          [
           "Gran Torino",
           "2008-12-12T00:00:00",
           7.99,
           "popular"
          ],
          [
           "Du silence et des ombres",
           "1962-12-20T00:00:00",
           7.99,
           "popular"
          ],
          [
           "Sound of Freedom",
           "2023-07-03T00:00:00",
           7.989,
           "popular"
          ],
          [
           "1917",
           "2019-12-25T00:00:00",
           7.988,
           "popular"
          ],
          [
           "My Dear F***ing Prince",
           "2023-07-27T00:00:00",
           7.989,
           "popular"
          ],
          [
           "Dans ses yeux",
           "2009-08-13T00:00:00",
           7.986,
           "popular"
          ],
          [
           "La Mort aux trousses",
           "1959-07-08T00:00:00",
           7.984,
           "popular"
          ],
          [
           "La Ruée vers l'or",
           "1925-07-13T00:00:00",
           7.984,
           "popular"
          ],
          [
           "Des étoiles sur la terre",
           "2007-12-21T00:00:00",
           7.979,
           "popular"
          ],
          [
           "Arrête-moi si tu peux",
           "2002-12-16T00:00:00",
           7.978,
           "popular"
          ],
          [
           "Bohemian Rhapsody",
           "2018-10-24T00:00:00",
           7.973,
           "popular"
          ],
          [
           "Le Château dans le ciel",
           "1986-08-02T00:00:00",
           7.972,
           "popular"
          ],
          [
           "Kill Bill : Volume 1",
           "2003-10-10T00:00:00",
           7.971,
           "popular"
          ],
          [
           "Toy Story",
           "1995-11-22T00:00:00",
           7.97,
           "popular"
          ],
          [
           "Chungking Express",
           "1994-07-14T00:00:00",
           7.967,
           "popular"
          ],
          [
           "Before Sunrise",
           "1995-01-27T00:00:00",
           8,
           "popular"
          ],
          [
           "Tre uomini e una gamba",
           "1997-12-27T00:00:00",
           7.964,
           "popular"
          ],
          [
           "Trainspotting",
           "1996-02-23T00:00:00",
           7.962,
           "popular"
          ],
          [
           "Là-haut",
           "2009-05-28T00:00:00",
           7.958,
           "popular"
          ],
          [
           "Le Miroir",
           "1975-03-07T00:00:00",
           7.958,
           "popular"
          ],
          [
           "Jurassic Park",
           "1993-06-11T00:00:00",
           7.958,
           "popular"
          ],
          [
           "Million Dollar Baby",
           "2004-12-05T00:00:00",
           7.955,
           "popular"
          ],
          [
           "Le Trésor de la Sierra Madre",
           "1948-01-15T00:00:00",
           7.955,
           "popular"
          ],
          [
           "Aliens, le retour",
           "1986-07-18T00:00:00",
           7.954,
           "popular"
          ],
          [
           "Si tu tends l'oreille",
           "1995-07-15T00:00:00",
           7.95,
           "popular"
          ],
          [
           "Pink Floyd : The Wall",
           "1982-07-14T00:00:00",
           7.951,
           "popular"
          ],
          [
           "Sixième sens",
           "1999-08-06T00:00:00",
           7.951,
           "popular"
          ],
          [
           "Le Géant de fer",
           "1999-08-06T00:00:00",
           7.95,
           "popular"
          ],
          [
           "Nausicaä de la vallée du vent",
           "1984-03-11T00:00:00",
           7.95,
           "popular"
          ],
          [
           "Le Garçon et la Bête",
           "2015-07-11T00:00:00",
           7.9,
           "popular"
          ],
          [
           "No Country for Old Men",
           "2007-06-13T00:00:00",
           7.947,
           "popular"
          ],
          [
           "La Grande Évasion",
           "1963-07-03T00:00:00",
           7.946,
           "popular"
          ],
          [
           "Spider-Man : No Way Home",
           "2021-12-15T00:00:00",
           7.943,
           "popular"
          ],
          [
           "Braveheart",
           "1995-05-24T00:00:00",
           7.943,
           "popular"
          ],
          [
           "La Corde",
           "1948-03-11T00:00:00",
           7.943,
           "popular"
          ],
          [
           "Le Mécano de la Générale",
           "1926-12-25T00:00:00",
           7.941,
           "popular"
          ],
          [
           "Akira",
           "1988-06-10T00:00:00",
           7.941,
           "popular"
          ],
          [
           "Blade Runner",
           "1982-06-25T00:00:00",
           7.941,
           "popular"
          ],
          [
           "12 Years a Slave",
           "2013-10-18T00:00:00",
           7.938,
           "popular"
          ],
          [
           "Les Gardiens de la Galaxie : Volume 3",
           "2023-05-03T00:00:00",
           7.9,
           "popular"
          ],
          [
           "Souvenirs de Marnie",
           "2014-07-19T00:00:00",
           7.935,
           "popular"
          ],
          [
           "Avant toi",
           "2016-06-01T00:00:00",
           7.931,
           "popular"
          ],
          [
           "Le Facteur",
           "1994-04-07T00:00:00",
           7.9,
           "popular"
          ],
          [
           "La Grande Vadrouille",
           "1966-12-08T00:00:00",
           7.931,
           "popular"
          ],
          [
           "Ghost in the Shell",
           "1995-11-18T00:00:00",
           7.93,
           "popular"
          ],
          [
           "Autant en emporte le vent",
           "1939-12-15T00:00:00",
           7.93,
           "popular"
          ],
          [
           "Batman : The Dark Knight Returns, Part 2",
           "2013-01-03T00:00:00",
           7.927,
           "popular"
          ],
          [
           "Le Cabinet du docteur Caligari",
           "1920-02-27T00:00:00",
           7.928,
           "popular"
          ],
          [
           "Écrire pour exister",
           "2007-01-05T00:00:00",
           7.926,
           "popular"
          ],
          [
           "Raging Bull",
           "1980-11-14T00:00:00",
           7.925,
           "popular"
          ],
          [
           "Les Aventuriers de l'arche perdue",
           "1981-06-12T00:00:00",
           7.925,
           "popular"
          ],
          [
           "Nobody",
           "2021-03-18T00:00:00",
           7.923,
           "popular"
          ],
          [
           "Les Diaboliques",
           "1955-01-29T00:00:00",
           7.922,
           "popular"
          ],
          [
           "Dallas Buyers Club",
           "2013-11-01T00:00:00",
           7.92,
           "popular"
          ],
          [
           "Tokyo Godfathers",
           "2003-12-05T00:00:00",
           7.92,
           "popular"
          ],
          [
           "Heat",
           "1995-12-15T00:00:00",
           7.92,
           "popular"
          ],
          [
           "Suzume",
           "2022-11-11T00:00:00",
           7.919,
           "popular"
          ],
          [
           "Le Troisième Homme",
           "1949-08-31T00:00:00",
           7.92,
           "popular"
          ],
          [
           "Chinatown",
           "1974-06-20T00:00:00",
           7.918,
           "popular"
          ],
          [
           "CODA",
           "2021-08-13T00:00:00",
           7.917,
           "popular"
          ],
          [
           "Il était Temps",
           "2013-09-04T00:00:00",
           7.9,
           "popular"
          ],
          [
           "Trois couleurs : Rouge",
           "1994-05-12T00:00:00",
           7.914,
           "popular"
          ],
          [
           "Impitoyable",
           "1992-08-07T00:00:00",
           7.914,
           "popular"
          ],
          [
           "Qu'est-il arrivé à Baby Jane ?",
           "1962-10-31T00:00:00",
           7.913,
           "popular"
          ],
          [
           "Le Fabuleux Destin d'Amélie Poulain",
           "2001-04-25T00:00:00",
           7.9,
           "popular"
          ],
          [
           "Le Voyage dans la Lune",
           "1902-06-15T00:00:00",
           7.912,
           "popular"
          ],
          [
           "Vice-versa",
           "2015-06-17T00:00:00",
           7.912,
           "popular"
          ],
          [
           "La strada",
           "1954-09-23T00:00:00",
           7.909,
           "popular"
          ],
          [
           "Un chat pour la vie",
           "2016-11-04T00:00:00",
           7.908,
           "popular"
          ],
          [
           "Free Solo",
           "2018-09-28T00:00:00",
           7.907,
           "popular"
          ],
          [
           "Mulan",
           "1998-06-18T00:00:00",
           7.906,
           "popular"
          ],
          [
           "Les Gardiens de la Galaxie",
           "2014-07-30T00:00:00",
           7.905,
           "popular"
          ],
          [
           "Au nom du père",
           "1993-12-12T00:00:00",
           7.905,
           "popular"
          ],
          [
           "Titanic",
           "1997-11-18T00:00:00",
           7.905,
           "popular"
          ],
          [
           "Amarcord",
           "1973-12-18T00:00:00",
           7.904,
           "popular"
          ],
          [
           "Le Retour du Jedi",
           "1983-05-25T00:00:00",
           7.904,
           "popular"
          ],
          [
           "Loin de moi, près de toi",
           "2020-06-18T00:00:00",
           7.903,
           "popular"
          ],
          [
           "Harry Potter à l'école des sorciers",
           "2001-11-16T00:00:00",
           7.902,
           "popular"
          ],
          [
           "Dragon Ball Super - Broly",
           "2018-12-14T00:00:00",
           7.901,
           "popular"
          ],
          [
           "La La Land",
           "2016-12-01T00:00:00",
           7.9,
           "popular"
          ],
          [
           "Le Garçon qui dompta le vent",
           "2019-02-14T00:00:00",
           7.9,
           "popular"
          ],
          [
           "V pour Vendetta",
           "2006-02-23T00:00:00",
           7.899,
           "popular"
          ],
          [
           "Sur les quais",
           "1954-06-22T00:00:00",
           7.9,
           "popular"
          ],
          [
           "My Hero Academia : Two Heroes",
           "2018-08-03T00:00:00",
           7.897,
           "popular"
          ],
          [
           "Forgotten",
           "2017-11-29T00:00:00",
           7.898,
           "popular"
          ],
          [
           "Captain Fantastic",
           "2016-07-08T00:00:00",
           7.895,
           "popular"
          ],
          [
           "Rebecca",
           "1940-03-23T00:00:00",
           7.895,
           "popular"
          ],
          [
           "Dogman",
           "2023-09-27T00:00:00",
           7.894,
           "popular"
          ],
          [
           "Dangal",
           "2016-12-21T00:00:00",
           7.894,
           "popular"
          ],
          [
           "Coraline",
           "2009-02-05T00:00:00",
           7.894,
           "popular"
          ],
          [
           "Dragon Ball Super : Super Hero",
           "2022-06-11T00:00:00",
           7.892,
           "popular"
          ],
          [
           "N'oublie jamais",
           "2004-05-25T00:00:00",
           7.891,
           "popular"
          ],
          [
           "À la recherche du bonheur",
           "2006-12-14T00:00:00",
           7.891,
           "popular"
          ],
          [
           "Le Dragon-Génie",
           "2021-01-15T00:00:00",
           7.89,
           "popular"
          ],
          [
           "Persepolis",
           "2007-06-27T00:00:00",
           7.89,
           "popular"
          ],
          [
           "Ben-Hur",
           "1959-11-18T00:00:00",
           7.89,
           "popular"
          ],
          [
           "Gone Girl",
           "2014-10-01T00:00:00",
           7.889,
           "popular"
          ],
          [
           "Ron débloque",
           "2021-10-14T00:00:00",
           7.888,
           "popular"
          ],
          [
           "La Ligue des Justiciers : Le Paradoxe Flashpoint",
           "2013-07-30T00:00:00",
           7.887,
           "popular"
          ],
          [
           "Une séparation",
           "2011-02-15T00:00:00",
           7.887,
           "popular"
          ],
          [
           "Vacances romaines",
           "1953-08-26T00:00:00",
           7.884,
           "popular"
          ],
          [
           "Les Mitchell contre les machines",
           "2021-04-22T00:00:00",
           7.882,
           "popular"
          ],
          [
           "Il était une fois le Bronx",
           "1993-10-01T00:00:00",
           7.877,
           "popular"
          ],
          [
           "Treize vies",
           "2022-07-18T00:00:00",
           7.877,
           "popular"
          ],
          [
           "The Greatest Showman",
           "2017-12-20T00:00:00",
           7.9,
           "popular"
          ],
          [
           "Kill Bill : Volume 2",
           "2004-04-16T00:00:00",
           7.875,
           "popular"
          ],
          [
           "Frankenstein Junior",
           "1974-12-15T00:00:00",
           7.873,
           "popular"
          ],
          [
           "Nimona",
           "2023-06-23T00:00:00",
           7.872,
           "popular"
          ],
          [
           "Mary et Max.",
           "2009-04-09T00:00:00",
           7.872,
           "popular"
          ],
          [
           "Dancer in the Dark",
           "2000-09-01T00:00:00",
           7.868,
           "popular"
          ],
          [
           "La Nuit du chasseur",
           "1955-07-27T00:00:00",
           7.87,
           "popular"
          ],
          [
           "Les Nouveaux Sauvages",
           "2014-08-21T00:00:00",
           7.866,
           "popular"
          ],
          [
           "Les Filles du docteur March",
           "2019-12-25T00:00:00",
           7.865,
           "popular"
          ],
          [
           "Perfetti sconosciuti",
           "2016-02-11T00:00:00",
           7.862,
           "popular"
          ],
          [
           "Sing Street",
           "2016-03-11T00:00:00",
           7.862,
           "popular"
          ],
          [
           "Friends : Les Retrouvailles",
           "2021-05-27T00:00:00",
           7.859,
           "popular"
          ],
          [
           "La voie de la justice",
           "2019-12-25T00:00:00",
           7.857,
           "popular"
          ],
          [
           "Stand by Me",
           "1986-08-08T00:00:00",
           7.856,
           "popular"
          ],
          [
           "La Chute",
           "2004-09-16T00:00:00",
           7.855,
           "popular"
          ],
          [
           "Un homme d'exception",
           "2001-12-14T00:00:00",
           7.855,
           "popular"
          ],
          [
           "Fargo",
           "1996-03-08T00:00:00",
           7.853,
           "popular"
          ],
          [
           "L'Île aux chiens",
           "2018-03-23T00:00:00",
           7.851,
           "popular"
          ],
          [
           "Monsieur Smith au Sénat",
           "1939-10-19T00:00:00",
           7.851,
           "popular"
          ],
          [
           "Autopsie d'un meurtre",
           "1959-07-01T00:00:00",
           7.851,
           "popular"
          ],
          [
           "Indiana Jones et la dernière croisade",
           "1989-05-24T00:00:00",
           7.851,
           "popular"
          ],
          [
           "Une Affaire de famille",
           "2018-06-02T00:00:00",
           7.8,
           "popular"
          ],
          [
           "Tous en scène 2",
           "2021-12-01T00:00:00",
           7.849,
           "popular"
          ],
          [
           "Her",
           "2013-12-18T00:00:00",
           7.849,
           "popular"
          ],
          [
           "Dragons",
           "2010-03-18T00:00:00",
           7.847,
           "popular"
          ],
          [
           "Finch",
           "2021-11-04T00:00:00",
           7.846,
           "popular"
          ],
          [
           "Danse avec les loups",
           "1990-03-30T00:00:00",
           7.846,
           "popular"
          ],
          [
           "Sherlock : L'Effroyable Mariée",
           "2016-01-01T00:00:00",
           7.846,
           "popular"
          ],
          [
           "Blackfish",
           "2013-06-07T00:00:00",
           7.845,
           "popular"
          ],
          [
           "Warrior",
           "2011-09-09T00:00:00",
           7.845,
           "popular"
          ],
          [
           "Monstres & Cie",
           "2001-11-01T00:00:00",
           7.845,
           "popular"
          ],
          [
           "Un après-midi de chien",
           "1975-09-21T00:00:00",
           7.844,
           "popular"
          ],
          [
           "À couteaux tirés",
           "2019-11-27T00:00:00",
           7.843,
           "popular"
          ],
          [
           "Le Gangster, le flic et l'assassin",
           "2019-05-15T00:00:00",
           7.842,
           "popular"
          ],
          [
           "Une merveilleuse histoire du temps",
           "2014-11-07T00:00:00",
           7.842,
           "popular"
          ],
          [
           "Au revoir là-haut",
           "2017-10-25T00:00:00",
           7.84,
           "popular"
          ],
          [
           "The Big Lebowski",
           "1998-03-06T00:00:00",
           7.838,
           "popular"
          ],
          [
           "L'Étrange Noël de monsieur Jack",
           "1993-10-09T00:00:00",
           7.834,
           "popular"
          ],
          [
           "L'Impasse",
           "1993-11-10T00:00:00",
           7.833,
           "popular"
          ],
          [
           "Raya et le Dernier Dragon",
           "2021-03-03T00:00:00",
           7.832,
           "popular"
          ],
          [
           "New York - Miami",
           "1934-02-22T00:00:00",
           7.832,
           "popular"
          ],
          [
           "Pour une poignée de dollars",
           "1964-09-12T00:00:00",
           7.832,
           "popular"
          ],
          [
           "Papillon",
           "1973-12-16T00:00:00",
           7.831,
           "popular"
          ],
          [
           "Ratatouille",
           "2007-06-28T00:00:00",
           7.829,
           "popular"
          ],
          [
           "Troupe d'Élite : l'Ennemi Intérieur",
           "2010-10-08T00:00:00",
           7.827,
           "popular"
          ],
          [
           "Le Garçon au pyjama rayé",
           "2008-05-07T00:00:00",
           7.827,
           "popular"
          ],
          [
           "Kiki la petite sorcière",
           "1989-07-29T00:00:00",
           7.826,
           "popular"
          ],
          [
           "Rosemary's Baby",
           "1968-06-12T00:00:00",
           7.824,
           "popular"
          ],
          [
           "Les Raisins de la colère",
           "1940-03-15T00:00:00",
           7.822,
           "popular"
          ],
          [
           "Logan",
           "2017-02-28T00:00:00",
           7.821,
           "popular"
          ],
          [
           "Locataires",
           "2004-10-15T00:00:00",
           7.821,
           "popular"
          ],
          [
           "Love, Rosie",
           "2014-10-16T00:00:00",
           7.82,
           "popular"
          ],
          [
           "The Best Offer",
           "2013-01-01T00:00:00",
           7.82,
           "popular"
          ],
          [
           "Infernal Affairs",
           "2002-12-12T00:00:00",
           7.815,
           "popular"
          ],
          [
           "Network : Main basse sur la télévision",
           "1976-11-14T00:00:00",
           7.817,
           "popular"
          ],
          [
           "Le Monde de Nemo",
           "2003-05-30T00:00:00",
           7.816,
           "popular"
          ],
          [
           "Spotlight",
           "2015-11-06T00:00:00",
           7.815,
           "popular"
          ],
          [
           "Midnight Sun",
           "2018-03-22T00:00:00",
           7.814,
           "popular"
          ],
          [
           "Paprika",
           "2006-10-01T00:00:00",
           7.8,
           "popular"
          ],
          [
           "Rio Bravo",
           "1959-03-18T00:00:00",
           7.813,
           "popular"
          ],
          [
           "Snatch, tu braques ou tu raques",
           "2000-09-01T00:00:00",
           7.814,
           "popular"
          ],
          [
           "The Whale",
           "2022-12-09T00:00:00",
           7.812,
           "popular"
          ],
          [
           "Le Pont de la rivière Kwaï",
           "1957-10-11T00:00:00",
           7.812,
           "popular"
          ],
          [
           "Pirates des Caraïbes : La Malédiction du Black Pearl",
           "2003-07-09T00:00:00",
           7.811,
           "popular"
          ],
          [
           "Fantastic Mr. Fox",
           "2009-10-14T00:00:00",
           7.81,
           "popular"
          ],
          [
           "Mulholland Drive",
           "2001-06-06T00:00:00",
           7.81,
           "popular"
          ],
          [
           "Mr. Nobody",
           "2009-11-06T00:00:00",
           7.808,
           "popular"
          ],
          [
           "Before Sunset",
           "2004-06-16T00:00:00",
           7.8,
           "popular"
          ],
          [
           "Wallace & Gromit : Un mauvais pantalon",
           "1993-12-17T00:00:00",
           7.805,
           "popular"
          ],
          [
           "Luca",
           "2021-06-17T00:00:00",
           7.803,
           "popular"
          ],
          [
           "L'Homme qui tua Liberty Valance",
           "1962-04-13T00:00:00",
           7.804,
           "popular"
          ],
          [
           "Monty Python : Sacré Graal !",
           "1975-04-03T00:00:00",
           7.804,
           "popular"
          ]
         ],
         "hovertemplate": "category=%{customdata[3]}<br>x=%{x}<br>y=%{y}<br>title=%{customdata[0]}<br>release_date=%{customdata[1]}<br>vote_average=%{customdata[2]}<br>cluster=%{marker.color}<extra></extra>",
         "legendgroup": "popular",
         "marker": {
          "color": {
           "bdata": "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",
           "dtype": "i4"
          },
          "coloraxis": "coloraxis",
          "symbol": "circle"
         },
         "mode": "markers",
         "name": "popular",
         "orientation": "v",
         "showlegend": true,
         "type": "scatter",
         "x": {
          "bdata": "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",
          "dtype": "f4"
         },
         "xaxis": "x",
         "y": {
          "bdata": "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",
          "dtype": "f4"
         },
         "yaxis": "y"
        },
        {
         "customdata": [
          [
           "Ballerina",
           "2025-06-04T00:00:00",
           7.158,
           "recent"
          ],
          [
           "Thunderbolts*",
           "2025-04-30T00:00:00",
           7.47,
           "recent"
          ],
          [
           "Destination finale : Bloodlines",
           "2025-05-14T00:00:00",
           7.206,
           "recent"
          ],
          [
           "The Old Guard 2",
           "2025-07-01T00:00:00",
           6,
           "recent"
          ],
          [
           "Lilo & Stitch",
           "2025-05-17T00:00:00",
           7.114,
           "recent"
          ],
          [
           "First Shift",
           "2024-08-30T00:00:00",
           5.615,
           "recent"
          ],
          [
           "F1® Le Film",
           "2025-06-25T00:00:00",
           7.69,
           "recent"
          ],
          [
           "Dragons",
           "2025-06-06T00:00:00",
           7.929,
           "recent"
          ],
          [
           "Heads of State",
           "2025-06-24T00:00:00",
           7.204,
           "recent"
          ],
          [
           "Jurassic World : Renaissance",
           "2025-07-01T00:00:00",
           6.659,
           "recent"
          ],
          [
           "KPop Demon Hunters",
           "2025-06-20T00:00:00",
           8.6,
           "recent"
          ],
          [
           "Ice Road: Vengeance",
           "2025-06-27T00:00:00",
           6.633,
           "recent"
          ],
          [
           "The Twisters",
           "2024-06-28T00:00:00",
           5.95,
           "recent"
          ],
          [
           "Squid Game : Le making-of de la saison 2",
           "2025-01-02T00:00:00",
           8.5,
           "recent"
          ],
          [
           "Long Distance",
           "2024-07-12T00:00:00",
           6.4,
           "recent"
          ],
          [
           "Substitution - Bring Her Back",
           "2025-05-28T00:00:00",
           7.052,
           "recent"
          ],
          [
           "The Ritual – L’Exorcisme d’Emma Schmidt",
           "2025-05-27T00:00:00",
           6.03,
           "recent"
          ],
          [
           "28 Ans plus tard",
           "2025-06-18T00:00:00",
           7.2,
           "recent"
          ],
          [
           "Kuang Bao Ju Xi",
           "2024-03-27T00:00:00",
           6.25,
           "recent"
          ],
          [
           "Minecraft, le film",
           "2025-03-31T00:00:00",
           6.468,
           "recent"
          ],
          [
           "Squid Game: Feu de cheminée",
           "2024-12-12T00:00:00",
           7.029,
           "recent"
          ],
          [
           "The Amateur",
           "2025-04-09T00:00:00",
           7.008,
           "recent"
          ],
          [
           "鬼吹灯：献王虫谷",
           "2023-09-22T00:00:00",
           6.7,
           "recent"
          ],
          [
           "Diablo",
           "2025-06-13T00:00:00",
           7.108,
           "recent"
          ],
          [
           "M3GAN 2.0",
           "2025-06-25T00:00:00",
           7.2,
           "recent"
          ],
          [
           "Fear Cabin: The Last Weekend of Summer",
           "2024-09-27T00:00:00",
           9,
           "recent"
          ],
          [
           "Sinners",
           "2025-04-16T00:00:00",
           7.573,
           "recent"
          ],
          [
           "Mission: Impossible - The Final Reckoning",
           "2025-05-17T00:00:00",
           7.2,
           "recent"
          ],
          [
           "Злой город",
           "2025-01-30T00:00:00",
           7.467,
           "recent"
          ],
          [
           "Predator : Killer of Killers",
           "2025-06-05T00:00:00",
           7.977,
           "recent"
          ],
          [
           "xXx",
           "2002-08-09T00:00:00",
           5.946,
           "recent"
          ],
          [
           "À bout",
           "2025-06-05T00:00:00",
           7.953,
           "recent"
          ],
          [
           "室町無頼",
           "2025-01-17T00:00:00",
           9.1,
           "recent"
          ],
          [
           "Open",
           "2025-06-14T00:00:00",
           7.667,
           "recent"
          ],
          [
           "Mr Wolff 2",
           "2025-04-23T00:00:00",
           7.199,
           "recent"
          ],
          [
           "Les Coulisses de Squid Game : Le défi",
           "2023-12-06T00:00:00",
           7.811,
           "recent"
          ],
          [
           "A Working Man",
           "2025-03-26T00:00:00",
           6.695,
           "recent"
          ],
          [
           "女高生トリオ 性感試験",
           "1977-02-23T00:00:00",
           6.5,
           "recent"
          ],
          [
           "28 Jours plus tard",
           "2002-10-31T00:00:00",
           7.234,
           "recent"
          ],
          [
           "లైలా",
           "2025-02-14T00:00:00",
           5.8,
           "recent"
          ],
          [
           "缉恶",
           "2024-07-18T00:00:00",
           7.2,
           "recent"
          ],
          [
           "Deep Cover",
           "2025-06-12T00:00:00",
           6.714,
           "recent"
          ],
          [
           "K.O.",
           "2025-06-05T00:00:00",
           6.592,
           "recent"
          ],
          [
           "Bienvenue à Utopia",
           "2024-12-09T00:00:00",
           5.488,
           "recent"
          ],
          [
           "Blanche Neige",
           "2025-03-12T00:00:00",
           4.293,
           "recent"
          ],
          [
           "The Phoenician Scheme",
           "2025-05-23T00:00:00",
           6.854,
           "recent"
          ],
          [
           "Captain America : Brave New World",
           "2025-02-12T00:00:00",
           6.06,
           "recent"
          ],
          [
           "Kayara",
           "2025-01-02T00:00:00",
           7.697,
           "recent"
          ],
          [
           "The Roundup: Punishment",
           "2024-04-24T00:00:00",
           7.009,
           "recent"
          ],
          [
           "Ligaw",
           "2025-05-09T00:00:00",
           10,
           "recent"
          ],
          [
           "Vaiana 2",
           "2024-11-21T00:00:00",
           7.1,
           "recent"
          ],
          [
           "Squid Game : Conversation",
           "2025-06-26T00:00:00",
           7.5,
           "recent"
          ],
          [
           "Victoria",
           "2021-01-16T00:00:00",
           8.5,
           "recent"
          ],
          [
           "Mikaela",
           "2025-01-31T00:00:00",
           6.3,
           "recent"
          ],
          [
           "Life After Fighting",
           "2024-06-07T00:00:00",
           7.067,
           "recent"
          ],
          [
           "La Nuit des Clowns",
           "2025-05-08T00:00:00",
           6.3,
           "recent"
          ],
          [
           "Superman",
           "2025-07-09T00:00:00",
           0,
           "recent"
          ],
          [
           "Warfare",
           "2025-04-09T00:00:00",
           7.155,
           "recent"
          ],
          [
           "À contre-sens",
           "2023-06-08T00:00:00",
           7.798,
           "recent"
          ],
          [
           "Belyas",
           "2025-02-07T00:00:00",
           7.125,
           "recent"
          ],
          [
           "Sonic 3, le film",
           "2024-12-19T00:00:00",
           7.704,
           "recent"
          ],
          [
           "Continente",
           "2024-07-18T00:00:00",
           6,
           "recent"
          ],
          [
           "Shadow Force",
           "2025-05-01T00:00:00",
           6.3,
           "recent"
          ],
          [
           "Possessions",
           "2024-04-12T00:00:00",
           5.313,
           "recent"
          ],
          [
           "Karate Kid: Legends",
           "2025-05-08T00:00:00",
           6.9,
           "recent"
          ],
          [
           "Dragons 2",
           "2014-06-05T00:00:00",
           7.676,
           "recent"
          ],
          [
           "Jurassic World : Le Monde d’après",
           "2022-06-01T00:00:00",
           6.661,
           "recent"
          ],
          [
           "Snow White",
           "2025-03-07T00:00:00",
           6.909,
           "recent"
          ],
          [
           "Les Mondes de Ralph",
           "2012-11-01T00:00:00",
           7.346,
           "recent"
          ],
          [
           "Dragons 3 : Le monde caché",
           "2019-01-03T00:00:00",
           7.752,
           "recent"
          ],
          [
           "Until Dawn : La Mort sans fin",
           "2025-04-23T00:00:00",
           6.587,
           "recent"
          ],
          [
           "The Old Guard",
           "2020-07-09T00:00:00",
           7.134,
           "recent"
          ],
          [
           "새엄마의 욕망",
           "2020-05-29T00:00:00",
           7.3,
           "recent"
          ],
          [
           "映画 ギヴン 海へ",
           "2024-09-20T00:00:00",
           9.3,
           "recent"
          ],
          [
           "Vice-versa 2",
           "2024-06-11T00:00:00",
           7.555,
           "recent"
          ],
          [
           "性教育ママ",
           "1973-11-20T00:00:00",
           6.6,
           "recent"
          ],
          [
           "The Gorge",
           "2025-02-13T00:00:00",
           7.715,
           "recent"
          ],
          [
           "Marriage Unplugged",
           "2024-10-28T00:00:00",
           8,
           "recent"
          ],
          [
           "Mufasa : Le Roi Lion",
           "2024-12-18T00:00:00",
           7.4,
           "recent"
          ],
          [
           "28 Semaines plus tard",
           "2007-04-26T00:00:00",
           6.617,
           "recent"
          ],
          [
           "വിക്ടോറിയ",
           "2024-12-14T00:00:00",
           7.5,
           "recent"
          ],
          [
           "In the Lost Lands",
           "2025-02-27T00:00:00",
           6.5,
           "recent"
          ],
          [
           "Deadpool & Wolverine",
           "2024-07-24T00:00:00",
           7.6,
           "recent"
          ],
          [
           "À contre-sens 2",
           "2024-12-26T00:00:00",
           7.141,
           "recent"
          ],
          [
           "Kung Fu Panda 4",
           "2024-03-02T00:00:00",
           7.059,
           "recent"
          ],
          [
           "Jurassic World : Fallen Kingdom",
           "2018-06-06T00:00:00",
           6.542,
           "recent"
          ],
          [
           "Baby Blue",
           "2023-04-16T00:00:00",
           5,
           "recent"
          ],
          [
           "Des jours plus belles que la nuit",
           "2009-10-10T00:00:00",
           5.9,
           "recent"
          ],
          [
           "La Femme publique",
           "1984-06-16T00:00:00",
           6.19,
           "recent"
          ],
          [
           "The Monkey",
           "2025-02-14T00:00:00",
           5.965,
           "recent"
          ],
          [
           "Kuća od blata",
           "2024-10-10T00:00:00",
           5.8,
           "recent"
          ],
          [
           "Moi, moche et méchant 4",
           "2024-06-20T00:00:00",
           7.04,
           "recent"
          ],
          [
           "Avengers",
           "2012-04-25T00:00:00",
           7.768,
           "recent"
          ],
          [
           "Les 4 Fantastiques : Premiers pas",
           "2025-07-23T00:00:00",
           0,
           "recent"
          ],
          [
           "Ne Zha 2",
           "2025-01-29T00:00:00",
           8.1,
           "recent"
          ],
          [
           "Hola Frida!",
           "2025-02-12T00:00:00",
           7.182,
           "recent"
          ],
          [
           "The Long Game",
           "2024-04-12T00:00:00",
           7.048,
           "recent"
          ],
          [
           "Venom : The Last Dance",
           "2024-10-22T00:00:00",
           6.7,
           "recent"
          ],
          [
           "Jurassic World",
           "2015-06-06T00:00:00",
           6.697,
           "recent"
          ],
          [
           "Lilo et Stitch",
           "2002-06-21T00:00:00",
           7.6,
           "recent"
          ],
          [
           "The Ugly Stepsister",
           "2025-03-07T00:00:00",
           7.2,
           "recent"
          ],
          [
           "Bambi, l'histoire d'une vie dans les bois",
           "2024-10-16T00:00:00",
           5.9,
           "recent"
          ],
          [
           "Les Linceuls",
           "2025-04-03T00:00:00",
           5.959,
           "recent"
          ],
          [
           "The Substance",
           "2024-09-07T00:00:00",
           7.141,
           "recent"
          ],
          [
           "La Légende d'Ochi",
           "2025-04-18T00:00:00",
           6.4,
           "recent"
          ],
          [
           "सिकंदर",
           "2025-03-29T00:00:00",
           4.818,
           "recent"
          ],
          [
           "M3GAN",
           "2022-12-28T00:00:00",
           7,
           "recent"
          ],
          [
           "Fast & Furious X",
           "2023-05-17T00:00:00",
           7.037,
           "recent"
          ],
          [
           "365 jours : Au lendemain",
           "2022-04-26T00:00:00",
           5.909,
           "recent"
          ],
          [
           "Sorority",
           "2025-06-20T00:00:00",
           6.5,
           "recent"
          ],
          [
           "À contre-sens : Londres",
           "2025-02-12T00:00:00",
           7.442,
           "recent"
          ],
          [
           "RAID 2",
           "2025-05-01T00:00:00",
           5.9,
           "recent"
          ],
          [
           "Companion",
           "2025-01-22T00:00:00",
           7.062,
           "recent"
          ],
          [
           "The Last Stand of Ellen Cole",
           "2024-10-18T00:00:00",
           8.019,
           "recent"
          ],
          [
           "Exterritorial",
           "2025-04-29T00:00:00",
           6.762,
           "recent"
          ],
          [
           "Ravage",
           "2025-04-25T00:00:00",
           6.476,
           "recent"
          ],
          [
           "Daniela Forever",
           "2025-02-21T00:00:00",
           8.3,
           "recent"
          ],
          [
           "Vol à haut risque",
           "2025-01-22T00:00:00",
           6.066,
           "recent"
          ],
          [
           "Box Room",
           "2014-03-08T00:00:00",
           5.8,
           "recent"
          ],
          [
           "Pleasure",
           "2021-10-08T00:00:00",
           6.3,
           "recent"
          ],
          [
           "Your Monster",
           "2024-10-25T00:00:00",
           6.602,
           "recent"
          ],
          [
           "Novocaïne",
           "2025-03-12T00:00:00",
           6.9,
           "recent"
          ],
          [
           "John Wick : Chapitre 4",
           "2023-03-22T00:00:00",
           7.723,
           "recent"
          ],
          [
           "Kraven the Hunter",
           "2024-12-11T00:00:00",
           6.543,
           "recent"
          ],
          [
           "L'état sauvage",
           "2016-10-23T00:00:00",
           5.3,
           "recent"
          ],
          [
           "Road House",
           "2024-03-08T00:00:00",
           6.953,
           "recent"
          ],
          [
           "The Last Rodeo",
           "2025-05-22T00:00:00",
           7.657,
           "recent"
          ],
          [
           "Gladiator II",
           "2024-11-13T00:00:00",
           6.701,
           "recent"
          ],
          [
           "Fear Below",
           "2025-05-02T00:00:00",
           6.5,
           "recent"
          ],
          [
           "Van Gogh par Vincent",
           "2025-03-26T00:00:00",
           6.167,
           "recent"
          ],
          [
           "Brave Citizen",
           "2023-10-25T00:00:00",
           7.049,
           "recent"
          ],
          [
           "Echo Valley",
           "2025-06-13T00:00:00",
           6.523,
           "recent"
          ],
          [
           "Le Monde de Narnia : Le Lion, la sorcière blanche et l'armoire magique",
           "2005-12-07T00:00:00",
           7.133,
           "recent"
          ],
          [
           "Mission : Impossible - Dead Reckoning Partie 1",
           "2023-07-08T00:00:00",
           7.532,
           "recent"
          ],
          [
           "Anora",
           "2024-10-14T00:00:00",
           7,
           "recent"
          ],
          [
           "Death of a Unicorn",
           "2025-03-27T00:00:00",
           6.39,
           "recent"
          ],
          [
           "Barbie",
           "2023-06-18T00:00:00",
           6.972,
           "recent"
          ],
          [
           "Woodwalkers",
           "2024-10-17T00:00:00",
           6.306,
           "recent"
          ],
          [
           "Mon futur moi",
           "2024-09-13T00:00:00",
           6.865,
           "recent"
          ],
          [
           "তান্ডব",
           "2025-06-07T00:00:00",
           8.8,
           "recent"
          ],
          [
           "부부 교환 - 무삭제",
           "2023-03-16T00:00:00",
           9.5,
           "recent"
          ],
          [
           "Wicked",
           "2024-11-20T00:00:00",
           6.9,
           "recent"
          ],
          [
           "Poseída",
           "2025-06-05T00:00:00",
           7.9,
           "recent"
          ],
          [
           "Sauvages",
           "2024-10-16T00:00:00",
           6.9,
           "recent"
          ],
          [
           "My Massive Cock",
           "2022-10-24T00:00:00",
           6.222,
           "recent"
          ],
          [
           "Pídeme lo que quieras",
           "2024-11-29T00:00:00",
           6.243,
           "recent"
          ],
          [
           "Devara: Partie 1",
           "2024-09-26T00:00:00",
           6.964,
           "recent"
          ],
          [
           "Fountain of Youth",
           "2025-05-19T00:00:00",
           6.383,
           "recent"
          ],
          [
           "Párvulos: Hijos Del Apocalipsis",
           "2024-10-18T00:00:00",
           6.6,
           "recent"
          ],
          [
           "Materialists",
           "2025-06-12T00:00:00",
           7.2,
           "recent"
          ],
          [
           "Tin Soldier",
           "2025-05-22T00:00:00",
           4.864,
           "recent"
          ],
          [
           "Wonder Woman",
           "2017-05-30T00:00:00",
           7.216,
           "recent"
          ],
          [
           "劇場版「鬼滅の刃」無限城編 第一章 猗窩座再来",
           "2025-07-18T00:00:00",
           0,
           "recent"
          ],
          [
           "Female Teacher, In Front of the Students",
           "1982-04-09T00:00:00",
           6.404,
           "recent"
          ],
          [
           "Dune : Première partie",
           "2021-09-15T00:00:00",
           7.782,
           "recent"
          ],
          [
           "Alien : Romulus",
           "2024-08-13T00:00:00",
           7.2,
           "recent"
          ],
          [
           "Shrek",
           "2001-05-18T00:00:00",
           7.753,
           "recent"
          ],
          [
           "Avatar : La Voie de l'eau",
           "2022-12-14T00:00:00",
           7.611,
           "recent"
          ],
          [
           "The Family Plan",
           "2023-12-14T00:00:00",
           7.273,
           "recent"
          ],
          [
           "Le Labyrinthe",
           "2014-09-10T00:00:00",
           7.191,
           "recent"
          ],
          [
           "Red One",
           "2024-10-31T00:00:00",
           7.035,
           "recent"
          ],
          [
           "Intimité",
           "2001-01-20T00:00:00",
           6.2,
           "recent"
          ],
          [
           "La Vie devant moi",
           "2025-02-26T00:00:00",
           7.667,
           "recent"
          ],
          [
           "熊猫计划",
           "2024-10-01T00:00:00",
           6.896,
           "recent"
          ],
          [
           "Twilight, chapitre 1 : Fascination",
           "2008-11-20T00:00:00",
           6.287,
           "recent"
          ],
          [
           "Balle perdue 3",
           "2025-05-06T00:00:00",
           6.644,
           "recent"
          ],
          [
           "Rosario",
           "2025-05-01T00:00:00",
           5.7,
           "recent"
          ],
          [
           "Avatar",
           "2009-12-15T00:00:00",
           7.59,
           "recent"
          ],
          [
           "Off the Grid",
           "2025-06-27T00:00:00",
           6.815,
           "recent"
          ],
          [
           "Harry Potter et la Coupe de feu",
           "2005-11-16T00:00:00",
           7.8,
           "recent"
          ],
          [
           "Destination finale",
           "2000-03-17T00:00:00",
           6.625,
           "recent"
          ],
          [
           "Conjuring the Cult",
           "2024-10-01T00:00:00",
           5.588,
           "recent"
          ],
          [
           "Harry Potter et la Chambre des secrets",
           "2002-11-13T00:00:00",
           7.708,
           "recent"
          ],
          [
           "Mickey 17",
           "2025-02-28T00:00:00",
           6.887,
           "recent"
          ],
          [
           "Super Mario Bros. le film",
           "2023-04-05T00:00:00",
           7.62,
           "recent"
          ],
          [
           "The Woman in the Yard",
           "2025-03-27T00:00:00",
           5.953,
           "recent"
          ],
          [
           "Adieu Afrique",
           "1966-02-11T00:00:00",
           6.5,
           "recent"
          ],
          [
           "Cells at work !",
           "2024-12-13T00:00:00",
           7.8,
           "recent"
          ],
          [
           "After - Chapitre 1",
           "2019-04-11T00:00:00",
           7.121,
           "recent"
          ],
          [
           "Guns Up",
           "2025-05-15T00:00:00",
           7.1,
           "recent"
          ],
          [
           "The Haunting at Saint Joseph's",
           "2023-02-26T00:00:00",
           4.5,
           "recent"
          ],
          [
           "En paix avec les requins",
           "2025-06-30T00:00:00",
           7.625,
           "recent"
          ],
          [
           "28 Years Later Part 2: The Bone Temple",
           "2026-01-06T00:00:00",
           0,
           "recent"
          ],
          [
           "Un Homme en colère",
           "2021-04-22T00:00:00",
           7.61,
           "recent"
          ],
          [
           "Rust",
           "2025-05-01T00:00:00",
           6.3,
           "recent"
          ],
          [
           "Saint Catherine",
           "2024-09-24T00:00:00",
           6.7,
           "recent"
          ],
          [
           "Smile 2",
           "2024-10-16T00:00:00",
           6.596,
           "recent"
          ],
          [
           "La Reine des neiges",
           "2013-11-20T00:00:00",
           7.247,
           "recent"
          ],
          [
           "L'alcôve",
           "1985-01-21T00:00:00",
           5.379,
           "recent"
          ],
          [
           "Petit Panda en Afrique",
           "2024-03-15T00:00:00",
           6.9,
           "recent"
          ],
          [
           "Mission : Impossible",
           "1996-05-22T00:00:00",
           7.003,
           "recent"
          ],
          [
           "Cinquante Nuances de Grey",
           "2015-02-11T00:00:00",
           5.885,
           "recent"
          ],
          [
           "Kiff : la légende de l'anneau lumineux",
           "2025-01-21T00:00:00",
           6.9,
           "recent"
          ],
          [
           "Very Bad Trip",
           "2009-06-02T00:00:00",
           7.324,
           "recent"
          ],
          [
           "The Tomorrow War",
           "2021-09-03T00:00:00",
           7.506,
           "recent"
          ],
          [
           "Piégé",
           "2025-03-20T00:00:00",
           6.238,
           "recent"
          ],
          [
           "28 Years Later Part 3",
           null,
           0,
           "recent"
          ],
          [
           "Solo Leveling -ReAwakening-",
           "2024-11-26T00:00:00",
           6.987,
           "recent"
          ],
          [
           "Почему ты?",
           "2024-04-25T00:00:00",
           7.114,
           "recent"
          ],
          [
           "Harry Potter et l'Ordre du Phénix",
           "2007-07-08T00:00:00",
           7.674,
           "recent"
          ],
          [
           "Tornado",
           "2025-05-30T00:00:00",
           6.056,
           "recent"
          ],
          [
           "G20",
           "2025-04-10T00:00:00",
           6.5,
           "recent"
          ],
          [
           "Batman Ninja vs. Les Yakuzas",
           "2025-03-17T00:00:00",
           6.7,
           "recent"
          ],
          [
           "Transformers : Rise of the Beasts",
           "2023-06-06T00:00:00",
           7.224,
           "recent"
          ],
          [
           "Miraculous World : Londres, la course contre le temps",
           "2024-11-14T00:00:00",
           7.386,
           "recent"
          ],
          [
           "Iron Man",
           "2008-04-30T00:00:00",
           7.653,
           "recent"
          ],
          [
           "John Wick 2",
           "2017-02-08T00:00:00",
           7.335,
           "recent"
          ],
          [
           "Harry Potter et le Prince de sang-mêlé",
           "2009-07-15T00:00:00",
           7.684,
           "recent"
          ],
          [
           "The Social Network",
           "2010-10-01T00:00:00",
           7.369,
           "recent"
          ],
          [
           "Conjuring : Les Dossiers Warren",
           "2013-07-18T00:00:00",
           7.539,
           "recent"
          ],
          [
           "Bad Boys : Ride or Die",
           "2024-06-05T00:00:00",
           7.377,
           "recent"
          ],
          [
           "Apocalypse Z : le début de la fin",
           "2024-10-04T00:00:00",
           6.7,
           "recent"
          ],
          [
           "Veuve noire",
           "2025-05-29T00:00:00",
           6.5,
           "recent"
          ],
          [
           "Toy Story 2",
           "1999-10-30T00:00:00",
           7.6,
           "recent"
          ],
          [
           "Les Nouveaux Héros",
           "2014-10-24T00:00:00",
           7.729,
           "recent"
          ],
          [
           "Amaran",
           "2024-10-31T00:00:00",
           7.374,
           "recent"
          ],
          [
           "Mr Wolff",
           "2016-10-13T00:00:00",
           7.127,
           "recent"
          ],
          [
           "Projet Dernière Chance",
           "2026-03-19T00:00:00",
           0,
           "recent"
          ],
          [
           "Kiskisan",
           "2024-09-27T00:00:00",
           6.8,
           "recent"
          ],
          [
           "Spider-Man : Homecoming",
           "2017-07-05T00:00:00",
           7.331,
           "recent"
          ],
          [
           "Adult Best Friends",
           "2024-06-08T00:00:00",
           4.8,
           "recent"
          ],
          [
           "Demon City Oni Goroshi",
           "2025-02-26T00:00:00",
           7.068,
           "recent"
          ],
          [
           "Godzilla x Kong : Le Nouvel Empire",
           "2024-03-27T00:00:00",
           7.087,
           "recent"
          ],
          [
           "Gran Turismo",
           "2023-08-09T00:00:00",
           7.751,
           "recent"
          ],
          [
           "Leurs Enfants après eux",
           "2024-12-04T00:00:00",
           6.449,
           "recent"
          ],
          [
           "Kalakal",
           "2025-06-10T00:00:00",
           8,
           "recent"
          ],
          [
           "Les Temps changent",
           "2025-06-09T00:00:00",
           6.695,
           "recent"
          ],
          [
           "Fury",
           "2014-10-15T00:00:00",
           7.539,
           "recent"
          ],
          [
           "Jamais plus jamais",
           "1983-10-07T00:00:00",
           6.054,
           "recent"
          ],
          [
           "Iron Man 2",
           "2010-04-28T00:00:00",
           6.849,
           "recent"
          ],
          [
           "John Wick : Parabellum",
           "2019-05-15T00:00:00",
           7.442,
           "recent"
          ],
          [
           "Blade Runner 2049",
           "2017-10-04T00:00:00",
           7.583,
           "recent"
          ],
          [
           "おいら女蛮",
           "1992-08-21T00:00:00",
           5.406,
           "recent"
          ],
          [
           "Top Gun",
           "1986-05-16T00:00:00",
           7.063,
           "recent"
          ],
          [
           "Un peu plus de douceur",
           "2025-06-19T00:00:00",
           5.318,
           "recent"
          ],
          [
           "Dernier train pour Busan",
           "2016-07-20T00:00:00",
           7.75,
           "recent"
          ],
          [
           "Cleaner",
           "2025-02-19T00:00:00",
           6.5,
           "recent"
          ],
          [
           "Contre-attaque",
           "2025-02-27T00:00:00",
           8.32,
           "recent"
          ],
          [
           "Les Dents de la mer",
           "1975-06-20T00:00:00",
           7.67,
           "recent"
          ],
          [
           "Harry Potter et les Reliques de la mort - 1ère partie",
           "2010-11-17T00:00:00",
           7.7,
           "recent"
          ],
          [
           "Garfield : Héros malgré lui",
           "2024-04-30T00:00:00",
           7.061,
           "recent"
          ],
          [
           "Raiponce",
           "2010-11-24T00:00:00",
           7.6,
           "recent"
          ],
          [
           "Chespirito: El Niño Que Somos",
           "2001-01-10T00:00:00",
           7.818,
           "recent"
          ],
          [
           "Titan : Le naufrage d'OceanGate",
           "2025-06-06T00:00:00",
           7.101,
           "recent"
          ],
          [
           "Destination finale 2",
           "2003-01-31T00:00:00",
           6.3,
           "recent"
          ],
          [
           "Furiosa : Une saga Mad Max",
           "2024-05-22T00:00:00",
           7.479,
           "recent"
          ],
          [
           "The Batman",
           "2022-03-01T00:00:00",
           7.657,
           "recent"
          ],
          [
           "Venom",
           "2018-09-28T00:00:00",
           6.829,
           "recent"
          ],
          [
           "Plankton : Le film",
           "2025-03-08T00:00:00",
           6.808,
           "recent"
          ],
          [
           "Terrifier 3",
           "2024-10-09T00:00:00",
           6.8,
           "recent"
          ],
          [
           "Spider-Man",
           "2002-05-01T00:00:00",
           7.312,
           "recent"
          ],
          [
           "Voleur de diamant : Le casse commence",
           "2025-04-24T00:00:00",
           6.709,
           "recent"
          ],
          [
           "L'Âge de glace",
           "2002-03-14T00:00:00",
           7.364,
           "recent"
          ],
          [
           "Destination finale 5",
           "2011-08-12T00:00:00",
           6.146,
           "recent"
          ],
          [
           "Equalizer",
           "2014-09-24T00:00:00",
           7.28,
           "recent"
          ],
          [
           "Fight or Flight",
           "2025-04-03T00:00:00",
           6.064,
           "recent"
          ],
          [
           "Deux Sœurs",
           "2024-12-06T00:00:00",
           6.6,
           "recent"
          ],
          [
           "Hotel Desire",
           "2011-12-07T00:00:00",
           6.144,
           "recent"
          ],
          [
           "Mémoires d’un escargot",
           "2024-10-17T00:00:00",
           8.077,
           "recent"
          ],
          [
           "The Prosecutor",
           "2024-12-08T00:00:00",
           7.39,
           "recent"
          ],
          [
           "Mission : Impossible - Fallout",
           "2018-07-25T00:00:00",
           7.443,
           "recent"
          ],
          [
           "Closer",
           "2025-02-06T00:00:00",
           6.092,
           "recent"
          ],
          [
           "Conclave",
           "2024-10-25T00:00:00",
           7.198,
           "recent"
          ],
          [
           "Ghosted",
           "2023-04-18T00:00:00",
           6.945,
           "recent"
          ],
          [
           "Zootopie",
           "2016-02-11T00:00:00",
           7.748,
           "recent"
          ],
          [
           "Playboy Playmate Workout",
           "1983-01-01T00:00:00",
           10,
           "recent"
          ],
          [
           "Black Panther : Wakanda Forever",
           "2022-11-09T00:00:00",
           7.055,
           "recent"
          ],
          [
           "Abigail",
           "2024-04-16T00:00:00",
           6.74,
           "recent"
          ],
          [
           "The Beekeeper",
           "2024-01-08T00:00:00",
           7.305,
           "recent"
          ],
          [
           "La Légende des Héros du Condor",
           "2025-01-29T00:00:00",
           6,
           "recent"
          ],
          [
           "Mission Alarum",
           "2025-01-16T00:00:00",
           5.8,
           "recent"
          ],
          [
           "Les Schtroumpfs",
           "2025-06-30T00:00:00",
           8,
           "recent"
          ],
          [
           "The Flash",
           "2023-06-13T00:00:00",
           6.648,
           "recent"
          ],
          [
           "Batman v Superman : L'Aube de la Justice",
           "2016-03-23T00:00:00",
           5.982,
           "recent"
          ],
          [
           "Juste l'espace entre nous",
           "2025-05-30T00:00:00",
           7.2,
           "recent"
          ],
          [
           "Nosferatu",
           "2024-12-25T00:00:00",
           6.7,
           "recent"
          ],
          [
           "Copains pour toujours",
           "2010-06-24T00:00:00",
           6.396,
           "recent"
          ],
          [
           "Lilo & Stitch 2 : Hawaï, nous avons un problème !",
           "2005-08-22T00:00:00",
           6.7,
           "recent"
          ],
          [
           "Le Hobbit : La Bataille des cinq armées",
           "2014-12-10T00:00:00",
           7.325,
           "recent"
          ],
          [
           "Lolita malgré moi",
           "2004-04-30T00:00:00",
           7.218,
           "recent"
          ],
          [
           "Iron Man 3",
           "2013-04-18T00:00:00",
           6.93,
           "recent"
          ],
          [
           "Shrek 2",
           "2004-05-19T00:00:00",
           7.3,
           "recent"
          ],
          [
           "Le Diable s'habille en Prada",
           "2006-06-29T00:00:00",
           7.394,
           "recent"
          ],
          [
           "Five Nights at Freddy's",
           "2023-10-25T00:00:00",
           7.439,
           "recent"
          ],
          [
           "Nosotros",
           "2025-02-21T00:00:00",
           8.7,
           "recent"
          ],
          [
           "Migration",
           "2023-12-06T00:00:00",
           7.388,
           "recent"
          ],
          [
           "Dirty Angels",
           "2024-12-11T00:00:00",
           6.257,
           "recent"
          ],
          [
           "Love + (Love Positive)",
           "2024-05-18T00:00:00",
           10,
           "recent"
          ],
          [
           "Élémentaire",
           "2023-06-14T00:00:00",
           7.614,
           "recent"
          ],
          [
           "Babygirl",
           "2024-12-25T00:00:00",
           5.753,
           "recent"
          ],
          [
           "Rita",
           "2024-03-22T00:00:00",
           6.688,
           "recent"
          ],
          [
           "Destination finale 3",
           "2006-02-09T00:00:00",
           6.144,
           "recent"
          ],
          [
           "Room in Rome",
           "2010-05-07T00:00:00",
           6.412,
           "recent"
          ],
          [
           "Кракен",
           "2025-04-17T00:00:00",
           7,
           "recent"
          ],
          [
           "Wonder Woman 1984",
           "2020-12-16T00:00:00",
           6.406,
           "recent"
          ],
          [
           "Fast & Furious : Hobbs & Shaw",
           "2019-08-01T00:00:00",
           6.8,
           "recent"
          ],
          [
           "Ne Zha",
           "2019-07-26T00:00:00",
           7.941,
           "recent"
          ],
          [
           "新・ヒロイン危機一髪!!08 神秘戦隊ガイアレンジャー",
           "2016-11-11T00:00:00",
           0,
           "recent"
          ],
          [
           "엄마의 직업",
           "2017-07-27T00:00:00",
           5.654,
           "recent"
          ],
          [
           "야당",
           "2025-04-16T00:00:00",
           7.3,
           "recent"
          ],
          [
           "World War Z",
           "2013-06-19T00:00:00",
           6.821,
           "recent"
          ],
          [
           "痴人の愛",
           "2024-11-29T00:00:00",
           8,
           "recent"
          ],
          [
           "Drop Game",
           "2025-04-10T00:00:00",
           6.456,
           "recent"
          ],
          [
           "John Wick",
           "2014-10-22T00:00:00",
           7.448,
           "recent"
          ],
          [
           "Spider-Man 3",
           "2007-05-01T00:00:00",
           6.439,
           "recent"
          ],
          [
           "Pirates des Caraïbes : Le Secret du coffre maudit",
           "2006-07-06T00:00:00",
           7.367,
           "recent"
          ],
          [
           "Padre no hay más que uno 5: Nido repleto",
           "2025-06-26T00:00:00",
           6.167,
           "recent"
          ],
          [
           "Kung Fu Panda",
           "2008-06-04T00:00:00",
           7.302,
           "recent"
          ],
          [
           "L'Idée d'être avec toi",
           "2024-05-02T00:00:00",
           7.4,
           "recent"
          ],
          [
           "En eaux très troubles",
           "2023-08-02T00:00:00",
           6.4,
           "recent"
          ],
          [
           "Sidonie au Japon",
           "2024-01-11T00:00:00",
           6.5,
           "recent"
          ],
          [
           "Dog Man",
           "2025-01-24T00:00:00",
           7.766,
           "recent"
          ],
          [
           "RE:BORN",
           "2016-09-24T00:00:00",
           7.106,
           "recent"
          ],
          [
           "Prisonnier des abysses",
           "2025-02-27T00:00:00",
           6.982,
           "recent"
          ],
          [
           "Mission : Impossible - Protocole Fantôme",
           "2011-12-07T00:00:00",
           7.101,
           "recent"
          ],
          [
           "The Insider",
           "2025-03-12T00:00:00",
           6.352,
           "recent"
          ],
          [
           "Elevation",
           "2024-11-07T00:00:00",
           6.487,
           "recent"
          ],
          [
           "배달노출: 알몸으로 유혹하기",
           "2020-04-10T00:00:00",
           6.6,
           "recent"
          ],
          [
           "Spider-Man : Far From Home",
           "2019-06-28T00:00:00",
           7.408,
           "recent"
          ],
          [
           "20th Century Girl",
           "2022-10-06T00:00:00",
           8.2,
           "recent"
          ],
          [
           "La Planète des singes : Le Nouveau Royaume",
           "2024-05-08T00:00:00",
           7.067,
           "recent"
          ],
          [
           "Prey",
           "2022-08-02T00:00:00",
           7.686,
           "recent"
          ],
          [
           "Pirates des Caraïbes : Jusqu'au bout du monde",
           "2007-05-19T00:00:00",
           7.26,
           "recent"
          ],
          [
           "Doctor Strange in the Multiverse of Madness",
           "2022-05-04T00:00:00",
           7.258,
           "recent"
          ],
          [
           "가슴 큰 울 엄마",
           "2020-05-06T00:00:00",
           6.25,
           "recent"
          ],
          [
           "Pirates des Caraïbes : La Fontaine de jouvence",
           "2011-05-15T00:00:00",
           6.56,
           "recent"
          ],
          [
           "Malagkit",
           "2025-03-11T00:00:00",
           8,
           "recent"
          ],
          [
           "Paprika",
           "1991-02-13T00:00:00",
           7.1,
           "recent"
          ],
          [
           "À travers ma fenêtre",
           "2022-02-04T00:00:00",
           7.364,
           "recent"
          ]
         ],
         "hovertemplate": "category=%{customdata[3]}<br>x=%{x}<br>y=%{y}<br>title=%{customdata[0]}<br>release_date=%{customdata[1]}<br>vote_average=%{customdata[2]}<br>cluster=%{marker.color}<extra></extra>",
         "legendgroup": "recent",
         "marker": {
          "color": {
           "bdata": "AwAAAAYAAAAAAAAABwAAAAAAAAAAAAAABQAAAAUAAAAIAAAABQAAAAEAAAAJAAAABwAAAAgAAAAAAAAACAAAAAcAAAAJAAAAAQAAAAAAAAAIAAAACAAAAAEAAAAJAAAAAAAAAAEAAAAHAAAACAAAAAEAAAADAAAABwAAAAgAAAABAAAACQAAAAUAAAAAAAAAAAAAAAYAAAAAAAAABgAAAAYAAAAIAAAAAwAAAAAAAAAIAAAAAQAAAAgAAAAAAAAAAAAAAAYAAAAFAAAAAgAAAAUAAAAAAAAAAQAAAAAAAAAFAAAAAAAAAAIAAAAFAAAAAAAAAAYAAAACAAAABQAAAAEAAAAHAAAACQAAAAMAAAAFAAAACQAAAAUAAAAIAAAAAwAAAAgAAAAFAAAAAwAAAAEAAAADAAAAAQAAAAkAAAADAAAAAQAAAAUAAAAGAAAAAAAAAAYAAAAJAAAACQAAAAUAAAADAAAABwAAAAAAAAAIAAAAAwAAAAcAAAACAAAAAwAAAAYAAAABAAAACQAAAAcAAAAGAAAABQAAAAcAAAAEAAAACQAAAAkAAAADAAAAAQAAAAkAAAACAAAAAQAAAAUAAAAEAAAABAAAAAkAAAACAAAABAAAAAQAAAADAAAACQAAAAUAAAAEAAAABgAAAAYAAAADAAAABQAAAAEAAAAIAAAACQAAAAEAAAAAAAAAAQAAAAQAAAAHAAAAAwAAAAUAAAAEAAAABAAAAAIAAAACAAAABQAAAAIAAAACAAAAAgAAAAIAAAACAAAACAAAAAIAAAAEAAAACQAAAAQAAAAHAAAABQAAAAYAAAAGAAAAAgAAAAIAAAAFAAAABwAAAAQAAAABAAAAAgAAAAMAAAAGAAAAAQAAAAYAAAAIAAAABgAAAAkAAAAJAAAABwAAAAMAAAABAAAABwAAAAIAAAAJAAAACAAAAAIAAAAFAAAABwAAAAcAAAAHAAAACQAAAAYAAAABAAAABgAAAAcAAAABAAAACQAAAAMAAAAHAAAABwAAAAYAAAAJAAAACAAAAAEAAAAGAAAAAAAAAAMAAAAHAAAABgAAAAgAAAAHAAAABQAAAAUAAAAEAAAAAwAAAAIAAAAHAAAABwAAAAIAAAAHAAAAAwAAAAUAAAABAAAABgAAAAIAAAAGAAAAAwAAAAYAAAADAAAABwAAAAMAAAAJAAAABQAAAAUAAAAGAAAAAQAAAAkAAAAGAAAABgAAAAUAAAAGAAAABwAAAAMAAAAGAAAAAwAAAAIAAAAIAAAAAQAAAAQAAAAFAAAABwAAAAQAAAAFAAAAAwAAAAMAAAACAAAABQAAAAUAAAACAAAABwAAAAcAAAAGAAAABgAAAAQAAAADAAAAAwAAAAYAAAAHAAAACAAAAAQAAAAJAAAACQAAAAMAAAAJAAAABQAAAAYAAAAFAAAACQAAAAIAAAAHAAAABAAAAAQAAAADAAAAAgAAAAkAAAAHAAAAAgAAAAUAAAACAAAACAAAAAEAAAAAAAAABgAAAAQAAAAJAAAACQAAAAcAAAAJAAAABgAAAAkAAAAEAAAABgAAAAUAAAAEAAAABAAAAAQAAAAIAAAAAQAAAAgAAAAGAAAABgAAAAUAAAADAAAAAAAAAAYAAAAIAAAACQAAAAEAAAAFAAAABwAAAAYAAAACAAAABQAAAAQAAAAFAAAAAgAAAAQAAAADAAAAAQAAAAEAAAAHAAAABQAAAAYAAAAFAAAAAgAAAAIAAAA=",
           "dtype": "i4"
          },
          "coloraxis": "coloraxis",
          "symbol": "diamond"
         },
         "mode": "markers",
         "name": "recent",
         "orientation": "v",
         "showlegend": true,
         "type": "scatter",
         "x": {
          "bdata": "zSSlQFenvECeNJhA6e3BQEozrEC0nrJAyBu6QNcTsEA9KIxA//S8QLyivUBasodAdVq1QLvjeUBa1K1Azz6IQH3jxED5Bo9AqJ7QQBoQo0BhVIZA/u+GQMZcyUA7o4dAhm2UQNru2EBO2LFAQOONQKjH3EAGZZtAjIPBQEMshUCbtttAwNiMQG83rEBBfpRAivqsQLo43ECLhLBAqNLYQAHm1kBAfJBA1+SWQJbNqkDt0ZFAZybWQPjBm0BNRaxAKCanQLQ2wkDBpKtAwxGcQGzAxkDGkJlAL1HeQKwJmEAberRAqridQOsMj0CEnLRAGJKoQF7jzECc6ZxAXKKpQOlu0kDZOrVACcKOQA3npEAIasRAUpSKQJ4/qEBy25BA9eCbQEHOi0Cm8K5Apm6SQHme10Ddn5dA4g/iQEdpjUCDxYFA4hzUQBAwq0DWrsxA4ne0QKm40EDsWH1A/wmCQB5tuUAYQYxAbky8QBY9nUDngZtAXnOWQHyAu0ChnpVAK/qDQCVI0EAxrMZAIcyAQB/L1EAGDdBAKB/JQIltwEA7qXdA/b2LQAIDg0BVG4ZAlPvcQN25XUDeUI9AYffdQDHtvUALYldA0YRxQHpvekCVZaRA8xduQHn3ZUB035NAufVjQCM+v0BvMkpA5CPUQAsK1kDaq5tAQLO0QMGQ3UA5H4pAgWN0QG/H2EANZrRA6QPYQKBYTkCpTbJAlZKPQFVivUBd62pA4MprQBmTl0CRAJRA+UbBQBkSnUAvEJxAK/6jQFocl0DtqqxAlXdjQHshrkC6mltAZvxsQFBmUkBSarlAjYK1QPJ71kCk5N9A3NGvQDkimkBmc8lAVdXEQBL4RUDknNZApzeSQGCBhECGv9FARt/aQL9x5UD+5YVAzbLiQExdZkBDq3NAN0fEQFS1oUDjqOFA0q24QCwSjEA+gn1AqAKHQFTlkECpaadAqGjRQGGgtkCV/ctAZJVrQL5S7UCPIcpAseTfQHZ80kDttt9AGNpbQMXhiEC6JeBAtaHMQMTK3ED9QWBANmx2QKmsu0B9BNxArWS7QAkXeUD3PM9APazRQL8agUCv/8hAI/fAQFTjsUAuwl1AyPGgQMqxh0AjjMxA7QG+QPpKo0AbNNBAOhOFQJq9ykDtE+VAtRLeQOqrrUBj8NZAYyafQJUM0UBBGqBAGBi3QPOxkUCAollAAMzBQNjdrEBPVeFAfLDnQGTnfkAP7ttABazkQA+qt0CGReNA0F3BQM6+okBWiORAYVaVQMUSm0BMDGVAMLfjQF9qV0Cg+K5ARa7YQPaMVEA8KcZAErOXQDqelEBNipJAeVjMQI/3yUATIZlALam+QBUc3kAGmdtAp+TbQFhsSUDknoJAmt+kQEhr3kC+McBAuheDQN8rU0ANwG9AhC1XQAFDiEDdtFJAFUG1QMS14ECxishAcr50QIiCokBx9sRAt3JbQKbPUEDvu3xAv5CvQL6pVUC2rtBAH16hQMfdwEAVjadAI7hgQKV74EClbpRAB+7YQHJpTkBNjHRAyBBfQFSLxkA9wFpA7s/ZQK/aVUA02mVARvffQBlP1ECGj0hA0ONOQFn3VkDtLFtA6k/qQLiWc0DiceVAJE/lQIpMq0Dc5Y1A1gqmQKoV4kDSgFtA81xZQJ3i40ArgcFAiunZQMWp3UA2MLNA+vOyQHCSRkC/56lAhKSSQDQfSkDqj5ZAUAPxQPUK6ECxDtpAjb++QBdW50AJ37hAsamEQEqMnkA=",
          "dtype": "f4"
         },
         "xaxis": "x",
         "y": {
          "bdata": "ei3gQJrh1EBtwsFAInOZQO16xUBVb7lAHAvdQByS50BY/qpARjDcQPdDsUBXvtBA7cKXQABUrkC6wdNAVLqgQDTXnkDmethAQIeqQI02z0A4/bpATDK0QPQhs0Dcc99AEqXEQP1mrkCE4qFApWulQAF3uEDqoddAuY6jQEqruUBcBsRAZFvZQP4s5ECUHLpAGT3ZQE1T0UCYKsRAWODYQJG+10BLWbtAdJngQBcjzED4mbJAcR3HQNvyqkBZOK1AhSiwQO3320AZ8uZAG5ylQFy58kC1fbVAECO6QK7vu0B+JfBAc3bMQCn9j0BimuBAqFK0QIvt5UAYgJ1A/lvmQDo9qEAZ6pxAU0XeQNe19UCo5+lA8uvSQPIg90D+9KtA/8PrQDimpEBhAvdA1cz1QIHJpEA6/e5A/K+kQP0kzkBhxO5AXEKrQMm++UAqid9AIdC1QM9E5kA7MOFAPlzNQFUU9ECN6O5ANsqVQC2vuEBuFKxAmCD1QNHiokD8r5JAMOz1QJQE10BtqrJAXHXnQJ7qoUDHNuVAjFHuQKXVlkCIprVAx8XMQA1/5kAn9v1AbG+zQEvq1UBXfIxA3kjFQMKy8ECvMMVAdLqwQPoj60DCjqJA+mbHQDHYwUDKu+lAr+3hQCqX8EDVL7tALGniQIXH3kBxfv5Auyb9QPCpwEDDebFAKvjrQB7YxEB14qxA9i6sQEjOsEDQtpdABjP4QISL8EBSaq9A2cW3QDLLm0BOnJNAtLL0QKywhkCVqIxA3J6JQDEJnUA5CIRANqueQELVikC0zLNALF3dQILgtkCyDYpAPo39QKyG30Bc49JAnV2DQFBOikBzLe9A1yiRQFqFv0AwG7FAaLyDQC45+EB26uxA1hHFQLig2UCyDo1AhY7PQJ0F4UCKNepA8puWQL5R/UBVULNAHwGEQKqpg0CEouxAgo6QQEqjiEAxJQBBAY6TQHS7hEDGEYxAz+bkQMK6ykCknKtAfq/MQP1okEC7NLJAILbPQFmp+UAx+JtAbJ+KQKux0EA9LdRA9uuWQFqXtECgBeJA76G9QJ5I9UAONIxAgefYQCINj0C6x4lAyCD2QKWt+UATu6dAwN0AQduhiEDNi4lAzzOFQOpFg0CjzqFAjej3QGz29UDmLsFAc+zJQFItgEANyO5Az7X5QH6v8UA9LQJBc0d/QCtl/kB6jttALO3/QArN/kDCPddAyaG3QMHI6UAf3+ZAWNrWQPVEAEF7GM1AGCGEQJzIAUGYMslAQ2f4QE4xhUD0fJ5APOCoQGGjzkCwSeNA8rCSQBkoykBwFAJBlqj8QELB+kAYAYRAVor3QP++/EAmTXtACA19QIJKmECa5/RAl17bQA+FwkBdwvdAjjMAQS+z40BRcIBAkHiQQFFAu0A7CddAKQDZQD0q8ECWdtFAhvEBQaid2kCGFfJAD9fWQLC/fEBP14BAC2rCQO7uyECo3P1Aydx+QF6P2kCkOphAs/J7QKo0AUHDzYZAz5GYQCxVvEAUn8pAPZv2QHYLzkB+zeNA7KPjQJnAhkDdmtRAO/bwQGni4kAjBMBAYG3xQPtWAEGpm8ZAwWGeQLnhqUAvVJ1Axnm8QN09mkDjHeJAqV7TQLimBEGFf/xAZMe2QKBO6EBPE5RAzCfqQAWnrUAahwNBhEecQCrG40AfeXFAdYQDQSG6vUAjBflAjZ98QDR5oUDpfANBLnTFQCjQwkAZioxAs6j/QBvd20B7oANBK2WCQBWBd0A=",
          "dtype": "f4"
         },
         "yaxis": "y"
        }
       ],
       "layout": {
        "coloraxis": {
         "colorbar": {
          "title": {
           "text": "cluster"
          }
         },
         "colorscale": [
          [
           0,
           "#0d0887"
          ],
          [
           0.1111111111111111,
           "#46039f"
          ],
          [
           0.2222222222222222,
           "#7201a8"
          ],
          [
           0.3333333333333333,
           "#9c179e"
          ],
          [
           0.4444444444444444,
           "#bd3786"
          ],
          [
           0.5555555555555556,
           "#d8576b"
          ],
          [
           0.6666666666666666,
           "#ed7953"
          ],
          [
           0.7777777777777778,
           "#fb9f3a"
          ],
          [
           0.8888888888888888,
           "#fdca26"
          ],
          [
           1,
           "#f0f921"
          ]
         ]
        },
        "legend": {
         "title": {
          "text": "category"
         },
         "tracegroupgap": 0
        },
        "template": {
         "data": {
          "bar": [
           {
            "error_x": {
             "color": "#2a3f5f"
            },
            "error_y": {
             "color": "#2a3f5f"
            },
            "marker": {
             "line": {
              "color": "#E5ECF6",
              "width": 0.5
             },
             "pattern": {
              "fillmode": "overlay",
              "size": 10,
              "solidity": 0.2
             }
            },
            "type": "bar"
           }
          ],
          "barpolar": [
           {
            "marker": {
             "line": {
              "color": "#E5ECF6",
              "width": 0.5
             },
             "pattern": {
              "fillmode": "overlay",
              "size": 10,
              "solidity": 0.2
             }
            },
            "type": "barpolar"
           }
          ],
          "carpet": [
           {
            "aaxis": {
             "endlinecolor": "#2a3f5f",
             "gridcolor": "white",
             "linecolor": "white",
             "minorgridcolor": "white",
             "startlinecolor": "#2a3f5f"
            },
            "baxis": {
             "endlinecolor": "#2a3f5f",
             "gridcolor": "white",
             "linecolor": "white",
             "minorgridcolor": "white",
             "startlinecolor": "#2a3f5f"
            },
            "type": "carpet"
           }
          ],
          "choropleth": [
           {
            "colorbar": {
             "outlinewidth": 0,
             "ticks": ""
            },
            "type": "choropleth"
           }
          ],
          "contour": [
           {
            "colorbar": {
             "outlinewidth": 0,
             "ticks": ""
            },
            "colorscale": [
             [
              0,
              "#0d0887"
             ],
             [
              0.1111111111111111,
              "#46039f"
             ],
             [
              0.2222222222222222,
              "#7201a8"
             ],
             [
              0.3333333333333333,
              "#9c179e"
             ],
             [
              0.4444444444444444,
              "#bd3786"
             ],
             [
              0.5555555555555556,
              "#d8576b"
             ],
             [
              0.6666666666666666,
              "#ed7953"
             ],
             [
              0.7777777777777778,
              "#fb9f3a"
             ],
             [
              0.8888888888888888,
              "#fdca26"
             ],
             [
              1,
              "#f0f921"
             ]
            ],
            "type": "contour"
           }
          ],
          "contourcarpet": [
           {
            "colorbar": {
             "outlinewidth": 0,
             "ticks": ""
            },
            "type": "contourcarpet"
           }
          ],
          "heatmap": [
           {
            "colorbar": {
             "outlinewidth": 0,
             "ticks": ""
            },
            "colorscale": [
             [
              0,
              "#0d0887"
             ],
             [
              0.1111111111111111,
              "#46039f"
             ],
             [
              0.2222222222222222,
              "#7201a8"
             ],
             [
              0.3333333333333333,
              "#9c179e"
             ],
             [
              0.4444444444444444,
              "#bd3786"
             ],
             [
              0.5555555555555556,
              "#d8576b"
             ],
             [
              0.6666666666666666,
              "#ed7953"
             ],
             [
              0.7777777777777778,
              "#fb9f3a"
             ],
             [
              0.8888888888888888,
              "#fdca26"
             ],
             [
              1,
              "#f0f921"
             ]
            ],
            "type": "heatmap"
           }
          ],
          "histogram": [
           {
            "marker": {
             "pattern": {
              "fillmode": "overlay",
              "size": 10,
              "solidity": 0.2
             }
            },
            "type": "histogram"
           }
          ],
          "histogram2d": [
           {
            "colorbar": {
             "outlinewidth": 0,
             "ticks": ""
            },
            "colorscale": [
             [
              0,
              "#0d0887"
             ],
             [
              0.1111111111111111,
              "#46039f"
             ],
             [
              0.2222222222222222,
              "#7201a8"
             ],
             [
              0.3333333333333333,
              "#9c179e"
             ],
             [
              0.4444444444444444,
              "#bd3786"
             ],
             [
              0.5555555555555556,
              "#d8576b"
             ],
             [
              0.6666666666666666,
              "#ed7953"
             ],
             [
              0.7777777777777778,
              "#fb9f3a"
             ],
             [
              0.8888888888888888,
              "#fdca26"
             ],
             [
              1,
              "#f0f921"
             ]
            ],
            "type": "histogram2d"
           }
          ],
          "histogram2dcontour": [
           {
            "colorbar": {
             "outlinewidth": 0,
             "ticks": ""
            },
            "colorscale": [
             [
              0,
              "#0d0887"
             ],
             [
              0.1111111111111111,
              "#46039f"
             ],
             [
              0.2222222222222222,
              "#7201a8"
             ],
             [
              0.3333333333333333,
              "#9c179e"
             ],
             [
              0.4444444444444444,
              "#bd3786"
             ],
             [
              0.5555555555555556,
              "#d8576b"
             ],
             [
              0.6666666666666666,
              "#ed7953"
             ],
             [
              0.7777777777777778,
              "#fb9f3a"
             ],
             [
              0.8888888888888888,
              "#fdca26"
             ],
             [
              1,
              "#f0f921"
             ]
            ],
            "type": "histogram2dcontour"
           }
          ],
          "mesh3d": [
           {
            "colorbar": {
             "outlinewidth": 0,
             "ticks": ""
            },
            "type": "mesh3d"
           }
          ],
          "parcoords": [
           {
            "line": {
             "colorbar": {
              "outlinewidth": 0,
              "ticks": ""
             }
            },
            "type": "parcoords"
           }
          ],
          "pie": [
           {
            "automargin": true,
            "type": "pie"
           }
          ],
          "scatter": [
           {
            "fillpattern": {
             "fillmode": "overlay",
             "size": 10,
             "solidity": 0.2
            },
            "type": "scatter"
           }
          ],
          "scatter3d": [
           {
            "line": {
             "colorbar": {
              "outlinewidth": 0,
              "ticks": ""
             }
            },
            "marker": {
             "colorbar": {
              "outlinewidth": 0,
              "ticks": ""
             }
            },
            "type": "scatter3d"
           }
          ],
          "scattercarpet": [
           {
            "marker": {
             "colorbar": {
              "outlinewidth": 0,
              "ticks": ""
             }
            },
            "type": "scattercarpet"
           }
          ],
          "scattergeo": [
           {
            "marker": {
             "colorbar": {
              "outlinewidth": 0,
              "ticks": ""
             }
            },
            "type": "scattergeo"
           }
          ],
          "scattergl": [
           {
            "marker": {
             "colorbar": {
              "outlinewidth": 0,
              "ticks": ""
             }
            },
            "type": "scattergl"
           }
          ],
          "scattermap": [
           {
            "marker": {
             "colorbar": {
              "outlinewidth": 0,
              "ticks": ""
             }
            },
            "type": "scattermap"
           }
          ],
          "scattermapbox": [
           {
            "marker": {
             "colorbar": {
              "outlinewidth": 0,
              "ticks": ""
             }
            },
            "type": "scattermapbox"
           }
          ],
          "scatterpolar": [
           {
            "marker": {
             "colorbar": {
              "outlinewidth": 0,
              "ticks": ""
             }
            },
            "type": "scatterpolar"
           }
          ],
          "scatterpolargl": [
           {
            "marker": {
             "colorbar": {
              "outlinewidth": 0,
              "ticks": ""
             }
            },
            "type": "scatterpolargl"
           }
          ],
          "scatterternary": [
           {
            "marker": {
             "colorbar": {
              "outlinewidth": 0,
              "ticks": ""
             }
            },
            "type": "scatterternary"
           }
          ],
          "surface": [
           {
            "colorbar": {
             "outlinewidth": 0,
             "ticks": ""
            },
            "colorscale": [
             [
              0,
              "#0d0887"
             ],
             [
              0.1111111111111111,
              "#46039f"
             ],
             [
              0.2222222222222222,
              "#7201a8"
             ],
             [
              0.3333333333333333,
              "#9c179e"
             ],
             [
              0.4444444444444444,
              "#bd3786"
             ],
             [
              0.5555555555555556,
              "#d8576b"
             ],
             [
              0.6666666666666666,
              "#ed7953"
             ],
             [
              0.7777777777777778,
              "#fb9f3a"
             ],
             [
              0.8888888888888888,
              "#fdca26"
             ],
             [
              1,
              "#f0f921"
             ]
            ],
            "type": "surface"
           }
          ],
          "table": [
           {
            "cells": {
             "fill": {
              "color": "#EBF0F8"
             },
             "line": {
              "color": "white"
             }
            },
            "header": {
             "fill": {
              "color": "#C8D4E3"
             },
             "line": {
              "color": "white"
             }
            },
            "type": "table"
           }
          ]
         },
         "layout": {
          "annotationdefaults": {
           "arrowcolor": "#2a3f5f",
           "arrowhead": 0,
           "arrowwidth": 1
          },
          "autotypenumbers": "strict",
          "coloraxis": {
           "colorbar": {
            "outlinewidth": 0,
            "ticks": ""
           }
          },
          "colorscale": {
           "diverging": [
            [
             0,
             "#8e0152"
            ],
            [
             0.1,
             "#c51b7d"
            ],
            [
             0.2,
             "#de77ae"
            ],
            [
             0.3,
             "#f1b6da"
            ],
            [
             0.4,
             "#fde0ef"
            ],
            [
             0.5,
             "#f7f7f7"
            ],
            [
             0.6,
             "#e6f5d0"
            ],
            [
             0.7,
             "#b8e186"
            ],
            [
             0.8,
             "#7fbc41"
            ],
            [
             0.9,
             "#4d9221"
            ],
            [
             1,
             "#276419"
            ]
           ],
           "sequential": [
            [
             0,
             "#0d0887"
            ],
            [
             0.1111111111111111,
             "#46039f"
            ],
            [
             0.2222222222222222,
             "#7201a8"
            ],
            [
             0.3333333333333333,
             "#9c179e"
            ],
            [
             0.4444444444444444,
             "#bd3786"
            ],
            [
             0.5555555555555556,
             "#d8576b"
            ],
            [
             0.6666666666666666,
             "#ed7953"
            ],
            [
             0.7777777777777778,
             "#fb9f3a"
            ],
            [
             0.8888888888888888,
             "#fdca26"
            ],
            [
             1,
             "#f0f921"
            ]
           ],
           "sequentialminus": [
            [
             0,
             "#0d0887"
            ],
            [
             0.1111111111111111,
             "#46039f"
            ],
            [
             0.2222222222222222,
             "#7201a8"
            ],
            [
             0.3333333333333333,
             "#9c179e"
            ],
            [
             0.4444444444444444,
             "#bd3786"
            ],
            [
             0.5555555555555556,
             "#d8576b"
            ],
            [
             0.6666666666666666,
             "#ed7953"
            ],
            [
             0.7777777777777778,
             "#fb9f3a"
            ],
            [
             0.8888888888888888,
             "#fdca26"
            ],
            [
             1,
             "#f0f921"
            ]
           ]
          },
          "colorway": [
           "#636efa",
           "#EF553B",
           "#00cc96",
           "#ab63fa",
           "#FFA15A",
           "#19d3f3",
           "#FF6692",
           "#B6E880",
           "#FF97FF",
           "#FECB52"
          ],
          "font": {
           "color": "#2a3f5f"
          },
          "geo": {
           "bgcolor": "white",
           "lakecolor": "white",
           "landcolor": "#E5ECF6",
           "showlakes": true,
           "showland": true,
           "subunitcolor": "white"
          },
          "hoverlabel": {
           "align": "left"
          },
          "hovermode": "closest",
          "mapbox": {
           "style": "light"
          },
          "paper_bgcolor": "white",
          "plot_bgcolor": "#E5ECF6",
          "polar": {
           "angularaxis": {
            "gridcolor": "white",
            "linecolor": "white",
            "ticks": ""
           },
           "bgcolor": "#E5ECF6",
           "radialaxis": {
            "gridcolor": "white",
            "linecolor": "white",
            "ticks": ""
           }
          },
          "scene": {
           "xaxis": {
            "backgroundcolor": "#E5ECF6",
            "gridcolor": "white",
            "gridwidth": 2,
            "linecolor": "white",
            "showbackground": true,
            "ticks": "",
            "zerolinecolor": "white"
           },
           "yaxis": {
            "backgroundcolor": "#E5ECF6",
            "gridcolor": "white",
            "gridwidth": 2,
            "linecolor": "white",
            "showbackground": true,
            "ticks": "",
            "zerolinecolor": "white"
           },
           "zaxis": {
            "backgroundcolor": "#E5ECF6",
            "gridcolor": "white",
            "gridwidth": 2,
            "linecolor": "white",
            "showbackground": true,
            "ticks": "",
            "zerolinecolor": "white"
           }
          },
          "shapedefaults": {
           "line": {
            "color": "#2a3f5f"
           }
          },
          "ternary": {
           "aaxis": {
            "gridcolor": "white",
            "linecolor": "white",
            "ticks": ""
           },
           "baxis": {
            "gridcolor": "white",
            "linecolor": "white",
            "ticks": ""
           },
           "bgcolor": "#E5ECF6",
           "caxis": {
            "gridcolor": "white",
            "linecolor": "white",
            "ticks": ""
           }
          },
          "title": {
           "x": 0.05
          },
          "xaxis": {
           "automargin": true,
           "gridcolor": "white",
           "linecolor": "white",
           "ticks": "",
           "title": {
            "standoff": 15
           },
           "zerolinecolor": "white",
           "zerolinewidth": 2
          },
          "yaxis": {
           "automargin": true,
           "gridcolor": "white",
           "linecolor": "white",
           "ticks": "",
           "title": {
            "standoff": 15
           },
           "zerolinecolor": "white",
           "zerolinewidth": 2
          }
         }
        },
        "title": {
         "text": "Clustering films populaires et récents TMDb"
        },
        "xaxis": {
         "anchor": "y",
         "domain": [
          0,
          1
         ],
         "title": {
          "text": "x"
         }
        },
        "yaxis": {
         "anchor": "x",
         "domain": [
          0,
          1
         ],
         "title": {
          "text": "y"
         }
        }
       }
      }
     },
     "metadata": {},
     "output_type": "display_data"
    }
   ],
   "source": [
    "fig.show()"
   ]
  },
  {
   "cell_type": "code",
   "execution_count": 105,
   "id": "6507db00",
   "metadata": {},
   "outputs": [],
   "source": [
    "import numpy as np\n",
    "\n",
    "def find_closest_movie(df, input_title):\n",
    "    # Cherche le film dans le dataset\n",
    "    if input_title not in df['title'].values:\n",
    "        print(f\"Le film '{input_title}' n'a pas été trouvé dans le dataset.\")\n",
    "        return None\n",
    "    \n",
    "    # df_recent = df[df['category'] == 'recent'].copy()\n",
    "    \n",
    "    # Coordonnées du film input\n",
    "    input_point = df.loc[df['title'] == input_title, ['x', 'y']].values[0]\n",
    "    \n",
    "    # Calcul des distances euclidiennes vers tous les points\n",
    "    df['distance'] = np.linalg.norm(df[['x', 'y']].values - input_point, axis=1)\n",
    "    \n",
    "    # Exclure le film lui-même (distance = 0)\n",
    "    df_filtered = df[df['title'] != input_title]\n",
    "    \n",
    "    # Trouver le film avec la distance minimale\n",
    "    closest_movie = df_filtered.loc[df_filtered['distance'].idxmin()]\n",
    "    \n",
    "    return closest_movie[['title', 'distance', 'cluster']]"
   ]
  },
  {
   "cell_type": "code",
   "execution_count": 108,
   "id": "bae3cd98",
   "metadata": {},
   "outputs": [
    {
     "name": "stdout",
     "output_type": "stream",
     "text": [
      "Le film le plus proche de 'La Liste de Schindler' est 'Tu ne tueras point' dans le cluster 3 à une distance de 0.068\n"
     ]
    }
   ],
   "source": [
    "input_title = \"La Liste de Schindler\"  # Exemple de film à rechercher\n",
    "closest = find_closest_movie(df_all, input_title)\n",
    "\n",
    "if closest is not None:\n",
    "    print(f\"Le film le plus proche de '{input_title}' est '{closest['title']}' dans le cluster {closest['cluster']} à une distance de {closest['distance']:.3f}\")"
   ]
  }
 ],
 "metadata": {
  "kernelspec": {
   "display_name": "test-project",
   "language": "python",
   "name": "python3"
  },
  "language_info": {
   "codemirror_mode": {
    "name": "ipython",
    "version": 3
   },
   "file_extension": ".py",
   "mimetype": "text/x-python",
   "name": "python",
   "nbconvert_exporter": "python",
   "pygments_lexer": "ipython3",
   "version": "3.10.12"
  }
 },
 "nbformat": 4,
 "nbformat_minor": 5
}
