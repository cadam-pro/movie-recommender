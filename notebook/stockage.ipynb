{
 "cells": [
  {
   "cell_type": "code",
   "execution_count": 52,
   "id": "850f9a19",
   "metadata": {},
   "outputs": [
    {
     "data": {
      "text/plain": [
       "True"
      ]
     },
     "execution_count": 52,
     "metadata": {},
     "output_type": "execute_result"
    }
   ],
   "source": [
    "# !pip install --quiet google-cloud-storage\n",
    "import os\n",
    "from google.cloud import storage\n",
    "from dotenv import load_dotenv\n",
    "\n",
    "# Charger les variables d'environnement depuis .env\n",
    "load_dotenv()"
   ]
  },
  {
   "cell_type": "markdown",
   "id": "7db2fd18",
   "metadata": {},
   "source": [
    "## 1-   ENREGISTREMENT DE FICHIER DANS GCS"
   ]
  },
  {
   "cell_type": "code",
   "execution_count": 53,
   "id": "8ff75bf5",
   "metadata": {},
   "outputs": [
    {
     "name": "stdout",
     "output_type": "stream",
     "text": [
      "✅ Upload terminé.\n"
     ]
    }
   ],
   "source": [
    "# Récupération des variables\n",
    "key_path = os.getenv(\"GOOGLE_APPLICATION_CREDENTIALS\")\n",
    "bucket_name = os.getenv(\"GCS_BUCKET_NAME\")\n",
    "blob_name = os.getenv(\"GCS_BLOB_NAME\")\n",
    "local_file_path = os.getenv(\"LOCAL_FILE_PATH\")\n",
    "\n",
    "# Connexion à GCS et upload\n",
    "storage_client = storage.Client.from_service_account_json(key_path)\n",
    "bucket = storage_client.get_bucket(bucket_name)\n",
    "blob = bucket.blob(blob_name)\n",
    "blob.upload_from_filename(local_file_path)\n",
    "\n",
    "print(\"✅ Upload terminé.\")"
   ]
  },
  {
   "cell_type": "markdown",
   "id": "f5dcc38e",
   "metadata": {},
   "source": [
    "## 2- TELECHARGEMENT DE FICHIER DEPUIS GCS"
   ]
  },
  {
   "cell_type": "code",
   "execution_count": null,
   "id": "f3937d1d",
   "metadata": {},
   "outputs": [
    {
     "name": "stdout",
     "output_type": "stream",
     "text": [
      "✅ Fichier prêt à être utilisé : path/to/mon_fichier.csv\n"
     ]
    }
   ],
   "source": [
    "# Variables\n",
    "key_path = os.getenv(\"GOOGLE_APPLICATION_CREDENTIALS\")\n",
    "bucket_name = os.getenv(\"GCS_BUCKET_NAME\")\n",
    "source_blob = os.getenv(\"GCS_BLOB_NAME\")      \n",
    "destination_file = os.getenv(\"LOCAL_DEST_PATH\") \n",
    "\n",
    "# Connexion et Téléchargement du fichier depuis GCS\n",
    "storage_client = storage.Client.from_service_account_json(key_path)\n",
    "bucket = storage_client.bucket(bucket_name)\n",
    "blob = bucket.blob(source_blob)\n",
    "blob.download_to_filename(destination_file)\n",
    "\n",
    "print(f\"✅ Fichier téléchargé depuis GCS vers {destination_file}\")"
   ]
  }
 ],
 "metadata": {
  "kernelspec": {
   "display_name": "movie-recommender_env",
   "language": "python",
   "name": "python3"
  },
  "language_info": {
   "codemirror_mode": {
    "name": "ipython",
    "version": 3
   },
   "file_extension": ".py",
   "mimetype": "text/x-python",
   "name": "python",
   "nbconvert_exporter": "python",
   "pygments_lexer": "ipython3",
   "version": "3.10.12"
  }
 },
 "nbformat": 4,
 "nbformat_minor": 5
}
