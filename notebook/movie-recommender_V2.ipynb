{
 "cells": [
  {
   "cell_type": "markdown",
   "id": "e421005c",
   "metadata": {},
   "source": [
    "## "
   ]
  },
  {
   "cell_type": "markdown",
   "id": "21eb2403",
   "metadata": {},
   "source": [
    "# 🎬 Movies Data Pipeline\n",
    "Ce notebook contient un pipeline de traitement des données du fichier `TMDB_all_movies.csv`, dans le cadre d'un projet de data engineering."
   ]
  },
  {
   "cell_type": "markdown",
   "id": "fba5d5f0",
   "metadata": {},
   "source": [
    "## 1. Ingestion"
   ]
  },
  {
   "cell_type": "code",
   "execution_count": 64,
   "id": "967c1dc8",
   "metadata": {},
   "outputs": [
    {
     "name": "stdout",
     "output_type": "stream",
     "text": [
      "4.0.0\n"
     ]
    },
    {
     "name": "stderr",
     "output_type": "stream",
     "text": [
      "                                                                                \r"
     ]
    },
    {
     "name": "stdout",
     "output_type": "stream",
     "text": [
      "+---+--------------------+------------+----------+--------+------------+------------+-------+-----------+---------+-----------------+---------------------------+--------------------+----------+--------------------+--------------------+--------------------+--------------------+-----------------------+--------------------+--------------------+-----------------------+--------------------+--------------------+--------------------+-----------+----------+--------------------+\n",
      "| id|               title|vote_average|vote_count|  status|release_date|     revenue|runtime|     budget|  imdb_id|original_language|             original_title|            overview|popularity|             tagline|              genres|production_companies|production_countries|       spoken_languages|                cast|            director|director_of_photography|             writers|           producers|      music_composer|imdb_rating|imdb_votes|         poster_path|\n",
      "+---+--------------------+------------+----------+--------+------------+------------+-------+-----------+---------+-----------------+---------------------------+--------------------+----------+--------------------+--------------------+--------------------+--------------------+-----------------------+--------------------+--------------------+-----------------------+--------------------+--------------------+--------------------+-----------+----------+--------------------+\n",
      "|  2|               Ariel|         7.1|     346.0|Released|  1988-10-21|         0.0|   73.0|        0.0|tt0094675|               fi|                      Ariel|A Finnish man goe...|    1.7519|                NULL|Comedy, Drama, Ro...|Villealfa Filmpro...|             Finland|                  suomi|Merja Pulkkinen, ...|      Aki Kaurismäki|          Timo Salminen|      Aki Kaurismäki|      Aki Kaurismäki|                NULL|        7.4|    9242.0|/ojDg0PGvs6R9xYFo...|\n",
      "|  3| Shadows in Paradise|       7.293|     409.0|Released|  1986-10-17|         0.0|   74.0|        0.0|tt0092149|               fi|       Varjoja paratiisissa|Nikander, a rubbi...|    1.9295|                NULL|Comedy, Drama, Ro...|Villealfa Filmpro...|             Finland|   suomi, English, s...|Esko Nikkari, Mar...|      Aki Kaurismäki|          Timo Salminen|      Aki Kaurismäki|     Mika Kaurismäki|                NULL|        7.4|    8075.0|/nj01hspawPof0mJm...|\n",
      "|  5|          Four Rooms|         5.9|    2701.0|Released|  1995-12-09|   4257354.0|   98.0|  4000000.0|tt0113101|               en|                 Four Rooms|It's Ted the Bell...|    2.3408|Twelve outrageous...|              Comedy|Miramax, A Band A...|United States of ...|                English|Valeria Golino, P...|Alexandre Rockwel...|   Andrzej Sekula, G...|Alexandre Rockwel...|Alexandre Rockwel...|  Combustible Edison|        6.7|  114533.0|/75aHn1NOYXh4M7L5...|\n",
      "|  6|      Judgment Night|         6.5|     354.0|Released|  1993-10-15|  12136938.0|  109.0| 21000000.0|tt0107286|               en|             Judgment Night|Four young friend...|    1.8413|Don't move. Don't...|Action, Crime, Th...|Largo Entertainme...|United States of ...|                English|Michael Scranton,...|     Stephen Hopkins|             Peter Levy|Jere Cunningham, ...|Gene Levy, Marily...|      Alan Silvestri|        6.6|   20094.0|/3rvvpS9YPM5HB2f4...|\n",
      "|  8|Life in Loops (A ...|         7.5|      27.0|Released|  2006-01-01|         0.0|   80.0|    42000.0|tt0825671|               en|       Life in Loops (A ...|Timo Novotny labe...|     3.203| A Megacities remix.|         Documentary|             inLoops|             Austria|   English, हिन्दी, ...|                NULL|        Timo Novotny|        Wolfgang Thaler|Michael Glawogger...|Ulrich Gehmacher,...|                NULL|        8.1|     285.0|/7ln81BRnPR2wqxuI...|\n",
      "|  9|    Sunday in August|         6.8|      28.0|Released|  2004-09-02|         0.0|   15.0|        0.0|tt0425473|               de|          Sonntag im August|                NULL|    0.3776|                NULL|               Drama|                NULL|             Germany|                Deutsch|Rita Lengyel, Mil...|Anna Haas, Marc M...|   Peter Polsak-Lohmann|          Marc Meyer|          Marc Meyer|    Christian Biegai|        6.8|      14.0|                NULL|\n",
      "| 11|           Star Wars|       8.205|   21276.0|Released|  1977-05-25| 775398007.0|  121.0| 11000000.0|tt0076759|               en|                  Star Wars|Princess Leia is ...|   17.6952|A long time ago i...|Adventure, Action...|Lucasfilm Ltd., 2...|United States of ...|                English|Maria De Aragon, ...|        George Lucas|         Gilbert Taylor|        George Lucas|Gary Kurtz, Georg...|       John Williams|        8.6| 1518854.0|/6FfCtAuVAW8XJjZ7...|\n",
      "| 12|        Finding Nemo|       7.816|   19714.0|Released|  2003-05-30| 940335536.0|  100.0| 94000000.0|tt0266543|               en|               Finding Nemo|Nemo, an adventur...|     23.75|There are 3.7 tri...|   Animation, Family|               Pixar|United States of ...|                English|David Ian Salter,...|      Andrew Stanton|   Sharon Calahan, J...|David Reynolds, B...|Graham Walters, J...|       Thomas Newman|        8.2| 1166003.0|/eHuGQ10FUzK1mdOY...|\n",
      "| 13|        Forrest Gump|       8.468|   28340.0|Released|  1994-06-23| 677387716.0|  142.0| 55000000.0|tt0109830|               en|               Forrest Gump|A man with a low ...|   18.2791|The world will ne...|Comedy, Drama, Ro...|Paramount Picture...|United States of ...|                English|Angela Lomas, Mic...|     Robert Zemeckis|            Don Burgess|Eric Roth, Winsto...|Steve Tisch, Stev...|      Alan Silvestri|        8.8| 2393042.0|/arw2vcBveWOVZr6p...|\n",
      "| 14|     American Beauty|       8.007|   12412.0|Released|  1999-09-15| 356296601.0|  122.0| 15000000.0|tt0169547|               en|            American Beauty|Lester Burnham, a...|    7.2555|     ...Look closer.|               Drama|DreamWorks Pictur...|United States of ...|                English|Scott Bakula, Joe...|          Sam Mendes|         Conrad L. Hall|           Alan Ball|Bruce Cohen, Dan ...|       Thomas Newman|        8.3| 1253174.0|/wby9315QzVKdW9Bo...|\n",
      "| 15|        Citizen Kane|         8.0|    5699.0|Released|  1941-04-17|  23218000.0|  119.0|   839727.0|tt0033467|               en|               Citizen Kane|Newspaper magnate...|    4.4755|Some called him a...|      Mystery, Drama|Mercury Productio...|United States of ...|                English|Terrance Ray, Gen...|        Orson Welles|           Gregg Toland|Orson Welles, Her...|        Orson Welles|    Bernard Herrmann|        8.3|  483576.0|/sav0jxhqiH0bPr2v...|\n",
      "| 16|  Dancer in the Dark|         7.9|    1869.0|Released|  2000-09-01|  40061153.0|  140.0| 12500000.0|tt0168629|               en|         Dancer in the Dark|Selma, a Czech im...|    2.7207|It's only the las...|        Drama, Crime|Zentropa Entertai...|Denmark, Finland,...|                English|Vincent Paterson,...|      Lars von Trier|           Robby Müller|Sjón, Lars von Trier|Peter Aalbæk Jens...|               Björk|        7.9|  121168.0|/9rsivF4sWfmBzrNr...|\n",
      "| 17|            The Dark|       5.708|     283.0|Released|  2005-09-28|   6593579.0|   87.0|        0.0|tt0411267|               en|                   The Dark|In an attempt to ...|    1.3127|One of the living...|Horror, Thriller,...|Constantin Film, ...|Germany, United K...|       Cymraeg, English|Richard Elfyn, To...|        John Fawcett|      Christian Sebaldt|Simon Maginn, Ste...|Paul Tamasy, Jere...|         Edmund Butt|        5.3|   11705.0|/h6gCVAzjFLhzkffv...|\n",
      "| 18|   The Fifth Element|       7.555|   11062.0|Released|  1997-05-02| 263920180.0|  126.0| 90000000.0|tt0119116|               fr|       Le Cinquième Élément|In 2257, a taxi d...|   12.8382|There is no futur...|Science Fiction, ...|             Gaumont|              France|   English, svenska,...|Tricky, Sarah Car...|          Luc Besson|   Nick Tebbet, Thie...|Luc Besson, Rober...|      Patrice Ledoux|          Éric Serra|        7.6|  529205.0|/fPtlCO1yQtnoLHOw...|\n",
      "| 19|          Metropolis|       8.106|    2875.0|Released|  1927-02-06|   1350322.0|  153.0|  5300000.0|tt0017136|               de|                 Metropolis|In a futuristic c...|    4.3733|There can be no u...|Drama, Science Fi...|                 UFA|             Germany|            No Language|Arthur Reinhardt,...|          Fritz Lang|   Walter Ruttmann, ...|Thea von Harbou, ...|        Erich Pommer|Otto Harzner, Got...|        8.3|  195507.0|/vZIJxGnjcswPCAa5...|\n",
      "| 20|  My Life Without Me|         6.0|     472.0|Released|  2003-03-07|  12300000.0|  106.0|  2500000.0|tt0314412|               en|         My Life Without Me|A fatally ill mot...|     1.431|What you are… is ...|      Drama, Romance|El Deseo, Milesto...|       Canada, Spain|                English|Leonor Watling, M...|       Isabel Coixet|    Jean-Claude Larrieu|Isabel Coixet, Na...|Pedro Almodóvar, ...|  Alfonso Vilallonga|        7.4|   26291.0|/pFEtVPW88pWflYV8...|\n",
      "| 21|  The Endless Summer|         7.2|     122.0|Released|  1966-06-15|         0.0|   91.0|    50000.0|tt0060371|               en|         The Endless Summer|Bruce Brown's The...|    0.9108|The Search for th...|         Documentary|   Bruce Brown Films|United States of ...|                English|Wayne Miyata, Chi...|         Bruce Brown|            Bruce Brown|         Bruce Brown|Robert Bagley, Br...|Gaston Georis, Wa...|        7.6|    6614.0|/hinHiXl8sOGIz2TL...|\n",
      "| 22|Pirates of the Ca...|       7.811|   21220.0|Released|  2003-07-09| 655011224.0|  143.0|140000000.0|tt0325980|               en|       Pirates of the Ca...|After Port Royal ...|    20.106|Prepare to be blo...|Adventure, Fantas...|Walt Disney Pictu...|United States of ...|                English|Isaac C. Singleto...|      Gore Verbinski|         Dariusz Wolski|Stuart Beattie, T...|Paul Deason, Bruc...|        Klaus Badelt|        8.1| 1273394.0|/z8onk7LV9Mmw6zKz...|\n",
      "| 24|   Kill Bill: Vol. 1|         8.0|   17939.0|Released|  2003-10-10| 180906076.0|  111.0| 30000000.0|tt0266697|               en|          Kill Bill: Vol. 1|An assassin is sh...|   13.4614|A Roaring Rampage...|       Action, Crime|Miramax, A Band A...|United States of ...|English, 日本語, Fra...|Tetsuro Shimaguch...|   Quentin Tarantino|      Robert Richardson|Uma Thurman, Quen...|E. Bennett Walsh,...|                 RZA|        8.2| 1256753.0|/v7TaX8kXMXs5yFFG...|\n",
      "| 25|             Jarhead|         6.7|    2975.0|Released|  2005-11-04|  97076152.0|  123.0| 72000000.0|tt0418763|               en|                    Jarhead|Jarhead is a film...|    4.2637|Welcome to the suck.|          Drama, War|Red Wagon Enterta...|United Kingdom, U...|   English, Español,...|Chris Cooper, Dam...|          Sam Mendes|          Roger Deakins|Anthony Swofford,...|Bobby Cohen, Doug...|       Thomas Newman|        7.0|  216970.0|/4rCzaZy5Qkvxh5xa...|\n",
      "| 26|       Walk on Water|         6.9|      86.0|Released|  2004-02-05|       444.0|  103.0|  1400000.0|tt0352994|               he|         LaLehet Al HaMayim|Eyal, an Israeli ...|    0.7255|He was trained to...|               Drama|Lama Films, Unite...|      Israel, Sweden|   English, العربية,...|Lior Ashkenazi, G...|           Eytan Fox|       Tobias Hochstein|        Gal Uchovsky|Gal Uchovsky, Ami...|          Ivri Lider|        7.3|    7152.0|/mVWFN3RaBFLuJRtR...|\n",
      "| 27|             9 Songs|         5.6|     535.0|Released|  2004-07-16|   1574623.0|   69.0|  1000000.0|tt0411705|               en|                    9 Songs|Matt, a young gla...|    8.0191|2 lovers, one sum...|Drama, Music, Rom...|    Revolution Films|      United Kingdom|                English|Robert Levon Been...|Michael Winterbottom|         Marcel Zyskind|Michael Winterbottom|Andrew Eaton, Mic...|                NULL|        4.8|   24817.0|/91O7z0vo7MiNWd5x...|\n",
      "| 28|      Apocalypse Now|       8.272|    8540.0|Released|  1979-05-19| 150000000.0|  147.0| 31500000.0|tt0078788|               en|             Apocalypse Now|At the height of ...|    9.3786|                NULL|          Drama, War|United Artists, A...|United States of ...|   , English, França...|Kerry Rossall, Wi...|Francis Ford Coppola|       Vittorio Storaro|Francis Ford Copp...|Francis Ford Coppola|Francis Ford Copp...|        8.4|  745990.0|/gQB8Y5RCMkv2zwzF...|\n",
      "| 33|          Unforgiven|         7.9|    4595.0|Released|  1992-08-07| 159157447.0|  130.0| 14400000.0|tt0105695|               en|                 Unforgiven|William Munny is ...|    6.2133|Some legends will...|             Western|Warner Bros. Pict...|United States of ...|                English|Clint Eastwood, H...|      Clint Eastwood|          Jack N. Green|  David Webb Peoples|Clint Eastwood, D...|      Lennie Niehaus|        8.2|  456550.0|/54roTwbX9fltg85z...|\n",
      "| 35|  The Simpsons Movie|         7.0|    8190.0|Released|  2007-07-25| 527068851.0|   87.0| 75000000.0|tt0462538|               en|         The Simpsons Movie|After Homer accid...|   11.7636|See our family. A...|Animation, Comedy...|Gracie Films, 20t...|United States of ...|                English|Russi Taylor, Kar...|     David Silverman|                   NULL|George Meyer, Mat...|Matt Groening, Ja...|         Hans Zimmer|        7.3|  358238.0|/gzb6P78zeFTnv9eo...|\n",
      "| 38|Eternal Sunshine ...|       8.092|   15518.0|Released|  2004-03-19|  72258126.0|  108.0| 20000000.0|tt0338013|               en|       Eternal Sunshine ...|Joel Barish, hear...|   11.7819|You can erase som...|Science Fiction, ...|Focus Features, A...|United States of ...|                English|Thomas Jay Ryan, ...|       Michel Gondry|            Ellen Kuras|Pierre Bismuth, C...|Charlie Kaufman, ...|           Jon Brion|        8.3| 1142332.0|/5MwkWH9tYHv3mV9O...|\n",
      "| 55|       Amores Perros|         7.6|    2703.0|Released|  2000-06-16|  20908467.0|  154.0|  2000000.0|tt0245712|               es|              Amores perros|A fatalistic car ...|    4.4373|Love. Betrayal. D...|     Drama, Thriller|Altavista Films, ...|              Mexico|                Español|Gustavo Sánchez P...|Alejandro Gonzále...|         Rodrigo Prieto|   Guillermo Arriaga|Martha Sosa Elizo...| Gustavo Santaolalla|        8.0|  268564.0|/tuyV4ceh80IBTbRJ...|\n",
      "| 58|Pirates of the Ca...|       7.367|   16415.0|Released|  2006-07-06|1066179747.0|  151.0|200000000.0|tt0383574|               en|       Pirates of the Ca...|Captain Jack Spar...|   14.7357|Captain Jack is b...|Adventure, Fantas...|Walt Disney Pictu...|United States of ...|   English, Türkçe, ...|Claudia Adams, Jo...|      Gore Verbinski|         Dariusz Wolski|Stuart Beattie, T...|Bruce Hendricks, ...|         Hans Zimmer|        7.4|  801076.0|/lAhcKRt0ggTFkeFL...|\n",
      "| 59|A History of Viol...|         7.2|    3412.0|Released|  2005-09-23|  61477797.0|   96.0| 32000000.0|tt0399146|               en|       A History of Viol...|An average family...|    3.8207|Tom Stall had the...|Drama, Thriller, ...|New Line Cinema, ...|Canada, Germany, ...|                English|Ian Matthews, Bri...|    David Cronenberg|       Peter Suschitzky|John Wagner, Josh...|Roger Kass, Cale ...|        Howard Shore|        7.4|  265583.0|/A26rcvipOqptVs7i...|\n",
      "| 62|2001: A Space Ody...|         8.1|   11893.0|Released|  1968-04-02|  71923560.0|  149.0| 12000000.0|tt0062622|               en|       2001: A Space Ody...|Humanity finds a ...|    8.6491|An epic drama of ...|Science Fiction, ...|Stanley Kubrick P...|United Kingdom, U...|       English, Pусский|Vivian Kubrick, G...|     Stanley Kubrick|      Geoffrey Unsworth|Stanley Kubrick, ...|Victor Lyndon, St...|                NULL|        8.3|  757268.0|/ve72VxNqjGM69Uky...|\n",
      "| 63|      Twelve Monkeys|       7.603|    8596.0|Released|  1995-12-29| 168841459.0|  129.0| 29000000.0|tt0114746|               en|             Twelve Monkeys|In the year 2035,...|    7.8183|The future is his...|Science Fiction, ...|Universal Picture...|United States of ...|      English, Français|Bob Adrian, Stan ...|       Terry Gilliam|            Roger Pratt|Chris Marker, Dav...|Gary Levinsohn, R...|     Paul Buckmaster|        8.0|  665959.0|/gt3iyguaCIw8DpQZ...|\n",
      "| 64|         Talk to Her|         7.6|    1342.0|Released|  2002-03-15|  64803131.0|  112.0|        0.0|tt0287467|               es|             Hable con ella|Two men share an ...|    2.4214|                NULL|      Drama, Romance|Vía Digital, El D...|               Spain|      Français, Español|Esther García, Fe...|     Pedro Almodóvar|   Javier Aguirresarobe|     Pedro Almodóvar|Agustín Almodóvar...|Alberto Iglesias,...|        7.9|  120199.0|/fWDbQlOWOqjR5jZm...|\n",
      "| 65|              8 Mile|       7.141|    7463.0|Released|  2002-11-08| 242875078.0|  111.0| 41000000.0|tt0298203|               en|                     8 Mile|For Jimmy Smith, ...|    9.5173|Every moment is a...|        Drama, Music|Mikona Production...|Germany, United S...|                English|Proof, Bushman, C...|       Curtis Hanson|         Rodrigo Prieto|        Scott Silver|Carol Fenelon, Ji...|                NULL|        7.2|  340006.0|/7BmQj8qE1FLuLTf7...|\n",
      "| 66|      Absolute Power|       6.645|    1137.0|Released|  1997-02-14|  50100000.0|  121.0| 50000000.0|tt0118548|               en|             Absolute Power|A master thief co...|    2.6539|Corrupts absolutely.|Crime, Drama, Action|Castle Rock Enter...|United States of ...|                English|Yau-Gene Chan, Ju...|      Clint Eastwood|          Jack N. Green|William Goldman, ...|Karen S. Spiegel,...|      Lennie Niehaus|        6.7|   63127.0|/jiwy7YaPHLN8s1Su...|\n",
      "| 67|        Paradise Now|         6.9|     263.0|Released|  2005-09-07|   3395627.0|   90.0|  2000000.0|tt0445620|               en|               Paradise Now|Two childhood fri...|    2.6298|From the most une...|Crime, Thriller, ...|Lama Films, Augus...|France, Germany, ...|       العربية, English|Olivier Meidinger...|      Hany Abu-Assad|        Antoine Héberlé|Bero Beyer, Hany ...|Bero Beyer, Henga...|         Jina Sumedi|        7.4|   24551.0|/qWZkYa8VdcDZk8uz...|\n",
      "| 68|              Brazil|         7.7|    3430.0|Released|  1985-02-20|   9900000.0|  143.0| 15000000.0|tt0088846|               en|                     Brazil|Low-level bureauc...|    3.6586|It's only a state...|Comedy, Science F...|Embassy Internati...|United Kingdom, U...|                English|Oscar Quitak, She...|       Terry Gilliam|            Roger Pratt|Charles McKeown, ...|Patrick Cassavett...|       Michael Kamen|        7.8|  217308.0|/aewan59WcFThBimk...|\n",
      "| 69|       Walk the Line|       7.503|    2961.0|Released|  2005-09-13| 186800000.0|  136.0| 28000000.0|tt0358273|               en|              Walk the Line|A chronicle of co...|    3.3775|Love is a burning...|Drama, Music, Rom...|Mars Media Beteil...|Germany, United S...|                English|Danny Vinson, Tra...|       James Mangold|     Phedon Papamichael|Johnny Cash, Gill...|John Carter Cash,...|      T Bone Burnett|        7.8|  275193.0|/zMkD6FVikyPNnigo...|\n",
      "| 70| Million Dollar Baby|       7.954|    9856.0|Released|  2004-12-05| 216763646.0|  132.0| 30000000.0|tt0405159|               en|        Million Dollar Baby|Despondent over a...|    4.0094|Beyond his silenc...|               Drama|Lakeshore Enterta...|Switzerland, Unit...|       English, Gaeilge|Morgan Freeman, M...|      Clint Eastwood|              Tom Stern|F.X. Toole, Paul ...|Paul Haggis, Tom ...|      Clint Eastwood|        8.1|  749082.0|/jcfEqKdWF1zeyvEC...|\n",
      "| 71|        Billy Elliot|       7.594|    3917.0|Released|  2000-09-28| 109280263.0|  110.0|  5000000.0|tt0249462|               en|               Billy Elliot|County Durham, En...|    4.1249|Inside every one ...|Drama, Comedy, Music|StudioCanal, BBC ...|France, United Ki...|                English|Julie Walters, Di...|      Stephen Daldry|           Brian Tufano|            Lee Hall|Jonathan Finn, Ch...|     Stephen Warbeck|        7.7|  148463.0|/nOr5diUZxphmAD3l...|\n",
      "| 73|  American History X|       8.336|   11918.0|Released|  1998-07-01|  23900000.0|  119.0| 20000000.0|tt0120586|               en|         American History X|Derek Vineyard is...|    5.7045|Some Legacies Mus...|               Drama|New Line Cinema, ...|United States of ...|                English|Maximillian Kesmo...|           Tony Kaye|              Tony Kaye|       David McKenna|Steve Tisch, Kear...|         Anne Dudley|        8.5| 1236357.0|/euypWkaYFOLW3e5r...|\n",
      "| 74|   War of the Worlds|       6.518|    8630.0|Released|  2005-06-28| 603873119.0|  117.0|132000000.0|tt0407304|               en|          War of the Worlds|Ray Ferrier is a ...|    10.612|They're already h...|Adventure, Thrill...|Paramount Picture...|United States of ...|                English|Robert O'Connor, ...|    Steven Spielberg|        Janusz Kamiński|H.G. Wells, Josh ...|Colin Wilson, Dam...|       John Williams|        6.6|  492536.0|/6Biy7R9LfumYshur...|\n",
      "| 75|       Mars Attacks!|         6.4|    5575.0|Released|  1996-12-13| 101371017.0|  106.0| 70000000.0|tt0116996|               en|              Mars Attacks!|A fleet of Martia...|    6.2753|Nice planet. We'l...|Comedy, Fantasy, ...|Warner Bros. Pict...|United States of ...|      English, Français|Glenn Close, Jeff...|          Tim Burton|       Peter Suschitzky|       Jonathan Gems|Larry Franco, Tim...|        Danny Elfman|        6.4|  253063.0|/bGxhc8Cd908XbDxg...|\n",
      "| 76|      Before Sunrise|         8.0|    4323.0|Released|  1995-01-27|   5987386.0|  101.0|  2500000.0|tt0112471|               en|             Before Sunrise|A young man and w...|    6.5301|Can the greatest ...|      Drama, Romance|Castle Rock Enter...|Austria, United S...|   English, Deutsch,...|Peter Ily Huemer,...|   Richard Linklater|             Lee Daniel|Kim Krizan, Richa...|John Sloss, Anne ...|          Fred Frith|        8.1|  361623.0|/kf1Jb1c2JAOqjuzA...|\n",
      "| 77|             Memento|       8.178|   15365.0|Released|  2000-10-11|  40047236.0|  113.0|  9000000.0|tt0209144|               en|                    Memento|Leonard Shelby is...|   10.7217|Some memories are...|   Mystery, Thriller|Newmarket Films, ...|United States of ...|                English|Thomas Lennon, Ca...|   Christopher Nolan|          Wally Pfister|Christopher Nolan...|Aaron Ryder, Suza...|        David Julyan|        8.4| 1385725.0|/fKTPH2WvH8nHTXeB...|\n",
      "| 78|        Blade Runner|       7.941|   14213.0|Released|  1982-06-25|  41722424.0|  118.0| 28000000.0|tt0083658|               en|               Blade Runner|In the smog-choke...|   12.6714|Man has made his ...|Science Fiction, ...|Shaw Brothers, Th...|United States of ...|   English, Deutsch,...|Steve Pope, Ben A...|        Ridley Scott|      Jordan Cronenweth|Hampton Fancher, ...|Michael Deeley, R...|            Vangelis|        8.1|  857228.0|/63N9uy8nd9j7Eog2...|\n",
      "| 79|                Hero|         7.5|    2322.0|Released|  2002-07-22| 177394432.0|   99.0| 31000000.0|tt0299977|               zh|                       英雄|During China's Wa...|    7.1927|One man's strengt...|Drama, Adventure,...|Beijing New Pictu...|    Hong Kong, China|                 普通话|Ma Wen Hua, Donni...|         Zhang Yimou|      Christopher Doyle|Feng Li, Zhang Yi...|Zhang Yimou, Shou...|             Tan Dun|        7.9|  191148.0|/1NBtOH3KPU9UUp1v...|\n",
      "| 80|       Before Sunset|         7.8|    3513.0|Released|  2004-06-16|  15992615.0|   80.0|  2700000.0|tt0381681|               en|              Before Sunset|Nine years later,...|    3.5591|What if you had a...|      Drama, Romance|Warner Independen...|United States of ...|      English, Français|Louise Lemoine To...|   Richard Linklater|             Lee Daniel|Julie Delpy, Etha...|John Sloss, Richa...|                NULL|        8.1|  303923.0|/94Yl2xVB7YIRK4Ig...|\n",
      "| 81|Nausicaä of the V...|        7.95|    3757.0|Released|  1984-03-11|   9016411.0|  117.0|  1000000.0|tt0087544|               ja|           風の谷のナウシカ|After a global wa...|   10.0203|A young girl's lo...|Adventure, Animat...|Topcraft, Tokuma ...|               Japan|                 日本語|Shinji Nomura, Te...|      Hayao Miyazaki|                   NULL|Hayao Miyazaki, K...|Yasuyoshi Tokuma,...|        Joe Hisaishi|        8.0|  191509.0|/tcrkfB8SRPQCgwI8...|\n",
      "| 82|          Miami Vice|       6.012|    1836.0|Released|  2006-07-27| 163800000.0|  132.0|135000000.0|tt0430357|               en|                 Miami Vice|A case involving ...|    2.7916|No Law. No Rules....|Action, Crime, Th...|Universal Picture...|Germany, United S...|       English, Español|Maxim Danilov, Ja...|        Michael Mann|             Dion Beebe|Michael Mann, Ant...|Michael Mann, Pie...|         John Murphy|        6.1|  127883.0|/1KGD2g0wOc7WBfHc...|\n",
      "| 83|          Open Water|         5.5|    1079.0|Released|  2003-10-26|  54683487.0|   79.0|   120000.0|tt0374102|               en|                 Open Water|Two divers are le...|    1.8097|Scream all you want.|Drama, Thriller, ...|Plunge Pictures L...|United States of ...|                English|John Charles, Dan...|        Chris Kentis|   Chris Kentis, Lau...|        Chris Kentis|Estelle Lau, Laur...|       Graeme Revell|        5.8|   58072.0|/85o7BSpumewsd8Ko...|\n",
      "| 85|Raiders of the Lo...|       7.925|   12924.0|Released|  1981-06-12| 389925971.0|  115.0| 18000000.0|tt0082971|               en|       Raiders of the Lo...|When Dr. Indiana ...|   12.3841|The return of the...|   Adventure, Action|Paramount Picture...|United States of ...|   English, Español,...|Karen Allen, Ted ...|    Steven Spielberg|       Douglas Slocombe|Lawrence Kasdan, ...|George Lucas, How...|       John Williams|        8.4| 1079270.0|/ceG9VzoRAVGwivFU...|\n",
      "| 86|The Elementary Pa...|         6.2|     134.0|Released|  2006-02-10|         0.0|  105.0|  6000000.0|tt0430051|               de|          Elementarteilchen|Based on Michel H...|    11.706|                NULL|      Drama, Romance|Moovie, Medienfon...|             Germany|       English, Deutsch|Rüdiger Klink, Ch...|       Oskar Roehler|   Carl-Friedrich Ko...|Michel Houellebec...|Oliver Berben, Be...|    Martin Todsharow|        6.5|    8387.0|/wpGpR7GewyApPgqP...|\n",
      "| 87|Indiana Jones and...|       7.301|    9582.0|Released|  1984-05-23| 333000000.0|  118.0| 28000000.0|tt0087469|               en|       Indiana Jones and...|After arriving in...|    9.1554|If adventure has ...|   Adventure, Action|Paramount Picture...|United States of ...| 普通话, English, සිංහල|Denavaka Hamine, ...|    Steven Spielberg|       Douglas Slocombe|Philip Kaufman, G...|Frank Marshall, R...|       John Williams|        7.5|  554386.0|/t7Pv44sBcxhc47kN...|\n",
      "| 88|       Dirty Dancing|        7.33|    6265.0|Released|  1987-08-21| 214577242.0|  100.0|  6000000.0|tt0092890|               en|              Dirty Dancing|Expecting the usu...|   10.9668|First dance. Firs...|Drama, Music, Rom...|Great American Fi...|United States of ...|                English|Kelly Bishop, Cli...|      Emile Ardolino|            Jeffrey Jur|   Eleanor Bergstein|Linda Gottlieb, M...|         John Morris|        7.1|  270807.0|/9Jw6jys7q9gjzVX5...|\n",
      "| 89|Indiana Jones and...|       7.852|   10475.0|Released|  1989-05-24| 474171806.0|  127.0| 48000000.0|tt0097576|               en|       Indiana Jones and...|In 1938, an art c...|   10.1387|Have the adventur...|   Adventure, Action|Paramount Picture...|United States of ...|   العربية, English,...|J.J. Hardy, Jeff ...|    Steven Spielberg|       Douglas Slocombe|Philip Kaufman, J...|Robert Watts, Fra...|       John Williams|        8.2|  842214.0|/sizg1AU8f8JDZX4Q...|\n",
      "| 90|   Beverly Hills Cop|       7.203|    4315.0|Released|  1984-12-05| 316360478.0|  105.0| 14000000.0|tt0086960|               en|          Beverly Hills Cop|Fast-talking, qui...|    5.7788|He's been chased,...|Comedy, Crime, Ac...|Paramount Picture...|United States of ...|                English|Stephen Elliott, ...|        Martin Brest|          Bruce Surtees|Daniel Petrie Jr....|Jerry Bruckheimer...|Keith Forsey, Har...|        7.4|  225204.0|/eBJEvKkhQ0tUt1dB...|\n",
      "| 91|  Land Without Bread|         7.0|     155.0|Released|  1933-12-01|         0.0|   29.0|        0.0|tt0023037|               es|                 Las Hurdes|An exploration —m...|    1.1661|                NULL|         Documentary|          Ramón Acín|       France, Spain|            No Language|                NULL|         Luis Buñuel|              Eli Lotar|Pierre Unik, Maur...|Ramón Acín, Luis ...|      Darius Milhaud|        7.3|    6512.0|/nTizDiDbiVPCGqC6...|\n",
      "| 92|          Megacities|         6.8|      17.0|Released|  1998-08-12|         0.0|   94.0|        0.0|tt0169024|               en|                 Megacities|Megacities is a d...|     0.416|                NULL|         Documentary|Lotus-Film, Fama ...|Austria, Switzerland|   English, हिन्दी, ...|    Shankar Loutakke|   Michael Glawogger|        Wolfgang Thaler|   Michael Glawogger|Erich Lackner, Ro...|                NULL|        7.4|    1054.0|/qO48XLCG58cICOgA...|\n",
      "| 93| Anatomy of a Murder|         7.9|    1056.0|Released|  1959-07-01|   8000000.0|  161.0|  2000000.0|tt0052561|               en|        Anatomy of a Murder|Semi-retired Mich...|    2.9036|No search of huma...|Crime, Drama, Mys...|Columbia Pictures...|United States of ...|                English|Eve Arden, Howard...|      Otto Preminger|            Sam Leavitt|Wendell Mayes, Jo...|      Otto Preminger|      Duke Ellington|        8.0|   75578.0|/b2G1QSAwtBv9luhE...|\n",
      "| 94|          Kunstgriff|         7.5|       4.0|Released|  2002-01-01|         0.0|    6.0|        0.0|tt0436488|               de|                 Kunstgriff|Kunstgriff is a b...|     1.376|                NULL|              Comedy|Hamburger Filmschule|             Germany|            No Language|Ursula Buschhorn,...|       André F. Nebe|           Sven O. Hill|      Katrin Lehnert|    Raoul B. Reinert|                NULL|        6.7|      37.0|/82CFTXepfmETr2C4...|\n",
      "| 95|          Armageddon|       6.838|    8161.0|Released|  1998-07-01| 553799566.0|  151.0|140000000.0|tt0120591|               en|                 Armageddon|When an asteroid ...|   10.9073|For love. For hon...|Action, Thriller,...|Touchstone Pictur...|United States of ...|       English, Pусский|Ian Quinn, Christ...|         Michael Bay|       John Schwartzman|Shane Salerno, Jo...|Jerry Bruckheimer...|        Trevor Rabin|        6.7|  467835.0|/eTM3qtGhDU8cvjpo...|\n",
      "| 96|Beverly Hills Cop II|         6.5|    2639.0|Released|  1987-05-18| 299965036.0|  103.0| 28000000.0|tt0092644|               en|       Beverly Hills Cop II|Axel Foley return...|    4.1723|Axel Foley is bac...|Action, Comedy, C...|Eddie Murphy Prod...|United States of ...|                English|Uncle Ray Murphy,...|          Tony Scott|     Jeffrey L. Kimball|Daniel Petrie Jr....|Eddie Murphy, Don...|  Harold Faltermeyer|        6.6|  144129.0|/egDakU8O5yUwpUJP...|\n",
      "| 97|                Tron|       6.644|    2400.0|Released|  1982-07-09|  33000000.0|   95.0| 17000000.0|tt0084827|               en|                       Tron|When brilliant vi...|    5.8341|Journey now into ...|Science Fiction, ...|Lisberger/Kushner...|United States of ...|                English|Jeff Bridges, Ton...|    Steven Lisberger|            Bruce Logan|Steven Lisberger,...|Donald Kushner, H...|        Wendy Carlos|        6.7|  134949.0|/zwSFEczP7AzqugAH...|\n",
      "| 98|           Gladiator|       8.219|   19803.0|Released|  2000-05-04| 465516248.0|  155.0|103000000.0|tt0172495|               en|                  Gladiator|After the death o...|   18.1997|What we do in lif...|Action, Drama, Ad...|Universal Picture...|United Kingdom, U...|                English|Billy Dowd, Alun ...|        Ridley Scott|         John Mathieson|John Logan, David...|David Franzoni, R...|Lisa Gerrard, Han...|        8.5| 1770698.0|/ty8TGRuvJLPUmAR1...|\n",
      "| 99| All About My Mother|         7.6|    1948.0|Released|  1999-04-16|  67956089.0|  101.0|  8272296.0|tt0185125|               es|        Todo sobre mi madre|Following the tra...|    2.2962|Part of every wom...|       Comedy, Drama|El Deseo, Renn Pr...|       Spain, France|        Català, Español|Carmen Balagué, P...|     Pedro Almodóvar|          Affonso Beato|     Pedro Almodóvar|   Agustín Almodóvar|    Alberto Iglesias|        7.8|  107249.0|/hjQhzhkGYXPNM96k...|\n",
      "|100|Lock, Stock and T...|       8.113|    6794.0|Released|  1998-08-28|  28356188.0|  105.0|  1350000.0|tt0120735|               en|       Lock, Stock and T...|A card shark and ...|    3.1994|A Disgrace to Cri...|       Comedy, Crime|The Steve Tisch C...|United Kingdom, U...|                English|Andrew Tiernan, J...|         Guy Ritchie|      Tim Maurice-Jones|         Guy Ritchie|      Matthew Vaughn|David A. Hughes, ...|        8.1|  637267.0|/6pJB2t3MbQUy9m5p...|\n",
      "|101|Léon: The Profess...|       8.301|   15283.0|Released|  1994-09-14|  45284974.0|  111.0| 16000000.0|tt0110413|               fr|                       Léon|Léon, the top hit...|   12.9524|If you want the j...|Crime, Drama, Action|Gaumont, Les Film...|              France|   English, Français...|Steve Gonnelo, Je...|          Luc Besson|       Thierry Arbogast|          Luc Besson|Claude Besson, Pa...|          Éric Serra|        8.5| 1308830.0|/bxB2q91nKYp8JNzq...|\n",
      "|102|         Open Hearts|         7.0|     109.0|Released|  2002-09-06|         0.0|  113.0|        0.0|tt0315543|               da|       Elsker dig for evigt|Cecilie and Joach...|    1.5306|                NULL|      Drama, Romance|Zentropa Entertai...|             Denmark|                  Dansk|Sonja Richter, Ul...|        Susanne Bier|          Morten Søborg|Anders Thomas Jensen|Sisse Graum Jørge...|Jesper Winge Leisner|        7.5|   11364.0|/hOrV2fCw2kmSiS4Z...|\n",
      "|103|         Taxi Driver|       8.135|   12736.0|Released|  1976-02-09|  28579636.0|  114.0|  1900000.0|tt0075314|               en|                Taxi Driver|A mentally unstab...|    11.237|On every street i...|        Crime, Drama|Italo/Judeo Produ...|United States of ...|       English, Español|Jodie Foster, Jam...|     Martin Scorsese|        Michael Chapman|       Paul Schrader|Michael Phillips,...|    Bernard Herrmann|        8.2|  984880.0|/ekstpH614fwDX8DU...|\n",
      "|104|        Run Lola Run|         7.3|    2345.0|Released|  1998-08-20|   7660911.0|   81.0|  1530000.0|tt0130827|               de|                 Lola rennt|Lola receives a p...|    2.7927|Every second of e...|Action, Drama, Th...|X Filme Creative ...|             Germany|   Deutsch, English,...|Ludger Pistor, Ni...|          Tom Tykwer|           Frank Griebe|          Tom Tykwer|Andreas Schreitmü...|Reinhold Heil, To...|        7.6|  214003.0|/u34YzbFvX067IvJX...|\n",
      "|105|  Back to the Future|       8.322|   20650.0|Released|  1985-07-03| 381109762.0|  116.0| 19000000.0|tt0088763|               en|         Back to the Future|Eighties teenager...|   20.2051|He was never in t...|Adventure, Comedy...|Universal Picture...|United States of ...|                English|Tommy Thomas, Geo...|     Robert Zemeckis|            Dean Cundey|Bob Gale, Robert ...|Neil Canton, Kath...|      Alan Silvestri|        8.5| 1386084.0|/vN5B5WgYscRGcQpV...|\n",
      "|106|            Predator|       7.537|    8416.0|Released|  1987-06-12|  98267558.0|  107.0| 15000000.0|tt0093773|               en|                   Predator|A team of elite c...|   13.4409|Soon the hunt wil...|Science Fiction, ...|20th Century Fox,...|United States of ...|       English, Español|Sven-Ole Thorsen,...|      John McTiernan|        Donald McAlpine|Jim Thomas, John ...|Joel Silver, John...|      Alan Silvestri|        7.8|  480195.0|/k3mW4qfJo6SKqe6l...|\n",
      "|107|              Snatch|       7.811|    9337.0|Released|  2000-09-01|  83557872.0|  103.0| 10000000.0|tt0208092|               en|                     Snatch|Unscrupulous boxi...|   10.4624|Stealin' stones a...|       Crime, Comedy|           SKA Films|      United Kingdom|       English, Pусский|Mickey Dee, Andre...|         Guy Ritchie|      Tim Maurice-Jones|         Guy Ritchie|Peter Morton, Ste...|         John Murphy|        8.2|  950063.0|/8KSDI7ijEv7QVZdI...|\n",
      "|108|  Three Colors: Blue|       7.656|    1751.0|Released|  1993-09-08|   1527572.0|   98.0|        0.0|tt0108394|               fr|       Trois couleurs : ...|The wife of a fam...|    3.6328|                NULL|               Drama|MK2 Films, CED Pr...|France, Poland, S...|       Français, Polski|Alain Decaux, Jac...|Krzysztof Kieślowski|        Slawomir Idziak|Slawomir Idziak, ...|       Marin Karmitz|   Zbigniew Preisner|        7.8|  115622.0|/33wsWxzsNstI8N7d...|\n",
      "|109| Three Colors: White|       7.452|    1231.0|Released|  1994-01-26|   1273525.0|   92.0|        0.0|tt0111507|               fr|       Trois couleurs : ...|Polish immigrant ...|    4.1744|                NULL|Comedy, Drama, My...|MK2 Films, France...|France, Poland, S...|   Français, Magyar,...|Marianna Grodzka-...|Krzysztof Kieślowski|       Edward Kłosiński|Edward Kłosiński,...|Marin Karmitz, Yv...|   Zbigniew Preisner|        7.6|   83263.0|/fdIet3NSa27gobMb...|\n",
      "|110|   Three Colors: Red|       7.913|    1444.0|Released|  1994-05-12|   4127033.0|  100.0|        0.0|tt0111495|               fr|       Trois couleurs : ...|Part-time model V...|    4.9781|The invisible thr...|Drama, Mystery, R...|MK2 Films, France...|France, Poland, S...|               Français|Paul Vermeulen, B...|Krzysztof Kieślowski|       Piotr Sobociński|Krzysztof Piesiew...|Yvon Crenn, Marin...|Zbigniew Preisner...|        8.1|  114196.0|/JHmsBiX1tjCKqAul...|\n",
      "|111|            Scarface|       8.162|   12286.0|Released|  1983-12-09|  66023329.0|  170.0| 25000000.0|tt0086250|               en|                   Scarface|After getting a g...|    16.414|He loved the Amer...|Action, Crime, Drama|Universal Picture...|United States of ...|       English, Español|Richard Belzer, S...|      Brian De Palma|         John A. Alonzo|Oliver Stone, Ben...|Martin Bregman, L...|     Giorgio Moroder|        8.3|  972557.0|/iQ5ztdjvteGeboxt...|\n",
      "|112|Italian for Begin...|         6.3|     135.0|Released|  2000-12-07|  16350876.0|  118.0|  1000000.0|tt0243862|               da|       Italiensk for beg...|Several lonely he...|    1.1592|Attendance option...|Comedy, Drama, Ro...|Zentropa Entertai...|             Denmark|        Dansk, Italiano|Anette Støvelbæk,...|       Lone Scherfig|       Jørgen Johansson|Maeve Binchy, Lon...|Marianne Moritzen...|        Rune Palving|        7.0|   14267.0|/yviUKuVb9BXYPqkW...|\n",
      "|113|Spring, Summer, F...|         7.8|    1102.0|Released|  2003-09-19|   8945072.0|  103.0|        0.0|tt0374546|               ko|봄 여름 가을 겨울 그리고 봄|An isolated lake,...|    3.2644|What you like, ot...|               Drama|LJ Film, Korea Pi...|South Korea, Germany|          한국어/조선말|Park Ji-a, Kim Ki...|          Kim Ki-duk|        Baek Dong-hyeon|          Kim Ki-duk|Karl Baumgartner,...|       Park Ji-woong|        8.0|   89214.0|/6SQQ5REuAz7k0FMQ...|\n",
      "|114|        Pretty Woman|       7.463|    8547.0|Released|  1990-03-23| 463406268.0|  120.0| 14000000.0|tt0100405|               en|               Pretty Woman|While on a busine...|    9.2458|She walked off th...|     Romance, Comedy|Touchstone Pictur...|United States of ...|                English|Richard Gere, Bil...|      Garry Marshall|         Charles Minsky|         J.F. Lawton|Arnon Milchan, La...| James Newton Howard|        7.1|  388612.0|/hVHUfT801LQATGd2...|\n",
      "|115|    The Big Lebowski|       7.838|   11555.0|Released|  1998-03-06|  47010480.0|  117.0| 15000000.0|tt0118715|               en|           The Big Lebowski|Jeffrey 'The Dude...|    8.4753|Times like these ...|       Comedy, Crime|PolyGram Filmed E...|United Kingdom, U...|   English, עִבְרִית...|Dom Irrera, Peter...|           Joel Coen|          Roger Deakins|Joel Coen, Ethan ...|Eric Fellner, Tim...|      Carter Burwell|        8.1|  894023.0|/9mprbw31MGdd66LR...|\n",
      "|116|         Match Point|        7.36|    4159.0|Released|  2005-10-26|  85306374.0|  124.0| 15000000.0|tt0416320|               en|                Match Point|Chris, a former t...|    3.5307|There are no litt...|Drama, Thriller, ...|BBC Film, Thema P...|United Kingdom, U...|                English|Emily Gilchrist, ...|         Woody Allen|        Remi Adefarasin|         Woody Allen|Nicky Kentish Bar...|                NULL|        7.6|  234362.0|/vHjEVTD8ucuwKSFO...|\n",
      "|117|    The Untouchables|       7.757|    5845.0|Released|  1987-06-03|  76270454.0|  119.0| 25000000.0|tt0094226|               en|           The Untouchables|Elliot Ness, an a...|    4.8969|What are you prep...|Crime, History, T...|Paramount Picture...|United States of ...|                English|Eddie Minasian, W...|      Brian De Palma|       Stephen H. Burum|Chip Miller, Osca...|          Art Linson|     Ennio Morricone|        7.8|  345024.0|/8BquGK22zCcsmBWi...|\n",
      "|118|Charlie and the C...|       7.043|   15492.0|Released|  2005-07-13| 475000000.0|  115.0|150000000.0|tt0367594|               en|       Charlie and the C...|A young boy wins ...|   14.0929|Prepare for a tas...|Adventure, Comedy...|Warner Bros. Pict...|United Kingdom, U...|                English|Hubertus Geller, ...|          Tim Burton|     Philippe Rousselot|Roald Dahl, John ...|Michael Siegel, L...|        Danny Elfman|        6.7|  553483.0|/iKP6wg3c6COUe8gY...|\n",
      "|120|The Lord of the R...|       8.423|   26097.0|Released|  2001-12-18| 871368364.0|  179.0| 93000000.0|tt0120737|               en|       The Lord of the R...|Young hobbit Frod...|   26.6214|One ring to rule ...|Adventure, Fantas...|New Line Cinema, ...|New Zealand, Unit...|                English|Rodney Bane, Ian ...|       Peter Jackson|          Andrew Lesnie|J. R. R. Tolkien,...|Michael Lynne, Pe...|        Howard Shore|        8.9| 2120159.0|/6oom5QYQ2yQTMJIb...|\n",
      "|121|The Lord of the R...|       8.407|   22691.0|Released|  2002-12-18| 926287400.0|  179.0| 79000000.0|tt0167261|               en|       The Lord of the R...|Frodo Baggins and...|   15.8225|The fellowship is...|Adventure, Fantas...|New Line Cinema, ...|New Zealand, Unit...|                English|Sean Astin, John ...|       Peter Jackson|          Andrew Lesnie|J. R. R. Tolkien,...|Michael Lynne, Bo...|        Howard Shore|        8.8| 1883497.0|/5VTN0pR8gcqV3EPU...|\n",
      "|122|The Lord of the R...|       8.487|   25200.0|Released|  2003-12-17|1118888979.0|  201.0| 94000000.0|tt0167260|               en|       The Lord of the R...|As armies mass fo...|   20.3747|There can be no t...|Adventure, Fantas...|New Line Cinema, ...|New Zealand, Unit...|                English|Thomas Robins, Ro...|       Peter Jackson|          Andrew Lesnie|Peter Jackson, Fr...|Harvey Weinstein,...|        Howard Shore|        9.0| 2089077.0|/rCzpDGLbOoPwLjy3...|\n",
      "|123|The Lord of the R...|         6.6|     968.0|Released|  1978-11-15|  30500000.0|  132.0|  4000000.0|tt0077869|               en|       The Lord of the R...|The Fellowship of...|    3.6034|Fantasy...beyond ...|Adventure, Animat...|Fantasy Films, Ba...|United Kingdom, U...|                English|Billy Barty, Chuc...|        Ralph Bakshi|         Timothy Galfas|Peter S. Beagle, ...|Saul Zaentz, Nanc...|    Leonard Rosenman|        6.2|   38054.0|/liW0mjvTyLs7UCum...|\n",
      "|124|              No End|         6.9|     106.0|Released|  1985-06-17|         0.0|  108.0|        0.0|tt0086961|               pl|                  Bez końca|1982, Poland. A t...|    0.6767|                NULL|               Drama|  Zespół Filmowy Tor|              Poland|        English, Polski|Tadeusz Bradecki,...|Krzysztof Kieślowski|         Jacek Petrycki|Krzysztof Piesiew...|                NULL|   Zbigniew Preisner|        7.3|    6070.0|/3pdF1guvIxNgmhDk...|\n",
      "|125|     Railway Station|         4.8|      30.0|Released|  1980-01-01|         0.0|   13.0|        0.0|tt0080668|               pl|                    Dworzec|Kieslowski’s late...|      2.74|                NULL|         Documentary|Wytwórnia Filmów ...|              Poland|                 Polski|                NULL|Krzysztof Kieślowski|            Witold Stok|                NULL|                NULL|                NULL|        6.4|     717.0|/c4xG9QoCx2zXc8iP...|\n",
      "|126|   Short Working Day|         6.4|       8.0|Released|  1995-11-02|         0.0|   73.0|        0.0|tt0082631|               pl|         Krótki dzień pracy|A dramatisation o...|     0.151|                NULL|     Drama, TV Movie|Telewizja Polska,...|              Poland|                 Polski|Michał Szewczyk, ...|Krzysztof Kieślowski|     Krzysztof Pakulski|Hanna Krall, Krzy...|Andrzej Rafał Wal...|Jan Kanty Pawluśk...|        6.8|     426.0|/rJwiDSoKI3ryiLTZ...|\n",
      "|127|        Blind Chance|         7.5|     220.0|Released|  1987-01-10|         0.0|  117.0|        0.0|tt0084549|               pl|                  Przypadek|Witek runs after ...|    1.0656|                NULL|               Drama|  Zespół Filmowy Tor|              Poland|                 Polski|Piotr Skarga, Ale...|Krzysztof Kieślowski|     Krzysztof Pakulski|Krzysztof Kieślowski|                NULL|      Wojciech Kilar|        7.7|   11883.0|/gx84VmJllqvXF3JE...|\n",
      "|128|   Princess Mononoke|         8.3|    8408.0|Released|  1997-07-12| 176506186.0|  134.0| 23500000.0|tt0119698|               ja|                 もののけ姫|Ashitaka, a princ...|   14.1891|The fate of the w...|Adventure, Fantas...|Studio Ghibli, Ni...|               Japan|                 日本語|Yoji Matsuda, Yos...|      Hayao Miyazaki|           Atsushi Okui|      Hayao Miyazaki|Seiji Okuda, Tosh...|        Joe Hisaishi|        8.3|  463410.0|/cMYCDADoLKLbB83g...|\n",
      "|129|       Spirited Away|         8.5|   17251.0|Released|  2001-07-20| 274925095.0|  125.0| 19000000.0|tt0245429|               ja|           千と千尋の神隠し|A young girl, Chi...|   16.8977|On the other side...|Animation, Family...|       Studio Ghibli|               Japan|                 日本語|Tetsurô Ishibashi...|      Hayao Miyazaki|           Atsushi Okui|      Hayao Miyazaki|Yasuyoshi Tokuma,...|        Joe Hisaishi|        8.6|  917480.0|/39wmItIWsg5sZMyR...|\n",
      "|132|       Gimme Shelter|         7.3|     174.0|Released|  1970-12-13|    252570.0|   92.0|        0.0|tt0065780|               en|              Gimme Shelter|A detailed chroni...|     0.786|The music that th...|  Documentary, Music|Maysles Films, Pe...|United States of ...|                English|Michael Shrieve, ...|David Maysles, Ch...|   David Maysles, Al...|                NULL|    Ronald Schneider|                NULL|        7.8|   13434.0|/6Cem6KcIClKit3Kh...|\n",
      "|133|             Primary|         6.4|      36.0|Released|  1960-11-08|         0.0|   53.0|        0.0|tt0054205|               en|                    Primary|Primary is a docu...|    1.4268|                NULL|         Documentary|     Drew Associates|United States of ...|                English|Clement John Zabl...|         Robert Drew|   Richard Leacock, ...|         Robert Drew|         Robert Drew|                NULL|        7.1|    1589.0|/gVloWsthHRlw719v...|\n",
      "|134|O Brother, Where ...|       7.319|    4298.0|Released|  2000-08-30|  71900000.0|  107.0| 26000000.0|tt0190590|               en|       O Brother, Where ...|In the deep south...|    4.2586|They have a plan,...|Adventure, Comedy...|Touchstone Pictur...|France, United Ki...|                English|Ray McKinnon, Bri...|           Joel Coen|          Roger Deakins|Joel Coen, Homer,...|Eric Fellner, Tim...|      T Bone Burnett|        7.7|  342578.0|/s9foMAcLg8GEzzQz...|\n",
      "|135|      Dont Look Back|         7.4|     159.0|Released|  1967-05-17|         0.0|   96.0|        0.0|tt0061589|               en|             Dont Look Back|In this wildly en...|    0.8196|                NULL|  Documentary, Music|  Leacock-Pennebaker|United States of ...|                English|Allen Ginsberg, D...|    D. A. Pennebaker|                   NULL|    D. A. Pennebaker|Albert Grossman, ...|           Bob Dylan|        7.9|   10707.0|/1vHwTdtO1oZ0C67q...|\n",
      "|136|              Freaks|         7.8|    1225.0|Released|  1932-01-01|         0.0|   66.0|   310607.0|tt0022913|               en|                     Freaks|A circus' beautif...|    2.5984|Can a full grown ...|       Drama, Horror| Metro-Goldwyn-Mayer|United States of ...|   English, Français...|Schlitzie, Murray...|        Tod Browning|     Merritt B. Gerstad|Clarence Aaron 'T...|Irving Thalberg, ...|                NULL|        7.8|   52983.0|/fX2Wxd0W9E7eVClU...|\n",
      "|137|       Groundhog Day|         7.6|    8314.0|Released|  1993-02-11|  71108778.0|  101.0| 14600000.0|tt0107048|               en|              Groundhog Day|A narcissistic TV...|    6.7692|He’s having the w...|Romance, Fantasy,...|   Columbia Pictures|United States of ...|   English, Français...|Hynden Walch, Bar...|        Harold Ramis|            John Bailey|Danny Rubin, Haro...|Trevor Albert, Ha...|       George Fenton|        8.0|  719926.0|/gCgt1WARPZaXnq52...|\n",
      "+---+--------------------+------------+----------+--------+------------+------------+-------+-----------+---------+-----------------+---------------------------+--------------------+----------+--------------------+--------------------+--------------------+--------------------+-----------------------+--------------------+--------------------+-----------------------+--------------------+--------------------+--------------------+-----------+----------+--------------------+\n",
      "only showing top 100 rows\n"
     ]
    }
   ],
   "source": [
    "import pandas as pd\n",
    "import pyspark\n",
    "from pyspark.sql import SparkSession\n",
    "\n",
    "spark = SparkSession.builder.appName(\"Movie recommender\").getOrCreate()\n",
    "\n",
    "print(spark.version)\n",
    "\n",
    "df = spark.read.csv(\"../data/TMDB_all_movies.csv\", header=True, inferSchema=True, sep=\",\", quote='\"', escape='\"')\n",
    "df.show(100)\n",
    "\n",
    "\n",
    "# df = pd.read_csv(\"../data/TMDB_all_movies.csv\")\n",
    "\n",
    "# df.head(5)\n"
   ]
  },
  {
   "cell_type": "markdown",
   "id": "c3c3531c",
   "metadata": {},
   "source": [
    "## 2. Exploration"
   ]
  },
  {
   "cell_type": "code",
   "execution_count": 65,
   "id": "13124b5c",
   "metadata": {},
   "outputs": [
    {
     "name": "stdout",
     "output_type": "stream",
     "text": [
      "root\n",
      " |-- id: string (nullable = true)\n",
      " |-- title: string (nullable = true)\n",
      " |-- vote_average: string (nullable = true)\n",
      " |-- vote_count: string (nullable = true)\n",
      " |-- status: string (nullable = true)\n",
      " |-- release_date: string (nullable = true)\n",
      " |-- revenue: string (nullable = true)\n",
      " |-- runtime: string (nullable = true)\n",
      " |-- budget: string (nullable = true)\n",
      " |-- imdb_id: string (nullable = true)\n",
      " |-- original_language: string (nullable = true)\n",
      " |-- original_title: string (nullable = true)\n",
      " |-- overview: string (nullable = true)\n",
      " |-- popularity: string (nullable = true)\n",
      " |-- tagline: string (nullable = true)\n",
      " |-- genres: string (nullable = true)\n",
      " |-- production_companies: string (nullable = true)\n",
      " |-- production_countries: string (nullable = true)\n",
      " |-- spoken_languages: string (nullable = true)\n",
      " |-- cast: string (nullable = true)\n",
      " |-- director: string (nullable = true)\n",
      " |-- director_of_photography: string (nullable = true)\n",
      " |-- writers: string (nullable = true)\n",
      " |-- producers: string (nullable = true)\n",
      " |-- music_composer: string (nullable = true)\n",
      " |-- imdb_rating: string (nullable = true)\n",
      " |-- imdb_votes: string (nullable = true)\n",
      " |-- poster_path: string (nullable = true)\n",
      "\n"
     ]
    }
   ],
   "source": [
    "df.printSchema()"
   ]
  },
  {
   "cell_type": "code",
   "execution_count": 66,
   "id": "1c6e739b",
   "metadata": {},
   "outputs": [
    {
     "name": "stderr",
     "output_type": "stream",
     "text": [
      "[Stage 53:================================================>         (5 + 1) / 6]\r"
     ]
    },
    {
     "name": "stdout",
     "output_type": "stream",
     "text": [
      "+---+-----+------------+----------+------+------------+-------+-------+------+-------+-----------------+--------------+--------+----------+-------+------+--------------------+--------------------+----------------+------+--------+-----------------------+-------+---------+--------------+-----------+----------+-----------+\n",
      "| id|title|vote_average|vote_count|status|release_date|revenue|runtime|budget|imdb_id|original_language|original_title|overview|popularity|tagline|genres|production_companies|production_countries|spoken_languages|  cast|director|director_of_photography|writers|producers|music_composer|imdb_rating|imdb_votes|poster_path|\n",
      "+---+-----+------------+----------+------+------------+-------+-------+------+-------+-----------------+--------------+--------+----------+-------+------+--------------------+--------------------+----------------+------+--------+-----------------------+-------+---------+--------------+-----------+----------+-----------+\n",
      "|  0| 4574|        6152|      6285|  6694|      137572|   6836|   6596|  6592| 499214|             7153|          7381|  195902|     10404| 956512|328481|              606280|              453130|          435803|377470|  209267|                 848718| 578983|   762954|       1012546|     676288|    676295|     316276|\n",
      "+---+-----+------------+----------+------+------------+-------+-------+------+-------+-----------------+--------------+--------+----------+-------+------+--------------------+--------------------+----------------+------+--------+-----------------------+-------+---------+--------------+-----------+----------+-----------+\n",
      "\n"
     ]
    },
    {
     "name": "stderr",
     "output_type": "stream",
     "text": [
      "                                                                                \r"
     ]
    }
   ],
   "source": [
    "# df.isna().sum()\n",
    "# df.isnull().sum() avec spark\n",
    "df.select([pyspark.sql.functions.count(pyspark.sql.functions.when(pyspark.sql.functions.col(c).isNull(), c)).alias(c) for c in df.columns]).show()\n",
    "\n"
   ]
  },
  {
   "cell_type": "code",
   "execution_count": 67,
   "id": "9c32169a",
   "metadata": {},
   "outputs": [
    {
     "name": "stderr",
     "output_type": "stream",
     "text": [
      "[Stage 56:================================================>         (5 + 1) / 6]\r"
     ]
    },
    {
     "name": "stdout",
     "output_type": "stream",
     "text": [
      "+--------------------+-----+\n",
      "|               title|count|\n",
      "+--------------------+-----+\n",
      "|       Heading South|    2|\n",
      "|                Nell|    3|\n",
      "|             Nemesis|   20|\n",
      "|          Der Tunnel|    6|\n",
      "|              Deszcz|    2|\n",
      "|         Deep Rising|    2|\n",
      "|    Straight to Hell|    2|\n",
      "|Dance with the Devil|    4|\n",
      "|              Room 6|    2|\n",
      "|              Heaven|   30|\n",
      "|                Silk|   14|\n",
      "|       Crossing Over|   10|\n",
      "|   What No One Knows|    2|\n",
      "|        The Big Bang|    6|\n",
      "|          Riverworld|    2|\n",
      "|       Sugar & Spice|    4|\n",
      "|            Deep Red|    4|\n",
      "|        Miracle Mile|    2|\n",
      "|             Larceny|    4|\n",
      "|     My Name Is Khan|    2|\n",
      "|        Generation X|    2|\n",
      "|      A Woman's Face|    3|\n",
      "|         It's a Gift|    2|\n",
      "|    La Vie de Bohème|    2|\n",
      "|             Amateur|   14|\n",
      "|              Crisis|   17|\n",
      "|  A Woman Is a Woman|    2|\n",
      "|       Natural Enemy|    2|\n",
      "|           Surprise!|   12|\n",
      "|Diary of a Chambe...|    3|\n",
      "|         Lesser Evil|    2|\n",
      "|                Goth|    3|\n",
      "|            On Guard|    4|\n",
      "|          Night Eyes|    3|\n",
      "|          Nightmares|   13|\n",
      "|A Christmas Proposal|    3|\n",
      "|   The Corn Is Green|    2|\n",
      "|           Stay Gold|    2|\n",
      "|            The City|   23|\n",
      "|    The Stool Pigeon|    3|\n",
      "|                   K|    9|\n",
      "|         Lovely Rita|    3|\n",
      "|           The Salon|    2|\n",
      "|        See Jane Run|    3|\n",
      "|    The Star Boarder|    2|\n",
      "|        Checking Out|    3|\n",
      "|                 Kin|   21|\n",
      "|Loves Me, Loves M...|    3|\n",
      "|         The Lullaby|    3|\n",
      "|   The Biscuit Eater|    2|\n",
      "|          Red Square|    5|\n",
      "|  Horowitz in Moscow|    2|\n",
      "|  The Murdered House|    2|\n",
      "|      Snowman's Land|    2|\n",
      "|       The Encounter|   20|\n",
      "|Revenge: A Love S...|    2|\n",
      "|      Return to Life|    6|\n",
      "|             Errance|    4|\n",
      "|               Virgo|    4|\n",
      "|     My Dear Brother|    2|\n",
      "|       The Beginning|   27|\n",
      "|            Disraeli|    4|\n",
      "|      An Early Frost|    3|\n",
      "|               Apart|   17|\n",
      "|      Doctor Faustus|    5|\n",
      "|Heart of the Country|    2|\n",
      "|     The Queen and I|    2|\n",
      "|           El Diablo|    3|\n",
      "|                Ritu|    2|\n",
      "|We Can't Go Home ...|    2|\n",
      "|      Serpent's Path|    2|\n",
      "|Origin of the Spe...|    3|\n",
      "|    The Man Upstairs|    5|\n",
      "|             Susanna|    5|\n",
      "|    Thunder Mountain|    3|\n",
      "|        Room to Move|    2|\n",
      "|           Naufragio|    2|\n",
      "|          Quo Vadis?|    6|\n",
      "|      The Young Ones|    4|\n",
      "|      The Dressmaker|    5|\n",
      "|              Easter|   13|\n",
      "|           Sweet Jam|    2|\n",
      "| Stranger at My Door|    2|\n",
      "|                Maze|    8|\n",
      "|    Blue Suede Shoes|    2|\n",
      "|              Keemat|    2|\n",
      "|          Autumn Sun|    3|\n",
      "|            The Moth|    8|\n",
      "|           On My Way|    7|\n",
      "|      Where Are You?|    8|\n",
      "|     Ain't She Sweet|    2|\n",
      "|Morning, Noon and...|    2|\n",
      "|     The Setting Sun|    2|\n",
      "|          The Farmer|   10|\n",
      "|                Utah|    3|\n",
      "|        Anna Lucasta|    2|\n",
      "|           Zero Zero|    3|\n",
      "|          Growing Up|   12|\n",
      "|   Under Texas Skies|    2|\n",
      "|    Sunday Afternoon|    4|\n",
      "+--------------------+-----+\n",
      "only showing top 100 rows\n"
     ]
    },
    {
     "name": "stderr",
     "output_type": "stream",
     "text": [
      "                                                                                \r"
     ]
    }
   ],
   "source": [
    "# A faire :\n",
    "\n",
    "# enlever toutes les lignes qui ne sont pas en release\n",
    "# ensuite enlever la colonne \"status\"\n",
    "# enlever imdb_id, tagline, director_of_photography, producers, imdb_rating, imdb_votes,\n",
    "# drop les lignes qui n'ont pas d'overview\n",
    "\n",
    "# Enlever les données non important pour le calcul et les mettre de coter pour plus tard\n",
    "  # id, title, original_title, poster_path\n",
    "\n",
    "# df[\"status\"].unique()\n",
    "# df[\"genres\"]\n",
    "from pyspark.sql.functions import count, col\n",
    "\n",
    "duplicate_titles = (\n",
    "    df.groupBy(\"title\") \\\n",
    "      .agg(count(\"*\").alias(\"count\"))\\\n",
    "      .filter(col(\"count\") > 1)\\\n",
    ")\n",
    "\n",
    "duplicate_titles.show(100)\n",
    "\n",
    "\n"
   ]
  },
  {
   "cell_type": "code",
   "execution_count": 70,
   "id": "1409b383",
   "metadata": {},
   "outputs": [
    {
     "name": "stderr",
     "output_type": "stream",
     "text": [
      "25/07/07 14:36:38 ERROR Executor: Exception in task 0.0 in stage 61.0 (TID 127)\n",
      "org.apache.spark.SparkNumberFormatException: [CAST_INVALID_INPUT] The value '28.0' of the type \"STRING\" cannot be cast to \"INT\" because it is malformed. Correct the value as per the syntax, or change its target type. Use `try_cast` to tolerate malformed input and return NULL instead. SQLSTATE: 22018\n",
      "== DataFrame ==\n",
      "\"cast\" was called from\n",
      "line 11 in cell [69]\n",
      "\n",
      "\tat org.apache.spark.sql.errors.QueryExecutionErrors$.invalidInputInCastToNumberError(QueryExecutionErrors.scala:145)\n",
      "\tat org.apache.spark.sql.catalyst.util.UTF8StringUtils$.withException(UTF8StringUtils.scala:51)\n",
      "\tat org.apache.spark.sql.catalyst.util.UTF8StringUtils$.toIntExact(UTF8StringUtils.scala:34)\n",
      "\tat org.apache.spark.sql.catalyst.util.UTF8StringUtils.toIntExact(UTF8StringUtils.scala)\n",
      "\tat org.apache.spark.sql.catalyst.expressions.GeneratedClass$GeneratedIteratorForCodegenStage1.processNext(Unknown Source)\n",
      "\tat org.apache.spark.sql.execution.BufferedRowIterator.hasNext(BufferedRowIterator.java:43)\n",
      "\tat org.apache.spark.sql.execution.WholeStageCodegenEvaluatorFactory$WholeStageCodegenPartitionEvaluator$$anon$1.hasNext(WholeStageCodegenEvaluatorFactory.scala:50)\n",
      "\tat org.apache.spark.sql.execution.SparkPlan.$anonfun$getByteArrayRdd$1(SparkPlan.scala:402)\n",
      "\tat org.apache.spark.rdd.RDD.$anonfun$mapPartitionsInternal$2(RDD.scala:901)\n",
      "\tat org.apache.spark.rdd.RDD.$anonfun$mapPartitionsInternal$2$adapted(RDD.scala:901)\n",
      "\tat org.apache.spark.rdd.MapPartitionsRDD.compute(MapPartitionsRDD.scala:52)\n",
      "\tat org.apache.spark.rdd.RDD.computeOrReadCheckpoint(RDD.scala:374)\n",
      "\tat org.apache.spark.rdd.RDD.iterator(RDD.scala:338)\n",
      "\tat org.apache.spark.scheduler.ResultTask.runTask(ResultTask.scala:93)\n",
      "\tat org.apache.spark.TaskContext.runTaskWithListeners(TaskContext.scala:171)\n",
      "\tat org.apache.spark.scheduler.Task.run(Task.scala:147)\n",
      "\tat org.apache.spark.executor.Executor$TaskRunner.$anonfun$run$5(Executor.scala:647)\n",
      "\tat org.apache.spark.util.SparkErrorUtils.tryWithSafeFinally(SparkErrorUtils.scala:80)\n",
      "\tat org.apache.spark.util.SparkErrorUtils.tryWithSafeFinally$(SparkErrorUtils.scala:77)\n",
      "\tat org.apache.spark.util.Utils$.tryWithSafeFinally(Utils.scala:99)\n",
      "\tat org.apache.spark.executor.Executor$TaskRunner.run(Executor.scala:650)\n",
      "\tat java.base/java.util.concurrent.ThreadPoolExecutor.runWorker(ThreadPoolExecutor.java:1144)\n",
      "\tat java.base/java.util.concurrent.ThreadPoolExecutor$Worker.run(ThreadPoolExecutor.java:642)\n",
      "\tat java.base/java.lang.Thread.run(Thread.java:1583)\n",
      "25/07/07 14:36:38 WARN TaskSetManager: Lost task 0.0 in stage 61.0 (TID 127) (artefact-de-vm-alniang.europe-west1-d.c.data-engineering-461712.internal executor driver): org.apache.spark.SparkNumberFormatException: [CAST_INVALID_INPUT] The value '28.0' of the type \"STRING\" cannot be cast to \"INT\" because it is malformed. Correct the value as per the syntax, or change its target type. Use `try_cast` to tolerate malformed input and return NULL instead. SQLSTATE: 22018\n",
      "== DataFrame ==\n",
      "\"cast\" was called from\n",
      "line 11 in cell [69]\n",
      "\n",
      "\tat org.apache.spark.sql.errors.QueryExecutionErrors$.invalidInputInCastToNumberError(QueryExecutionErrors.scala:145)\n",
      "\tat org.apache.spark.sql.catalyst.util.UTF8StringUtils$.withException(UTF8StringUtils.scala:51)\n",
      "\tat org.apache.spark.sql.catalyst.util.UTF8StringUtils$.toIntExact(UTF8StringUtils.scala:34)\n",
      "\tat org.apache.spark.sql.catalyst.util.UTF8StringUtils.toIntExact(UTF8StringUtils.scala)\n",
      "\tat org.apache.spark.sql.catalyst.expressions.GeneratedClass$GeneratedIteratorForCodegenStage1.processNext(Unknown Source)\n",
      "\tat org.apache.spark.sql.execution.BufferedRowIterator.hasNext(BufferedRowIterator.java:43)\n",
      "\tat org.apache.spark.sql.execution.WholeStageCodegenEvaluatorFactory$WholeStageCodegenPartitionEvaluator$$anon$1.hasNext(WholeStageCodegenEvaluatorFactory.scala:50)\n",
      "\tat org.apache.spark.sql.execution.SparkPlan.$anonfun$getByteArrayRdd$1(SparkPlan.scala:402)\n",
      "\tat org.apache.spark.rdd.RDD.$anonfun$mapPartitionsInternal$2(RDD.scala:901)\n",
      "\tat org.apache.spark.rdd.RDD.$anonfun$mapPartitionsInternal$2$adapted(RDD.scala:901)\n",
      "\tat org.apache.spark.rdd.MapPartitionsRDD.compute(MapPartitionsRDD.scala:52)\n",
      "\tat org.apache.spark.rdd.RDD.computeOrReadCheckpoint(RDD.scala:374)\n",
      "\tat org.apache.spark.rdd.RDD.iterator(RDD.scala:338)\n",
      "\tat org.apache.spark.scheduler.ResultTask.runTask(ResultTask.scala:93)\n",
      "\tat org.apache.spark.TaskContext.runTaskWithListeners(TaskContext.scala:171)\n",
      "\tat org.apache.spark.scheduler.Task.run(Task.scala:147)\n",
      "\tat org.apache.spark.executor.Executor$TaskRunner.$anonfun$run$5(Executor.scala:647)\n",
      "\tat org.apache.spark.util.SparkErrorUtils.tryWithSafeFinally(SparkErrorUtils.scala:80)\n",
      "\tat org.apache.spark.util.SparkErrorUtils.tryWithSafeFinally$(SparkErrorUtils.scala:77)\n",
      "\tat org.apache.spark.util.Utils$.tryWithSafeFinally(Utils.scala:99)\n",
      "\tat org.apache.spark.executor.Executor$TaskRunner.run(Executor.scala:650)\n",
      "\tat java.base/java.util.concurrent.ThreadPoolExecutor.runWorker(ThreadPoolExecutor.java:1144)\n",
      "\tat java.base/java.util.concurrent.ThreadPoolExecutor$Worker.run(ThreadPoolExecutor.java:642)\n",
      "\tat java.base/java.lang.Thread.run(Thread.java:1583)\n",
      "\n",
      "25/07/07 14:36:38 ERROR TaskSetManager: Task 0 in stage 61.0 failed 1 times; aborting job\n",
      "{\"ts\": \"2025-07-07 14:36:38.575\", \"level\": \"ERROR\", \"logger\": \"DataFrameQueryContextLogger\", \"msg\": \"[CAST_INVALID_INPUT] The value '28.0' of the type \\\"STRING\\\" cannot be cast to \\\"INT\\\" because it is malformed. Correct the value as per the syntax, or change its target type. Use `try_cast` to tolerate malformed input and return NULL instead. SQLSTATE: 22018\", \"context\": {\"file\": \"line 11 in cell [69]\", \"line\": \"\", \"fragment\": \"cast\", \"errorClass\": \"CAST_INVALID_INPUT\"}, \"exception\": {\"class\": \"Py4JJavaError\", \"msg\": \"An error occurred while calling o1292.showString.\\n: org.apache.spark.SparkNumberFormatException: [CAST_INVALID_INPUT] The value '28.0' of the type \\\"STRING\\\" cannot be cast to \\\"INT\\\" because it is malformed. Correct the value as per the syntax, or change its target type. Use `try_cast` to tolerate malformed input and return NULL instead. SQLSTATE: 22018\\n== DataFrame ==\\n\\\"cast\\\" was called from\\nline 11 in cell [69]\\n\\n\\tat org.apache.spark.sql.errors.QueryExecutionErrors$.invalidInputInCastToNumberError(QueryExecutionErrors.scala:145)\\n\\tat org.apache.spark.sql.catalyst.util.UTF8StringUtils$.withException(UTF8StringUtils.scala:51)\\n\\tat org.apache.spark.sql.catalyst.util.UTF8StringUtils$.toIntExact(UTF8StringUtils.scala:34)\\n\\tat org.apache.spark.sql.catalyst.util.UTF8StringUtils.toIntExact(UTF8StringUtils.scala)\\n\\tat org.apache.spark.sql.catalyst.expressions.GeneratedClass$GeneratedIteratorForCodegenStage1.processNext(Unknown Source)\\n\\tat org.apache.spark.sql.execution.BufferedRowIterator.hasNext(BufferedRowIterator.java:43)\\n\\tat org.apache.spark.sql.execution.WholeStageCodegenEvaluatorFactory$WholeStageCodegenPartitionEvaluator$$anon$1.hasNext(WholeStageCodegenEvaluatorFactory.scala:50)\\n\\tat org.apache.spark.sql.execution.SparkPlan.$anonfun$getByteArrayRdd$1(SparkPlan.scala:402)\\n\\tat org.apache.spark.rdd.RDD.$anonfun$mapPartitionsInternal$2(RDD.scala:901)\\n\\tat org.apache.spark.rdd.RDD.$anonfun$mapPartitionsInternal$2$adapted(RDD.scala:901)\\n\\tat org.apache.spark.rdd.MapPartitionsRDD.compute(MapPartitionsRDD.scala:52)\\n\\tat org.apache.spark.rdd.RDD.computeOrReadCheckpoint(RDD.scala:374)\\n\\tat org.apache.spark.rdd.RDD.iterator(RDD.scala:338)\\n\\tat org.apache.spark.scheduler.ResultTask.runTask(ResultTask.scala:93)\\n\\tat org.apache.spark.TaskContext.runTaskWithListeners(TaskContext.scala:171)\\n\\tat org.apache.spark.scheduler.Task.run(Task.scala:147)\\n\\tat org.apache.spark.executor.Executor$TaskRunner.$anonfun$run$5(Executor.scala:647)\\n\\tat org.apache.spark.util.SparkErrorUtils.tryWithSafeFinally(SparkErrorUtils.scala:80)\\n\\tat org.apache.spark.util.SparkErrorUtils.tryWithSafeFinally$(SparkErrorUtils.scala:77)\\n\\tat org.apache.spark.util.Utils$.tryWithSafeFinally(Utils.scala:99)\\n\\tat org.apache.spark.executor.Executor$TaskRunner.run(Executor.scala:650)\\n\\tat java.base/java.util.concurrent.ThreadPoolExecutor.runWorker(ThreadPoolExecutor.java:1144)\\n\\tat java.base/java.util.concurrent.ThreadPoolExecutor$Worker.run(ThreadPoolExecutor.java:642)\\n\\tat java.base/java.lang.Thread.run(Thread.java:1583)\\n\\tat org.apache.spark.scheduler.DAGScheduler.runJob(DAGScheduler.scala:1009)\\n\\tat org.apache.spark.SparkContext.runJob(SparkContext.scala:2484)\\n\\tat org.apache.spark.SparkContext.runJob(SparkContext.scala:2505)\\n\\tat org.apache.spark.SparkContext.runJob(SparkContext.scala:2524)\\n\\tat org.apache.spark.sql.execution.SparkPlan.executeTake(SparkPlan.scala:544)\\n\\tat org.apache.spark.sql.execution.SparkPlan.executeTake(SparkPlan.scala:497)\\n\\tat org.apache.spark.sql.execution.CollectLimitExec.executeCollect(limit.scala:58)\\n\\tat org.apache.spark.sql.classic.Dataset.collectFromPlan(Dataset.scala:2244)\\n\\tat org.apache.spark.sql.classic.Dataset.$anonfun$head$1(Dataset.scala:1379)\\n\\tat org.apache.spark.sql.classic.Dataset.$anonfun$withAction$2(Dataset.scala:2234)\\n\\tat org.apache.spark.sql.execution.QueryExecution$.withInternalError(QueryExecution.scala:654)\\n\\tat org.apache.spark.sql.classic.Dataset.$anonfun$withAction$1(Dataset.scala:2232)\\n\\tat org.apache.spark.sql.execution.SQLExecution$.$anonfun$withNewExecutionId0$8(SQLExecution.scala:162)\\n\\tat org.apache.spark.sql.execution.SQLExecution$.withSessionTagsApplied(SQLExecution.scala:268)\\n\\tat org.apache.spark.sql.execution.SQLExecution$.$anonfun$withNewExecutionId0$7(SQLExecution.scala:124)\\n\\tat org.apache.spark.JobArtifactSet$.withActiveJobArtifactState(JobArtifactSet.scala:94)\\n\\tat org.apache.spark.sql.artifact.ArtifactManager.$anonfun$withResources$1(ArtifactManager.scala:112)\\n\\tat org.apache.spark.sql.artifact.ArtifactManager.withClassLoaderIfNeeded(ArtifactManager.scala:106)\\n\\tat org.apache.spark.sql.artifact.ArtifactManager.withResources(ArtifactManager.scala:111)\\n\\tat org.apache.spark.sql.execution.SQLExecution$.$anonfun$withNewExecutionId0$6(SQLExecution.scala:124)\\n\\tat org.apache.spark.sql.execution.SQLExecution$.withSQLConfPropagated(SQLExecution.scala:291)\\n\\tat org.apache.spark.sql.execution.SQLExecution$.$anonfun$withNewExecutionId0$1(SQLExecution.scala:123)\\n\\tat org.apache.spark.sql.SparkSession.withActive(SparkSession.scala:804)\\n\\tat org.apache.spark.sql.execution.SQLExecution$.withNewExecutionId0(SQLExecution.scala:77)\\n\\tat org.apache.spark.sql.execution.SQLExecution$.withNewExecutionId(SQLExecution.scala:233)\\n\\tat org.apache.spark.sql.classic.Dataset.withAction(Dataset.scala:2232)\\n\\tat org.apache.spark.sql.classic.Dataset.head(Dataset.scala:1379)\\n\\tat org.apache.spark.sql.Dataset.take(Dataset.scala:2810)\\n\\tat org.apache.spark.sql.classic.Dataset.getRows(Dataset.scala:339)\\n\\tat org.apache.spark.sql.classic.Dataset.showString(Dataset.scala:375)\\n\\tat jdk.internal.reflect.GeneratedMethodAccessor73.invoke(Unknown Source)\\n\\tat java.base/jdk.internal.reflect.DelegatingMethodAccessorImpl.invoke(DelegatingMethodAccessorImpl.java:52)\\n\\tat java.base/java.lang.reflect.Method.invoke(Method.java:580)\\n\\tat py4j.reflection.MethodInvoker.invoke(MethodInvoker.java:244)\\n\\tat py4j.reflection.ReflectionEngine.invoke(ReflectionEngine.java:374)\\n\\tat py4j.Gateway.invoke(Gateway.java:282)\\n\\tat py4j.commands.AbstractCommand.invokeMethod(AbstractCommand.java:132)\\n\\tat py4j.commands.CallCommand.execute(CallCommand.java:79)\\n\\tat py4j.ClientServerConnection.waitForCommands(ClientServerConnection.java:184)\\n\\tat py4j.ClientServerConnection.run(ClientServerConnection.java:108)\\n\\tat java.base/java.lang.Thread.run(Thread.java:1583)\\n\", \"stacktrace\": [{\"class\": null, \"method\": \"deco\", \"file\": \"/home/alpha.niang/.pyenv/versions/movie-recommender_env/lib/python3.10/site-packages/pyspark/errors/exceptions/captured.py\", \"line\": \"282\"}, {\"class\": null, \"method\": \"get_return_value\", \"file\": \"/home/alpha.niang/.pyenv/versions/movie-recommender_env/lib/python3.10/site-packages/py4j/protocol.py\", \"line\": \"327\"}]}}\n"
     ]
    },
    {
     "ename": "NumberFormatException",
     "evalue": "[CAST_INVALID_INPUT] The value '28.0' of the type \"STRING\" cannot be cast to \"INT\" because it is malformed. Correct the value as per the syntax, or change its target type. Use `try_cast` to tolerate malformed input and return NULL instead. SQLSTATE: 22018\n== DataFrame ==\n\"cast\" was called from\nline 11 in cell [69]\n",
     "output_type": "error",
     "traceback": [
      "\u001b[0;31m---------------------------------------------------------------------------\u001b[0m",
      "\u001b[0;31mNumberFormatException\u001b[0m                     Traceback (most recent call last)",
      "Cell \u001b[0;32mIn[70], line 26\u001b[0m\n\u001b[1;32m     19\u001b[0m \u001b[38;5;28;01mfrom\u001b[39;00m\u001b[38;5;250m \u001b[39m\u001b[38;5;21;01mpyspark\u001b[39;00m\u001b[38;5;21;01m.\u001b[39;00m\u001b[38;5;21;01msql\u001b[39;00m\u001b[38;5;21;01m.\u001b[39;00m\u001b[38;5;21;01mfunctions\u001b[39;00m\u001b[38;5;250m \u001b[39m\u001b[38;5;28;01mimport\u001b[39;00m expr\n\u001b[1;32m     21\u001b[0m df_null_production_votes \u001b[38;5;241m=\u001b[39m df\u001b[38;5;241m.\u001b[39mfilter(\n\u001b[1;32m     22\u001b[0m     (col(\u001b[38;5;124m\"\u001b[39m\u001b[38;5;124mproduction_companies\u001b[39m\u001b[38;5;124m\"\u001b[39m)\u001b[38;5;241m.\u001b[39misNull()) \u001b[38;5;241m&\u001b[39m\n\u001b[1;32m     23\u001b[0m     (expr(\u001b[38;5;124m\"\u001b[39m\u001b[38;5;124mtry_cast(vote_count as double) > 100\u001b[39m\u001b[38;5;124m\"\u001b[39m))\n\u001b[1;32m     24\u001b[0m )\n\u001b[0;32m---> 26\u001b[0m \u001b[43mdf_null_production_votes\u001b[49m\u001b[38;5;241;43m.\u001b[39;49m\u001b[43mshow\u001b[49m\u001b[43m(\u001b[49m\u001b[43mtruncate\u001b[49m\u001b[38;5;241;43m=\u001b[39;49m\u001b[38;5;28;43;01mFalse\u001b[39;49;00m\u001b[43m)\u001b[49m\n",
      "File \u001b[0;32m~/.pyenv/versions/movie-recommender_env/lib/python3.10/site-packages/pyspark/sql/classic/dataframe.py:285\u001b[0m, in \u001b[0;36mDataFrame.show\u001b[0;34m(self, n, truncate, vertical)\u001b[0m\n\u001b[1;32m    284\u001b[0m \u001b[38;5;28;01mdef\u001b[39;00m\u001b[38;5;250m \u001b[39m\u001b[38;5;21mshow\u001b[39m(\u001b[38;5;28mself\u001b[39m, n: \u001b[38;5;28mint\u001b[39m \u001b[38;5;241m=\u001b[39m \u001b[38;5;241m20\u001b[39m, truncate: Union[\u001b[38;5;28mbool\u001b[39m, \u001b[38;5;28mint\u001b[39m] \u001b[38;5;241m=\u001b[39m \u001b[38;5;28;01mTrue\u001b[39;00m, vertical: \u001b[38;5;28mbool\u001b[39m \u001b[38;5;241m=\u001b[39m \u001b[38;5;28;01mFalse\u001b[39;00m) \u001b[38;5;241m-\u001b[39m\u001b[38;5;241m>\u001b[39m \u001b[38;5;28;01mNone\u001b[39;00m:\n\u001b[0;32m--> 285\u001b[0m     \u001b[38;5;28mprint\u001b[39m(\u001b[38;5;28;43mself\u001b[39;49m\u001b[38;5;241;43m.\u001b[39;49m\u001b[43m_show_string\u001b[49m\u001b[43m(\u001b[49m\u001b[43mn\u001b[49m\u001b[43m,\u001b[49m\u001b[43m \u001b[49m\u001b[43mtruncate\u001b[49m\u001b[43m,\u001b[49m\u001b[43m \u001b[49m\u001b[43mvertical\u001b[49m\u001b[43m)\u001b[49m)\n",
      "File \u001b[0;32m~/.pyenv/versions/movie-recommender_env/lib/python3.10/site-packages/pyspark/sql/classic/dataframe.py:316\u001b[0m, in \u001b[0;36mDataFrame._show_string\u001b[0;34m(self, n, truncate, vertical)\u001b[0m\n\u001b[1;32m    307\u001b[0m \u001b[38;5;28;01mexcept\u001b[39;00m \u001b[38;5;167;01mValueError\u001b[39;00m:\n\u001b[1;32m    308\u001b[0m     \u001b[38;5;28;01mraise\u001b[39;00m PySparkTypeError(\n\u001b[1;32m    309\u001b[0m         errorClass\u001b[38;5;241m=\u001b[39m\u001b[38;5;124m\"\u001b[39m\u001b[38;5;124mNOT_BOOL\u001b[39m\u001b[38;5;124m\"\u001b[39m,\n\u001b[1;32m    310\u001b[0m         messageParameters\u001b[38;5;241m=\u001b[39m{\n\u001b[0;32m   (...)\u001b[0m\n\u001b[1;32m    313\u001b[0m         },\n\u001b[1;32m    314\u001b[0m     )\n\u001b[0;32m--> 316\u001b[0m \u001b[38;5;28;01mreturn\u001b[39;00m \u001b[38;5;28;43mself\u001b[39;49m\u001b[38;5;241;43m.\u001b[39;49m\u001b[43m_jdf\u001b[49m\u001b[38;5;241;43m.\u001b[39;49m\u001b[43mshowString\u001b[49m\u001b[43m(\u001b[49m\u001b[43mn\u001b[49m\u001b[43m,\u001b[49m\u001b[43m \u001b[49m\u001b[43mint_truncate\u001b[49m\u001b[43m,\u001b[49m\u001b[43m \u001b[49m\u001b[43mvertical\u001b[49m\u001b[43m)\u001b[49m\n",
      "File \u001b[0;32m~/.pyenv/versions/movie-recommender_env/lib/python3.10/site-packages/py4j/java_gateway.py:1362\u001b[0m, in \u001b[0;36mJavaMember.__call__\u001b[0;34m(self, *args)\u001b[0m\n\u001b[1;32m   1356\u001b[0m command \u001b[38;5;241m=\u001b[39m proto\u001b[38;5;241m.\u001b[39mCALL_COMMAND_NAME \u001b[38;5;241m+\u001b[39m\\\n\u001b[1;32m   1357\u001b[0m     \u001b[38;5;28mself\u001b[39m\u001b[38;5;241m.\u001b[39mcommand_header \u001b[38;5;241m+\u001b[39m\\\n\u001b[1;32m   1358\u001b[0m     args_command \u001b[38;5;241m+\u001b[39m\\\n\u001b[1;32m   1359\u001b[0m     proto\u001b[38;5;241m.\u001b[39mEND_COMMAND_PART\n\u001b[1;32m   1361\u001b[0m answer \u001b[38;5;241m=\u001b[39m \u001b[38;5;28mself\u001b[39m\u001b[38;5;241m.\u001b[39mgateway_client\u001b[38;5;241m.\u001b[39msend_command(command)\n\u001b[0;32m-> 1362\u001b[0m return_value \u001b[38;5;241m=\u001b[39m \u001b[43mget_return_value\u001b[49m\u001b[43m(\u001b[49m\n\u001b[1;32m   1363\u001b[0m \u001b[43m    \u001b[49m\u001b[43manswer\u001b[49m\u001b[43m,\u001b[49m\u001b[43m \u001b[49m\u001b[38;5;28;43mself\u001b[39;49m\u001b[38;5;241;43m.\u001b[39;49m\u001b[43mgateway_client\u001b[49m\u001b[43m,\u001b[49m\u001b[43m \u001b[49m\u001b[38;5;28;43mself\u001b[39;49m\u001b[38;5;241;43m.\u001b[39;49m\u001b[43mtarget_id\u001b[49m\u001b[43m,\u001b[49m\u001b[43m \u001b[49m\u001b[38;5;28;43mself\u001b[39;49m\u001b[38;5;241;43m.\u001b[39;49m\u001b[43mname\u001b[49m\u001b[43m)\u001b[49m\n\u001b[1;32m   1365\u001b[0m \u001b[38;5;28;01mfor\u001b[39;00m temp_arg \u001b[38;5;129;01min\u001b[39;00m temp_args:\n\u001b[1;32m   1366\u001b[0m     \u001b[38;5;28;01mif\u001b[39;00m \u001b[38;5;28mhasattr\u001b[39m(temp_arg, \u001b[38;5;124m\"\u001b[39m\u001b[38;5;124m_detach\u001b[39m\u001b[38;5;124m\"\u001b[39m):\n",
      "File \u001b[0;32m~/.pyenv/versions/movie-recommender_env/lib/python3.10/site-packages/pyspark/errors/exceptions/captured.py:288\u001b[0m, in \u001b[0;36mcapture_sql_exception.<locals>.deco\u001b[0;34m(*a, **kw)\u001b[0m\n\u001b[1;32m    284\u001b[0m converted \u001b[38;5;241m=\u001b[39m convert_exception(e\u001b[38;5;241m.\u001b[39mjava_exception)\n\u001b[1;32m    285\u001b[0m \u001b[38;5;28;01mif\u001b[39;00m \u001b[38;5;129;01mnot\u001b[39;00m \u001b[38;5;28misinstance\u001b[39m(converted, UnknownException):\n\u001b[1;32m    286\u001b[0m     \u001b[38;5;66;03m# Hide where the exception came from that shows a non-Pythonic\u001b[39;00m\n\u001b[1;32m    287\u001b[0m     \u001b[38;5;66;03m# JVM exception message.\u001b[39;00m\n\u001b[0;32m--> 288\u001b[0m     \u001b[38;5;28;01mraise\u001b[39;00m converted \u001b[38;5;28;01mfrom\u001b[39;00m\u001b[38;5;250m \u001b[39m\u001b[38;5;28;01mNone\u001b[39;00m\n\u001b[1;32m    289\u001b[0m \u001b[38;5;28;01melse\u001b[39;00m:\n\u001b[1;32m    290\u001b[0m     \u001b[38;5;28;01mraise\u001b[39;00m\n",
      "\u001b[0;31mNumberFormatException\u001b[0m: [CAST_INVALID_INPUT] The value '28.0' of the type \"STRING\" cannot be cast to \"INT\" because it is malformed. Correct the value as per the syntax, or change its target type. Use `try_cast` to tolerate malformed input and return NULL instead. SQLSTATE: 22018\n== DataFrame ==\n\"cast\" was called from\nline 11 in cell [69]\n"
     ]
    }
   ],
   "source": [
    "# Explorer en profondeur productuion_companies vide\n",
    "\n",
    "# df_null_production = df.filter(col(\"production_companies\").isNull())\n",
    "\n",
    "# df_null_production = df_null_production.filter(col(\"vote_count\").cast(\"int\") > 100 )\n",
    "\n",
    "# df_null_production.show(100, truncate=False)\n",
    "# import IntegerType\n",
    "from pyspark.sql.types import IntegerType\n",
    "\n",
    "df = df.withColumn(\"vote_count\", col(\"vote_count\").cast(\"double\").cast(\"int\"))\n",
    "\n",
    "# df.printSchema()\n",
    "# df_null_production_votes = df.filter(\n",
    "#     (col(\"production_companies\").isNull()) & (col(\"vote_count\") > 100)\n",
    "# )\n",
    "\n",
    "\n",
    "from pyspark.sql.functions import expr\n",
    "\n",
    "df_null_production_votes = df.filter(\n",
    "    (col(\"production_companies\").isNull()) &\n",
    "    (expr(\"try_cast(vote_count as double) > 100\"))\n",
    ")\n",
    "\n",
    "df_null_production_votes.show(truncate=False)"
   ]
  },
  {
   "cell_type": "markdown",
   "id": "d1ccef99",
   "metadata": {},
   "source": [
    "## 3. Nettoyage"
   ]
  },
  {
   "cell_type": "markdown",
   "id": "8a5c1138",
   "metadata": {},
   "source": [
    "## 4. Transformation"
   ]
  },
  {
   "cell_type": "markdown",
   "id": "072f2d1f",
   "metadata": {},
   "source": [
    "## 5. Chargement en base"
   ]
  }
 ],
 "metadata": {
  "kernelspec": {
   "display_name": "movie-recommender_env",
   "language": "python",
   "name": "python3"
  },
  "language_info": {
   "codemirror_mode": {
    "name": "ipython",
    "version": 3
   },
   "file_extension": ".py",
   "mimetype": "text/x-python",
   "name": "python",
   "nbconvert_exporter": "python",
   "pygments_lexer": "ipython3",
   "version": "3.10.12"
  }
 },
 "nbformat": 4,
 "nbformat_minor": 5
}
