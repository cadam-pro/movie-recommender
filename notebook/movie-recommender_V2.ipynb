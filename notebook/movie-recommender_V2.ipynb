{
 "cells": [
  {
   "cell_type": "markdown",
   "id": "e421005c",
   "metadata": {},
   "source": [
    "## "
   ]
  },
  {
   "cell_type": "markdown",
   "id": "21eb2403",
   "metadata": {},
   "source": [
    "# 🎬 Movies Data Pipeline\n",
    "Ce notebook contient un pipeline de traitement des données du fichier `TMDB_all_movies.csv`, dans le cadre d'un projet de data engineering."
   ]
  },
  {
   "cell_type": "markdown",
   "id": "fba5d5f0",
   "metadata": {},
   "source": [
    "## 1. Ingestion"
   ]
  },
  {
   "cell_type": "code",
   "execution_count": 2,
   "id": "967c1dc8",
   "metadata": {},
   "outputs": [
    {
     "name": "stderr",
     "output_type": "stream",
     "text": [
      "WARNING: Using incubator modules: jdk.incubator.vector\n",
      "Using Spark's default log4j profile: org/apache/spark/log4j2-defaults.properties\n",
      "Setting default log level to \"WARN\".\n",
      "To adjust logging level use sc.setLogLevel(newLevel). For SparkR, use setLogLevel(newLevel).\n",
      "25/07/07 15:58:37 WARN NativeCodeLoader: Unable to load native-hadoop library for your platform... using builtin-java classes where applicable\n"
     ]
    },
    {
     "name": "stdout",
     "output_type": "stream",
     "text": [
      "4.0.0\n"
     ]
    }
   ],
   "source": [
    "import pandas as pd\n",
    "import pyspark\n",
    "from pyspark.sql import SparkSession\n",
    "\n",
    "spark = SparkSession.builder.appName(\"Movie recommender\").getOrCreate()\n",
    "\n",
    "print(spark.version)\n",
    "\n",
    "df = spark.read.csv(\"../data/TMDB_all_movies.csv\", header=True, inferSchema=False, sep=\",\", quote='\"', escape='\"')"
   ]
  },
  {
   "cell_type": "markdown",
   "id": "c3c3531c",
   "metadata": {},
   "source": [
    "## 2. Exploration"
   ]
  },
  {
   "cell_type": "code",
   "execution_count": 3,
   "id": "13124b5c",
   "metadata": {},
   "outputs": [
    {
     "name": "stdout",
     "output_type": "stream",
     "text": [
      "root\n",
      " |-- id: string (nullable = true)\n",
      " |-- title: string (nullable = true)\n",
      " |-- vote_average: string (nullable = true)\n",
      " |-- vote_count: string (nullable = true)\n",
      " |-- status: string (nullable = true)\n",
      " |-- release_date: string (nullable = true)\n",
      " |-- revenue: string (nullable = true)\n",
      " |-- runtime: string (nullable = true)\n",
      " |-- budget: string (nullable = true)\n",
      " |-- imdb_id: string (nullable = true)\n",
      " |-- original_language: string (nullable = true)\n",
      " |-- original_title: string (nullable = true)\n",
      " |-- overview: string (nullable = true)\n",
      " |-- popularity: string (nullable = true)\n",
      " |-- tagline: string (nullable = true)\n",
      " |-- genres: string (nullable = true)\n",
      " |-- production_companies: string (nullable = true)\n",
      " |-- production_countries: string (nullable = true)\n",
      " |-- spoken_languages: string (nullable = true)\n",
      " |-- cast: string (nullable = true)\n",
      " |-- director: string (nullable = true)\n",
      " |-- director_of_photography: string (nullable = true)\n",
      " |-- writers: string (nullable = true)\n",
      " |-- producers: string (nullable = true)\n",
      " |-- music_composer: string (nullable = true)\n",
      " |-- imdb_rating: string (nullable = true)\n",
      " |-- imdb_votes: string (nullable = true)\n",
      " |-- poster_path: string (nullable = true)\n",
      "\n"
     ]
    }
   ],
   "source": [
    "df.printSchema()"
   ]
  },
  {
   "cell_type": "code",
   "execution_count": 4,
   "id": "1c6e739b",
   "metadata": {},
   "outputs": [
    {
     "name": "stdout",
     "output_type": "stream",
     "text": [
      "root\n",
      " |-- id: string (nullable = true)\n",
      " |-- title: string (nullable = true)\n",
      " |-- vote_average: float (nullable = true)\n",
      " |-- vote_count: integer (nullable = true)\n",
      " |-- status: string (nullable = true)\n",
      " |-- release_date: date (nullable = true)\n",
      " |-- revenue: float (nullable = true)\n",
      " |-- runtime: float (nullable = true)\n",
      " |-- budget: float (nullable = true)\n",
      " |-- imdb_id: string (nullable = true)\n",
      " |-- original_language: string (nullable = true)\n",
      " |-- original_title: string (nullable = true)\n",
      " |-- overview: string (nullable = true)\n",
      " |-- popularity: float (nullable = true)\n",
      " |-- tagline: string (nullable = true)\n",
      " |-- genres: string (nullable = true)\n",
      " |-- production_companies: string (nullable = true)\n",
      " |-- production_countries: string (nullable = true)\n",
      " |-- spoken_languages: string (nullable = true)\n",
      " |-- cast: string (nullable = true)\n",
      " |-- director: string (nullable = true)\n",
      " |-- director_of_photography: string (nullable = true)\n",
      " |-- writers: string (nullable = true)\n",
      " |-- producers: string (nullable = true)\n",
      " |-- music_composer: string (nullable = true)\n",
      " |-- imdb_rating: string (nullable = true)\n",
      " |-- imdb_votes: string (nullable = true)\n",
      " |-- poster_path: string (nullable = true)\n",
      "\n"
     ]
    }
   ],
   "source": [
    "# df.isna().sum()\n",
    "# df.isnull().sum() avec spark\n",
    "\n",
    "# Type de chaque colonne :\n",
    "    # vote_average: float\n",
    "    # vote_count: int\n",
    "    # release_date: date\n",
    "    # revenue: float\n",
    "    # runtime: float\n",
    "    # budget: float\n",
    "    # popularity: float\n",
    "    # genres, production_countries, production_companies, spoken, cast, director, writers: string / one-hot encoded ?\n",
    "\n",
    "df = df.withColumn(\"vote_average\", df[\"vote_average\"].try_cast(\"double\").try_cast(\"float\")) \\\n",
    "    .withColumn(\"vote_count\", df[\"vote_count\"].try_cast(\"double\").try_cast(\"int\")) \\\n",
    "    .withColumn(\"release_date\", df[\"release_date\"].cast(\"date\")) \\\n",
    "    .withColumn(\"revenue\", df[\"revenue\"].try_cast(\"double\").try_cast(\"float\")) \\\n",
    "    .withColumn(\"runtime\", df[\"runtime\"].try_cast(\"double\").try_cast(\"float\")) \\\n",
    "    .withColumn(\"budget\", df[\"budget\"].try_cast(\"double\").try_cast(\"float\")) \\\n",
    "    .withColumn(\"popularity\", df[\"popularity\"].try_cast(\"double\").try_cast(\"float\"))\n",
    "\n",
    "\n",
    "\n",
    "df.printSchema()\n",
    "\n",
    "\n",
    "\n",
    "\n",
    "# df.select([pyspark.sql.functions.count(pyspark.sql.functions.when(pyspark.sql.functions.col(c).isNull(), c)).alias(c) for c in df.columns]).show()\n",
    "\n"
   ]
  },
  {
   "cell_type": "code",
   "execution_count": 5,
   "id": "53ae968e",
   "metadata": {},
   "outputs": [],
   "source": [
    "# A faire :\n",
    "\n",
    "# enlever toutes les lignes qui ne sont pas en release\n",
    "# ensuite enlever la colonne \"status\"\n",
    "# enlever imdb_id, tagline, director_of_photography, producers, imdb_rating, imdb_votes,\n",
    "# drop les lignes qui n'ont pas d'overview\n",
    "\n",
    "# Enlever les données non important pour le calcul et les mettre de coter pour plus tard\n",
    "  # id, title, original_title, poster_path\n",
    "\n",
    "# df[\"status\"].unique()\n",
    "# df[\"genres\"]\n",
    "\n",
    "# supprime toutes les lignes qui n'ont pas status release\n",
    "df = df.filter(df[\"status\"] == \"Released\")\n",
    "# supprime la colonne status\n",
    "df = df.drop(\"status\")\n",
    "# supprime les colonnes qui ne sont pas utiles pour le calcul\n",
    "df = df.drop(\"imdb_id\", \"tagline\", \"director_of_photography\", \"producers\", \"imdb_rating\", \"imdb_votes\")\n",
    "# supprime les lignes qui n'ont pas d'overview\n",
    "# df = df.filter(df[\"overview\"].isNotNull() & (df[\"overview\"] != \"\"))\n",
    "\n",
    "\n",
    "\n"
   ]
  },
  {
   "cell_type": "code",
   "execution_count": 24,
   "id": "9de93fed",
   "metadata": {},
   "outputs": [
    {
     "name": "stderr",
     "output_type": "stream",
     "text": [
      "[Stage 29:>                                                         (0 + 1) / 1]\r"
     ]
    },
    {
     "name": "stdout",
     "output_type": "stream",
     "text": [
      "+------+-------------------------------+------------+----------+------------+--------+-------+---------+-----------------+-------------------------------+--------+----------+----------------------------------+------------------------------------------------------------------+------------------------+----------------+--------------------------------------------------------------------------------------------------------------------------------------------------------------------------------------------------------------------------------------------------------------------------------------------------------------------------------------------------------------------------------------------------------------------------------------------------------------------------------------------------------------------------------------------------------------------------------------------------------------------------------------------------------------------------------------------------------------------------------------------------------------------------------------------------------------------------------+------------------------------+------------------------------------------------------------------------------------------------------------+---------------------------------------------------+--------------------------------+\n",
      "|id    |title                          |vote_average|vote_count|release_date|revenue |runtime|budget   |original_language|original_title                 |overview|popularity|genres                            |production_companies                                              |production_countries    |spoken_languages|cast                                                                                                                                                                                                                                                                                                                                                                                                                                                                                                                                                                                                                                                                                                                                                                                                                            |director                      |writers                                                                                                     |music_composer                                     |poster_path                     |\n",
      "+------+-------------------------------+------------+----------+------------+--------+-------+---------+-----------------+-------------------------------+--------+----------+----------------------------------+------------------------------------------------------------------+------------------------+----------------+--------------------------------------------------------------------------------------------------------------------------------------------------------------------------------------------------------------------------------------------------------------------------------------------------------------------------------------------------------------------------------------------------------------------------------------------------------------------------------------------------------------------------------------------------------------------------------------------------------------------------------------------------------------------------------------------------------------------------------------------------------------------------------------------------------------------------------+------------------------------+------------------------------------------------------------------------------------------------------------+---------------------------------------------------+--------------------------------+\n",
      "|57114 |Amore, bugie e calcetto        |5.8         |214       |2008-04-04  |0.0     |115.0  |0.0      |en               |Amore, bugie e calcetto        |NULL    |0.3664    |Comedy                            |NULL                                                              |Italy                   |Italiano        |Chiara Mastalli, Zita Fusco, Claudia Pandolfi, Filippo Nigro, Andrea Bosca, Francesco Cataldo, Giorgio Basile, Pietro Sermonti, Max Mazzotta, Angela Finocchiaro, Claudio Bisio, Totò Schillaci, Teresa Mannino, Giuseppe Battiston, Marina Rocco, Andrea De Rosa                                                                                                                                                                                                                                                                                                                                                                                                                                                                                                                                                               |Luca Lucini                   |Fabio Bonifacci, Luca Lucini                                                                                |NULL                                               |/hQQdIfS5PmQ4aoP0M3XbS0Vsmlt.jpg|\n",
      "|58611 |È arrivato mio fratello        |5.7         |106       |1985-03-19  |0.0     |89.0   |0.0      |it               |È arrivato mio fratello        |NULL    |3.53      |Comedy                            |Faso Film                                                         |Italy                   |Italiano        |Richard Harrison, Carin McDonald, Mario Montefusco, Paola Wu Min Yi, Giuseppe Picciotto, Any Cerreto, Roberto Ceccacci, Giusy Valeri, Luciano Zanussi, Enzo Andronico, Renato Pozzetto, Daniela Di Bitonto, Dalmazio Grenti, Giancarlo Costa, Vincenzo De Toma, Francesco Scali, Peter Luberti, Karen Lindsay Peyton, Pietro Ghislandi, Pamela Prati, Beatrice Palme, Helen Sterling, Massimo Vanni, Maria Giovanna Elmi, Armando Bandini, Penny Brown                                                                                                                                                                                                                                                                                                                                                                          |Pipolo, Franco Castellano     |Pipolo, Franco Castellano                                                                                   |Detto Mariano                                      |/mCJSqtMXkfCw506IwOq1icnXymc.jpg|\n",
      "|73579 |La Croisière                   |5.0         |131       |2011-08-17  |0.0     |90.0   |0.0      |fr               |La Croisière                   |NULL    |6.197     |Comedy                            |Fidélité Films, Wild Bunch, Mars Films, TF1 Films Production      |France                  |Français        |Stéphane Debac, Camille Japy, Hubert Saint-Macary, Alice Pol, Charlotte de Turckheim, Nora Arnezeder, Line Renaud, Jean Benguigui, Marilou Berry, Audrey Lamy, Armelle, Antoine Duléry, Alexandre Brasseur                                                                                                                                                                                                                                                                                                                                                                                                                                                                                                                                                                                                                      |Pascale Pouzadoux             |Pascale Pouzadoux, Jeanne Le Guillou                                                                        |Éric Neveux                                        |/39nBfX2U7oSC1dFcH4NJcs8YMWn.jpg|\n",
      "|77000 |Bar Sport                      |5.0         |221       |2011-10-21  |0.0     |93.0   |5000000.0|it               |Bar Sport                      |NULL    |0.3243    |Comedy, Family                    |NULL                                                              |Italy                   |Italiano        |Vito, Michael Galluzzi, Gianluca Impastato, Angela Finocchiaro, Claudio Amendola, Giuseppe Battiston, Bob Messini, Antonio Catania, Aura Rolenzetti, Claudio Bisio, Alessandro Sampaoli, Roberta Lena, Antonio Cornacchione, Giorgio Comaschi, Ermanno Bonatti, Cristina Ramella, Daniele Pilli, Lunetta Savino, Teo Teocoli, Cristiano Pasca, Federico Poggipollini                                                                                                                                                                                                                                                                                                                                                                                                                                                            |Massimo Martelli              |Stefano Benni, Nicola Alvau                                                                                 |NULL                                               |/5LELCswWe5KjEFf7W55Rc6uivHK.jpg|\n",
      "|120082|Ti stimo fratello              |4.6         |122       |2012-01-18  |0.0     |93.0   |0.0      |it               |Ti stimo fratello              |NULL    |3.533     |Comedy                            |Bananas, Warner Bros. Pictures, Colorado Film                     |Italy                   |Italiano        |Bebo Storti, Daniela De Vita, Giovanni Vernia, Maurizio Micheli, Yohana Allen, Massimo Olcese, Diego Abatantuono, Carmela Vincenti                                                                                                                                                                                                                                                                                                                                                                                                                                                                                                                                                                                                                                                                                              |Giovanni Vernia, Paolo Uzzi   |Michele Pellegrini, Giovanni Vernia, Francesco Cenni, Paolo Uzzi                                            |Marco Zangirolami, Louis Siciliano, Giovanni Vernia|/6Nzdk6i4r7sR74W8nBvuNt2TCAQ.jpg|\n",
      "|154512|Lightning Strike               |5.283       |230       |2012-12-13  |0.0     |104.0  |0.0      |it               |Colpi di fulmine               |NULL    |14.826    |Comedy                            |Filmauro                                                          |Italy                   |Italiano        |Lucia Stara, Debora Caprioglio, Gabriele Pignotta, G-Max, Caterina Dominici, Stefano Antonucci, Arisa, Pier Maria Cecchini, Christian De Sica, Anna Foglietta, Armando De Razza, Simone Barbato, Andrea Castelli, Luca Klobas, Rosanna Sferrazza, Erica Zambelli, Martine Brochard, Claudio Gregori, Luis Molteni, Gina Rovere, Lallo Circosta, Fabio Avaro, Angelo Ragusa, Lillo Petrolo, Vauro Senesi, Franco Moscon, Maria Lovetti, Chiara Sani, Luisa Ranieri                                                                                                                                                                                                                                                                                                                                                               |Neri Parenti                  |Volfango De Biasi, Neri Parenti, Domenico Saverni, Alessandro Bencivenni                                    |NULL                                               |/o538evS1FqeftSKI7ixT2efkZKt.jpg|\n",
      "|185789|Mulholland Dr.                 |7.841       |506       |1999-01-01  |0.0     |88.0   |0.0      |en               |Mulholland Dr.                 |NULL    |1.1978    |Thriller, TV Movie, Drama, Mystery|Touchstone Television, Imagine Television Studios, Picture Factory|United States of America|English         |Lisa K. Ferguson, Ann Miller, James Karen, Dan Hedaya, William Ostrander, Tad Horino, Dan Birnbaum, Tony Longo, Tyrah M. Lindsey, Chad Everett, Mo Gallini, Blake Lindsley, David Schroeder, Daniel Rey, Laura Harring, Charles Croughwell, Brent Briscoe, Michele Hicks, Scott Coffey, Randall Wulff, Geno Silva, Wayne Grace, Brian Beacock, Angelo Badalamenti, Katharine Towne, Justin Theroux, Missy Crider, Lori Heuring, Richard Mead, Marcus Graham, Tom Morris, Robert Katims, Lisa Lackey, Mark Pellegrino, Jeanne Bates, Billy Ray Cyrus, Diane Nelson, Adrien Curry, Michael Fairman, Michael J. Anderson, Maya Bond, Monty Montgomery, Robert Forster, Johanna Stein, Naomi Watts, Kate Forster, Michael D. Weatherred, Bonnie Aarons, Vincent Castellanos, Joseph Kearney, Lee Grant, Sean Everett, Enrique Buelna|David Lynch                   |David Lynch                                                                                                 |NULL                                               |/oGXtT5UW8lDWt8uxlww2zw9GmBs.jpg|\n",
      "|244514|Colpi di fortuna               |4.7         |240       |2013-12-21  |0.0     |100.0  |0.0      |it               |Colpi di fortuna               |NULL    |0.35      |Comedy                            |Filmauro                                                          |Italy                   |Italiano        |Taiyo Yamanouchi, Cristiano Di Maio, Francesco Mandelli, Giuseppe Laurato, Yoon C. Joyce, Erica Zambelli, Daniela Piperno, Chiara Laperuta, Oliviero Calderoni, Barbara Folchitto, Raffaella Carrà, Claudio Gregori, Diego Verdegiglio, Lillo Petrolo, Ivan Fedele, Simone Colombari, Alessandro Bressanello, Tommaso Arnaldi, Rosario Coppolino, Salvatore Gisonna, Fatima Trotta, Marco Zannoni, Gianni Franco, Angela Favella, Massimo Borrelli, Stefano Righi, Hal Yamanouchi, Christian De Sica, Ciro Giustiniani, Stefano Pietro Detassis, Mariano Bruno, Caterina Crispino, Enkhmaa Enkhbat, Martina Paruccini, Mariarosaria Leone, Mariela Garriga, Vincenzo De Honestis, Angulo Sam Breiden Villa, Rafael Benítez, Paolo Kessisoglu, Luca Bizzarri, Francesco Cicchella, Antonio D'Ursi, Nicola Acunzo                 |Neri Parenti                  |Neri Parenti, Volfango De Biasi, Domenico Saverni, Alessandro Bencivenni                                    |Claudio Gregori, Attilio Di Giovanni               |/rWumuliOwR6yAcP6ZVo0D0kjaGR.jpg|\n",
      "|260088|Amici come noi                 |5.6         |178       |2014-03-20  |0.0     |89.0   |0.0      |it               |Amici come noi                 |NULL    |0.1939    |Comedy                            |Taodue Film                                                       |Italy                   |Italiano        |Mohamed Zouaoui, Maria Di Biase, Massimo Popolizio, Nicola Valenzano, Mimmo Mancini, Mariela Garriga, Alessandra Sarno, Giovanni Mancini, Amedeo Grieco, Francesco Silvestre, Anna Rita Del Piano, Alessandra Mastronardi, Pio D'Antini                                                                                                                                                                                                                                                                                                                                                                                                                                                                                                                                                                                         |Enrico Lando                  |Fabio Di Credico, Gabriele Parpiglia, Gianluca Ansanelli, Aldo Augelli, Pio D'Antini, Amedeo Grieco         |Andrea Guerra                                      |/6fWTWPCQQO87rnprDTYKYHe643u.jpg|\n",
      "|267557|Un fidanzato per mia moglie    |5.0         |110       |2014-04-30  |0.0     |97.0   |0.0      |it               |Un fidanzato per mia moglie    |NULL    |3.534     |Comedy                            |IBC MOvie, RAI                                                    |Italy                   |Italiano        |Ale, Marta Iagatti, Brenda Lodigiani, Dino Abbrescia, Alice Mangione, Mauro Valli, Stefania Pepe, Paola Sotgiu, Daria Bignardi, Geppi Cucciari, Franz, Luca Bizzarri, Giovanni Cucciari, Corrado Fortuna, Daniela Tusa, Luca Confortini, Veronica Cruciani, Ira Fronten, Astrid Meloni, Silvia Pietta, Lavinia Longhi, Pia Engleberth, Paolo Kessisoglu, Martina Maltagliati, Fabio Zerba                                                                                                                                                                                                                                                                                                                                                                                                                                       |Davide Marengo                |Davide Marengo, Pablo Solarz, Dino Gentili                                                                  |Massimo Nunzi                                      |/70ENI6jwvqJozjOS7X5Y2NWir0n.jpg|\n",
      "|302798|La scuola più bella del mondo  |5.6         |214       |2014-11-13  |0.0     |98.0   |0.0      |it               |La scuola più bella del mondo  |NULL    |0.2951    |Comedy                            |Cattleya                                                          |NULL                    |Italiano        |Swami Caputo, Massimo De Lorenzo, Angela Finocchiaro, Miriam Leone, Vincenzo Bocciarelli, Giulia Mombelli, Christian De Sica, Roberto Farnesi, Ubaldo Pantani, Nicola Rignanese, Paola Casella, Lello Arena, Rocco Papaleo, Nadia Aldridge                                                                                                                                                                                                                                                                                                                                                                                                                                                                                                                                                                                      |Luca Miniero                  |Luca Miniero, Daniela Gambaro, Massimo Gaudioso                                                             |NULL                                               |/gXKZ4k0wZ0kwr5GYMQhWaLKKJp5.jpg|\n",
      "|304814|Gad Elmaleh : Sans tambour     |6.8         |111       |2014-11-19  |0.0     |78.0   |0.0      |fr               |Gad Elmaleh : Sans tambour     |NULL    |0.1989    |Comedy                            |TF1 Production                                                    |France                  |Français        |Gad Elmaleh                                                                                                                                                                                                                                                                                                                                                                                                                                                                                                                                                                                                                                                                                                                                                                                                                     |Jean-Louis Cap                |Gad Elmaleh                                                                                                 |NULL                                               |/kFq9QJEWvCWr4otD3BaMYQO7GeR.jpg|\n",
      "|312428|Un Natale stupefacente         |5.696       |153       |2014-12-18  |0.0     |100.0  |0.0      |it               |Un Natale stupefacente         |NULL    |6.577     |Comedy                            |Filmauro                                                          |Italy                   |Italiano        |Riccardo De Filippis, Federico Mastroianni, Derek Boschi, Aniello Cantone, Liliana Oricchio Vallasciani, Vito Mancini, Paola Minaccioni, Francesca Antonelli, Loris Paiusco, Lillo Petrolo, Graziella Marina, Lucia Ceracchi, Francesco Montanari, Renato Zappalà, Francesca Guadagno, Ermanno De Biagi, Cristina Mugnaini, Federico Tocci, Monica Volpe, Ambra Angiolini, Claudio Gregori, Lucia Batassa, Livio Beshir, Giampiero Ingrassia, Niccolò Calvagna, Paolo Calabresi, Claudio Morici                                                                                                                                                                                                                                                                                                                                 |Volfango De Biasi             |Alessandro Bencivenni, Domenico Saverni, Volfango De Biasi, Gabriele Pignotta, Francesco Marioni            |Michele Braga, Claudio Gregori, Attilio Di Giovanni|/2HIRDQsNnHDyHLp0mwufjRE8bSb.jpg|\n",
      "|372823|Natale col boss                |5.1         |158       |2015-12-16  |0.0     |97.0   |0.0      |it               |Natale col boss                |NULL    |0.1588    |Comedy                            |Filmauro                                                          |Italy                   |Italiano        |Fabio Rizzuto, Michela Andreozzi, Gianfelice Imparato, Antonio Pennarella, Francesco Pennasilico, Andrea Pirolli, Stefano Antonucci, Lillo Petrolo, Giovanni Esposito, Renato Zappalà, Franco Pinelli, Francesco Di Leva, Gaetano Amato, Claudio Gregori, Francesco Mandelli, Marco Giuliani, Enzo Casertano, Peppino Di Capri, Roberto D'Alessandro, Antonella Clerici, Enrico Guarneri, Mimmo Sepe, Paolo Ruffini, Giulia Bevilacqua                                                                                                                                                                                                                                                                                                                                                                                          |Volfango De Biasi             |Claudio Gregori, Lillo Petrolo, Alessandro Bencivenni, Francesco Marioni, Volfango De Biasi, Tiziana Martini|Attilio Di Giovanni, Claudio Gregori               |/i7zwlkEx037UPlzLp6yiCSVYV8a.jpg|\n",
      "|379979|ASD - Alma sin dueño (Sin alma)|5.9         |219       |2010-01-29  |0.0     |0.0    |0.0      |es               |ASD - Alma sin dueño (Sin alma)|NULL    |0.0953    |Thriller                          |Alma Ata Films                                                    |Spain                   |NULL            |Brendan Michael Coughlin, Pino Moreau, Francia Raísa, Savitri Ceballos                                                                                                                                                                                                                                                                                                                                                                                                                                                                                                                                                                                                                                                                                                                                                          |Tinieblas González            |Koldo Serra, Txabier Alastruey, Tinieblas González                                                          |NULL                                               |NULL                            |\n",
      "|393863|Zeta: Una storia hip-hop       |6.2         |162       |2016-04-28  |749677.0|0.0    |0.0      |it               |Zeta: Una storia hip-hop       |NULL    |5.372     |Drama                             |9.99 Films, Panamafilm, Sony Music Entertainment Italy            |Italy                   |Italiano        |Tormento, Noema Pasquali, Noyz Narcos, Aldo Vinci, Salmo, Irene Vetere, Lowlow, Shablo, Clementino, Ensi, Edy Angelillo, Cristian Sciuva, Salvatore Esposito, Andrealuna Posocco, Tedua, Indri Qyteza Shiroka, Angelica Granato Renzi, Briga, Rocco Hunt, Eradis Josende Oberto, Jacopo Olmo Antinori, Rancore, Martin Chishimba, Fedez, J-Ax, Gianluca Di Gennaro, Manuela Morabito, Francesco Siciliano, Sebastiano Gavasso, Baby K, Alina Person, Shade, Massimiliano Gallo, Izi, Mia Benedetta, Duke Montana, Metal Carter, Yaser Mohamed Merisi                                                                                                                                                                                                                                                                            |Cosimo Alemà                  |Riccardo Brun, Paolo Bernardelli, Cosimo Alemà                                                              |NULL                                               |/1j9CZwu65EaRAisdypH4kUPUcbY.jpg|\n",
      "|487380|La casa di famiglia            |6.2         |189       |2017-11-16  |0.0     |90.0   |0.0      |it               |La casa di famiglia            |NULL    |3.537     |Family, Comedy                    |Vision Distribution                                               |Italy                   |Italiano        |Luigi Diberti, Marco Conidi, Lino Guanciale, Libero De Rienzo, Stefano Fresi, Matilde Gioli, Michele Venitucci                                                                                                                                                                                                                                                                                                                                                                                                                                                                                                                                                                                                                                                                                                                  |Augusto Fornari               |Vincenzo Sinopoli, Antonio Fornari, Augusto Fornari, Andrea Maia                                            |Gianluca Misiti                                    |/n5VYbu78A9oC7UQ1CBbzCBYA0aO.jpg|\n",
      "|499720|Les Municipaux, ces héros      |5.1         |116       |2018-04-25  |0.0     |0.0    |0.0      |fr               |Les Municipaux, ces héros      |NULL    |5.072     |Comedy                            |Apollo Films                                                      |France                  |Français        |Bruno Lochet, Patrick Chanfray, Angélique Panchéri, Franck Migeon, Constance Pittard, Sophie Mounicot, Bérénice Maugat, Lionel Abelanski, Annie Grégorio, Nathalie Levy-Lang, Marthe Villalonga, Sandra Jouet, Éric Carrière, Yves Pujol, Julien Croquet, Francis Ginibre, Eric Delcourt                                                                                                                                                                                                                                                                                                                                                                                                                                                                                                                                        |Éric Carrière, Francis Ginibre|Éric Carrière                                                                                               |NULL                                               |/7xoOIDVLwrzB2kSGOcJxVWmANl3.jpg|\n",
      "|546266|La fuitina sbagliata           |6.3         |161       |2018-10-11  |0.0     |80.0   |0.0      |it               |La fuitina sbagliata           |NULL    |0.1327    |Comedy                            |NULL                                                              |NULL                    |NULL            |Alessandro Bolide, David Coco, Antonio Pandolfo, Francesco Guzzo, Salvatore La Mantia, Antonio Matragna, Stefania Blandeburgo, Annandrea Vitrano, Emanuele Minafò, Claudio Casisa, Paride Benassai                                                                                                                                                                                                                                                                                                                                                                                                                                                                                                                                                                                                                              |Mimmo Esposito                |NULL                                                                                                        |NULL                                               |/6xFWf6XCmvgJfsu0GTzX1tG4y2t.jpg|\n",
      "|602533|Ritorno al crimine             |5.5         |121       |2021-06-26  |0.0     |105.0  |0.0      |it               |Ritorno al crimine             |NULL    |0.2311    |Comedy                            |IIF - Lucisano Media Group, RAI Cinema                            |Italy                   |Italiano        |Marco Giallini, Massimiliano Bruno, Marco Esposito, Gianfranco Gallo, Alessandro Gassmann, Ninetto Davoli, Lorenzo Amorico, Daniele Blando, Roberto Oliveri, Katie McGovern, Alessandro Palladino, Giulia Bevilacqua, Bruno Conti, Edoardo Leo, Giorgio Musumeci, Corinne Cléry, Francesco Primavera, Loretta Goggi, Angelo Orlando, Paola Ferrari, Nicola Pistoia, Marianna Di Maso, Carlo Buccirosso, Antonio Grosso, Mattia Bisonni, Bed Cerchiai, Viviana Cangiano, Gianmarco Tognazzi, Antonio Gargiulo, Federico Galante                                                                                                                                                                                                                                                                                                  |Massimiliano Bruno            |Renato Sannio, Andrea Bassi, Massimiliano Bruno, Alessandro Aronadio                                        |Maurizio Filardo                                   |/huN3AuhDsLHm7AGju6sckfAoPei.jpg|\n",
      "+------+-------------------------------+------------+----------+------------+--------+-------+---------+-----------------+-------------------------------+--------+----------+----------------------------------+------------------------------------------------------------------+------------------------+----------------+--------------------------------------------------------------------------------------------------------------------------------------------------------------------------------------------------------------------------------------------------------------------------------------------------------------------------------------------------------------------------------------------------------------------------------------------------------------------------------------------------------------------------------------------------------------------------------------------------------------------------------------------------------------------------------------------------------------------------------------------------------------------------------------------------------------------------------+------------------------------+------------------------------------------------------------------------------------------------------------+---------------------------------------------------+--------------------------------+\n",
      "only showing top 20 rows\n"
     ]
    },
    {
     "name": "stderr",
     "output_type": "stream",
     "text": [
      "                                                                                \r"
     ]
    },
    {
     "ename": "AttributeError",
     "evalue": "'NoneType' object has no attribute 'show'",
     "output_type": "error",
     "traceback": [
      "\u001b[0;31m---------------------------------------------------------------------------\u001b[0m",
      "\u001b[0;31mAttributeError\u001b[0m                            Traceback (most recent call last)",
      "Cell \u001b[0;32mIn[24], line 4\u001b[0m\n\u001b[1;32m      1\u001b[0m df_test \u001b[38;5;241m=\u001b[39m df\u001b[38;5;241m.\u001b[39mfilter(\n\u001b[1;32m      2\u001b[0m     (df[\u001b[38;5;124m\"\u001b[39m\u001b[38;5;124moverview\u001b[39m\u001b[38;5;124m\"\u001b[39m]\u001b[38;5;241m.\u001b[39misNull()) \u001b[38;5;241m&\u001b[39m (df[\u001b[38;5;124m\"\u001b[39m\u001b[38;5;124mvote_count\u001b[39m\u001b[38;5;124m\"\u001b[39m] \u001b[38;5;241m>\u001b[39m \u001b[38;5;241m100\u001b[39m)\n\u001b[1;32m      3\u001b[0m )\u001b[38;5;241m.\u001b[39mshow(truncate\u001b[38;5;241m=\u001b[39m\u001b[38;5;28;01mFalse\u001b[39;00m)\n\u001b[0;32m----> 4\u001b[0m \u001b[43mdf_test\u001b[49m\u001b[38;5;241;43m.\u001b[39;49m\u001b[43mshow\u001b[49m(truncate\u001b[38;5;241m=\u001b[39m\u001b[38;5;28;01mFalse\u001b[39;00m)\n",
      "\u001b[0;31mAttributeError\u001b[0m: 'NoneType' object has no attribute 'show'"
     ]
    }
   ],
   "source": [
    "df_test = df.filter(\n",
    "    (df[\"overview\"].isNull()) & (df[\"vote_count\"] > 100)\n",
    ").show(truncate=False)\n",
    "df_test.show(truncate=False)"
   ]
  },
  {
   "cell_type": "code",
   "execution_count": 7,
   "id": "9c32169a",
   "metadata": {},
   "outputs": [
    {
     "name": "stderr",
     "output_type": "stream",
     "text": [
      "[Stage 4:=================================================>         (5 + 1) / 6]\r"
     ]
    },
    {
     "name": "stdout",
     "output_type": "stream",
     "text": [
      "+--------------------+-----+\n",
      "|               title|count|\n",
      "+--------------------+-----+\n",
      "|       Heading South|    2|\n",
      "|                Nell|    3|\n",
      "|             Nemesis|   17|\n",
      "|          Der Tunnel|    6|\n",
      "|              Deszcz|    2|\n",
      "|         Deep Rising|    2|\n",
      "|    Straight to Hell|    2|\n",
      "|Dance with the Devil|    4|\n",
      "|              Room 6|    2|\n",
      "|              Heaven|   30|\n",
      "|                Silk|   14|\n",
      "|       Crossing Over|   10|\n",
      "|   What No One Knows|    2|\n",
      "|        The Big Bang|    6|\n",
      "|          Riverworld|    2|\n",
      "|       Sugar & Spice|    4|\n",
      "|            Deep Red|    4|\n",
      "|        Miracle Mile|    2|\n",
      "|             Larceny|    4|\n",
      "|     My Name Is Khan|    2|\n",
      "|        Generation X|    2|\n",
      "|      A Woman's Face|    3|\n",
      "|         It's a Gift|    2|\n",
      "|    La Vie de Bohème|    2|\n",
      "|             Amateur|   14|\n",
      "|              Crisis|   17|\n",
      "|  A Woman Is a Woman|    2|\n",
      "|       Natural Enemy|    2|\n",
      "|           Surprise!|   11|\n",
      "|Diary of a Chambe...|    3|\n",
      "|         Lesser Evil|    2|\n",
      "|                Goth|    3|\n",
      "|            On Guard|    4|\n",
      "|          Night Eyes|    3|\n",
      "|          Nightmares|   12|\n",
      "|A Christmas Proposal|    3|\n",
      "|   The Corn Is Green|    2|\n",
      "|           Stay Gold|    2|\n",
      "|            The City|   23|\n",
      "|    The Stool Pigeon|    3|\n",
      "|                   K|    9|\n",
      "|         Lovely Rita|    3|\n",
      "|           The Salon|    2|\n",
      "|        See Jane Run|    3|\n",
      "|    The Star Boarder|    2|\n",
      "|        Checking Out|    3|\n",
      "|                 Kin|   21|\n",
      "|Loves Me, Loves M...|    3|\n",
      "|         The Lullaby|    3|\n",
      "|   The Biscuit Eater|    2|\n",
      "|          Red Square|    5|\n",
      "|  Horowitz in Moscow|    2|\n",
      "|  The Murdered House|    2|\n",
      "|      Snowman's Land|    2|\n",
      "|       The Encounter|   19|\n",
      "|Revenge: A Love S...|    2|\n",
      "|      Return to Life|    6|\n",
      "|             Errance|    4|\n",
      "|               Virgo|    4|\n",
      "|     My Dear Brother|    2|\n",
      "|       The Beginning|   26|\n",
      "|            Disraeli|    4|\n",
      "|      An Early Frost|    3|\n",
      "|               Apart|   17|\n",
      "|      Doctor Faustus|    5|\n",
      "|Heart of the Country|    2|\n",
      "|     The Queen and I|    2|\n",
      "|           El Diablo|    3|\n",
      "|                Ritu|    2|\n",
      "|We Can't Go Home ...|    2|\n",
      "|      Serpent's Path|    2|\n",
      "|Origin of the Spe...|    3|\n",
      "|    The Man Upstairs|    5|\n",
      "|             Susanna|    5|\n",
      "|    Thunder Mountain|    3|\n",
      "|        Room to Move|    2|\n",
      "|           Naufragio|    2|\n",
      "|          Quo Vadis?|    6|\n",
      "|      The Young Ones|    4|\n",
      "|      The Dressmaker|    5|\n",
      "|              Easter|   13|\n",
      "|           Sweet Jam|    2|\n",
      "| Stranger at My Door|    2|\n",
      "|                Maze|    8|\n",
      "|    Blue Suede Shoes|    2|\n",
      "|              Keemat|    2|\n",
      "|          Autumn Sun|    3|\n",
      "|            The Moth|    8|\n",
      "|           On My Way|    7|\n",
      "|      Where Are You?|    8|\n",
      "|     Ain't She Sweet|    2|\n",
      "|Morning, Noon and...|    2|\n",
      "|     The Setting Sun|    2|\n",
      "|          The Farmer|   10|\n",
      "|                Utah|    3|\n",
      "|        Anna Lucasta|    2|\n",
      "|           Zero Zero|    3|\n",
      "|          Growing Up|   12|\n",
      "|   Under Texas Skies|    2|\n",
      "|    Sunday Afternoon|    4|\n",
      "+--------------------+-----+\n",
      "only showing top 100 rows\n"
     ]
    },
    {
     "name": "stderr",
     "output_type": "stream",
     "text": [
      "                                                                                \r"
     ]
    }
   ],
   "source": [
    "from pyspark.sql.functions import count, col\n",
    "\n",
    "\n",
    "duplicate_titles = (\n",
    "    df.groupBy(\"title\") \\\n",
    "      .agg(count(\"*\").alias(\"count\"))\\\n",
    "      .filter(col(\"count\") > 1)\\\n",
    ")\n",
    "\n",
    "duplicate_titles.show(100)\n",
    "\n",
    "\n"
   ]
  },
  {
   "cell_type": "code",
   "execution_count": 9,
   "id": "1409b383",
   "metadata": {},
   "outputs": [
    {
     "name": "stdout",
     "output_type": "stream",
     "text": [
      "+-----+-----------------------------------------+------------+----------+------------+---------+-------+---------+-----------------+-----------------------------------------+--------------------------------------------------------------------------------------------------------------------------------------------------------------------------------------------------------------------------------------------------------------------------------------------------------------------------------------------------------------------------------------------------------------------------------------------------------------------------------------------------------------+----------+--------------------------------+--------------------+---------------------------------+----------------------------------+--------------------------------------------------------------------------------------------------------------------------------------------------------------------------------------------------------------------------------------------------------------------------------------------------------------------------------------------------------------------------------------------------------------------------------------------------------------------------------------------------------------------------------------------------------------------------------------------------------------------------------------------------------------------------------------------------------------------------------------------------------------------------------------------------------------------------------------------------------------+-----------------------+--------------------------------------------------------------------------------------+-----------------------------------------------+--------------------------------+\n",
      "|id   |title                                    |vote_average|vote_count|release_date|revenue  |runtime|budget   |original_language|original_title                           |overview                                                                                                                                                                                                                                                                                                                                                                                                                                                                                                      |popularity|genres                          |production_companies|production_countries             |spoken_languages                  |cast                                                                                                                                                                                                                                                                                                                                                                                                                                                                                                                                                                                                                                                                                                                                                                                                                                                          |director               |writers                                                                               |music_composer                                 |poster_path                     |\n",
      "+-----+-----------------------------------------+------------+----------+------------+---------+-------+---------+-----------------+-----------------------------------------+--------------------------------------------------------------------------------------------------------------------------------------------------------------------------------------------------------------------------------------------------------------------------------------------------------------------------------------------------------------------------------------------------------------------------------------------------------------------------------------------------------------+----------+--------------------------------+--------------------+---------------------------------+----------------------------------+--------------------------------------------------------------------------------------------------------------------------------------------------------------------------------------------------------------------------------------------------------------------------------------------------------------------------------------------------------------------------------------------------------------------------------------------------------------------------------------------------------------------------------------------------------------------------------------------------------------------------------------------------------------------------------------------------------------------------------------------------------------------------------------------------------------------------------------------------------------+-----------------------+--------------------------------------------------------------------------------------+-----------------------------------------------+--------------------------------+\n",
      "|383  |Mala Noche                               |6.2         |110       |1987-06-19  |0.0      |75.0   |22500.0  |en               |Mala Noche                               |Walt is a lonely convenience store clerk who has fallen in love with a Mexican migrant worker named Johnny. Though Walt has little in common with the object of his affections — including a shared language — his desire to possess Johnny prompts a sexual awakening that results in a tangled love triangle.                                                                                                                                                                                               |0.4827    |Drama, Romance                  |NULL                |United States of America         |English, Italiano, Español        |Doug Cooeyate, Gus Van Sant, Sam Downey, Robert Lee Pitchlynn, Nyla McCarthy, Ray Monge, Tim Streeter                                                                                                                                                                                                                                                                                                                                                                                                                                                                                                                                                                                                                                                                                                                                                         |Gus Van Sant           |Gus Van Sant, Walt Curtis                                                             |Peter Dammann, Karen Kitchen, Creighton Lindsay|/gAtkeNjk054tEl3jCHtF1wOFCx1.jpg|\n",
      "|1619 |The Way of the Gun                       |6.3         |454       |2000-09-08  |1.91254E7|119.0  |8500000.0|en               |The Way of the Gun                       |Two criminal drifters without sympathy get more than they bargained for after kidnapping and holding for ransom the surrogate mother of a powerful and shady man.                                                                                                                                                                                                                                                                                                                                             |2.1332    |Action, Crime, Drama, Thriller  |NULL                |United States of America         |Español, English                  |Kristin Lehman, James Caan, Nicky Katt, Sarah Silverman, Dylan Kussman, Geoffrey Lewis, Scott Wilson, Ryan Phillippe, Andres Orozco, Armando Guerrero, Irene Santiago, Taye Diggs, Benicio del Toro, Henry Griffin, Juliette Lewis                                                                                                                                                                                                                                                                                                                                                                                                                                                                                                                                                                                                                            |Christopher McQuarrie  |Christopher McQuarrie, Mark Lambert Bristol                                           |NULL                                           |/wrjMMdgn1a4ChlaBmlzKnb78nr6.jpg|\n",
      "|3171 |Bambi Meets Godzilla                     |6.3         |163       |1969-07-10  |0.0      |2.0    |0.0      |en               |Bambi Meets Godzilla                     |Bambi is nibbling the grass, unaware of the upcoming encounter with Godzilla. Who will win when they finally meet?  Preserved by the Academy Film Archive in 2009.                                                                                                                                                                                                                                                                                                                                            |6.936     |Animation, Comedy               |NULL                |Canada, United States of America |No Language                       |NULL                                                                                                                                                                                                                                                                                                                                                                                                                                                                                                                                                                                                                                                                                                                                                                                                                                                          |Marv Newland           |NULL                                                                                  |NULL                                           |/lJazOe53J7FPC2H2d6i64jFGNGC.jpg|\n",
      "|7281 |The Trixxer                              |6.4         |212       |2004-05-20  |0.0      |85.0   |0.0      |de               |Der Wixxer                               |A mysterious serial killer is shocking the underworld. Scotland Yard is investigating the case. Clues lead the detectives to Blackwhite Castle.                                                                                                                                                                                                                                                                                                                                                               |5.328     |Comedy, Crime                   |NULL                |Germany                          |Deutsch                           |Holger Speckhahn, Ivan Urbánek, Matthias Müsse, Klaus Neumann, Daniel Steiner, Carl Heinz Choynski, Tanja Wenzel, Hanuš Bor, Thomas Fritsch, Steffen Scheumann, Antoine Monot Jr., Radek Brůna, Sandy Mölling, Tonio von der Meden, Thomas Heinze, Sylvia Kube, Ales Vrzal, André Dietz, Zdeněk Tomeš, Achim Mentzel, Nadja Benaissa, Anke Engelke, Oliver Welke, Christoph Maria Herbst, Lars Rudolph, Barbara Ratthey, Bastian Pastewka, Helmut Krauss, Vanessa Petruo, Eva Ebner, Lucy Diakovska, Olli Dittrich, Günther Jauch, Catharina van Veen, Andreas von der Meden, Grit Boettcher, Nina Sollich, Ingeborg Lapsien, André Meyer, Wolfgang Völz, Václav Krejčí, Simon Happ, Michael Habeck, Michal Gulyáš, Jürgen Egger, Wilfried Gliem, Wolfgang Schwalm, Jessica Wahls, Oliver Kalkofe                                                             |Tobi Baumann           |Bastian Pastewka, Edgar Wallace, Tommy Jaud, Andreas Gaw, Oliver Welke, Oliver Kalkofe|NULL                                           |/tHcKs8FBYsxxHV3COhBM2EsY0eL.jpg|\n",
      "|10790|The Abandoned                            |5.5         |240       |2006-09-11  |4529892.0|99.0   |3000000.0|en               |The Abandoned                            |Marie, a film producer, returns to her native Russia to find her birth parents. She quickly learns they are dead, and she has inherited their long-empty farmhouse. At the farm, she meets Nicolai, who claims to be her twin brother. Events take a terrifying turn when the two spot a pair of ghastly doppelgangers and the house itself seems to propel them toward a fate they should have met 40 years earlier.                                                                                         |0.8346    |Horror, Thriller                |NULL                |Bulgaria, Spain, United Kingdom  |Pусский, English                  |Anna Panayotova, Anastasia Hille, Jasmina Marinova, Svetlana Smoleva, Valentin Ganev, Paraskeva Djukelova, Carlos Reig-Plaza, Marta Yaneva, Monica Baunova, Karel Roden                                                                                                                                                                                                                                                                                                                                                                                                                                                                                                                                                                                                                                                                                       |Nacho Cerdá            |Karim Hussain, Richard Stanley, Nacho Cerdá                                           |Alfons Conde                                   |/32DhJlTTmLeaPNQeh2oHuDNRmqF.jpg|\n",
      "|11175|Lucky Luke                               |5.4         |196       |1991-07-04  |0.0      |92.0   |0.0      |en               |Lucky Luke                               |Lucky Luke becomes the Sheriff of Daisy Town and runs out all the criminals. Then the Dalton brothers arrive and try to get the Indians to break the peace treaty and attack the town.                                                                                                                                                                                                                                                                                                                        |0.5946    |Comedy, Western                 |NULL                |Italy, United States of America  |English                           |Michael L. Morrow, Fredrick Lopez, Bo Greigh, Marc Mouchet, Amy Martin, Roger Matter, Pete Oka, Kenneth White II, Stephanie Barber, Mark Hardwick, James Tarwater, Nicholas Anthony, Nancy Morgan, Dominic Barto, Andrea Camarena-Lindsay, Kenny Dikerson, Roger Miller, Terence Hill, Arthur Collins, Carl Allrunner Vicenti, Paula Baz, Buff Douthitt, Dave Thomas, Neil Summers, Radha Delamarter, Richard Montoya, Virginia Bird, Douglas Eckberg, Ron Carey, Robyn Reede, Arsenio, Kee Bahe Elsisie, Jose Rey Toledo, Phil Tracy Delgado, Redbird, Adam Taylor, Fritz Sperberg, Deborah Mansy, Jack Caffrey, Jerry Hardin, Sky Fabin, Kira Davis, William P. Yazzie, Boots Southerland, Robin Westphal, Michael Pritchard                                                                                                                                |Terence Hill           |Lori Hill, René Goscinny, Morris                                                      |Aaron Schröder, David Grover                   |/cnBw87wu31s6VM6LKilokFwgqZu.jpg|\n",
      "|11334|S.P.Q.R.: 2,000 and a Half Years Ago     |4.8         |282       |1994-12-15  |0.0      |95.0   |0.0      |it               |S.P.Q.R. 2000 e 1/2 anni fa              |In 71 BC in Rome, utter disorder reigns in the form of political corruption and bribery involving the senator Cynic (Leslie Nielsen). The situation is claimed to be similar to the “Tangentopoli” situation in Italy in the 1990s: one of the politicians involved was Bettino Craxi.                                                                                                                                                                                                                        |1.536875  |Comedy                          |NULL                |Italy                            |Italiano                          |Mario Donatone, Marina Tagliaferri, Riccardo Rossi, Cash Casia, Renato Moretti, Christian De Sica, Cesare Gelli, Luigi Maria Burruano, Stefano Antonucci, Ugo Conti, Fabio Grossi, Virginie Marsan, Nadia Rinaldi, Anna Falchi, Massimo Ceccherini, Isabella Rocchietta, Yoon C. Joyce, Gastone Pescucci, Fathy El Gharbawy, Leslie Nielsen, Francesco De Rosa, Nicolina Papetti, Gabriella Labate, Marco Vivio, Carlos Alberto Valles, Rossana Di Lorenzo, Marco Marzocca, Domenico Minutoli, Bruno Gialli, Massimo Boldi                                                                                                                                                                                                                                                                                                                                    |Carlo Vanzina          |Carlo Vanzina, Enrico Vanzina                                                         |Federico De Robertis                           |/tzRo3DbGDtCMEmi5ZOzlCSZThoL.jpg|\n",
      "|11458|People I Know                            |5.3         |171       |2002-11-21  |5484302.0|100.0  |2.0E7    |en               |People I Know                            |A New York press agent must scramble when his major client becomes embroiled in a huge scandal.                                                                                                                                                                                                                                                                                                                                                                                                               |0.9822    |Drama, Thriller                 |NULL                |Germany, United States of America|English                           |Shelley Kirk, Peter Van Wagner, Sophie Dahl, Michael Graves, Richard Schiff, Brian McConnachie, Laurine Towler, William J. Bratton, Juliet Papa, Jonathan Walker, T. Scott Cunningham, Angélique Kidjo, Steven Randazzo, Regis Philbin, Paulina Porizkova, Uzi Parnes, Irving Gikofsky, Jon Hendricks, Lisa Emery, Kim Basinger, Frank Wood, Bill Nunn, Pat Kiernan, Terry Walters, Cynthia Santana, Greg Stebner, Al Pacino, Téa Leoni, Joe Duer, Eldon Bullock, Ivan Martin, Ajay Mehta, Rex Reed, Mark Webber, Peter Gerety, Tina Sloan, Joy Philbin, Geraldine Bartlett, Lewis Dodley, Polly Adams, Daniel Whitner, Robert Klein, William E. Corcoran, Roland Algrant, Tirlok Malik, Ben Shenkman, David Marshall Grant, Ryan O'Neal, Kaity Tong, Ted Neustadt, William Hill, Andy Davoli, Irina Pantaeva, Ramsey Faragallah, Keith Siglinger, Betsy Aidem|Daniel Algrant         |Jon Robin Baitz                                                                       |Terence Blanchard                              |/7FsbWJq43lQGCIPxe8z3zBwEIkh.jpg|\n",
      "|11650|Five Fingers                             |6.0         |117       |2006-05-01  |0.0      |87.0   |0.0      |en               |Five Fingers                             |Martijn, an idealistic Dutch pianist, travels to Morocco to help start a food program for malnourished children. Within moments of his arrival, however, Martijn is abducted by a group of terrorists, injected with a debilitating drug, and imprisoned. Under threat of death, the young man engages in a mental chess match with Ahmat, trying to learn his captor's true objective and avoid a horrible fate                                                                                              |0.428     |Drama, Action, Thriller         |NULL                |United States of America         |English                           |Laurence Fishburne, Gina Torres, Touriya Haoud, Colm Meaney, Ryan Phillippe, Saïd Taghmaoui                                                                                                                                                                                                                                                                                                                                                                                                                                                                                                                                                                                                                                                                                                                                                                   |Laurence Malkin        |Laurence Malkin, Chad Thumann                                                         |John Rea                                       |/2rs9gCICykUKjWuHbT4Nbaecs9P.jpg|\n",
      "|12598|Joe: The Busybody                        |7.2         |317       |1971-08-31  |0.0      |85.0   |0.0      |fr               |Jo                                       |A writer accidentally shoots his blackmailer and tries to hide the body.                                                                                                                                                                                                                                                                                                                                                                                                                                      |0.7979    |Comedy, Crime                   |NULL                |France                           |Français, Italiano                |Jean Valmence, Henri Attal, Micheline Luccioni, Florence Blot, Paul Préboist, Yvonne Clech, Jean Droze, Bernard Blier, Claude Gensac, Ferdy Mayne, Carlo Nell, Dominique Zardi, Louis de Funès, Christiane Muller, Michel Galabru, Guy Tréjan, Jacques Marin                                                                                                                                                                                                                                                                                                                                                                                                                                                                                                                                                                                                  |Jean Girault           |Myra Coppel, Claude Magnier, Jacques Vilfrid, Alec Coppel, Jean Girault               |Raymond Lefèvre                                |/oO916dKqqKIWcQjUnbWjEcLF47Y.jpg|\n",
      "|13045|The Price to Pay                         |5.3         |131       |2007-04-04  |0.0      |95.0   |0.0      |fr               |Le Prix à payer                          |Jean-Pierre, a wealthy businessman, is lonely. He still desires his wife but she only seems interested in shopping and the beauty salon. Tired of lunching alone every day, one day he decides to invite his chauffeur to join him, and a relationship quickly develops as the two find they have much in common. Are they just cash machines for their wives? Don't they deserve some love in return? Jean-Pierre confiscates his wife's credit card, but things don't turn out exactly the way he'd hoped...|0.4252    |Comedy                          |NULL                |France                           |Français                          |Emilie Lafarge, Philippe Breton, Maud Buquet, Nathalie Baye, Francis Leplay, Patrick Chesnais, Antoine Smadja, Jean-François Robin, Anaïs Demoustier, Gérard Lanvin, Christian Clavier, Géraldine Pailhas                                                                                                                                                                                                                                                                                                                                                                                                                                                                                                                                                                                                                                                     |Alexandra Leclère      |Alexandra Leclère                                                                     |NULL                                           |/AbFKuolhEAVcLOgx4iPXlpf4aZn.jpg|\n",
      "|13712|Incontrôlable                            |4.0         |152       |2006-02-08  |0.0      |91.0   |0.0      |fr               |Incontrôlable                            |Georges, one morning, became uncontrollable despite himself. Something that has the donkey's voice in Shrek, can control his body.                                                                                                                                                                                                                                                                                                                                                                            |0.4321    |Comedy                          |NULL                |France                           |Français                          |Jacques Ciron, Régis Laspalès, Hippolyte Girardot, Michaël Youn, Françoise Bertin, Cyrielle Clair, Patrick Timsit, Julia Faure, Rebecca Hampton, Hélène de Fougerolles, Thierry Lhermitte, Sabine Perraud, Med Hondo, Shirley Bousquet, Gilles Gaston-Dreyfus, Jacky Nercessian, Christophe Fluder                                                                                                                                                                                                                                                                                                                                                                                                                                                                                                                                                            |Raffy Shart            |Raffy Shart                                                                           |NULL                                           |/7Kj3mf3id6FR9C0HWPmO3JmcHJV.jpg|\n",
      "|13727|Disco                                    |4.4         |351       |2008-04-02  |0.0      |103.0  |0.0      |fr               |Disco                                    |Didier Travolta is a 40-year-old disco music fan who has no job, lives with his mother, and has a son he hasn't seen for a while. The mother of his son refuses to send him their son for the holidays unless he can offer him a real vacation, not just going to bars of the French port city of Le Havre. Penniless, the only way he can see his son is by winning a dance contest organized by his friend Jackson, with the prize of a vacation to Australia for two.                                      |3.532     |Music, Comedy                   |NULL                |France                           |Français                          |Gérard Depardieu, Chloé Lambert, Alban Casterman, Franck Dubosc, Annie Cordy, Samuel Le Bihan, Nathalie Dupuis, Albert de Paname, Christophe Favre, Francis Lalanne, Bernard Mazzinghi, Gérard Moulévrier, Jérôme Boyer, Christine Citti, Danièle Gilbert, Abbes Zahmani, Jacques Sereys, Jean-Pierre Paoli, Gilles Lemaire, Pauline Delpech, Julien Courbet, Stephan Jones, Isabelle Nanty, Xavier Beauvois, Emmanuelle Béart, Jérôme Le Banner, François-Xavier Demaison, Danièle Lebrun, Marie-Christine Adam, Pierre Ménès                                                                                                                                                                                                                                                                                                                                |Fabien Onteniente      |Fabien Onteniente, Philippe Guillard, Emanuel Booz, Franck Dubosc                     |Michel Legrand                                 |/6P7UjF09cp9r13sh6OA6FbiAcsr.jpg|\n",
      "|13741|2 Alone in Paris                         |5.1         |312       |2008-06-25  |0.0      |94.0   |0.0      |fr               |Seuls Two                                |A bumbling Paris policeman is doggedly determined to capture the master thief that repeatedly eludes him, even when they're the last two men on Earth.                                                                                                                                                                                                                                                                                                                                                        |8.894     |Comedy                          |NULL                |France                           |Český, Français                   |Eric Judor, Omar Sy, Anne Depétrini, MC Jean Gab'1, Hélène Darras, Élodie Bouchez, Benoît Magimel, Fred Testot, Kristin Scott Thomas, François Damiens, Hafid F. Benamar, Yannick Dyvrande, Ramzy Bedia, Édouard Baer                                                                                                                                                                                                                                                                                                                                                                                                                                                                                                                                                                                                                                         |Eric Judor, Ramzy Bedia|Philippe Lefebvre, Eric Judor, Ramzy Bedia, Lionel Dutemple                           |Vivien Lalu                                    |/11DqLXRUsARo7GIxoUETLhaBDCh.jpg|\n",
      "|13827|Surfer, Dude                             |4.6         |105       |2008-09-05  |69000.0  |85.0   |6000000.0|en               |Surfer, Dude                             |A wave twisting tale of a soul searching surfer experiencing an existential crisis.                                                                                                                                                                                                                                                                                                                                                                                                                           |1.0747    |Comedy                          |NULL                |United States of America         |English                           |Cheryl Francis Harrington, Stacy Stas Hurst, Alexie Gilmore, Johnny Sneed, Nolan North, Jamison Yang, Nathan Phillips, Nandy McClean, Amber Hay, Cassandra Hepburn, Nancy Fish, Sara Rivas, Justin Sandler, Brooke Allison, Zachary Knighton, Jeffrey Nordling, Willie Nelson, Hannah Cornett, Scott Glenn, Woody Harrelson, Mario Revolori, P.J. Byrne, K.D. Aubert, Michael Mantenuto, Ramón Rodríguez, Sarah Wright, Matthew McConaughey, Bru Muller, Julia Carpenter, Travis Fimmel, Veronica Taylor, Kristin Peterson, Brad Ashten, John Terry, Maya McClean, Joseph Steven Yang                                                                                                                                                                                                                                                                         |S.R. Bindler           |Mark Gustawes, Cory Van Dyke, S.R. Bindler, George R. Mays                            |Blake Neely                                    |/948AdP72iLQUjWvKp9r8981PT28.jpg|\n",
      "|14694|The Snow Walker                          |6.978       |116       |2003-09-11  |0.0      |103.0  |0.0      |en               |The Snow Walker                          |A bush pilot in nothern Canada who with the aid of modernity thinks he can handle it all & knows it all. After reluctantly agreeing to transport a local indian girl to a medical facility his light plane crashes & they have to survive whilst finding their way back to civilization. Along the journey the man finds a new respect for the native ways as they battle to survive the elements.                                                                                                            |0.9554    |Adventure, Drama                |NULL                |Canada                           |Český, English, Français, Italiano|Jon Gries, Malcolm Scott, Michael Bublé, Peter Ipkornerk, Robin Dunne, Greg Spottiswood, Michael Wallace, Mariano Aupilardjuk, Albert Kimaliakyuk, Samson Jorah, Brad Sihvon, Barry Pepper, Yvo Samgushak, Kiersten Warren, James Cromwell, William MacDonald, Annabella Piugattuk, Peter-Henry Arnatsiaq                                                                                                                                                                                                                                                                                                                                                                                                                                                                                                                                                     |Charles Martin Smith   |Farley Mowat, Charles Martin Smith                                                    |Paul Intson, Mychael Danna                     |/1UlHIWfqjkizc2qem0IPZBG6nn5.jpg|\n",
      "|14842|44 Minutes: The North Hollywood Shoot-Out|6.6         |102       |2003-06-05  |0.0      |103.0  |1.0E7    |en               |44 Minutes: The North Hollywood Shoot-Out|After a failed bank robbery, two heavily armed men hold the Los Angeles Police Department at bay for 44 minutes.                                                                                                                                                                                                                                                                                                                                                                                              |0.9347    |Action, TV Movie                |NULL                |United States of America         |English                           |Rafael Monserrate, Jamie McBride, JoNell Kennedy, Milt Kogan, Debi Gutierrez, Cameron Dye, Jullian Dulce Vida, Khali Macintyre, Andrew Bryniarski, Mario Van Peebles, Michael Madsen, Jason Hall, Greg Lindsay, Tracy Martin, Alex Madison, Jay Underwood, Jeffrey Damnit, Ken Land, Jesse Metcalfe, Dale Dye, Carlotta Chang, Stephen Lee, Chris Jacobs, Ray Baker, Ron Livingston, Katrina Law, Alex Meneses, Jerry Lambert, Francis Capra, Clare Carey, Lou Simon, Oleg Taktarov, J.E. Freeman, Paul Gutrecht, Douglas Spain, Dominique Jennings                                                                                                                                                                                                                                                                                                           |Yves Simoneau          |Tim Metcalfe                                                                          |NULL                                           |/6WevoRg8RDBzPyvtv2GiPcdeWz0.jpg|\n",
      "|15641|Vacancy 2: The First Cut                 |5.3         |273       |2008-10-24  |0.0      |86.0   |3000000.0|en               |Vacancy 2: The First Cut                 |Three young people check into the Meadow View Inn for a night's rest, fully unaware of the inn's sick-minded employees and their nefarious intentions.                                                                                                                                                                                                                                                                                                                                                        |1.6586    |Crime, Horror, Thriller         |NULL                |United States of America         |English                           |Nelson Lee, Joe Reegan, David Moscow, Beau Billingslea, Jeryl Prescott, Lola Davidson, Trevor Wright, Scott G. Anderson, Angel Oquendo, Andrew Fiscella, Judy Durning, Gwendoline Yeo, Brian Klugman, Agnes Bruckner, Juanita Jennings, Arjay Smith, Jonathan Terry, Christopher Allen Nelson, Paul Papadakis, David Shackelford, Don Oscar Smith                                                                                                                                                                                                                                                                                                                                                                                                                                                                                                             |Eric Bross             |Mark L. Smith                                                                         |NULL                                           |/qp0xpheiKwK2ASjX3YUwDPVOzHx.jpg|\n",
      "|15664|Right at Your Door                       |5.8         |242       |2006-01-23  |2043704.0|96.0   |0.0      |en               |Right at Your Door                       |A dirty bomb goes off in Los Angeles, jamming freeways and spreading a toxic cloud.                                                                                                                                                                                                                                                                                                                                                                                                                           |0.5906    |Drama, Thriller, Science Fiction|NULL                |United States of America         |English                           |Scotty Noyd Jr., Brian Bloom, Jon Huertas, Tony Perez, Rory Cochrane, Nina Barry, Max Kasch, Soledad St. Hilaire, Marisol Ramirez, Will McCormack, Mary McCormack                                                                                                                                                                                                                                                                                                                                                                                                                                                                                                                                                                                                                                                                                             |Chris Gorak            |Chris Gorak                                                                           |Tom Hajdu, tomandandy, Andy Milburn            |/sBkCtdpkWRiisQ3vzyNOZ72biCB.jpg|\n",
      "|16005|The Lucky Ones                           |6.413       |173       |2008-09-26  |0.0      |113.0  |0.0      |en               |The Lucky Ones                           |The story revolves around three soldiers — Colee, T.K. and Cheaver — who return from the Iraq War after suffering injuries and learn that life has moved on without them. They end up on an unexpected road trip across the U.S.                                                                                                                                                                                                                                                                              |0.6318    |Comedy, Drama, History          |NULL                |United States of America         |English                           |Spencer Garrett, Jennifer Joan Taylor, John Heard, Coburn Goss, Kerry Bishé, Kirk B.R. Woller, Mark L. Young, Annie Corley, Rachel McAdams, Katherine LaNasa, Howard Platt, Molly Hagan, Michael Peña, Arden Myrin, John Diehl, Sarah Steele, Tim Robbins                                                                                                                                                                                                                                                                                                                                                                                                                                                                                                                                                                                                     |Neil Burger            |Neil Burger, Dirk Wittenborn                                                          |Rolfe Kent                                     |/zZv0mXxd7kfyKuCLMyS0DFCk0JC.jpg|\n",
      "+-----+-----------------------------------------+------------+----------+------------+---------+-------+---------+-----------------+-----------------------------------------+--------------------------------------------------------------------------------------------------------------------------------------------------------------------------------------------------------------------------------------------------------------------------------------------------------------------------------------------------------------------------------------------------------------------------------------------------------------------------------------------------------------+----------+--------------------------------+--------------------+---------------------------------+----------------------------------+--------------------------------------------------------------------------------------------------------------------------------------------------------------------------------------------------------------------------------------------------------------------------------------------------------------------------------------------------------------------------------------------------------------------------------------------------------------------------------------------------------------------------------------------------------------------------------------------------------------------------------------------------------------------------------------------------------------------------------------------------------------------------------------------------------------------------------------------------------------+-----------------------+--------------------------------------------------------------------------------------+-----------------------------------------------+--------------------------------+\n",
      "only showing top 20 rows\n"
     ]
    }
   ],
   "source": [
    "# Explorer en profondeur productuion_companies vide\n",
    "\n",
    "# df_null_production = df.filter(col(\"production_companies\").isNull())\n",
    "\n",
    "# df_null_production = df_null_production.filter(col(\"vote_count\").cast(\"int\") > 100 )\n",
    "\n",
    "# df_null_production.show(100, truncate=False)\n",
    "# import IntegerType\n",
    "from pyspark.sql.types import IntegerType\n",
    "from pyspark.sql.functions import expr\n",
    "\n",
    "df = df.withColumn(\"vote_count\", col(\"vote_count\").cast(\"double\").cast(\"int\"))\n",
    "\n",
    "# df.printSchema()\n",
    "# df_null_production_votes = df.filter(\n",
    "#     (col(\"production_companies\").isNull()) & (col(\"vote_count\") > 100)\n",
    "# )\n",
    "\n",
    "\n",
    "\n",
    "df_null_production_votes = df.filter(\n",
    "    (col(\"production_companies\").isNull()) &\n",
    "    (expr(\"try_cast(vote_count as double) > 100.0\"))\n",
    ")\n",
    "\n",
    "df_null_production_votes.show(truncate=False)"
   ]
  },
  {
   "cell_type": "markdown",
   "id": "d1ccef99",
   "metadata": {},
   "source": [
    "## 3. Nettoyage"
   ]
  },
  {
   "cell_type": "markdown",
   "id": "8a5c1138",
   "metadata": {},
   "source": [
    "## 4. Transformation"
   ]
  },
  {
   "cell_type": "markdown",
   "id": "072f2d1f",
   "metadata": {},
   "source": [
    "## 5. Chargement en base"
   ]
  }
 ],
 "metadata": {
  "kernelspec": {
   "display_name": "test-project",
   "language": "python",
   "name": "python3"
  },
  "language_info": {
   "codemirror_mode": {
    "name": "ipython",
    "version": 3
   },
   "file_extension": ".py",
   "mimetype": "text/x-python",
   "name": "python",
   "nbconvert_exporter": "python",
   "pygments_lexer": "ipython3",
   "version": "3.10.12"
  }
 },
 "nbformat": 4,
 "nbformat_minor": 5
}
