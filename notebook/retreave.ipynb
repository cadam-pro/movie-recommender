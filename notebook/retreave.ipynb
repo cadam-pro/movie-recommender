{
 "cells": [
  {
   "cell_type": "markdown",
   "id": "288f8240",
   "metadata": {},
   "source": [
    "# Pour api authenticate : Créer une clé api sur le site Kaggle\n",
    "## Ajouter la clé ici : ~/.kaggle/kaggle.json"
   ]
  },
  {
   "cell_type": "code",
   "execution_count": null,
   "id": "78153865",
   "metadata": {},
   "outputs": [],
   "source": [
    "# ! pip install kaggle"
   ]
  },
  {
   "cell_type": "code",
   "execution_count": 6,
   "id": "c1b93a84",
   "metadata": {},
   "outputs": [
    {
     "name": "stdout",
     "output_type": "stream",
     "text": [
      "Dataset URL: https://www.kaggle.com/datasets/alanvourch/tmdb-movies-daily-updates\n"
     ]
    }
   ],
   "source": [
    "import kaggle\n",
    "\n",
    "DEST_FILE = \"./data/tmdb\"\n",
    "\n",
    "kaggle.api.authenticate()\n",
    "kaggle.api.dataset_download_files(\"alanvourch/tmdb-movies-daily-updates\", path=DEST_FILE, unzip=True)"
   ]
  }
 ],
 "metadata": {
  "kernelspec": {
   "display_name": "movie-recommender",
   "language": "python",
   "name": "python3"
  },
  "language_info": {
   "codemirror_mode": {
    "name": "ipython",
    "version": 3
   },
   "file_extension": ".py",
   "mimetype": "text/x-python",
   "name": "python",
   "nbconvert_exporter": "python",
   "pygments_lexer": "ipython3",
   "version": "3.10.12"
  }
 },
 "nbformat": 4,
 "nbformat_minor": 5
}
