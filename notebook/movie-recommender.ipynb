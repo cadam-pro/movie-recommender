{
 "cells": [
  {
   "cell_type": "code",
   "execution_count": null,
   "id": "da4da72a",
   "metadata": {},
   "outputs": [],
   "source": [
    "# !pip install requests pandas scikit-learn umap-learn plotly numpy"
   ]
  },
  {
   "cell_type": "code",
   "execution_count": 79,
   "id": "2be88156",
   "metadata": {},
   "outputs": [],
   "source": [
    "import requests\n",
    "import pandas as pd\n",
    "from sklearn.feature_extraction.text import TfidfVectorizer\n",
    "from sklearn.cluster import KMeans\n",
    "import umap.umap_ as umap\n",
    "import plotly.express as px"
   ]
  },
  {
   "cell_type": "code",
   "execution_count": null,
   "id": "82a59560",
   "metadata": {},
   "outputs": [],
   "source": [
    "# Ta clé API TMDb ici\n",
    "API_KEY = \"Clé_api\"\n",
    "BASE_URL = \"https://api.themoviedb.org/3\""
   ]
  },
  {
   "cell_type": "code",
   "execution_count": 81,
   "id": "7e0f91e2",
   "metadata": {},
   "outputs": [],
   "source": [
    "\n",
    "def fetch_movies(endpoint, params):\n",
    "    url = f\"{BASE_URL}/{endpoint}\"\n",
    "    params[\"api_key\"] = API_KEY\n",
    "    response = requests.get(url, params=params)\n",
    "    response.raise_for_status()\n",
    "    return response.json()\n",
    "\n",
    "def get_popular_movies(pages=5, min_vote_count=1000):\n",
    "    all_movies = []\n",
    "    for page in range(1, pages + 1):\n",
    "        data = fetch_movies(\"discover/movie\", {\n",
    "            \"language\": \"fr-FR\",\n",
    "            \"sort_by\": \"vote_average.desc\",\n",
    "            \"vote_count.gte\": min_vote_count,\n",
    "            \"page\": page\n",
    "        })\n",
    "        all_movies.extend(data[\"results\"])\n",
    "    return all_movies\n",
    "\n",
    "def get_recent_movies(pages=5):\n",
    "    from datetime import datetime\n",
    "    year = datetime.now().year\n",
    "    all_movies = []\n",
    "    for page in range(1, pages+1):\n",
    "        data = fetch_movies(\"movie/popular\", {\n",
    "            \"language\": \"fr-FR\",\n",
    "            \"sort_by\": \"release_date.desc\",\n",
    "            \"primary_release_year\": year,\n",
    "            \"page\": page\n",
    "        })\n",
    "        all_movies.extend(data[\"results\"])\n",
    "    return all_movies\n",
    "\n",
    "def extract_movie_features(movies):\n",
    "    # Récupère les colonnes utiles\n",
    "    df = pd.DataFrame(movies)\n",
    "    df = df[[\"id\",\"title\",\"overview\",\"release_date\",\"vote_average\"]]\n",
    "    df[\"overview\"] = df[\"overview\"].fillna(\"\")\n",
    "    df[\"release_date\"] = pd.to_datetime(df[\"release_date\"], errors=\"coerce\")\n",
    "    return df"
   ]
  },
  {
   "cell_type": "code",
   "execution_count": 82,
   "id": "41c7bc88",
   "metadata": {},
   "outputs": [],
   "source": [
    "# Récupération des données\n",
    "popular_movies = get_popular_movies()\n",
    "recent_movies = get_recent_movies()\n",
    "\n",
    "df_popular = extract_movie_features(popular_movies)\n",
    "df_recent = extract_movie_features(recent_movies)\n",
    "\n",
    "# Ajout d'une colonne pour la source\n",
    "df_popular[\"category\"] = \"popular\"\n",
    "df_recent[\"category\"] = \"recent\""
   ]
  },
  {
   "cell_type": "code",
   "execution_count": 83,
   "id": "0a24d564",
   "metadata": {},
   "outputs": [
    {
     "data": {
      "text/html": [
       "<div>\n",
       "<style scoped>\n",
       "    .dataframe tbody tr th:only-of-type {\n",
       "        vertical-align: middle;\n",
       "    }\n",
       "\n",
       "    .dataframe tbody tr th {\n",
       "        vertical-align: top;\n",
       "    }\n",
       "\n",
       "    .dataframe thead th {\n",
       "        text-align: right;\n",
       "    }\n",
       "</style>\n",
       "<table border=\"1\" class=\"dataframe\">\n",
       "  <thead>\n",
       "    <tr style=\"text-align: right;\">\n",
       "      <th></th>\n",
       "      <th>id</th>\n",
       "      <th>title</th>\n",
       "      <th>overview</th>\n",
       "      <th>release_date</th>\n",
       "      <th>vote_average</th>\n",
       "      <th>category</th>\n",
       "    </tr>\n",
       "  </thead>\n",
       "  <tbody>\n",
       "    <tr>\n",
       "      <th>0</th>\n",
       "      <td>278</td>\n",
       "      <td>Les Évadés</td>\n",
       "      <td>En 1947, Andy Dufresne, un jeune banquier, est...</td>\n",
       "      <td>1994-09-23</td>\n",
       "      <td>8.700</td>\n",
       "      <td>popular</td>\n",
       "    </tr>\n",
       "    <tr>\n",
       "      <th>1</th>\n",
       "      <td>238</td>\n",
       "      <td>Le Parrain</td>\n",
       "      <td>La Seconde Guerre mondiale vient de s'achever....</td>\n",
       "      <td>1972-03-14</td>\n",
       "      <td>8.687</td>\n",
       "      <td>popular</td>\n",
       "    </tr>\n",
       "    <tr>\n",
       "      <th>2</th>\n",
       "      <td>240</td>\n",
       "      <td>Le Parrain, 2e partie</td>\n",
       "      <td>Depuis la mort de Don Vito Corleone, son fils ...</td>\n",
       "      <td>1974-12-20</td>\n",
       "      <td>8.571</td>\n",
       "      <td>popular</td>\n",
       "    </tr>\n",
       "    <tr>\n",
       "      <th>3</th>\n",
       "      <td>424</td>\n",
       "      <td>La Liste de Schindler</td>\n",
       "      <td>Évocation des années de guerre d’Oskar Schindl...</td>\n",
       "      <td>1993-12-15</td>\n",
       "      <td>8.565</td>\n",
       "      <td>popular</td>\n",
       "    </tr>\n",
       "    <tr>\n",
       "      <th>4</th>\n",
       "      <td>389</td>\n",
       "      <td>Douze Hommes en colère</td>\n",
       "      <td>Un jeune homme d'origine modeste est accusé du...</td>\n",
       "      <td>1957-04-10</td>\n",
       "      <td>8.549</td>\n",
       "      <td>popular</td>\n",
       "    </tr>\n",
       "    <tr>\n",
       "      <th>...</th>\n",
       "      <td>...</td>\n",
       "      <td>...</td>\n",
       "      <td>...</td>\n",
       "      <td>...</td>\n",
       "      <td>...</td>\n",
       "      <td>...</td>\n",
       "    </tr>\n",
       "    <tr>\n",
       "      <th>95</th>\n",
       "      <td>11324</td>\n",
       "      <td>Shutter Island</td>\n",
       "      <td>En 1954, le marshal Teddy Daniels et son coéqu...</td>\n",
       "      <td>2010-02-14</td>\n",
       "      <td>8.201</td>\n",
       "      <td>popular</td>\n",
       "    </tr>\n",
       "    <tr>\n",
       "      <th>96</th>\n",
       "      <td>284</td>\n",
       "      <td>La Garçonnière</td>\n",
       "      <td>C.C. Baxter est employé à la Sauvegarde, grand...</td>\n",
       "      <td>1960-06-21</td>\n",
       "      <td>8.196</td>\n",
       "      <td>popular</td>\n",
       "    </tr>\n",
       "    <tr>\n",
       "      <th>97</th>\n",
       "      <td>324786</td>\n",
       "      <td>Tu ne tueras point</td>\n",
       "      <td>Quand la Seconde Guerre mondiale a éclaté, Des...</td>\n",
       "      <td>2016-10-07</td>\n",
       "      <td>8.193</td>\n",
       "      <td>popular</td>\n",
       "    </tr>\n",
       "    <tr>\n",
       "      <th>98</th>\n",
       "      <td>490</td>\n",
       "      <td>Le Septième Sceau</td>\n",
       "      <td>Au XIVe siècle, la grande peste ravage la Suèd...</td>\n",
       "      <td>1957-02-16</td>\n",
       "      <td>8.186</td>\n",
       "      <td>popular</td>\n",
       "    </tr>\n",
       "    <tr>\n",
       "      <th>99</th>\n",
       "      <td>185</td>\n",
       "      <td>Orange mécanique</td>\n",
       "      <td>Au XXIe siècle, où règnent la violence et le s...</td>\n",
       "      <td>1971-12-19</td>\n",
       "      <td>8.186</td>\n",
       "      <td>popular</td>\n",
       "    </tr>\n",
       "  </tbody>\n",
       "</table>\n",
       "<p>100 rows × 6 columns</p>\n",
       "</div>"
      ],
      "text/plain": [
       "        id                   title  \\\n",
       "0      278              Les Évadés   \n",
       "1      238              Le Parrain   \n",
       "2      240   Le Parrain, 2e partie   \n",
       "3      424   La Liste de Schindler   \n",
       "4      389  Douze Hommes en colère   \n",
       "..     ...                     ...   \n",
       "95   11324          Shutter Island   \n",
       "96     284          La Garçonnière   \n",
       "97  324786      Tu ne tueras point   \n",
       "98     490       Le Septième Sceau   \n",
       "99     185        Orange mécanique   \n",
       "\n",
       "                                             overview release_date  \\\n",
       "0   En 1947, Andy Dufresne, un jeune banquier, est...   1994-09-23   \n",
       "1   La Seconde Guerre mondiale vient de s'achever....   1972-03-14   \n",
       "2   Depuis la mort de Don Vito Corleone, son fils ...   1974-12-20   \n",
       "3   Évocation des années de guerre d’Oskar Schindl...   1993-12-15   \n",
       "4   Un jeune homme d'origine modeste est accusé du...   1957-04-10   \n",
       "..                                                ...          ...   \n",
       "95  En 1954, le marshal Teddy Daniels et son coéqu...   2010-02-14   \n",
       "96  C.C. Baxter est employé à la Sauvegarde, grand...   1960-06-21   \n",
       "97  Quand la Seconde Guerre mondiale a éclaté, Des...   2016-10-07   \n",
       "98  Au XIVe siècle, la grande peste ravage la Suèd...   1957-02-16   \n",
       "99  Au XXIe siècle, où règnent la violence et le s...   1971-12-19   \n",
       "\n",
       "    vote_average category  \n",
       "0          8.700  popular  \n",
       "1          8.687  popular  \n",
       "2          8.571  popular  \n",
       "3          8.565  popular  \n",
       "4          8.549  popular  \n",
       "..           ...      ...  \n",
       "95         8.201  popular  \n",
       "96         8.196  popular  \n",
       "97         8.193  popular  \n",
       "98         8.186  popular  \n",
       "99         8.186  popular  \n",
       "\n",
       "[100 rows x 6 columns]"
      ]
     },
     "execution_count": 83,
     "metadata": {},
     "output_type": "execute_result"
    }
   ],
   "source": [
    "df_popular"
   ]
  },
  {
   "cell_type": "code",
   "execution_count": 84,
   "id": "b3304d95",
   "metadata": {},
   "outputs": [
    {
     "data": {
      "text/html": [
       "<div>\n",
       "<style scoped>\n",
       "    .dataframe tbody tr th:only-of-type {\n",
       "        vertical-align: middle;\n",
       "    }\n",
       "\n",
       "    .dataframe tbody tr th {\n",
       "        vertical-align: top;\n",
       "    }\n",
       "\n",
       "    .dataframe thead th {\n",
       "        text-align: right;\n",
       "    }\n",
       "</style>\n",
       "<table border=\"1\" class=\"dataframe\">\n",
       "  <thead>\n",
       "    <tr style=\"text-align: right;\">\n",
       "      <th></th>\n",
       "      <th>id</th>\n",
       "      <th>title</th>\n",
       "      <th>overview</th>\n",
       "      <th>release_date</th>\n",
       "      <th>vote_average</th>\n",
       "      <th>category</th>\n",
       "    </tr>\n",
       "  </thead>\n",
       "  <tbody>\n",
       "    <tr>\n",
       "      <th>0</th>\n",
       "      <td>986056</td>\n",
       "      <td>Thunderbolts*</td>\n",
       "      <td>Yelena Belova, Bucky Barnes, Red Guardian, Le ...</td>\n",
       "      <td>2025-04-30</td>\n",
       "      <td>7.500</td>\n",
       "      <td>recent</td>\n",
       "    </tr>\n",
       "    <tr>\n",
       "      <th>1</th>\n",
       "      <td>574475</td>\n",
       "      <td>Destination finale : Bloodlines</td>\n",
       "      <td>Stefani, 18 ans, fait d’affreux cauchemars. Da...</td>\n",
       "      <td>2025-05-14</td>\n",
       "      <td>7.200</td>\n",
       "      <td>recent</td>\n",
       "    </tr>\n",
       "    <tr>\n",
       "      <th>2</th>\n",
       "      <td>541671</td>\n",
       "      <td>Ballerina</td>\n",
       "      <td>Enfant, Eve Macarro a assisté impuissante au m...</td>\n",
       "      <td>2025-06-04</td>\n",
       "      <td>7.067</td>\n",
       "      <td>recent</td>\n",
       "    </tr>\n",
       "    <tr>\n",
       "      <th>3</th>\n",
       "      <td>846422</td>\n",
       "      <td>The Old Guard 2</td>\n",
       "      <td>Andy et son équipe de guerriers immortels retr...</td>\n",
       "      <td>2025-07-01</td>\n",
       "      <td>6.261</td>\n",
       "      <td>recent</td>\n",
       "    </tr>\n",
       "    <tr>\n",
       "      <th>4</th>\n",
       "      <td>552524</td>\n",
       "      <td>Lilo &amp; Stitch</td>\n",
       "      <td>Sur la planète Turo, le professeur Jumba compa...</td>\n",
       "      <td>2025-05-17</td>\n",
       "      <td>7.100</td>\n",
       "      <td>recent</td>\n",
       "    </tr>\n",
       "    <tr>\n",
       "      <th>...</th>\n",
       "      <td>...</td>\n",
       "      <td>...</td>\n",
       "      <td>...</td>\n",
       "      <td>...</td>\n",
       "      <td>...</td>\n",
       "      <td>...</td>\n",
       "    </tr>\n",
       "    <tr>\n",
       "      <th>95</th>\n",
       "      <td>519182</td>\n",
       "      <td>Moi, moche et méchant 4</td>\n",
       "      <td>Gru, Lucy et les filles, Margo, Édith et Agnès...</td>\n",
       "      <td>2024-06-20</td>\n",
       "      <td>7.042</td>\n",
       "      <td>recent</td>\n",
       "    </tr>\n",
       "    <tr>\n",
       "      <th>96</th>\n",
       "      <td>1079810</td>\n",
       "      <td>The Long Game</td>\n",
       "      <td>Dans le Texas des années 1950, cinq employés, ...</td>\n",
       "      <td>2024-04-12</td>\n",
       "      <td>7.048</td>\n",
       "      <td>recent</td>\n",
       "    </tr>\n",
       "    <tr>\n",
       "      <th>97</th>\n",
       "      <td>1011985</td>\n",
       "      <td>Kung Fu Panda 4</td>\n",
       "      <td>Après trois aventures dans lesquelles le guerr...</td>\n",
       "      <td>2024-03-02</td>\n",
       "      <td>7.100</td>\n",
       "      <td>recent</td>\n",
       "    </tr>\n",
       "    <tr>\n",
       "      <th>98</th>\n",
       "      <td>1257960</td>\n",
       "      <td>सिकंदर</td>\n",
       "      <td></td>\n",
       "      <td>2025-03-29</td>\n",
       "      <td>4.818</td>\n",
       "      <td>recent</td>\n",
       "    </tr>\n",
       "    <tr>\n",
       "      <th>99</th>\n",
       "      <td>1284120</td>\n",
       "      <td>The Ugly Stepsister</td>\n",
       "      <td>Dans un royaume où la beauté règne en maître, ...</td>\n",
       "      <td>2025-03-07</td>\n",
       "      <td>7.211</td>\n",
       "      <td>recent</td>\n",
       "    </tr>\n",
       "  </tbody>\n",
       "</table>\n",
       "<p>100 rows × 6 columns</p>\n",
       "</div>"
      ],
      "text/plain": [
       "         id                            title  \\\n",
       "0    986056                    Thunderbolts*   \n",
       "1    574475  Destination finale : Bloodlines   \n",
       "2    541671                        Ballerina   \n",
       "3    846422                  The Old Guard 2   \n",
       "4    552524                    Lilo & Stitch   \n",
       "..      ...                              ...   \n",
       "95   519182          Moi, moche et méchant 4   \n",
       "96  1079810                    The Long Game   \n",
       "97  1011985                  Kung Fu Panda 4   \n",
       "98  1257960                           सिकंदर   \n",
       "99  1284120              The Ugly Stepsister   \n",
       "\n",
       "                                             overview release_date  \\\n",
       "0   Yelena Belova, Bucky Barnes, Red Guardian, Le ...   2025-04-30   \n",
       "1   Stefani, 18 ans, fait d’affreux cauchemars. Da...   2025-05-14   \n",
       "2   Enfant, Eve Macarro a assisté impuissante au m...   2025-06-04   \n",
       "3   Andy et son équipe de guerriers immortels retr...   2025-07-01   \n",
       "4   Sur la planète Turo, le professeur Jumba compa...   2025-05-17   \n",
       "..                                                ...          ...   \n",
       "95  Gru, Lucy et les filles, Margo, Édith et Agnès...   2024-06-20   \n",
       "96  Dans le Texas des années 1950, cinq employés, ...   2024-04-12   \n",
       "97  Après trois aventures dans lesquelles le guerr...   2024-03-02   \n",
       "98                                                      2025-03-29   \n",
       "99  Dans un royaume où la beauté règne en maître, ...   2025-03-07   \n",
       "\n",
       "    vote_average category  \n",
       "0          7.500   recent  \n",
       "1          7.200   recent  \n",
       "2          7.067   recent  \n",
       "3          6.261   recent  \n",
       "4          7.100   recent  \n",
       "..           ...      ...  \n",
       "95         7.042   recent  \n",
       "96         7.048   recent  \n",
       "97         7.100   recent  \n",
       "98         4.818   recent  \n",
       "99         7.211   recent  \n",
       "\n",
       "[100 rows x 6 columns]"
      ]
     },
     "execution_count": 84,
     "metadata": {},
     "output_type": "execute_result"
    }
   ],
   "source": [
    "df_recent"
   ]
  },
  {
   "cell_type": "code",
   "execution_count": 85,
   "id": "43926e34",
   "metadata": {},
   "outputs": [],
   "source": [
    "df_all = pd.concat([df_popular, df_recent]).drop_duplicates(subset=\"id\").reset_index(drop=True)"
   ]
  },
  {
   "cell_type": "code",
   "execution_count": 86,
   "id": "2b0ea08e",
   "metadata": {},
   "outputs": [],
   "source": [
    "# Vectorisation TF-IDF sur les résumés\n",
    "vectorizer = TfidfVectorizer(max_features=500, stop_words=\"english\")\n",
    "X_tfidf = vectorizer.fit_transform(df_all[\"overview\"])"
   ]
  },
  {
   "cell_type": "code",
   "execution_count": 87,
   "id": "28dd7380",
   "metadata": {},
   "outputs": [
    {
     "name": "stderr",
     "output_type": "stream",
     "text": [
      "/home/cor.adam/.pyenv/versions/3.10.12/envs/test-project/lib/python3.10/site-packages/umap/umap_.py:1952: UserWarning:\n",
      "\n",
      "n_jobs value 1 overridden to 1 by setting random_state. Use no seed for parallelism.\n",
      "\n"
     ]
    }
   ],
   "source": [
    "# Réduction dimensionnelle avec UMAP\n",
    "reducer = umap.UMAP(n_neighbors=15, min_dist=0.1, n_components=2, random_state=42)\n",
    "embedding = reducer.fit_transform(X_tfidf.toarray())\n",
    "\n",
    "df_all[\"x\"] = embedding[:,0]\n",
    "df_all[\"y\"] = embedding[:,1]"
   ]
  },
  {
   "cell_type": "code",
   "execution_count": 88,
   "id": "98110582",
   "metadata": {},
   "outputs": [],
   "source": [
    "# Clustering KMeans (nombre de clusters à ajuster)\n",
    "n_clusters = 10\n",
    "kmeans = KMeans(n_clusters=n_clusters, random_state=42)\n",
    "df_all[\"cluster\"] = kmeans.fit_predict(embedding)"
   ]
  },
  {
   "cell_type": "code",
   "execution_count": 89,
   "id": "211b9087",
   "metadata": {},
   "outputs": [],
   "source": [
    "fig = px.scatter(df_all, x=\"x\", y=\"y\",\n",
    "                 color=\"cluster\",\n",
    "                 symbol=\"category\",\n",
    "                 hover_data=[\"title\",\"release_date\",\"vote_average\",\"category\"],\n",
    "                 title=\"Clustering films populaires et récents TMDb\")"
   ]
  },
  {
   "cell_type": "code",
   "execution_count": 90,
   "id": "d9b9eda2",
   "metadata": {},
   "outputs": [
    {
     "data": {
      "application/vnd.plotly.v1+json": {
       "config": {
        "plotlyServerURL": "https://plot.ly"
       },
       "data": [
        {
         "customdata": [
          [
           "Les Évadés",
           "1994-09-23T00:00:00",
           8.7,
           "popular"
          ],
          [
           "Le Parrain",
           "1972-03-14T00:00:00",
           8.687,
           "popular"
          ],
          [
           "Le Parrain, 2e partie",
           "1974-12-20T00:00:00",
           8.571,
           "popular"
          ],
          [
           "La Liste de Schindler",
           "1993-12-15T00:00:00",
           8.565,
           "popular"
          ],
          [
           "Douze Hommes en colère",
           "1957-04-10T00:00:00",
           8.549,
           "popular"
          ],
          [
           "Le Voyage de Chihiro",
           "2001-07-20T00:00:00",
           8.536,
           "popular"
          ],
          [
           "The Dark Knight : Le Chevalier noir",
           "2008-07-16T00:00:00",
           8.521,
           "popular"
          ],
          [
           "Dilwale Dulhania Le Jayenge",
           "1995-10-20T00:00:00",
           8.518,
           "popular"
          ],
          [
           "La Ligne verte",
           "1999-12-10T00:00:00",
           8.505,
           "popular"
          ],
          [
           "Parasite",
           "2019-05-30T00:00:00",
           8.499,
           "popular"
          ],
          [
           "Pulp Fiction",
           "1994-09-10T00:00:00",
           8.488,
           "popular"
          ],
          [
           "Le Seigneur des anneaux : Le Retour du roi",
           "2003-12-17T00:00:00",
           8.487,
           "popular"
          ],
          [
           "Your Name.",
           "2016-08-26T00:00:00",
           8.483,
           "popular"
          ],
          [
           "Forrest Gump",
           "1994-06-23T00:00:00",
           8.468,
           "popular"
          ],
          [
           "Le Bon, la Brute et le Truand",
           "1966-12-22T00:00:00",
           8.463,
           "popular"
          ],
          [
           "Interstellar",
           "2014-11-05T00:00:00",
           8.456,
           "popular"
          ],
          [
           "Les Affranchis",
           "1990-09-12T00:00:00",
           8.455,
           "popular"
          ],
          [
           "Les Sept Samouraïs",
           "1954-04-26T00:00:00",
           8.455,
           "popular"
          ],
          [
           "Le Tombeau des lucioles",
           "1988-04-16T00:00:00",
           8.449,
           "popular"
          ],
          [
           "La vie est belle",
           "1997-12-20T00:00:00",
           8.445,
           "popular"
          ],
          [
           "Fight Club",
           "1999-10-15T00:00:00",
           8.438,
           "popular"
          ],
          [
           "Cinema Paradiso",
           "1988-11-17T00:00:00",
           8.4,
           "popular"
          ],
          [
           "Will A Dog",
           "2000-09-15T00:00:00",
           8.4,
           "popular"
          ],
          [
           "La Cité de Dieu",
           "2002-08-30T00:00:00",
           8.43,
           "popular"
          ],
          [
           "Harakiri",
           "1962-09-15T00:00:00",
           8.423,
           "popular"
          ],
          [
           "Le Seigneur des anneaux : La Communauté de l'anneau",
           "2001-12-18T00:00:00",
           8.423,
           "popular"
          ],
          [
           "Psychose",
           "1960-06-22T00:00:00",
           8.4,
           "popular"
          ],
          [
           "Vol au-dessus d'un nid de coucou",
           "1975-11-19T00:00:00",
           8.414,
           "popular"
          ],
          [
           "Il était une fois en Amérique",
           "1984-05-23T00:00:00",
           8.411,
           "popular"
          ],
          [
           "Gabriel's Inferno",
           "2020-05-29T00:00:00",
           8.408,
           "popular"
          ],
          [
           "Le Seigneur des anneaux : Les Deux Tours",
           "2002-12-18T00:00:00",
           8.407,
           "popular"
          ],
          [
           "Spider-Man : New Generation",
           "2018-12-06T00:00:00",
           8.399,
           "popular"
          ],
          [
           "Le Château ambulant",
           "2004-09-09T00:00:00",
           8.396,
           "popular"
          ],
          [
           "L'Empire contre-attaque",
           "1980-05-20T00:00:00",
           8.396,
           "popular"
          ],
          [
           "Silent Voice",
           "2016-09-17T00:00:00",
           8.386,
           "popular"
          ],
          [
           "Le Pianiste",
           "2002-09-17T00:00:00",
           8.379,
           "popular"
          ],
          [
           "Whiplash",
           "2014-10-10T00:00:00",
           8.378,
           "popular"
          ],
          [
           "Gabriel's Inferno: Part II",
           "2020-07-31T00:00:00",
           8.376,
           "popular"
          ],
          [
           "Seven",
           "1995-09-22T00:00:00",
           8.376,
           "popular"
          ],
          [
           "Gabriel's Inferno: Part III",
           "2020-11-19T00:00:00",
           8.371,
           "popular"
          ],
          [
           "Inception",
           "2010-07-15T00:00:00",
           8.368,
           "popular"
          ],
          [
           "Fenêtre sur cour",
           "1954-08-01T00:00:00",
           8.353,
           "popular"
          ],
          [
           "Spider-Man : Across the Spider-Verse",
           "2023-05-31T00:00:00",
           8.347,
           "popular"
          ],
          [
           "Le Silence des agneaux",
           "1991-02-14T00:00:00",
           8.347,
           "popular"
          ],
          [
           "American History X",
           "1998-07-01T00:00:00",
           8.337,
           "popular"
          ],
          [
           "Princesse Mononoké",
           "1997-07-12T00:00:00",
           8.326,
           "popular"
          ],
          [
           "Retour vers le futur",
           "1985-07-03T00:00:00",
           8.322,
           "popular"
          ],
          [
           "Le Robot sauvage",
           "2024-09-12T00:00:00",
           8.313,
           "popular"
          ],
          [
           "Vivre",
           "1952-10-09T00:00:00",
           8.309,
           "popular"
          ],
          [
           "Perfect Blue",
           "1998-02-28T00:00:00",
           8.301,
           "popular"
          ],
          [
           "Le Cercle des poètes disparus",
           "1989-06-02T00:00:00",
           8.301,
           "popular"
          ],
          [
           "Léon",
           "1994-09-14T00:00:00",
           8.301,
           "popular"
          ],
          [
           "Le Dictateur",
           "1940-10-15T00:00:00",
           8.296,
           "popular"
          ],
          [
           "Boulevard du crépuscule",
           "1950-08-10T00:00:00",
           8.294,
           "popular"
          ],
          [
           "Il était une fois dans l'Ouest",
           "1968-12-21T00:00:00",
           8.284,
           "popular"
          ],
          [
           "Vers la forêt des lucioles",
           "2011-09-17T00:00:00",
           8.3,
           "popular"
          ],
          [
           "The End of Evangelion",
           "1997-07-19T00:00:00",
           8.28,
           "popular"
          ],
          [
           "Les Temps Modernes",
           "1936-02-05T00:00:00",
           8.28,
           "popular"
          ],
          [
           "La vie est belle",
           "1946-12-20T00:00:00",
           8.279,
           "popular"
          ],
          [
           "Intouchables",
           "2011-11-02T00:00:00",
           8.272,
           "popular"
          ],
          [
           "Apocalypse Now",
           "1979-05-19T00:00:00",
           8.272,
           "popular"
          ],
          [
           "Les Lumières de la ville",
           "1931-02-06T00:00:00",
           8.264,
           "popular"
          ],
          [
           "Les Sentiers de la gloire",
           "1957-10-25T00:00:00",
           8.259,
           "popular"
          ],
          [
           "7. Koğuştaki Mucize",
           "2019-10-10T00:00:00",
           8.3,
           "popular"
          ],
          [
           "Le Roi lion",
           "1994-06-15T00:00:00",
           8.257,
           "popular"
          ],
          [
           "La Légende du pianiste sur l'océan",
           "1998-10-28T00:00:00",
           8.254,
           "popular"
          ],
          [
           "Old Boy",
           "2003-11-21T00:00:00",
           8.252,
           "popular"
          ],
          [
           "One Direction : Le Film",
           "2013-08-28T00:00:00",
           8.25,
           "popular"
          ],
          [
           "Clouds",
           "2020-10-09T00:00:00",
           8.245,
           "popular"
          ],
          [
           "Je veux manger ton pancréas",
           "2018-09-01T00:00:00",
           8.24,
           "popular"
          ],
          [
           "Avengers : Endgame",
           "2019-04-24T00:00:00",
           8.24,
           "popular"
          ],
          [
           "Life in a Year",
           "2020-11-27T00:00:00",
           8.2,
           "popular"
          ],
          [
           "Klaus",
           "2019-11-08T00:00:00",
           8.237,
           "popular"
          ],
          [
           "À deux mètres de toi",
           "2019-03-14T00:00:00",
           8.236,
           "popular"
          ],
          [
           "Avengers : Infinity War",
           "2018-04-25T00:00:00",
           8.236,
           "popular"
          ],
          [
           "Requiem pour un massacre",
           "1985-10-17T00:00:00",
           8.2,
           "popular"
          ],
          [
           "Mommy",
           "2014-09-19T00:00:00",
           8.23,
           "popular"
          ],
          [
           "Green Book : Sur les routes du Sud",
           "2018-11-16T00:00:00",
           8.229,
           "popular"
          ],
          [
           "Matrix",
           "1999-03-31T00:00:00",
           8.228,
           "popular"
          ],
          [
           "Justice League Dark: Apokolips War",
           "2020-05-05T00:00:00",
           8.221,
           "popular"
          ],
          [
           "Gladiator",
           "2000-05-04T00:00:00",
           8.22,
           "popular"
          ],
          [
           "Les Enfants loups, Ame & Yuki",
           "2012-07-21T00:00:00",
           8.219,
           "popular"
          ],
          [
           "Témoin à charge",
           "1957-12-17T00:00:00",
           8.2,
           "popular"
          ],
          [
           "Il faut sauver le soldat Ryan",
           "1998-07-24T00:00:00",
           8.2,
           "popular"
          ],
          [
           "Le Chat Potté 2 : la dernière quête",
           "2022-12-07T00:00:00",
           8.216,
           "popular"
          ],
          [
           "Inglourious Basterds",
           "2009-08-02T00:00:00",
           8.213,
           "popular"
          ],
          [
           "Le Peuple loup",
           "2020-10-26T00:00:00",
           8.212,
           "popular"
          ],
          [
           "Shining",
           "1980-05-23T00:00:00",
           8.211,
           "popular"
          ],
          [
           "Demon Slayer : Kimetsu no Yaiba - Le film : Le train de l'Infini",
           "2020-10-16T00:00:00",
           8.2,
           "popular"
          ],
          [
           "Dans les yeux d'Enzo",
           "2019-08-08T00:00:00",
           8.208,
           "popular"
          ],
          [
           "La Couleur des sentiments",
           "2011-08-09T00:00:00",
           8.206,
           "popular"
          ],
          [
           "La Guerre des étoiles",
           "1977-05-25T00:00:00",
           8.205,
           "popular"
          ],
          [
           "Coco",
           "2017-10-27T00:00:00",
           8.204,
           "popular"
          ],
          [
           "Le Prestige",
           "2006-10-17T00:00:00",
           8.204,
           "popular"
          ],
          [
           "Mademoiselle",
           "2016-06-01T00:00:00",
           8.2,
           "popular"
          ],
          [
           "Shutter Island",
           "2010-02-14T00:00:00",
           8.201,
           "popular"
          ],
          [
           "La Garçonnière",
           "1960-06-21T00:00:00",
           8.196,
           "popular"
          ],
          [
           "Tu ne tueras point",
           "2016-10-07T00:00:00",
           8.193,
           "popular"
          ],
          [
           "Le Septième Sceau",
           "1957-02-16T00:00:00",
           8.186,
           "popular"
          ],
          [
           "Orange mécanique",
           "1971-12-19T00:00:00",
           8.186,
           "popular"
          ]
         ],
         "hovertemplate": "category=%{customdata[3]}<br>x=%{x}<br>y=%{y}<br>title=%{customdata[0]}<br>release_date=%{customdata[1]}<br>vote_average=%{customdata[2]}<br>cluster=%{marker.color}<extra></extra>",
         "legendgroup": "popular",
         "marker": {
          "color": {
           "bdata": "CAAAAAcAAAAHAAAAAAAAAAYAAAAHAAAABQAAAAQAAAAEAAAABQAAAAIAAAAAAAAAAgAAAAYAAAAIAAAAAQAAAAAAAAAFAAAAAgAAAAkAAAAJAAAAAwAAAAMAAAAEAAAABgAAAAAAAAAEAAAAAwAAAAgAAAAAAAAABgAAAAMAAAAGAAAABAAAAAcAAAABAAAABwAAAAcAAAAFAAAABQAAAAIAAAAHAAAACQAAAAcAAAAHAAAABgAAAAcAAAABAAAABAAAAAQAAAADAAAABwAAAAcAAAACAAAABwAAAAQAAAACAAAABAAAAAIAAAAEAAAAAgAAAAQAAAAHAAAABAAAAAQAAAAEAAAABwAAAAUAAAAEAAAABwAAAAQAAAAEAAAAAgAAAAQAAAAAAAAAAQAAAAQAAAABAAAAAwAAAAQAAAAIAAAAAAAAAAIAAAAHAAAAAgAAAAYAAAABAAAAAgAAAAMAAAAEAAAABAAAAAQAAAAHAAAABAAAAAQAAAAFAAAABgAAAAcAAAAHAAAAAgAAAA==",
           "dtype": "i4"
          },
          "coloraxis": "coloraxis",
          "symbol": "circle"
         },
         "mode": "markers",
         "name": "popular",
         "orientation": "v",
         "showlegend": true,
         "type": "scatter",
         "x": {
          "bdata": "bTeVwNCWj8DiAYvAp0NVwLE7lMAobI3AVRiKwK6COsDr2lrAwVRowPmkdMCxZSnArixQwGqii8B8kprAinZmwLTHPMAHR3/ADuVqwN3LKMCpPw/AdLUZwLDuM8CcVTXAkiSawLqBLsBYDlDAtscQwI1ylsAHHjvAriiPwNdeJ8CtDp3A9mNMwCkEgsDT4HfAbviHwBqNhMCEGI3A1cx5wOmhhcCqJYnAlmUdwBrmh8C5poPAcDKcwKaxj8CE4HDA2BI2wMcBQcBzpA/A2Q6IwJ7FhMATC0PAGKZywKggMcB6RIbAW3EvwP+pasABd1LAldaCwInGY8CKR2rAH3w3wOeXX8CJ5kPAHm5owN4JksDc7S3Awyd2wIhsScAz6FrA+66AwHj/ScA3oTLAq593wB/sP8B11VDAvKAlwBThPMCifJzA9T5ZwMMjUsCPgXbAzpxBwFhOnMCt6m/A971lwLE2GsDMVF/A5O1BwO5caMAnyXjAW6tNwIuKTcCdeI/A4TCVwCtaksBE9XzALfpvwA==",
          "dtype": "f4"
         },
         "xaxis": "x",
         "y": {
          "bdata": "WRQVQNcaPkAOoRRAiGeaQNk6dUC+3A1AU/eCQLIfDkCNbERAuVqWQOeATECd3pNAXrteQDVjX0DGQyJAdXwEQMpghkCwXJBAUUJcQMsbBkD6WxhAjkF5QI8sa0CKx1JAY0hhQLrNlED8lh9Axup0QGdHM0CGMIBAdHZVQClLZkBUhU9Aa4sOQC4OG0Boy98/sHlTQDYvREDKIHxA4HWHQFQ+YkBhtx5ABRYiQIgEMUDjQBBAJk5eQMneIEDKTPg/t+Y7QFDSCEBbrTxA4RY8QPlGJkC0OmpA8gQxQKTKG0CGCXhAoyQlQNpjREAsjBxAMKpjQOs3HUAP+BhAA7seQCwbOkCE5QlAJGcSQKYXg0AtdzBAiqAsQPYdKUDVoSFA73BPQB1qJEAYknhAXgb2P/RRPkAR8+c/yItcQEKsVUBQdjdAWTGPQEr8VkDzrDhARHxuQLB2RUDOOQRAX/5/QNEpRkDOfQ9A7ZUGQGnJP0D/nhpAwuI0QKbLTUBHFX1AMKFFQL9YN0DJ9S5Ac5iBQA==",
          "dtype": "f4"
         },
         "yaxis": "y"
        },
        {
         "customdata": [
          [
           "Thunderbolts*",
           "2025-04-30T00:00:00",
           7.5,
           "recent"
          ],
          [
           "Destination finale : Bloodlines",
           "2025-05-14T00:00:00",
           7.2,
           "recent"
          ],
          [
           "Ballerina",
           "2025-06-04T00:00:00",
           7.067,
           "recent"
          ],
          [
           "The Old Guard 2",
           "2025-07-01T00:00:00",
           6.261,
           "recent"
          ],
          [
           "Lilo & Stitch",
           "2025-05-17T00:00:00",
           7.1,
           "recent"
          ],
          [
           "First Shift",
           "2024-08-30T00:00:00",
           5.615,
           "recent"
          ],
          [
           "KPop Demon Hunters",
           "2025-06-20T00:00:00",
           8.619,
           "recent"
          ],
          [
           "F1® Le Film",
           "2025-06-25T00:00:00",
           7.691,
           "recent"
          ],
          [
           "Dragons",
           "2025-06-06T00:00:00",
           7.93,
           "recent"
          ],
          [
           "Heads of State",
           "2025-06-24T00:00:00",
           7.3,
           "recent"
          ],
          [
           "The Twisters",
           "2024-06-28T00:00:00",
           5.867,
           "recent"
          ],
          [
           "Jurassic World : Renaissance",
           "2025-07-01T00:00:00",
           6.842,
           "recent"
          ],
          [
           "Ice Road: Vengeance",
           "2025-06-27T00:00:00",
           6.636,
           "recent"
          ],
          [
           "Long Distance",
           "2024-07-12T00:00:00",
           6.41,
           "recent"
          ],
          [
           "Squid Game : Le making-of de la saison 2",
           "2025-01-02T00:00:00",
           8.496,
           "recent"
          ],
          [
           "Kuang Bao Ju Xi",
           "2024-03-27T00:00:00",
           6.25,
           "recent"
          ],
          [
           "28 Ans plus tard",
           "2025-06-18T00:00:00",
           7.195,
           "recent"
          ],
          [
           "The Ritual – L’Exorcisme d’Emma Schmidt",
           "2025-05-27T00:00:00",
           5.968,
           "recent"
          ],
          [
           "鬼吹灯：献王虫谷",
           "2023-09-22T00:00:00",
           6.7,
           "recent"
          ],
          [
           "Minecraft, le film",
           "2025-03-31T00:00:00",
           6.472,
           "recent"
          ],
          [
           "Squid Game: Feu de cheminée",
           "2024-12-12T00:00:00",
           7,
           "recent"
          ],
          [
           "Diablo",
           "2025-06-13T00:00:00",
           7.108,
           "recent"
          ],
          [
           "Fear Cabin: The Last Weekend of Summer",
           "2024-09-27T00:00:00",
           8.667,
           "recent"
          ],
          [
           "M3GAN 2.0",
           "2025-06-25T00:00:00",
           7.125,
           "recent"
          ],
          [
           "Predator : Killer of Killers",
           "2025-06-05T00:00:00",
           8,
           "recent"
          ],
          [
           "À bout",
           "2025-06-05T00:00:00",
           7.956,
           "recent"
          ],
          [
           "Mission: Impossible - The Final Reckoning",
           "2025-05-17T00:00:00",
           7.2,
           "recent"
          ],
          [
           "Злой город",
           "2025-01-30T00:00:00",
           7.429,
           "recent"
          ],
          [
           "Sinners",
           "2025-04-16T00:00:00",
           7.566,
           "recent"
          ],
          [
           "Substitution - Bring Her Back",
           "2025-05-28T00:00:00",
           7.019,
           "recent"
          ],
          [
           "xXx",
           "2002-08-09T00:00:00",
           5.946,
           "recent"
          ],
          [
           "Mr Wolff 2",
           "2025-04-23T00:00:00",
           7.2,
           "recent"
          ],
          [
           "Les Coulisses de Squid Game : Le défi",
           "2023-12-06T00:00:00",
           7.811,
           "recent"
          ],
          [
           "Open",
           "2025-06-14T00:00:00",
           7.667,
           "recent"
          ],
          [
           "28 Jours plus tard",
           "2002-10-31T00:00:00",
           7.234,
           "recent"
          ],
          [
           "缉恶",
           "2024-07-18T00:00:00",
           7.2,
           "recent"
          ],
          [
           "A Working Man",
           "2025-03-26T00:00:00",
           6.694,
           "recent"
          ],
          [
           "లైలా",
           "2025-02-14T00:00:00",
           5.8,
           "recent"
          ],
          [
           "Deep Cover",
           "2025-06-12T00:00:00",
           6.7,
           "recent"
          ],
          [
           "女高生トリオ 性感試験",
           "1977-02-23T00:00:00",
           0,
           "recent"
          ],
          [
           "The Phoenician Scheme",
           "2025-05-23T00:00:00",
           6.885,
           "recent"
          ],
          [
           "Bienvenue à Utopia",
           "2024-12-09T00:00:00",
           5.476,
           "recent"
          ],
          [
           "Ligaw",
           "2025-05-09T00:00:00",
           10,
           "recent"
          ],
          [
           "K.O.",
           "2025-06-05T00:00:00",
           6.636,
           "recent"
          ],
          [
           "Kayara",
           "2025-01-02T00:00:00",
           7.697,
           "recent"
          ],
          [
           "The Roundup: Punishment",
           "2024-04-24T00:00:00",
           7.009,
           "recent"
          ],
          [
           "Blanche Neige",
           "2025-03-12T00:00:00",
           4.297,
           "recent"
          ],
          [
           "Squid Game : Conversation",
           "2025-06-26T00:00:00",
           7.5,
           "recent"
          ],
          [
           "Continente",
           "2024-07-18T00:00:00",
           6,
           "recent"
          ],
          [
           "Mikaela",
           "2025-01-31T00:00:00",
           6.3,
           "recent"
          ],
          [
           "Life After Fighting",
           "2024-06-07T00:00:00",
           7.067,
           "recent"
          ],
          [
           "La Nuit des Clowns",
           "2025-05-08T00:00:00",
           6.3,
           "recent"
          ],
          [
           "Vaiana 2",
           "2024-11-21T00:00:00",
           7.078,
           "recent"
          ],
          [
           "Elio",
           "2025-06-18T00:00:00",
           6.787,
           "recent"
          ],
          [
           "Warfare",
           "2025-04-09T00:00:00",
           7.2,
           "recent"
          ],
          [
           "Captain America : Brave New World",
           "2025-02-12T00:00:00",
           6.063,
           "recent"
          ],
          [
           "Victoria",
           "2021-01-16T00:00:00",
           8.5,
           "recent"
          ],
          [
           "Superman",
           "2025-07-09T00:00:00",
           0,
           "recent"
          ],
          [
           "Shadow Force",
           "2025-05-01T00:00:00",
           6.2,
           "recent"
          ],
          [
           "Dragons",
           "2010-03-18T00:00:00",
           7.848,
           "recent"
          ],
          [
           "À contre-sens",
           "2023-06-08T00:00:00",
           7.798,
           "recent"
          ],
          [
           "Sonic 3, le film",
           "2024-12-19T00:00:00",
           7.7,
           "recent"
          ],
          [
           "Possessions",
           "2024-04-12T00:00:00",
           5.313,
           "recent"
          ],
          [
           "Belyas",
           "2025-02-07T00:00:00",
           7.125,
           "recent"
          ],
          [
           "性教育ママ",
           "1973-11-20T00:00:00",
           6.6,
           "recent"
          ],
          [
           "Dragons 2",
           "2014-06-05T00:00:00",
           7.676,
           "recent"
          ],
          [
           "Les Mondes de Ralph",
           "2012-11-01T00:00:00",
           7.346,
           "recent"
          ],
          [
           "Karate Kid: Legends",
           "2025-05-08T00:00:00",
           6.858,
           "recent"
          ],
          [
           "Snow White",
           "2025-03-07T00:00:00",
           6.909,
           "recent"
          ],
          [
           "Dragons 3 : Le monde caché",
           "2019-01-03T00:00:00",
           7.752,
           "recent"
          ],
          [
           "വിക്ടോറിയ",
           "2024-12-14T00:00:00",
           7.5,
           "recent"
          ],
          [
           "28 Semaines plus tard",
           "2007-04-26T00:00:00",
           6.6,
           "recent"
          ],
          [
           "Until Dawn : La Mort sans fin",
           "2025-04-23T00:00:00",
           6.6,
           "recent"
          ],
          [
           "새엄마의 욕망",
           "2020-05-29T00:00:00",
           7.3,
           "recent"
          ],
          [
           "The Old Guard",
           "2020-07-09T00:00:00",
           7.132,
           "recent"
          ],
          [
           "Vice-versa 2",
           "2024-06-11T00:00:00",
           7.555,
           "recent"
          ],
          [
           "The Gorge",
           "2025-02-13T00:00:00",
           7.713,
           "recent"
          ],
          [
           "Baby Blue",
           "2023-04-16T00:00:00",
           5,
           "recent"
          ],
          [
           "Mufasa : Le Roi Lion",
           "2024-12-18T00:00:00",
           7.4,
           "recent"
          ],
          [
           "Kuća od blata",
           "2024-10-10T00:00:00",
           5.8,
           "recent"
          ],
          [
           "Marriage Unplugged",
           "2024-10-28T00:00:00",
           8,
           "recent"
          ],
          [
           "映画 ギヴン 海へ",
           "2024-09-20T00:00:00",
           9.3,
           "recent"
          ],
          [
           "The Monkey",
           "2025-02-14T00:00:00",
           6,
           "recent"
          ],
          [
           "In the Lost Lands",
           "2025-02-27T00:00:00",
           6.533,
           "recent"
          ],
          [
           "Des jours plus belles que la nuit",
           "2009-10-10T00:00:00",
           5.9,
           "recent"
          ],
          [
           "Les 4 Fantastiques : Premiers pas",
           "2025-07-23T00:00:00",
           0,
           "recent"
          ],
          [
           "À contre-sens 2",
           "2024-12-26T00:00:00",
           7.139,
           "recent"
          ],
          [
           "Deadpool & Wolverine",
           "2024-07-24T00:00:00",
           7.589,
           "recent"
          ],
          [
           "Jurassic World : Le Monde d’après",
           "2022-06-01T00:00:00",
           6.7,
           "recent"
          ],
          [
           "Hola Frida!",
           "2025-02-12T00:00:00",
           7.182,
           "recent"
          ],
          [
           "Ne Zha 2",
           "2025-01-29T00:00:00",
           8.1,
           "recent"
          ],
          [
           "The Last Rodeo",
           "2025-05-22T00:00:00",
           7.6,
           "recent"
          ],
          [
           "Venom : The Last Dance",
           "2024-10-22T00:00:00",
           6.716,
           "recent"
          ],
          [
           "Moi, moche et méchant 4",
           "2024-06-20T00:00:00",
           7.042,
           "recent"
          ],
          [
           "The Long Game",
           "2024-04-12T00:00:00",
           7.048,
           "recent"
          ],
          [
           "Kung Fu Panda 4",
           "2024-03-02T00:00:00",
           7.1,
           "recent"
          ],
          [
           "सिकंदर",
           "2025-03-29T00:00:00",
           4.818,
           "recent"
          ],
          [
           "The Ugly Stepsister",
           "2025-03-07T00:00:00",
           7.211,
           "recent"
          ]
         ],
         "hovertemplate": "category=%{customdata[3]}<br>x=%{x}<br>y=%{y}<br>title=%{customdata[0]}<br>release_date=%{customdata[1]}<br>vote_average=%{customdata[2]}<br>cluster=%{marker.color}<extra></extra>",
         "legendgroup": "recent",
         "marker": {
          "color": {
           "bdata": "BAAAAAMAAAACAAAABgAAAAIAAAAHAAAAAgAAAAIAAAACAAAAAgAAAAIAAAAEAAAAAgAAAAIAAAAAAAAAAQAAAAIAAAAEAAAABgAAAAAAAAACAAAAAgAAAAMAAAABAAAAAwAAAAMAAAADAAAAAwAAAAAAAAACAAAAAQAAAAQAAAABAAAABgAAAAgAAAAJAAAAAAAAAAEAAAAIAAAAAgAAAAMAAAAFAAAAAgAAAAAAAAADAAAABgAAAAYAAAAFAAAACAAAAAEAAAAFAAAAAAAAAAgAAAAGAAAAAgAAAAAAAAAIAAAACQAAAAkAAAAJAAAABQAAAAUAAAAJAAAAAAAAAAQAAAADAAAAAQAAAAMAAAAAAAAAAwAAAAgAAAAAAAAAAQAAAAUAAAAIAAAABgAAAAEAAAAGAAAAAAAAAAUAAAADAAAABQAAAAEAAAADAAAABgAAAAYAAAAIAAAAAwAAAAMAAAAJAAAABQAAAAkAAAAIAAAAAAAAAAYAAAAFAAAAAwAAAAUAAAA=",
           "dtype": "i4"
          },
          "coloraxis": "coloraxis",
          "symbol": "diamond"
         },
         "mode": "markers",
         "name": "recent",
         "orientation": "v",
         "showlegend": true,
         "type": "scatter",
         "x": {
          "bdata": "xy4/wF5KIcA9i2TA+H6XwMywWcA6BYvADtN8wF9gW8DGBm3AB0RiwJzRTcCqGUfATHB2wD8TdcApCkfA0jaCwLxiZsDkG0XADMCqwCibU8C6tGLA9ZR8wEQJDsBRemDAxfQFwBTaG8D75xDAWFofwLGIFsCaA4XAldg/wGbWZsAjzIrAQqiYwCNjpsA5KDTAtCApwIujVcAaUJnAn79dwNoDEMA4dnfAZ9tkwAMbXMDE8ue/7N6iwDDPp8C6XYfAuRaPwBINRMB7XY7A20cYwKmopsBx36LAQClHwBBQMMD0qKLAmxENwKj0IcA/yPe/1ouawOJfhMCGRxPAWLhQwK3lUcCANs2/uV6TwMeH8b8t/jbA7H3Uv3YFqsBczEPAstWAwAROk8DxHKXAyySpwMu8isAmWZ7Ag3MlwIb+lsCN3Pq/66WAwAJ3b8CG8MC/VyO8wFkXtsDrX7PAlcrUv4pf8r/W0Q3Aon+lwA7K+L9beaDAoxb8vxorscBfRYzAdPniv1KNb8A=",
          "dtype": "f4"
         },
         "xaxis": "x",
         "y": {
          "bdata": "o5FTQGkZP0CQIohAZ9FdQEskfEAh60NAyspSQLSPcUBenWlAizKFQHy3eEB1+0ZALzhvQCeOVkAvjI5A6/zZP7qGZEAby1RANl1CQEBqhUCNnmxABBlzQHm8O0CA68k/oJYzQLTuYkBHbVxABtJDQBoHhEDqWHpAaOnCP4jeQEBFPuo/OuVyQMoCJ0Ccjs8/Q0KOQLaf0D+D7gpAeWpeQGxyUkCh149An3WIQEoJk0DOJVdAy1B8QJcBVkDfN5JA7fj4PxE0vT8EF4lAYb2HQDNQG0DASWRA+CBrQGLVkUDnsA9AgJIHQMEE4j+kMCpA3Q6LQFHSiUAH7idAAtKYQMADL0BueXFA08u4P4FVf0B6DZFA931QQD0TNEBl46BAZ2egP2cwm0Crxvg/7SCBQIOvvD+J9YVAi9mfQMVdmEDsWW5Aue6lQB9Vkz+oDDZA3Y9RQMIGakCJ4ChAwCCIQB6OgEDXc+Q/txmTQJs1CkCigt4/LbyRQCHqRUCI96JAX1tnQErenUA=",
          "dtype": "f4"
         },
         "yaxis": "y"
        }
       ],
       "layout": {
        "coloraxis": {
         "colorbar": {
          "title": {
           "text": "cluster"
          }
         },
         "colorscale": [
          [
           0,
           "#0d0887"
          ],
          [
           0.1111111111111111,
           "#46039f"
          ],
          [
           0.2222222222222222,
           "#7201a8"
          ],
          [
           0.3333333333333333,
           "#9c179e"
          ],
          [
           0.4444444444444444,
           "#bd3786"
          ],
          [
           0.5555555555555556,
           "#d8576b"
          ],
          [
           0.6666666666666666,
           "#ed7953"
          ],
          [
           0.7777777777777778,
           "#fb9f3a"
          ],
          [
           0.8888888888888888,
           "#fdca26"
          ],
          [
           1,
           "#f0f921"
          ]
         ]
        },
        "legend": {
         "title": {
          "text": "category"
         },
         "tracegroupgap": 0
        },
        "template": {
         "data": {
          "bar": [
           {
            "error_x": {
             "color": "#2a3f5f"
            },
            "error_y": {
             "color": "#2a3f5f"
            },
            "marker": {
             "line": {
              "color": "#E5ECF6",
              "width": 0.5
             },
             "pattern": {
              "fillmode": "overlay",
              "size": 10,
              "solidity": 0.2
             }
            },
            "type": "bar"
           }
          ],
          "barpolar": [
           {
            "marker": {
             "line": {
              "color": "#E5ECF6",
              "width": 0.5
             },
             "pattern": {
              "fillmode": "overlay",
              "size": 10,
              "solidity": 0.2
             }
            },
            "type": "barpolar"
           }
          ],
          "carpet": [
           {
            "aaxis": {
             "endlinecolor": "#2a3f5f",
             "gridcolor": "white",
             "linecolor": "white",
             "minorgridcolor": "white",
             "startlinecolor": "#2a3f5f"
            },
            "baxis": {
             "endlinecolor": "#2a3f5f",
             "gridcolor": "white",
             "linecolor": "white",
             "minorgridcolor": "white",
             "startlinecolor": "#2a3f5f"
            },
            "type": "carpet"
           }
          ],
          "choropleth": [
           {
            "colorbar": {
             "outlinewidth": 0,
             "ticks": ""
            },
            "type": "choropleth"
           }
          ],
          "contour": [
           {
            "colorbar": {
             "outlinewidth": 0,
             "ticks": ""
            },
            "colorscale": [
             [
              0,
              "#0d0887"
             ],
             [
              0.1111111111111111,
              "#46039f"
             ],
             [
              0.2222222222222222,
              "#7201a8"
             ],
             [
              0.3333333333333333,
              "#9c179e"
             ],
             [
              0.4444444444444444,
              "#bd3786"
             ],
             [
              0.5555555555555556,
              "#d8576b"
             ],
             [
              0.6666666666666666,
              "#ed7953"
             ],
             [
              0.7777777777777778,
              "#fb9f3a"
             ],
             [
              0.8888888888888888,
              "#fdca26"
             ],
             [
              1,
              "#f0f921"
             ]
            ],
            "type": "contour"
           }
          ],
          "contourcarpet": [
           {
            "colorbar": {
             "outlinewidth": 0,
             "ticks": ""
            },
            "type": "contourcarpet"
           }
          ],
          "heatmap": [
           {
            "colorbar": {
             "outlinewidth": 0,
             "ticks": ""
            },
            "colorscale": [
             [
              0,
              "#0d0887"
             ],
             [
              0.1111111111111111,
              "#46039f"
             ],
             [
              0.2222222222222222,
              "#7201a8"
             ],
             [
              0.3333333333333333,
              "#9c179e"
             ],
             [
              0.4444444444444444,
              "#bd3786"
             ],
             [
              0.5555555555555556,
              "#d8576b"
             ],
             [
              0.6666666666666666,
              "#ed7953"
             ],
             [
              0.7777777777777778,
              "#fb9f3a"
             ],
             [
              0.8888888888888888,
              "#fdca26"
             ],
             [
              1,
              "#f0f921"
             ]
            ],
            "type": "heatmap"
           }
          ],
          "histogram": [
           {
            "marker": {
             "pattern": {
              "fillmode": "overlay",
              "size": 10,
              "solidity": 0.2
             }
            },
            "type": "histogram"
           }
          ],
          "histogram2d": [
           {
            "colorbar": {
             "outlinewidth": 0,
             "ticks": ""
            },
            "colorscale": [
             [
              0,
              "#0d0887"
             ],
             [
              0.1111111111111111,
              "#46039f"
             ],
             [
              0.2222222222222222,
              "#7201a8"
             ],
             [
              0.3333333333333333,
              "#9c179e"
             ],
             [
              0.4444444444444444,
              "#bd3786"
             ],
             [
              0.5555555555555556,
              "#d8576b"
             ],
             [
              0.6666666666666666,
              "#ed7953"
             ],
             [
              0.7777777777777778,
              "#fb9f3a"
             ],
             [
              0.8888888888888888,
              "#fdca26"
             ],
             [
              1,
              "#f0f921"
             ]
            ],
            "type": "histogram2d"
           }
          ],
          "histogram2dcontour": [
           {
            "colorbar": {
             "outlinewidth": 0,
             "ticks": ""
            },
            "colorscale": [
             [
              0,
              "#0d0887"
             ],
             [
              0.1111111111111111,
              "#46039f"
             ],
             [
              0.2222222222222222,
              "#7201a8"
             ],
             [
              0.3333333333333333,
              "#9c179e"
             ],
             [
              0.4444444444444444,
              "#bd3786"
             ],
             [
              0.5555555555555556,
              "#d8576b"
             ],
             [
              0.6666666666666666,
              "#ed7953"
             ],
             [
              0.7777777777777778,
              "#fb9f3a"
             ],
             [
              0.8888888888888888,
              "#fdca26"
             ],
             [
              1,
              "#f0f921"
             ]
            ],
            "type": "histogram2dcontour"
           }
          ],
          "mesh3d": [
           {
            "colorbar": {
             "outlinewidth": 0,
             "ticks": ""
            },
            "type": "mesh3d"
           }
          ],
          "parcoords": [
           {
            "line": {
             "colorbar": {
              "outlinewidth": 0,
              "ticks": ""
             }
            },
            "type": "parcoords"
           }
          ],
          "pie": [
           {
            "automargin": true,
            "type": "pie"
           }
          ],
          "scatter": [
           {
            "fillpattern": {
             "fillmode": "overlay",
             "size": 10,
             "solidity": 0.2
            },
            "type": "scatter"
           }
          ],
          "scatter3d": [
           {
            "line": {
             "colorbar": {
              "outlinewidth": 0,
              "ticks": ""
             }
            },
            "marker": {
             "colorbar": {
              "outlinewidth": 0,
              "ticks": ""
             }
            },
            "type": "scatter3d"
           }
          ],
          "scattercarpet": [
           {
            "marker": {
             "colorbar": {
              "outlinewidth": 0,
              "ticks": ""
             }
            },
            "type": "scattercarpet"
           }
          ],
          "scattergeo": [
           {
            "marker": {
             "colorbar": {
              "outlinewidth": 0,
              "ticks": ""
             }
            },
            "type": "scattergeo"
           }
          ],
          "scattergl": [
           {
            "marker": {
             "colorbar": {
              "outlinewidth": 0,
              "ticks": ""
             }
            },
            "type": "scattergl"
           }
          ],
          "scattermap": [
           {
            "marker": {
             "colorbar": {
              "outlinewidth": 0,
              "ticks": ""
             }
            },
            "type": "scattermap"
           }
          ],
          "scattermapbox": [
           {
            "marker": {
             "colorbar": {
              "outlinewidth": 0,
              "ticks": ""
             }
            },
            "type": "scattermapbox"
           }
          ],
          "scatterpolar": [
           {
            "marker": {
             "colorbar": {
              "outlinewidth": 0,
              "ticks": ""
             }
            },
            "type": "scatterpolar"
           }
          ],
          "scatterpolargl": [
           {
            "marker": {
             "colorbar": {
              "outlinewidth": 0,
              "ticks": ""
             }
            },
            "type": "scatterpolargl"
           }
          ],
          "scatterternary": [
           {
            "marker": {
             "colorbar": {
              "outlinewidth": 0,
              "ticks": ""
             }
            },
            "type": "scatterternary"
           }
          ],
          "surface": [
           {
            "colorbar": {
             "outlinewidth": 0,
             "ticks": ""
            },
            "colorscale": [
             [
              0,
              "#0d0887"
             ],
             [
              0.1111111111111111,
              "#46039f"
             ],
             [
              0.2222222222222222,
              "#7201a8"
             ],
             [
              0.3333333333333333,
              "#9c179e"
             ],
             [
              0.4444444444444444,
              "#bd3786"
             ],
             [
              0.5555555555555556,
              "#d8576b"
             ],
             [
              0.6666666666666666,
              "#ed7953"
             ],
             [
              0.7777777777777778,
              "#fb9f3a"
             ],
             [
              0.8888888888888888,
              "#fdca26"
             ],
             [
              1,
              "#f0f921"
             ]
            ],
            "type": "surface"
           }
          ],
          "table": [
           {
            "cells": {
             "fill": {
              "color": "#EBF0F8"
             },
             "line": {
              "color": "white"
             }
            },
            "header": {
             "fill": {
              "color": "#C8D4E3"
             },
             "line": {
              "color": "white"
             }
            },
            "type": "table"
           }
          ]
         },
         "layout": {
          "annotationdefaults": {
           "arrowcolor": "#2a3f5f",
           "arrowhead": 0,
           "arrowwidth": 1
          },
          "autotypenumbers": "strict",
          "coloraxis": {
           "colorbar": {
            "outlinewidth": 0,
            "ticks": ""
           }
          },
          "colorscale": {
           "diverging": [
            [
             0,
             "#8e0152"
            ],
            [
             0.1,
             "#c51b7d"
            ],
            [
             0.2,
             "#de77ae"
            ],
            [
             0.3,
             "#f1b6da"
            ],
            [
             0.4,
             "#fde0ef"
            ],
            [
             0.5,
             "#f7f7f7"
            ],
            [
             0.6,
             "#e6f5d0"
            ],
            [
             0.7,
             "#b8e186"
            ],
            [
             0.8,
             "#7fbc41"
            ],
            [
             0.9,
             "#4d9221"
            ],
            [
             1,
             "#276419"
            ]
           ],
           "sequential": [
            [
             0,
             "#0d0887"
            ],
            [
             0.1111111111111111,
             "#46039f"
            ],
            [
             0.2222222222222222,
             "#7201a8"
            ],
            [
             0.3333333333333333,
             "#9c179e"
            ],
            [
             0.4444444444444444,
             "#bd3786"
            ],
            [
             0.5555555555555556,
             "#d8576b"
            ],
            [
             0.6666666666666666,
             "#ed7953"
            ],
            [
             0.7777777777777778,
             "#fb9f3a"
            ],
            [
             0.8888888888888888,
             "#fdca26"
            ],
            [
             1,
             "#f0f921"
            ]
           ],
           "sequentialminus": [
            [
             0,
             "#0d0887"
            ],
            [
             0.1111111111111111,
             "#46039f"
            ],
            [
             0.2222222222222222,
             "#7201a8"
            ],
            [
             0.3333333333333333,
             "#9c179e"
            ],
            [
             0.4444444444444444,
             "#bd3786"
            ],
            [
             0.5555555555555556,
             "#d8576b"
            ],
            [
             0.6666666666666666,
             "#ed7953"
            ],
            [
             0.7777777777777778,
             "#fb9f3a"
            ],
            [
             0.8888888888888888,
             "#fdca26"
            ],
            [
             1,
             "#f0f921"
            ]
           ]
          },
          "colorway": [
           "#636efa",
           "#EF553B",
           "#00cc96",
           "#ab63fa",
           "#FFA15A",
           "#19d3f3",
           "#FF6692",
           "#B6E880",
           "#FF97FF",
           "#FECB52"
          ],
          "font": {
           "color": "#2a3f5f"
          },
          "geo": {
           "bgcolor": "white",
           "lakecolor": "white",
           "landcolor": "#E5ECF6",
           "showlakes": true,
           "showland": true,
           "subunitcolor": "white"
          },
          "hoverlabel": {
           "align": "left"
          },
          "hovermode": "closest",
          "mapbox": {
           "style": "light"
          },
          "paper_bgcolor": "white",
          "plot_bgcolor": "#E5ECF6",
          "polar": {
           "angularaxis": {
            "gridcolor": "white",
            "linecolor": "white",
            "ticks": ""
           },
           "bgcolor": "#E5ECF6",
           "radialaxis": {
            "gridcolor": "white",
            "linecolor": "white",
            "ticks": ""
           }
          },
          "scene": {
           "xaxis": {
            "backgroundcolor": "#E5ECF6",
            "gridcolor": "white",
            "gridwidth": 2,
            "linecolor": "white",
            "showbackground": true,
            "ticks": "",
            "zerolinecolor": "white"
           },
           "yaxis": {
            "backgroundcolor": "#E5ECF6",
            "gridcolor": "white",
            "gridwidth": 2,
            "linecolor": "white",
            "showbackground": true,
            "ticks": "",
            "zerolinecolor": "white"
           },
           "zaxis": {
            "backgroundcolor": "#E5ECF6",
            "gridcolor": "white",
            "gridwidth": 2,
            "linecolor": "white",
            "showbackground": true,
            "ticks": "",
            "zerolinecolor": "white"
           }
          },
          "shapedefaults": {
           "line": {
            "color": "#2a3f5f"
           }
          },
          "ternary": {
           "aaxis": {
            "gridcolor": "white",
            "linecolor": "white",
            "ticks": ""
           },
           "baxis": {
            "gridcolor": "white",
            "linecolor": "white",
            "ticks": ""
           },
           "bgcolor": "#E5ECF6",
           "caxis": {
            "gridcolor": "white",
            "linecolor": "white",
            "ticks": ""
           }
          },
          "title": {
           "x": 0.05
          },
          "xaxis": {
           "automargin": true,
           "gridcolor": "white",
           "linecolor": "white",
           "ticks": "",
           "title": {
            "standoff": 15
           },
           "zerolinecolor": "white",
           "zerolinewidth": 2
          },
          "yaxis": {
           "automargin": true,
           "gridcolor": "white",
           "linecolor": "white",
           "ticks": "",
           "title": {
            "standoff": 15
           },
           "zerolinecolor": "white",
           "zerolinewidth": 2
          }
         }
        },
        "title": {
         "text": "Clustering films populaires et récents TMDb"
        },
        "xaxis": {
         "anchor": "y",
         "domain": [
          0,
          1
         ],
         "title": {
          "text": "x"
         }
        },
        "yaxis": {
         "anchor": "x",
         "domain": [
          0,
          1
         ],
         "title": {
          "text": "y"
         }
        }
       }
      }
     },
     "metadata": {},
     "output_type": "display_data"
    }
   ],
   "source": [
    "fig.show()"
   ]
  },
  {
   "cell_type": "code",
   "execution_count": 100,
   "id": "6507db00",
   "metadata": {},
   "outputs": [],
   "source": [
    "import numpy as np\n",
    "\n",
    "def find_closest_movie(df, input_title):\n",
    "    # Cherche le film dans le dataset\n",
    "    if input_title not in df['title'].values:\n",
    "        print(f\"Le film '{input_title}' n'a pas été trouvé dans le dataset.\")\n",
    "        return None\n",
    "    \n",
    "    df_recent = df[df['category'] == 'recent'].copy()\n",
    "    \n",
    "    # Coordonnées du film input\n",
    "    input_point = df.loc[df['title'] == input_title, ['x', 'y']].values[0]\n",
    "    \n",
    "    # Calcul des distances euclidiennes vers tous les points\n",
    "    df_recent['distance'] = np.linalg.norm(df_recent[['x', 'y']].values - input_point, axis=1)\n",
    "    \n",
    "    # Exclure le film lui-même (distance = 0)\n",
    "    df_filtered = df_recent[df_recent['title'] != input_title]\n",
    "    \n",
    "    # Trouver le film avec la distance minimale\n",
    "    closest_movie = df_filtered.loc[df_filtered['distance'].idxmin()]\n",
    "    \n",
    "    return closest_movie[['title', 'distance', 'cluster']]"
   ]
  },
  {
   "cell_type": "code",
   "execution_count": 106,
   "id": "bae3cd98",
   "metadata": {},
   "outputs": [
    {
     "name": "stdout",
     "output_type": "stream",
     "text": [
      "Le film le plus proche de 'Interstellar' est 'M3GAN 2.0' dans le cluster 1 à une distance de 0.501\n"
     ]
    }
   ],
   "source": [
    "input_title = \"Interstellar\"  # Exemple de film à rechercher\n",
    "closest = find_closest_movie(df_all, input_title)\n",
    "\n",
    "if closest is not None:\n",
    "    print(f\"Le film le plus proche de '{input_title}' est '{closest['title']}' dans le cluster {closest['cluster']} à une distance de {closest['distance']:.3f}\")"
   ]
  }
 ],
 "metadata": {
  "kernelspec": {
   "display_name": "test-project",
   "language": "python",
   "name": "python3"
  },
  "language_info": {
   "codemirror_mode": {
    "name": "ipython",
    "version": 3
   },
   "file_extension": ".py",
   "mimetype": "text/x-python",
   "name": "python",
   "nbconvert_exporter": "python",
   "pygments_lexer": "ipython3",
   "version": "3.10.12"
  }
 },
 "nbformat": 4,
 "nbformat_minor": 5
}
